{
 "cells": [
  {
   "cell_type": "markdown",
   "metadata": {},
   "source": [
    "<picture>\n",
    "  <source media=\"(prefers-color-scheme: dark)\" srcset=\"https://assets.vespa.ai/logos/Vespa-logo-green-RGB.svg\">\n",
    "  <source media=\"(prefers-color-scheme: light)\" srcset=\"https://assets.vespa.ai/logos/Vespa-logo-dark-RGB.svg\">\n",
    "  <img alt=\"#Vespa\" width=\"200\" src=\"https://assets.vespa.ai/logos/Vespa-logo-dark-RGB.svg\" style=\"margin-bottom: 25px;\">\n",
    "</picture>\n",
    "\n",
    "# Querying Vespa\n",
    "\n",
    "This guide goes through how to query a Vespa instance using the Query API\n",
    "and https://cord19.vespa.ai/ and https://search.vespa.ai/ apps as examples."
   ]
  },
  {
   "cell_type": "markdown",
   "metadata": {},
   "source": [
    "<div class=\"alert alert-info\">\n",
    "    Refer to <a href=\"https://pyvespa.readthedocs.io/en/latest/troubleshooting.html\">troubleshooting</a>\n",
    "    for any problem when running this guide.\n",
    "</div>\n"
   ]
  },
  {
   "cell_type": "markdown",
   "metadata": {},
   "source": [
    "You can run this tutorial in Google Colab:\n",
    "\n",
    "[![Open In Colab](https://colab.research.google.com/assets/colab-badge.svg)](https://colab.research.google.com/github/vespa-engine/pyvespa/blob/master/docs/sphinx/source/query.ipynb)\n"
   ]
  },
  {
   "cell_type": "code",
   "execution_count": 1,
   "metadata": {},
   "outputs": [],
   "source": [
    "!pip3 install pyvespa"
   ]
  },
  {
   "cell_type": "markdown",
   "metadata": {},
   "source": [
    "Connect to a running Vespa instance.\n"
   ]
  },
  {
   "cell_type": "code",
   "execution_count": 2,
   "metadata": {},
   "outputs": [],
   "source": [
    "from vespa.application import Vespa\n",
    "from vespa.io import VespaQueryResponse\n",
    "from vespa.exceptions import VespaError\n",
    "\n",
    "app = Vespa(url=\"https://api.cord19.vespa.ai\")"
   ]
  },
  {
   "cell_type": "markdown",
   "metadata": {},
   "source": [
    "See the [Vespa query language](https://docs.vespa.ai/en/reference/query-api-reference.html)\n",
    "for Vespa query api request parameters.\n",
    "\n",
    "The YQL [userQuery()](https://docs.vespa.ai/en/reference/query-language-reference.html#userquery)\n",
    "operator uses the query read from `query`. The query also specifies to use the app-specific [bm25 rank profile](https://docs.vespa.ai/en/reference/bm25.html). The code\n",
    "uses [context manager](https://realpython.com/python-with-statement/) `with session` statement to make sure that connection pools are released. If\n",
    "you attempt to make multiple queries, this is important as each query will not have to set up new connections.\n"
   ]
  },
  {
   "cell_type": "code",
   "execution_count": 3,
   "metadata": {},
   "outputs": [
    {
     "name": "stdout",
     "output_type": "stream",
     "text": [
      "True\n",
      "https://api.cord19.vespa.ai/search/?yql=select+documentid%2C+cord_uid%2C+title%2C+abstract+from+sources+%2A+where+userQuery%28%29&hits=1&query=Is+remdesivir+an+effective+treatment+for+COVID-19%3F&ranking=bm25\n"
     ]
    }
   ],
   "source": [
    "with app.syncio() as session:\n",
    "    response: VespaQueryResponse = session.query(\n",
    "        yql=\"select documentid, cord_uid, title, abstract from sources * where userQuery()\",\n",
    "        hits=1,\n",
    "        query=\"Is remdesivir an effective treatment for COVID-19?\",\n",
    "        ranking=\"bm25\",\n",
    "    )\n",
    "    print(response.is_successful())\n",
    "    print(response.url)"
   ]
  },
  {
   "cell_type": "markdown",
   "metadata": {},
   "source": [
    "Alternatively, if the native [Vespa query parameter](https://docs.vespa.ai/en/reference/query-api-reference.html)\n",
    "contains \".\", which cannot be used as a `kwarg`, the parameters can be sent as HTTP POST with\n",
    "the `body` argument. In this case, `ranking` is an alias of `ranking.profile`, but using `ranking.profile` as a `**kwargs` argument is not allowed in python. This\n",
    "will combine HTTP parameters with an HTTP POST body.\n"
   ]
  },
  {
   "cell_type": "code",
   "execution_count": 4,
   "metadata": {},
   "outputs": [
    {
     "name": "stdout",
     "output_type": "stream",
     "text": [
      "True\n"
     ]
    }
   ],
   "source": [
    "with app.syncio() as session:\n",
    "    response: VespaQueryResponse = session.query(\n",
    "        hits=1,\n",
    "        body={\n",
    "            \"yql\": \"select documentid, cord_uid, title, abstract from sources * where userQuery()\",\n",
    "            \"query\": \"Is remdesivir an effective treatment for COVID-19?\",\n",
    "            \"ranking.profile\": \"bm25\",\n",
    "            \"presentation.timing\": True,\n",
    "        },\n",
    "    )\n",
    "    print(response.is_successful())"
   ]
  },
  {
   "cell_type": "markdown",
   "metadata": {},
   "source": [
    "The query specified that we wanted one hit:\n"
   ]
  },
  {
   "cell_type": "code",
   "execution_count": 5,
   "metadata": {},
   "outputs": [
    {
     "data": {
      "text/plain": [
       "[{'id': 'id:covid-19:doc::534720',\n",
       "  'relevance': 26.6769101612402,\n",
       "  'source': 'content',\n",
       "  'fields': {'title': 'A Review on <hi>Remdesivir</hi>: A Possible Promising Agent for the <hi>Treatment</hi> of <hi>COVID</hi>-<hi>19</hi>',\n",
       "   'abstract': '<sep />manufacturing of specific therapeutics and vaccines to treat <hi>COVID</hi>-<hi>19</hi> are time-consuming processes. At this time, using available conventional therapeutics along with other <hi>treatment</hi> options may be useful to fight <hi>COVID</hi>-<hi>19</hi>. In different clinical trials, efficacy of <hi>remdesivir</hi> (GS-5734) against Ebola virus has been demonstrated. Moreover, <hi>remdesivir</hi> may be an <hi>effective</hi> therapy in vitro and in animal models infected by SARS and MERS coronaviruses. Hence, the drug may be theoretically <hi>effective</hi> against SARS-CoV-2. <hi>Remdesivir</hi><sep />',\n",
       "   'documentid': 'id:covid-19:doc::534720',\n",
       "   'cord_uid': 'xej338lo'}}]"
      ]
     },
     "execution_count": 5,
     "metadata": {},
     "output_type": "execute_result"
    }
   ],
   "source": [
    "response.hits"
   ]
  },
  {
   "cell_type": "markdown",
   "metadata": {},
   "source": [
    "Example of iterating over the returned hits obtained from `response.hits`, extracting the `cord_uid` field:\n"
   ]
  },
  {
   "cell_type": "code",
   "execution_count": 6,
   "metadata": {},
   "outputs": [
    {
     "data": {
      "text/plain": [
       "['xej338lo']"
      ]
     },
     "execution_count": 6,
     "metadata": {},
     "output_type": "execute_result"
    }
   ],
   "source": [
    "[hit[\"fields\"][\"cord_uid\"] for hit in response.hits]"
   ]
  },
  {
   "cell_type": "markdown",
   "metadata": {},
   "source": [
    "Access the full JSON response in the Vespa\n",
    "[default JSON result format](https://docs.vespa.ai/en/reference/default-result-format.html):\n"
   ]
  },
  {
   "cell_type": "code",
   "execution_count": 7,
   "metadata": {},
   "outputs": [
    {
     "data": {
      "text/plain": [
       "{'timing': {'querytime': 0.007, 'summaryfetchtime': 0.0, 'searchtime': 0.008},\n",
       " 'root': {'id': 'toplevel',\n",
       "  'relevance': 1.0,\n",
       "  'fields': {'totalCount': 2373},\n",
       "  'coverage': {'coverage': 100,\n",
       "   'documents': 976355,\n",
       "   'full': True,\n",
       "   'nodes': 2,\n",
       "   'results': 1,\n",
       "   'resultsFull': 1},\n",
       "  'children': [{'id': 'id:covid-19:doc::534720',\n",
       "    'relevance': 26.6769101612402,\n",
       "    'source': 'content',\n",
       "    'fields': {'title': 'A Review on <hi>Remdesivir</hi>: A Possible Promising Agent for the <hi>Treatment</hi> of <hi>COVID</hi>-<hi>19</hi>',\n",
       "     'abstract': '<sep />manufacturing of specific therapeutics and vaccines to treat <hi>COVID</hi>-<hi>19</hi> are time-consuming processes. At this time, using available conventional therapeutics along with other <hi>treatment</hi> options may be useful to fight <hi>COVID</hi>-<hi>19</hi>. In different clinical trials, efficacy of <hi>remdesivir</hi> (GS-5734) against Ebola virus has been demonstrated. Moreover, <hi>remdesivir</hi> may be an <hi>effective</hi> therapy in vitro and in animal models infected by SARS and MERS coronaviruses. Hence, the drug may be theoretically <hi>effective</hi> against SARS-CoV-2. <hi>Remdesivir</hi><sep />',\n",
       "     'documentid': 'id:covid-19:doc::534720',\n",
       "     'cord_uid': 'xej338lo'}}]}}"
      ]
     },
     "execution_count": 7,
     "metadata": {},
     "output_type": "execute_result"
    }
   ],
   "source": [
    "response.json"
   ]
  },
  {
   "cell_type": "markdown",
   "metadata": {},
   "source": [
    "## Query Performance\n",
    "\n",
    "There are several things that impact end-to-end query performance:\n",
    "\n",
    "- HTTP layer performance, connecting handling, mututal TLS handshake and network round-trip latency\n",
    "  - Make sure to re-use connections using context manager `with vespa.app.syncio():` to avoid setting up new connections\n",
    "    for every unique query. See [http best practises](https://cloud.vespa.ai/en/http-best-practices)\n",
    "  - The size of the fields and the number of hits requested also greatly impact network performance; a larger payload means higher latency.\n",
    "  - By adding `\"presentation.timing\": True` as a request parameter, the Vespa response includes the server-side processing (also including reading the query\n",
    "    from the network, but not delivering the result over the network). This can be handy for debugging latency.\n",
    "- Vespa performance, the features used inside the Vespa instance.\n"
   ]
  },
  {
   "cell_type": "code",
   "execution_count": 8,
   "metadata": {},
   "outputs": [
    {
     "name": "stdout",
     "output_type": "stream",
     "text": [
      "True\n"
     ]
    }
   ],
   "source": [
    "with app.syncio(connections=12) as session:\n",
    "    response: VespaQueryResponse = session.query(\n",
    "        hits=1,\n",
    "        body={\n",
    "            \"yql\": \"select documentid, cord_uid, title, abstract from sources * where userQuery()\",\n",
    "            \"query\": \"Is remdesivir an effective treatment for COVID-19?\",\n",
    "            \"ranking.profile\": \"bm25\",\n",
    "            \"presentation.timing\": True,\n",
    "        },\n",
    "    )\n",
    "    print(response.is_successful())"
   ]
  },
  {
   "cell_type": "markdown",
   "metadata": {},
   "source": [
    "## Compressing queries\n",
    "\n",
    "The `VespaSync` class has a `compress` argument that can be used to compress the query before sending it to Vespa. This can be useful when the query is large and/or the network is slow. The compression is done using `gzip`, and is supported by Vespa.\n",
    "\n",
    "By default, the `compress` argument is set to `\"auto\"`, which means that the query will be compressed if the size of the query is larger than 1024 bytes. The `compress` argument can also be set to `True` or `False` to force the query to be compressed or not, respectively.\n",
    "\n",
    "The compression will be applied to both queries and feed operations. (HTTP POST or PUT requests).\n"
   ]
  },
  {
   "cell_type": "code",
   "execution_count": 9,
   "metadata": {},
   "outputs": [
    {
     "name": "stdout",
     "output_type": "stream",
     "text": [
      "True\n",
      "True\n",
      "True\n",
      "True\n"
     ]
    }
   ],
   "source": [
    "import time\n",
    "\n",
    "# Will not compress the request, as body is less than 1024 bytes\n",
    "with app.syncio(connections=1, compress=\"auto\") as session:\n",
    "    response: VespaQueryResponse = session.query(\n",
    "        hits=1,\n",
    "        body={\n",
    "            \"yql\": \"select documentid, cord_uid, title, abstract from sources * where userQuery()\",\n",
    "            \"query\": \"Is remdesivir an effective treatment for COVID-19?\",\n",
    "            \"ranking.profile\": \"bm25\",\n",
    "            \"presentation.timing\": True,\n",
    "        },\n",
    "    )\n",
    "    print(response.is_successful())\n",
    "\n",
    "# Will compress, as the size of the body exceeds 1024 bytes.\n",
    "large_body = {\n",
    "    \"yql\": \"select documentid, cord_uid, title, abstract from sources * where userQuery()\",\n",
    "    \"query\": \"Is remdesivir an effective treatment for COVID-19?\",\n",
    "    \"input.query(q)\": \"asdf\" * 10000,\n",
    "    \"ranking.profile\": \"bm25\",\n",
    "    \"presentation.timing\": True,\n",
    "}\n",
    "compress_time = {}\n",
    "\n",
    "with app.syncio(connections=1, compress=True) as session:\n",
    "    start_time = time.time()\n",
    "    response: VespaQueryResponse = session.query(\n",
    "        hits=1,\n",
    "        body=large_body,\n",
    "    )\n",
    "    end_time = time.time()\n",
    "    compress_time[\"force_compression\"] = end_time - start_time\n",
    "    print(response.is_successful())\n",
    "\n",
    "with app.syncio(connections=1, compress=\"auto\") as session:\n",
    "    start_time = time.time()\n",
    "    response: VespaQueryResponse = session.query(\n",
    "        hits=1,\n",
    "        body=large_body,\n",
    "    )\n",
    "    end_time = time.time()\n",
    "    compress_time[\"auto\"] = end_time - start_time\n",
    "    print(response.is_successful())\n",
    "\n",
    "# Force no compression\n",
    "with app.syncio(compress=False) as session:\n",
    "    start_time = time.time()\n",
    "    response: VespaQueryResponse = session.query(\n",
    "        hits=1,\n",
    "        body=large_body,\n",
    "        timeout=\"5s\",\n",
    "    )\n",
    "    end_time = time.time()\n",
    "    compress_time[\"no_compression\"] = end_time - start_time\n",
    "    print(response.is_successful())"
   ]
  },
  {
   "cell_type": "code",
   "execution_count": 10,
   "metadata": {},
   "outputs": [
    {
     "data": {
      "text/plain": [
       "{'force_compression': 0.6639358997344971,\n",
       " 'auto': 0.6602010726928711,\n",
       " 'no_compression': 1.3003361225128174}"
      ]
     },
     "execution_count": 10,
     "metadata": {},
     "output_type": "execute_result"
    }
   ],
   "source": [
    "compress_time"
   ]
  },
  {
   "cell_type": "markdown",
   "metadata": {},
   "source": [
    "The differences will be more significant the larger the size of the body, and the slower the network.\n",
    "It might be beneficial to perform a proper benchmarking if performance is critical for your application.\n"
   ]
  },
  {
   "cell_type": "markdown",
   "metadata": {},
   "source": [
    "## Running Queries asynchronously\n",
    "\n",
    "If you want to benchmark the capacity of a Vespa application, we suggest using [vespa-fbench](https://docs.vespa.ai/en/performance/vespa-benchmarking.html#vespa-fbench), which is a load generator tool that lets you measure throughput and latency with a predefined number of clients. Vespa-fbench is not Vespa-specific, and can be used to benchmark any HTTP service.\n",
    "\n",
    "Another option is to use the Open Source [k6](https://k6.io/) load testing tool.\n",
    "\n",
    "If you want to run multiple queries from pyvespa, we suggest using the async client.\n",
    "Below, we will demonstrate a simple example of running 100 queries in parallel using the async client, and capture both the server-reported times and the client-reported times (including network latency).\n"
   ]
  },
  {
   "cell_type": "code",
   "execution_count": 11,
   "metadata": {},
   "outputs": [],
   "source": [
    "# This cell is necessary when running async code in Jupyter Notebooks, as it already runs an event loop\n",
    "import nest_asyncio\n",
    "\n",
    "nest_asyncio.apply()"
   ]
  },
  {
   "cell_type": "code",
   "execution_count": 12,
   "metadata": {},
   "outputs": [
    {
     "name": "stdout",
     "output_type": "stream",
     "text": [
      "Total time: 10.17 seconds\n",
      "QPS: 9.84\n"
     ]
    }
   ],
   "source": [
    "import asyncio\n",
    "import time\n",
    "\n",
    "\n",
    "# Define a single query function that takes a session\n",
    "async def run_query_async(session, body):\n",
    "    start_time = time.time()\n",
    "    response = await session.query(body=body)\n",
    "    end_time = time.time()\n",
    "    return response, end_time - start_time\n",
    "\n",
    "\n",
    "query = {\n",
    "    \"yql\": \"select documentid, cord_uid, title, abstract from sources * where userQuery()\",\n",
    "    \"query\": \"Is remdesivir an effective treatment for COVID-19?\",\n",
    "    \"ranking.profile\": \"bm25\",\n",
    "    \"presentation.timing\": True,\n",
    "}\n",
    "\n",
    "# List of queries with hits from 1 to 100\n",
    "queries = [{**query, \"hits\": hits} for hits in range(1, 101)]\n",
    "\n",
    "\n",
    "# Define a function to run multiple queries concurrently using the same session\n",
    "async def run_multiple_queries(queries):\n",
    "    # Async client uses HTTP/2, so we only need one connection\n",
    "    async with app.asyncio(connections=1) as session:  # Reuse the same session\n",
    "        tasks = []\n",
    "        for q in queries:\n",
    "            tasks.append(run_query_async(session, q))\n",
    "        responses = await asyncio.gather(*tasks)\n",
    "    return responses\n",
    "\n",
    "\n",
    "# Run the queries concurrently\n",
    "start_time = time.time()\n",
    "responses = asyncio.run(run_multiple_queries(queries))\n",
    "end_time = time.time()\n",
    "print(f\"Total time: {end_time - start_time:.2f} seconds\")\n",
    "# Print QPS\n",
    "print(f\"QPS: {len(queries) / (end_time - start_time):.2f}\")"
   ]
  },
  {
   "cell_type": "code",
   "execution_count": 13,
   "metadata": {},
   "outputs": [],
   "source": [
    "dict_responses = [response.json | {\"time\": timing} for response, timing in responses]"
   ]
  },
  {
   "cell_type": "code",
   "execution_count": 14,
   "metadata": {},
   "outputs": [
    {
     "data": {
      "text/plain": [
       "{'timing': {'querytime': 0.005, 'summaryfetchtime': 0.0, 'searchtime': 0.006},\n",
       " 'root': {'id': 'toplevel',\n",
       "  'relevance': 1.0,\n",
       "  'fields': {'totalCount': 2395},\n",
       "  'coverage': {'coverage': 100,\n",
       "   'documents': 976355,\n",
       "   'full': True,\n",
       "   'nodes': 2,\n",
       "   'results': 1,\n",
       "   'resultsFull': 1},\n",
       "  'children': [{'id': 'id:covid-19:doc::534720',\n",
       "    'relevance': 26.6769101612402,\n",
       "    'source': 'content',\n",
       "    'fields': {'title': 'A Review on <hi>Remdesivir</hi>: A Possible Promising Agent for the <hi>Treatment</hi> of <hi>COVID</hi>-<hi>19</hi>',\n",
       "     'abstract': '<sep />manufacturing of specific therapeutics and vaccines to treat <hi>COVID</hi>-<hi>19</hi> are time-consuming processes. At this time, using available conventional therapeutics along with other <hi>treatment</hi> options may be useful to fight <hi>COVID</hi>-<hi>19</hi>. In different clinical trials, efficacy of <hi>remdesivir</hi> (GS-5734) against Ebola virus has been demonstrated. Moreover, <hi>remdesivir</hi> may be an <hi>effective</hi> therapy in vitro and in animal models infected by SARS and MERS coronaviruses. Hence, the drug may be theoretically <hi>effective</hi> against SARS-CoV-2. <hi>Remdesivir</hi><sep />',\n",
       "     'documentid': 'id:covid-19:doc::534720',\n",
       "     'cord_uid': 'xej338lo'}}]},\n",
       " 'time': 0.6231591701507568}"
      ]
     },
     "execution_count": 14,
     "metadata": {},
     "output_type": "execute_result"
    }
   ],
   "source": [
    "dict_responses[0]"
   ]
  },
  {
   "cell_type": "code",
   "execution_count": 15,
   "metadata": {},
   "outputs": [
    {
     "data": {
      "text/html": [
       "<div>\n",
       "<style scoped>\n",
       "    .dataframe tbody tr th:only-of-type {\n",
       "        vertical-align: middle;\n",
       "    }\n",
       "\n",
       "    .dataframe tbody tr th {\n",
       "        vertical-align: top;\n",
       "    }\n",
       "\n",
       "    .dataframe thead th {\n",
       "        text-align: right;\n",
       "    }\n",
       "</style>\n",
       "<table border=\"1\" class=\"dataframe\">\n",
       "  <thead>\n",
       "    <tr style=\"text-align: right;\">\n",
       "      <th></th>\n",
       "      <th>hits</th>\n",
       "      <th>search_time</th>\n",
       "      <th>query_time</th>\n",
       "      <th>summary_time</th>\n",
       "      <th>total_time</th>\n",
       "    </tr>\n",
       "  </thead>\n",
       "  <tbody>\n",
       "    <tr>\n",
       "      <th>0</th>\n",
       "      <td>1</td>\n",
       "      <td>0.006</td>\n",
       "      <td>0.005</td>\n",
       "      <td>0.000</td>\n",
       "      <td>0.623159</td>\n",
       "    </tr>\n",
       "    <tr>\n",
       "      <th>1</th>\n",
       "      <td>2</td>\n",
       "      <td>0.014</td>\n",
       "      <td>0.010</td>\n",
       "      <td>0.003</td>\n",
       "      <td>6.300802</td>\n",
       "    </tr>\n",
       "    <tr>\n",
       "      <th>2</th>\n",
       "      <td>3</td>\n",
       "      <td>0.012</td>\n",
       "      <td>0.010</td>\n",
       "      <td>0.001</td>\n",
       "      <td>6.300616</td>\n",
       "    </tr>\n",
       "    <tr>\n",
       "      <th>3</th>\n",
       "      <td>4</td>\n",
       "      <td>0.012</td>\n",
       "      <td>0.010</td>\n",
       "      <td>0.001</td>\n",
       "      <td>2.144979</td>\n",
       "    </tr>\n",
       "    <tr>\n",
       "      <th>4</th>\n",
       "      <td>5</td>\n",
       "      <td>0.009</td>\n",
       "      <td>0.007</td>\n",
       "      <td>0.001</td>\n",
       "      <td>4.597889</td>\n",
       "    </tr>\n",
       "    <tr>\n",
       "      <th>...</th>\n",
       "      <td>...</td>\n",
       "      <td>...</td>\n",
       "      <td>...</td>\n",
       "      <td>...</td>\n",
       "      <td>...</td>\n",
       "    </tr>\n",
       "    <tr>\n",
       "      <th>95</th>\n",
       "      <td>96</td>\n",
       "      <td>0.066</td>\n",
       "      <td>0.031</td>\n",
       "      <td>0.034</td>\n",
       "      <td>10.134708</td>\n",
       "    </tr>\n",
       "    <tr>\n",
       "      <th>96</th>\n",
       "      <td>97</td>\n",
       "      <td>0.058</td>\n",
       "      <td>0.030</td>\n",
       "      <td>0.027</td>\n",
       "      <td>10.148543</td>\n",
       "    </tr>\n",
       "    <tr>\n",
       "      <th>97</th>\n",
       "      <td>98</td>\n",
       "      <td>0.029</td>\n",
       "      <td>0.011</td>\n",
       "      <td>0.017</td>\n",
       "      <td>10.148778</td>\n",
       "    </tr>\n",
       "    <tr>\n",
       "      <th>98</th>\n",
       "      <td>99</td>\n",
       "      <td>0.051</td>\n",
       "      <td>0.018</td>\n",
       "      <td>0.032</td>\n",
       "      <td>10.135024</td>\n",
       "    </tr>\n",
       "    <tr>\n",
       "      <th>99</th>\n",
       "      <td>100</td>\n",
       "      <td>0.043</td>\n",
       "      <td>0.015</td>\n",
       "      <td>0.027</td>\n",
       "      <td>10.149029</td>\n",
       "    </tr>\n",
       "  </tbody>\n",
       "</table>\n",
       "<p>100 rows × 5 columns</p>\n",
       "</div>"
      ],
      "text/plain": [
       "    hits  search_time  query_time  summary_time  total_time\n",
       "0      1        0.006       0.005         0.000    0.623159\n",
       "1      2        0.014       0.010         0.003    6.300802\n",
       "2      3        0.012       0.010         0.001    6.300616\n",
       "3      4        0.012       0.010         0.001    2.144979\n",
       "4      5        0.009       0.007         0.001    4.597889\n",
       "..   ...          ...         ...           ...         ...\n",
       "95    96        0.066       0.031         0.034   10.134708\n",
       "96    97        0.058       0.030         0.027   10.148543\n",
       "97    98        0.029       0.011         0.017   10.148778\n",
       "98    99        0.051       0.018         0.032   10.135024\n",
       "99   100        0.043       0.015         0.027   10.149029\n",
       "\n",
       "[100 rows x 5 columns]"
      ]
     },
     "execution_count": 15,
     "metadata": {},
     "output_type": "execute_result"
    }
   ],
   "source": [
    "# Create a pandas DataFrame with the responses\n",
    "import pandas as pd\n",
    "\n",
    "df = pd.DataFrame(\n",
    "    [\n",
    "        {\n",
    "            \"hits\": len(response[\"root\"][\"children\"]),\n",
    "            \"search_time\": response[\"timing\"][\"searchtime\"],\n",
    "            \"query_time\": response[\"timing\"][\"querytime\"],\n",
    "            \"summary_time\": response[\"timing\"][\"summaryfetchtime\"],\n",
    "            \"total_time\": response[\"time\"],\n",
    "        }\n",
    "        for response in dict_responses\n",
    "    ]\n",
    ")\n",
    "df"
   ]
  },
  {
   "cell_type": "markdown",
   "metadata": {},
   "source": [
    "## Error handling\n",
    "\n",
    "Vespa's default query timeout is 500ms; Pyvespa will by default retry up to 3 times for queries\n",
    "that return response codes like 429, 500,503 and 504. A `VespaError` is raised if retries did not end up with success. In the following\n",
    "example, we set a very low [timeout](https://docs.vespa.ai/en/reference/query-api-reference.html#timeout) of `1ms` which will cause\n",
    "Vespa to time out the request, and it returns a 504 http error code. The underlying error is wrapped in a `VespaError` with\n",
    "the payload error message returned from Vespa:\n"
   ]
  },
  {
   "cell_type": "code",
   "execution_count": 16,
   "metadata": {},
   "outputs": [
    {
     "name": "stdout",
     "output_type": "stream",
     "text": [
      "[{'code': 12, 'summary': 'Timed out', 'message': 'No time left after waiting for 1ms to execute query'}]\n"
     ]
    }
   ],
   "source": [
    "with app.syncio(connections=12) as session:\n",
    "    try:\n",
    "        response: VespaQueryResponse = session.query(\n",
    "            hits=1,\n",
    "            body={\n",
    "                \"yql\": \"select * from sources * where userQuery()\",\n",
    "                \"query\": \"Is remdesivir an effective treatment for COVID-19?\",\n",
    "                \"timeout\": \"1ms\",\n",
    "            },\n",
    "        )\n",
    "        print(response.is_successful())\n",
    "    except VespaError as e:\n",
    "        print(str(e))"
   ]
  },
  {
   "cell_type": "markdown",
   "metadata": {},
   "source": [
    "In the following example, we forgot to include the `query` parameter but still reference it in the yql. This causes a bad client request response (400):\n"
   ]
  },
  {
   "cell_type": "code",
   "execution_count": 17,
   "metadata": {},
   "outputs": [
    {
     "name": "stdout",
     "output_type": "stream",
     "text": [
      "[{'code': 3, 'summary': 'Illegal query', 'source': 'content', 'message': 'No query'}]\n"
     ]
    }
   ],
   "source": [
    "with app.syncio(connections=12) as session:\n",
    "    try:\n",
    "        response: VespaQueryResponse = session.query(\n",
    "            hits=1, body={\"yql\": \"select * from sources * where userQuery()\"}\n",
    "        )\n",
    "        print(response.is_successful())\n",
    "    except VespaError as e:\n",
    "        print(str(e))"
   ]
  },
  {
   "cell_type": "markdown",
   "metadata": {},
   "source": [
    "## Using the Querybuilder DSL API\n",
    "\n",
    "From `pyvespa>=0.52.0`, we provide a Domain Specific Language (DSL) that allows you to build queries programmatically in the `vespa.querybuilder`-module. See [reference](https://pyvespa.readthedocs.io/en/latest/reference-api.html#vespa-querybuilder) for full details. There are also many examples in our tests:\n",
    "\n",
    "- https://github.com/vespa-engine/pyvespa/blob/master/tests/unit/test_grouping.py\n",
    "- https://github.com/vespa-engine/pyvespa/blob/master/tests/unit/test_qb.py\n",
    "- https://github.com/vespa-engine/pyvespa/blob/master/tests/integration/test_integration_grouping.py\n",
    "- https://github.com/vespa-engine/pyvespa/blob/master/tests/integration/test_integration_queries.py\n",
    "\n",
    "This section demonstrates common query patterns using the querybuilder DSL. All features of the Vespa Query Language are supported by the querybuilder DSL.\n",
    "\n",
    "<div class=\"alert alert-info\">\n",
    "    Using the Querybuilder DSL is completely optional, and you can always use the Vespa Query Language directly by passing the query as a string, which might be more convenient for simple queries.\n",
    "</div>\n",
    "\n",
    "We will use our own [documentation search](https://search.vespa.ai/) app for the following examples.\n",
    "For details of the app configuration, see the corresponding [github repository](https://github.com/vespa-cloud/vespa-documentation-search)."
   ]
  },
  {
   "cell_type": "code",
   "execution_count": 18,
   "metadata": {},
   "outputs": [],
   "source": [
    "app = Vespa(url=\"https://api.search.vespa.ai\")"
   ]
  },
  {
   "cell_type": "markdown",
   "metadata": {},
   "source": [
    "### Example 1 - matches, order by and limit\n",
    "\n",
    "We want to find the 10 documents with the most terms in the 'pyvespa'-namespace (the documentation search has a 'namespace'-field, which refers to the source of the documentation). Note that the documentation search operates on the 'paragraph'-schema, but for demo purposes, we will use the 'document'-schema."
   ]
  },
  {
   "cell_type": "code",
   "execution_count": 19,
   "metadata": {},
   "outputs": [
    {
     "name": "stdout",
     "output_type": "stream",
     "text": [
      "Query: select title, path, term_count from doc where namespace matches \"pyvespa\" order by term_count desc limit 10\n"
     ]
    },
    {
     "data": {
      "text/html": [
       "<div>\n",
       "<style scoped>\n",
       "    .dataframe tbody tr th:only-of-type {\n",
       "        vertical-align: middle;\n",
       "    }\n",
       "\n",
       "    .dataframe tbody tr th {\n",
       "        vertical-align: top;\n",
       "    }\n",
       "\n",
       "    .dataframe thead th {\n",
       "        text-align: right;\n",
       "    }\n",
       "</style>\n",
       "<table border=\"1\" class=\"dataframe\">\n",
       "  <thead>\n",
       "    <tr style=\"text-align: right;\">\n",
       "      <th></th>\n",
       "      <th>path</th>\n",
       "      <th>title</th>\n",
       "      <th>term_count</th>\n",
       "    </tr>\n",
       "  </thead>\n",
       "  <tbody>\n",
       "    <tr>\n",
       "      <th>0</th>\n",
       "      <td>/examples/feed_performance.html</td>\n",
       "      <td>Feeding performance</td>\n",
       "      <td>74798</td>\n",
       "    </tr>\n",
       "    <tr>\n",
       "      <th>1</th>\n",
       "      <td>/reference-api.html</td>\n",
       "      <td>Reference API</td>\n",
       "      <td>18282</td>\n",
       "    </tr>\n",
       "    <tr>\n",
       "      <th>2</th>\n",
       "      <td>/examples/simplified-retrieval-with-colpali-vl...</td>\n",
       "      <td>Scaling ColPALI (VLM) Retrieval</td>\n",
       "      <td>13943</td>\n",
       "    </tr>\n",
       "    <tr>\n",
       "      <th>3</th>\n",
       "      <td>/examples/pdf-retrieval-with-ColQwen2-vlm_Vesp...</td>\n",
       "      <td>PDF-Retrieval using ColQWen2 (ColPali) with Vespa</td>\n",
       "      <td>12939</td>\n",
       "    </tr>\n",
       "    <tr>\n",
       "      <th>4</th>\n",
       "      <td>/examples/colpali-document-retrieval-vision-la...</td>\n",
       "      <td>Vespa 🤝 ColPali: Efficient Document Retrieval ...</td>\n",
       "      <td>12666</td>\n",
       "    </tr>\n",
       "    <tr>\n",
       "      <th>5</th>\n",
       "      <td>/examples/colpali-benchmark-vqa-vlm_Vespa-clou...</td>\n",
       "      <td>ColPali Ranking Experiments on DocVQA</td>\n",
       "      <td>11707</td>\n",
       "    </tr>\n",
       "    <tr>\n",
       "      <th>6</th>\n",
       "      <td>/examples/multi-vector-indexing.html</td>\n",
       "      <td>Multi-vector indexing with HNSW</td>\n",
       "      <td>7907</td>\n",
       "    </tr>\n",
       "    <tr>\n",
       "      <th>7</th>\n",
       "      <td>/examples/billion-scale-vector-search-with-coh...</td>\n",
       "      <td>Billion-scale vector search with Cohere binary...</td>\n",
       "      <td>6531</td>\n",
       "    </tr>\n",
       "    <tr>\n",
       "      <th>8</th>\n",
       "      <td>/examples/visual_pdf_rag_with_vespa_colpali_cl...</td>\n",
       "      <td>Visual PDF RAG with Vespa - ColPali demo appli...</td>\n",
       "      <td>5666</td>\n",
       "    </tr>\n",
       "    <tr>\n",
       "      <th>9</th>\n",
       "      <td>/examples/chat_with_your_pdfs_using_colbert_la...</td>\n",
       "      <td>Chat with your pdfs with ColBERT, langchain, a...</td>\n",
       "      <td>5628</td>\n",
       "    </tr>\n",
       "  </tbody>\n",
       "</table>\n",
       "</div>"
      ],
      "text/plain": [
       "                                                path  \\\n",
       "0                    /examples/feed_performance.html   \n",
       "1                                /reference-api.html   \n",
       "2  /examples/simplified-retrieval-with-colpali-vl...   \n",
       "3  /examples/pdf-retrieval-with-ColQwen2-vlm_Vesp...   \n",
       "4  /examples/colpali-document-retrieval-vision-la...   \n",
       "5  /examples/colpali-benchmark-vqa-vlm_Vespa-clou...   \n",
       "6               /examples/multi-vector-indexing.html   \n",
       "7  /examples/billion-scale-vector-search-with-coh...   \n",
       "8  /examples/visual_pdf_rag_with_vespa_colpali_cl...   \n",
       "9  /examples/chat_with_your_pdfs_using_colbert_la...   \n",
       "\n",
       "                                               title  term_count  \n",
       "0                                Feeding performance       74798  \n",
       "1                                      Reference API       18282  \n",
       "2                    Scaling ColPALI (VLM) Retrieval       13943  \n",
       "3  PDF-Retrieval using ColQWen2 (ColPali) with Vespa       12939  \n",
       "4  Vespa 🤝 ColPali: Efficient Document Retrieval ...       12666  \n",
       "5              ColPali Ranking Experiments on DocVQA       11707  \n",
       "6                    Multi-vector indexing with HNSW        7907  \n",
       "7  Billion-scale vector search with Cohere binary...        6531  \n",
       "8  Visual PDF RAG with Vespa - ColPali demo appli...        5666  \n",
       "9  Chat with your pdfs with ColBERT, langchain, a...        5628  "
      ]
     },
     "execution_count": 19,
     "metadata": {},
     "output_type": "execute_result"
    }
   ],
   "source": [
    "import vespa.querybuilder as qb\n",
    "from vespa.querybuilder import QueryField\n",
    "\n",
    "namespace = QueryField(\"namespace\")\n",
    "q = (\n",
    "    qb.select([\"title\", \"path\", \"term_count\"])\n",
    "    .from_(\"doc\")\n",
    "    .where(\n",
    "        namespace.matches(\"pyvespa\")\n",
    "    )  # matches is regex-match, see https://docs.vespa.ai/en/reference/query-language-reference.html#matches\n",
    "    .order_by(\"term_count\", ascending=False)\n",
    "    .set_limit(10)\n",
    ")\n",
    "print(f\"Query: {q}\")\n",
    "resp = app.query(yql=q)\n",
    "results = [hit[\"fields\"] for hit in resp.hits]\n",
    "df = pd.DataFrame(results)\n",
    "df"
   ]
  },
  {
   "cell_type": "markdown",
   "metadata": {},
   "source": [
    "### Example 2 - timestamp range, contains\n",
    "\n",
    "We want to find the documents where one of the indexed fields contains the query term `embedding`,is updated after Jan 1st 2024 and the current timestamp, and have the documents ranked the 'documentation' rank profile. See https://github.com/vespa-cloud/vespa-documentation-search/blob/main/src/main/application/schemas/doc.sd. "
   ]
  },
  {
   "cell_type": "code",
   "execution_count": 20,
   "metadata": {},
   "outputs": [
    {
     "name": "stdout",
     "output_type": "stream",
     "text": [
      "From: 1704063600, To: 1736775672\n",
      "Query: select title, last_updated, content from doc where namespace matches \"op.*\" and range(last_updated, 1704063600, 1736775672) and weakAnd(title contains \"embedding\", content contains \"embedding\", headers contains \"embedding\", path contains \"embedding\") limit 3\n"
     ]
    }
   ],
   "source": [
    "import vespa.querybuilder as qb\n",
    "from vespa.querybuilder import QueryField\n",
    "from datetime import datetime\n",
    "\n",
    "queryterm = \"embedding\"\n",
    "\n",
    "# We need to instantiate a QueryField for fields that we want to call methods on\n",
    "last_updated = QueryField(\"last_updated\")\n",
    "title = QueryField(\"title\")\n",
    "headers = QueryField(\"headers\")\n",
    "path = QueryField(\"path\")\n",
    "namespace = QueryField(\"namespace\")\n",
    "content = QueryField(\"content\")\n",
    "\n",
    "from_ts = int(datetime(2024, 1, 1).timestamp())\n",
    "to_ts = int(datetime.now().timestamp())\n",
    "print(f\"From: {from_ts}, To: {to_ts}\")\n",
    "q = (\n",
    "    qb.select(\n",
    "        [title, last_updated, content]\n",
    "    )  # Select takes either a list of QueryField or strings, (or '*' for all fields)\n",
    "    .from_(\"doc\")\n",
    "    .where(\n",
    "        namespace.matches(\"op.*\")\n",
    "        & last_updated.in_range(from_ts, to_ts)  # could also use > and <\n",
    "        & qb.weakAnd(\n",
    "            title.contains(queryterm),\n",
    "            content.contains(queryterm),\n",
    "            headers.contains(queryterm),\n",
    "            path.contains(queryterm),\n",
    "        )\n",
    "    )\n",
    "    .set_limit(3)\n",
    ")\n",
    "print(f\"Query: {q}\")\n",
    "resp = app.query(yql=q, ranking=\"documentation\")"
   ]
  },
  {
   "cell_type": "code",
   "execution_count": 21,
   "metadata": {},
   "outputs": [
    {
     "data": {
      "text/html": [
       "<div>\n",
       "<style scoped>\n",
       "    .dataframe tbody tr th:only-of-type {\n",
       "        vertical-align: middle;\n",
       "    }\n",
       "\n",
       "    .dataframe tbody tr th {\n",
       "        vertical-align: top;\n",
       "    }\n",
       "\n",
       "    .dataframe thead th {\n",
       "        text-align: right;\n",
       "    }\n",
       "</style>\n",
       "<table border=\"1\" class=\"dataframe\">\n",
       "  <thead>\n",
       "    <tr style=\"text-align: right;\">\n",
       "      <th></th>\n",
       "      <th>0</th>\n",
       "      <th>1</th>\n",
       "      <th>2</th>\n",
       "    </tr>\n",
       "  </thead>\n",
       "  <tbody>\n",
       "    <tr>\n",
       "      <th>content</th>\n",
       "      <td>&lt;sep /&gt;similar data by finding nearby points i...</td>\n",
       "      <td>Reference configuration for &lt;hi&gt;embedders&lt;/hi&gt;...</td>\n",
       "      <td>&lt;sep /&gt; basic news search application - applic...</td>\n",
       "    </tr>\n",
       "    <tr>\n",
       "      <th>title</th>\n",
       "      <td>Embedding</td>\n",
       "      <td>Embedding Reference</td>\n",
       "      <td>News search and recommendation tutorial - embe...</td>\n",
       "    </tr>\n",
       "    <tr>\n",
       "      <th>last_updated</th>\n",
       "      <td>1736505422</td>\n",
       "      <td>1736505422</td>\n",
       "      <td>1736505423</td>\n",
       "    </tr>\n",
       "    <tr>\n",
       "      <th>id</th>\n",
       "      <td>index:documentation/0/5d6e77ca20d4e8ee29716747</td>\n",
       "      <td>index:documentation/1/a03c4aef22fcde916804d3d9</td>\n",
       "      <td>index:documentation/1/ad44f35cbd7b8214f88963e3</td>\n",
       "    </tr>\n",
       "    <tr>\n",
       "      <th>relevance</th>\n",
       "      <td>23.547446</td>\n",
       "      <td>22.404666</td>\n",
       "      <td>16.870303</td>\n",
       "    </tr>\n",
       "    <tr>\n",
       "      <th>source</th>\n",
       "      <td>documentation</td>\n",
       "      <td>documentation</td>\n",
       "      <td>documentation</td>\n",
       "    </tr>\n",
       "    <tr>\n",
       "      <th>bm25(content)</th>\n",
       "      <td>2.633568</td>\n",
       "      <td>2.597595</td>\n",
       "      <td>2.63281</td>\n",
       "    </tr>\n",
       "    <tr>\n",
       "      <th>bm25(headers)</th>\n",
       "      <td>7.572596</td>\n",
       "      <td>8.207328</td>\n",
       "      <td>5.537104</td>\n",
       "    </tr>\n",
       "    <tr>\n",
       "      <th>bm25(keywords)</th>\n",
       "      <td>0.0</td>\n",
       "      <td>0.0</td>\n",
       "      <td>0.0</td>\n",
       "    </tr>\n",
       "    <tr>\n",
       "      <th>bm25(path)</th>\n",
       "      <td>3.934699</td>\n",
       "      <td>3.293068</td>\n",
       "      <td>3.044614</td>\n",
       "    </tr>\n",
       "    <tr>\n",
       "      <th>bm25(title)</th>\n",
       "      <td>4.703291</td>\n",
       "      <td>4.153337</td>\n",
       "      <td>2.827888</td>\n",
       "    </tr>\n",
       "    <tr>\n",
       "      <th>fieldLength(content)</th>\n",
       "      <td>3830.0</td>\n",
       "      <td>2031.0</td>\n",
       "      <td>3273.0</td>\n",
       "    </tr>\n",
       "    <tr>\n",
       "      <th>fieldLength(title)</th>\n",
       "      <td>1.0</td>\n",
       "      <td>2.0</td>\n",
       "      <td>6.0</td>\n",
       "    </tr>\n",
       "    <tr>\n",
       "      <th>fieldMatch(content)</th>\n",
       "      <td>0.915766</td>\n",
       "      <td>0.892113</td>\n",
       "      <td>0.915871</td>\n",
       "    </tr>\n",
       "    <tr>\n",
       "      <th>fieldMatch(content).matches</th>\n",
       "      <td>1.0</td>\n",
       "      <td>1.0</td>\n",
       "      <td>1.0</td>\n",
       "    </tr>\n",
       "    <tr>\n",
       "      <th>fieldMatch(title)</th>\n",
       "      <td>1.0</td>\n",
       "      <td>0.933869</td>\n",
       "      <td>0.842758</td>\n",
       "    </tr>\n",
       "    <tr>\n",
       "      <th>query(contentWeight)</th>\n",
       "      <td>1.0</td>\n",
       "      <td>1.0</td>\n",
       "      <td>1.0</td>\n",
       "    </tr>\n",
       "    <tr>\n",
       "      <th>query(headersWeight)</th>\n",
       "      <td>1.0</td>\n",
       "      <td>1.0</td>\n",
       "      <td>1.0</td>\n",
       "    </tr>\n",
       "    <tr>\n",
       "      <th>query(pathWeight)</th>\n",
       "      <td>1.0</td>\n",
       "      <td>1.0</td>\n",
       "      <td>1.0</td>\n",
       "    </tr>\n",
       "    <tr>\n",
       "      <th>query(titleWeight)</th>\n",
       "      <td>2.0</td>\n",
       "      <td>2.0</td>\n",
       "      <td>2.0</td>\n",
       "    </tr>\n",
       "  </tbody>\n",
       "</table>\n",
       "</div>"
      ],
      "text/plain": [
       "                                                                             0  \\\n",
       "content                      <sep />similar data by finding nearby points i...   \n",
       "title                                                                Embedding   \n",
       "last_updated                                                        1736505422   \n",
       "id                              index:documentation/0/5d6e77ca20d4e8ee29716747   \n",
       "relevance                                                            23.547446   \n",
       "source                                                           documentation   \n",
       "bm25(content)                                                         2.633568   \n",
       "bm25(headers)                                                         7.572596   \n",
       "bm25(keywords)                                                             0.0   \n",
       "bm25(path)                                                            3.934699   \n",
       "bm25(title)                                                           4.703291   \n",
       "fieldLength(content)                                                    3830.0   \n",
       "fieldLength(title)                                                         1.0   \n",
       "fieldMatch(content)                                                   0.915766   \n",
       "fieldMatch(content).matches                                                1.0   \n",
       "fieldMatch(title)                                                          1.0   \n",
       "query(contentWeight)                                                       1.0   \n",
       "query(headersWeight)                                                       1.0   \n",
       "query(pathWeight)                                                          1.0   \n",
       "query(titleWeight)                                                         2.0   \n",
       "\n",
       "                                                                             1  \\\n",
       "content                      Reference configuration for <hi>embedders</hi>...   \n",
       "title                                                      Embedding Reference   \n",
       "last_updated                                                        1736505422   \n",
       "id                              index:documentation/1/a03c4aef22fcde916804d3d9   \n",
       "relevance                                                            22.404666   \n",
       "source                                                           documentation   \n",
       "bm25(content)                                                         2.597595   \n",
       "bm25(headers)                                                         8.207328   \n",
       "bm25(keywords)                                                             0.0   \n",
       "bm25(path)                                                            3.293068   \n",
       "bm25(title)                                                           4.153337   \n",
       "fieldLength(content)                                                    2031.0   \n",
       "fieldLength(title)                                                         2.0   \n",
       "fieldMatch(content)                                                   0.892113   \n",
       "fieldMatch(content).matches                                                1.0   \n",
       "fieldMatch(title)                                                     0.933869   \n",
       "query(contentWeight)                                                       1.0   \n",
       "query(headersWeight)                                                       1.0   \n",
       "query(pathWeight)                                                          1.0   \n",
       "query(titleWeight)                                                         2.0   \n",
       "\n",
       "                                                                             2  \n",
       "content                      <sep /> basic news search application - applic...  \n",
       "title                        News search and recommendation tutorial - embe...  \n",
       "last_updated                                                        1736505423  \n",
       "id                              index:documentation/1/ad44f35cbd7b8214f88963e3  \n",
       "relevance                                                            16.870303  \n",
       "source                                                           documentation  \n",
       "bm25(content)                                                          2.63281  \n",
       "bm25(headers)                                                         5.537104  \n",
       "bm25(keywords)                                                             0.0  \n",
       "bm25(path)                                                            3.044614  \n",
       "bm25(title)                                                           2.827888  \n",
       "fieldLength(content)                                                    3273.0  \n",
       "fieldLength(title)                                                         6.0  \n",
       "fieldMatch(content)                                                   0.915871  \n",
       "fieldMatch(content).matches                                                1.0  \n",
       "fieldMatch(title)                                                     0.842758  \n",
       "query(contentWeight)                                                       1.0  \n",
       "query(headersWeight)                                                       1.0  \n",
       "query(pathWeight)                                                          1.0  \n",
       "query(titleWeight)                                                         2.0  "
      ]
     },
     "execution_count": 21,
     "metadata": {},
     "output_type": "execute_result"
    }
   ],
   "source": [
    "df = pd.DataFrame([hit[\"fields\"] | hit for hit in resp.hits])\n",
    "df = pd.concat(\n",
    "    [\n",
    "        df.drop([\"matchfeatures\", \"fields\"], axis=1),\n",
    "        pd.json_normalize(df[\"matchfeatures\"]),\n",
    "    ],\n",
    "    axis=1,\n",
    ")\n",
    "df.T"
   ]
  },
  {
   "cell_type": "markdown",
   "metadata": {},
   "source": [
    "### Example 3 - Basic grouping\n",
    "\n",
    "Vespa supports grouping and aggregation of matches through the Vespa grouping language. For an introduction to grouping, see https://docs.vespa.ai/en/grouping.html. \n",
    "\n",
    "We will use [purchase schema](https://github.com/vespa-cloud/vespa-documentation-search/blob/main/src/main/application/schemas/purchase.sd) that is also deployed in the documentation search app."
   ]
  },
  {
   "cell_type": "code",
   "execution_count": 22,
   "metadata": {},
   "outputs": [
    {
     "name": "stdout",
     "output_type": "stream",
     "text": [
      "Query: select * from purchase where true limit 0 | all(group(customer) each(output(sum(price))))\n"
     ]
    },
    {
     "data": {
      "text/html": [
       "<div>\n",
       "<style scoped>\n",
       "    .dataframe tbody tr th:only-of-type {\n",
       "        vertical-align: middle;\n",
       "    }\n",
       "\n",
       "    .dataframe tbody tr th {\n",
       "        vertical-align: top;\n",
       "    }\n",
       "\n",
       "    .dataframe thead th {\n",
       "        text-align: right;\n",
       "    }\n",
       "</style>\n",
       "<table border=\"1\" class=\"dataframe\">\n",
       "  <thead>\n",
       "    <tr style=\"text-align: right;\">\n",
       "      <th></th>\n",
       "      <th>value</th>\n",
       "      <th>sum(price)</th>\n",
       "    </tr>\n",
       "  </thead>\n",
       "  <tbody>\n",
       "    <tr>\n",
       "      <th>0</th>\n",
       "      <td>Brown</td>\n",
       "      <td>20537</td>\n",
       "    </tr>\n",
       "    <tr>\n",
       "      <th>1</th>\n",
       "      <td>Jones</td>\n",
       "      <td>39816</td>\n",
       "    </tr>\n",
       "    <tr>\n",
       "      <th>2</th>\n",
       "      <td>Smith</td>\n",
       "      <td>19484</td>\n",
       "    </tr>\n",
       "  </tbody>\n",
       "</table>\n",
       "</div>"
      ],
      "text/plain": [
       "   value  sum(price)\n",
       "0  Brown       20537\n",
       "1  Jones       39816\n",
       "2  Smith       19484"
      ]
     },
     "execution_count": 22,
     "metadata": {},
     "output_type": "execute_result"
    }
   ],
   "source": [
    "from vespa.querybuilder import Grouping as G\n",
    "\n",
    "grouping = G.all(\n",
    "    G.group(\"customer\"),\n",
    "    G.each(G.output(G.sum(\"price\"))),\n",
    ")\n",
    "q = qb.select(\"*\").from_(\"purchase\").where(True).set_limit(0).groupby(grouping)\n",
    "print(f\"Query: {q}\")\n",
    "resp = app.query(yql=q)\n",
    "group = resp.hits[0][\"children\"][0][\"children\"]\n",
    "# get value and sum(price) into a DataFrame\n",
    "df = pd.DataFrame([hit[\"fields\"] | hit for hit in group])\n",
    "df = df.loc[:, [\"value\", \"sum(price)\"]]\n",
    "df"
   ]
  },
  {
   "cell_type": "markdown",
   "metadata": {},
   "source": [
    "### Example 4 - Nested grouping\n",
    "\n",
    "Let's find out how much each customer has spent per day by grouping on customer, then date: "
   ]
  },
  {
   "cell_type": "code",
   "execution_count": 23,
   "metadata": {},
   "outputs": [
    {
     "name": "stdout",
     "output_type": "stream",
     "text": [
      "Query: select * from purchase where true | all(group(customer) each(group(time.date(date)) each(output(sum(price)))))\n"
     ]
    },
    {
     "data": {
      "text/html": [
       "<div>\n",
       "<style scoped>\n",
       "    .dataframe tbody tr th:only-of-type {\n",
       "        vertical-align: middle;\n",
       "    }\n",
       "\n",
       "    .dataframe tbody tr th {\n",
       "        vertical-align: top;\n",
       "    }\n",
       "\n",
       "    .dataframe thead th {\n",
       "        text-align: right;\n",
       "    }\n",
       "</style>\n",
       "<table border=\"1\" class=\"dataframe\">\n",
       "  <thead>\n",
       "    <tr style=\"text-align: right;\">\n",
       "      <th></th>\n",
       "      <th>GroupId</th>\n",
       "      <th>Date</th>\n",
       "      <th>Sum(price)</th>\n",
       "    </tr>\n",
       "  </thead>\n",
       "  <tbody>\n",
       "    <tr>\n",
       "      <th>0</th>\n",
       "      <td>Brown</td>\n",
       "      <td>2006-9-10</td>\n",
       "      <td>7540</td>\n",
       "    </tr>\n",
       "    <tr>\n",
       "      <th>1</th>\n",
       "      <td>Brown</td>\n",
       "      <td>2006-9-11</td>\n",
       "      <td>1597</td>\n",
       "    </tr>\n",
       "    <tr>\n",
       "      <th>2</th>\n",
       "      <td>Brown</td>\n",
       "      <td>2006-9-8</td>\n",
       "      <td>8000</td>\n",
       "    </tr>\n",
       "    <tr>\n",
       "      <th>3</th>\n",
       "      <td>Brown</td>\n",
       "      <td>2006-9-9</td>\n",
       "      <td>3400</td>\n",
       "    </tr>\n",
       "    <tr>\n",
       "      <th>4</th>\n",
       "      <td>Jones</td>\n",
       "      <td>2006-9-10</td>\n",
       "      <td>8900</td>\n",
       "    </tr>\n",
       "    <tr>\n",
       "      <th>5</th>\n",
       "      <td>Jones</td>\n",
       "      <td>2006-9-11</td>\n",
       "      <td>20816</td>\n",
       "    </tr>\n",
       "    <tr>\n",
       "      <th>6</th>\n",
       "      <td>Jones</td>\n",
       "      <td>2006-9-8</td>\n",
       "      <td>8000</td>\n",
       "    </tr>\n",
       "    <tr>\n",
       "      <th>7</th>\n",
       "      <td>Jones</td>\n",
       "      <td>2006-9-9</td>\n",
       "      <td>2100</td>\n",
       "    </tr>\n",
       "    <tr>\n",
       "      <th>8</th>\n",
       "      <td>Smith</td>\n",
       "      <td>2006-9-10</td>\n",
       "      <td>6100</td>\n",
       "    </tr>\n",
       "    <tr>\n",
       "      <th>9</th>\n",
       "      <td>Smith</td>\n",
       "      <td>2006-9-11</td>\n",
       "      <td>2584</td>\n",
       "    </tr>\n",
       "    <tr>\n",
       "      <th>10</th>\n",
       "      <td>Smith</td>\n",
       "      <td>2006-9-6</td>\n",
       "      <td>1000</td>\n",
       "    </tr>\n",
       "    <tr>\n",
       "      <th>11</th>\n",
       "      <td>Smith</td>\n",
       "      <td>2006-9-7</td>\n",
       "      <td>3000</td>\n",
       "    </tr>\n",
       "    <tr>\n",
       "      <th>12</th>\n",
       "      <td>Smith</td>\n",
       "      <td>2006-9-9</td>\n",
       "      <td>6800</td>\n",
       "    </tr>\n",
       "  </tbody>\n",
       "</table>\n",
       "</div>"
      ],
      "text/plain": [
       "   GroupId       Date  Sum(price)\n",
       "0    Brown  2006-9-10        7540\n",
       "1    Brown  2006-9-11        1597\n",
       "2    Brown   2006-9-8        8000\n",
       "3    Brown   2006-9-9        3400\n",
       "4    Jones  2006-9-10        8900\n",
       "5    Jones  2006-9-11       20816\n",
       "6    Jones   2006-9-8        8000\n",
       "7    Jones   2006-9-9        2100\n",
       "8    Smith  2006-9-10        6100\n",
       "9    Smith  2006-9-11        2584\n",
       "10   Smith   2006-9-6        1000\n",
       "11   Smith   2006-9-7        3000\n",
       "12   Smith   2006-9-9        6800"
      ]
     },
     "execution_count": 23,
     "metadata": {},
     "output_type": "execute_result"
    }
   ],
   "source": [
    "from vespa.querybuilder import Grouping as G\n",
    "\n",
    "# First, we construct the grouping expression:\n",
    "grouping = G.all(\n",
    "    G.group(\"customer\"),\n",
    "    G.each(\n",
    "        G.group(G.time_date(\"date\")),\n",
    "        G.each(\n",
    "            G.output(G.sum(\"price\")),\n",
    "        ),\n",
    "    ),\n",
    ")\n",
    "# Then, we construct the query:\n",
    "q = qb.select(\"*\").from_(\"purchase\").where(True).groupby(grouping)\n",
    "print(f\"Query: {q}\")\n",
    "resp = app.query(yql=q)\n",
    "group_data = resp.hits[0][\"children\"][0][\"children\"]\n",
    "records = [\n",
    "    {\n",
    "        \"GroupId\": group[\"value\"],\n",
    "        \"Date\": date_entry[\"value\"],\n",
    "        \"Sum(price)\": date_entry[\"fields\"].get(\"sum(price)\", 0),\n",
    "    }\n",
    "    for group in group_data\n",
    "    for date_group in group.get(\"children\", [])\n",
    "    for date_entry in date_group.get(\"children\", [])\n",
    "]\n",
    "\n",
    "# Create DataFrame\n",
    "df = pd.DataFrame(records)\n",
    "df"
   ]
  },
  {
   "cell_type": "markdown",
   "metadata": {},
   "source": [
    "### Example 5 - Grouping with expressions\n",
    "\n",
    " Instead of just grouping on some attribute value, the group clause may contain arbitrarily complex expressions - see [Grouping reference](https://pyvespa.readthedocs.io/en/latest/reference-api.html#vespa.querybuilder.Grouping) for exhaustive list. \n",
    " \n",
    " Examples:\n",
    "\n",
    "- Select the minimum or maximum of sub-expressions\n",
    "- Addition, subtraction, multiplication, division, and even modulo of - sub-expressions\n",
    "- Bitwise operations on sub-expressions\n",
    "- Concatenation of the results of sub-expressions\n",
    "\n",
    "Let's use some of these expressions to get the sum the prices of purchases on a per-hour-of-day basis."
   ]
  },
  {
   "cell_type": "code",
   "execution_count": 24,
   "metadata": {},
   "outputs": [
    {
     "name": "stdout",
     "output_type": "stream",
     "text": [
      "Query: select * from purchase where true | all(group(mod(div(date, mul(60, 60)),24)) order(-sum(price)) each(output(sum(price))))\n"
     ]
    },
    {
     "data": {
      "text/html": [
       "<div>\n",
       "<style scoped>\n",
       "    .dataframe tbody tr th:only-of-type {\n",
       "        vertical-align: middle;\n",
       "    }\n",
       "\n",
       "    .dataframe tbody tr th {\n",
       "        vertical-align: top;\n",
       "    }\n",
       "\n",
       "    .dataframe thead th {\n",
       "        text-align: right;\n",
       "    }\n",
       "</style>\n",
       "<table border=\"1\" class=\"dataframe\">\n",
       "  <thead>\n",
       "    <tr style=\"text-align: right;\">\n",
       "      <th></th>\n",
       "      <th>value</th>\n",
       "      <th>sum(price)</th>\n",
       "    </tr>\n",
       "  </thead>\n",
       "  <tbody>\n",
       "    <tr>\n",
       "      <th>0</th>\n",
       "      <td>10</td>\n",
       "      <td>26181</td>\n",
       "    </tr>\n",
       "    <tr>\n",
       "      <th>1</th>\n",
       "      <td>9</td>\n",
       "      <td>23524</td>\n",
       "    </tr>\n",
       "    <tr>\n",
       "      <th>2</th>\n",
       "      <td>8</td>\n",
       "      <td>22367</td>\n",
       "    </tr>\n",
       "    <tr>\n",
       "      <th>3</th>\n",
       "      <td>11</td>\n",
       "      <td>6765</td>\n",
       "    </tr>\n",
       "    <tr>\n",
       "      <th>4</th>\n",
       "      <td>7</td>\n",
       "      <td>1000</td>\n",
       "    </tr>\n",
       "  </tbody>\n",
       "</table>\n",
       "</div>"
      ],
      "text/plain": [
       "  value  sum(price)\n",
       "0    10       26181\n",
       "1     9       23524\n",
       "2     8       22367\n",
       "3    11        6765\n",
       "4     7        1000"
      ]
     },
     "execution_count": 24,
     "metadata": {},
     "output_type": "execute_result"
    }
   ],
   "source": [
    "from vespa.querybuilder import Grouping as G\n",
    "\n",
    "grouping = G.all(\n",
    "    G.group(G.mod(G.div(\"date\", G.mul(60, 60)), 24)),\n",
    "    G.order(-G.sum(\"price\")),\n",
    "    G.each(G.output(G.sum(\"price\"))),\n",
    ")\n",
    "q = qb.select(\"*\").from_(\"purchase\").where(True).groupby(grouping)\n",
    "print(f\"Query: {q}\")\n",
    "resp = app.query(yql=q)\n",
    "group_data = resp.hits[0][\"children\"][0][\"children\"]\n",
    "df = pd.DataFrame([hit[\"fields\"] | hit for hit in group_data])\n",
    "df = df.loc[:, [\"value\", \"sum(price)\"]]\n",
    "df"
   ]
  }
 ],
 "metadata": {
  "kernelspec": {
   "display_name": ".venv",
   "language": "python",
   "name": "python3"
  },
  "language_info": {
   "codemirror_mode": {
    "name": "ipython",
    "version": 3
   },
   "file_extension": ".py",
   "mimetype": "text/x-python",
   "name": "python",
   "nbconvert_exporter": "python",
   "pygments_lexer": "ipython3",
   "version": "3.10.14"
  }
 },
 "nbformat": 4,
 "nbformat_minor": 4
}
