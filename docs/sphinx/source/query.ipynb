{
    "cells": [
        {
            "cell_type": "markdown",
            "metadata": {},
            "source": [
                "<picture>\n",
                "  <source media=\"(prefers-color-scheme: dark)\" srcset=\"https://assets.vespa.ai/logos/Vespa-logo-green-RGB.svg\">\n",
                "  <source media=\"(prefers-color-scheme: light)\" srcset=\"https://assets.vespa.ai/logos/Vespa-logo-dark-RGB.svg\">\n",
                "  <img alt=\"#Vespa\" width=\"200\" src=\"https://assets.vespa.ai/logos/Vespa-logo-dark-RGB.svg\" style=\"margin-bottom: 25px;\">\n",
                "</picture>\n",
                "\n",
                "# Querying Vespa\n",
                "\n",
                "This guide goes through how to query a Vespa instance using the Query API\n",
                "and https://cord19.vespa.ai/ app as an example.\n"
            ]
        },
        {
            "cell_type": "markdown",
            "metadata": {},
            "source": [
                "<div class=\"alert alert-info\">\n",
                "    Refer to <a href=\"https://pyvespa.readthedocs.io/en/latest/troubleshooting.html\">troubleshooting</a>\n",
                "    for any problem when running this guide.\n",
                "</div>\n"
            ]
        },
        {
            "cell_type": "markdown",
            "metadata": {},
            "source": [
                "You can run this tutorial in Google Colab:\n",
                "\n",
                "[![Open In Colab](https://colab.research.google.com/assets/colab-badge.svg)](https://colab.research.google.com/github/vespa-engine/pyvespa/blob/master/docs/sphinx/source/query.ipynb)\n"
            ]
        },
        {
            "cell_type": "code",
            "execution_count": null,
            "metadata": {},
            "outputs": [],
            "source": [
                "!pip3 install pyvespa"
            ]
        },
        {
            "cell_type": "markdown",
            "metadata": {},
            "source": [
                "Connect to a running Vespa instance.\n"
            ]
        },
        {
            "cell_type": "code",
            "execution_count": 1,
            "metadata": {},
            "outputs": [],
            "source": [
                "from vespa.application import Vespa\n",
                "from vespa.io import VespaQueryResponse\n",
                "from vespa.exceptions import VespaError\n",
                "\n",
                "app = Vespa(url=\"https://api.cord19.vespa.ai\")"
            ]
        },
        {
            "cell_type": "markdown",
            "metadata": {},
            "source": [
                "See the [Vespa query language](https://docs.vespa.ai/en/reference/query-api-reference.html)\n",
                "for Vespa query api request parameters.\n",
                "\n",
                "The YQL [userQuery()](https://docs.vespa.ai/en/reference/query-language-reference.html#userquery)\n",
                "operator uses the query read from `query`. The query also specificies to use the app specific [bm25 rank profile](https://docs.vespa.ai/en/reference/bm25.html). The code\n",
                "uses [context manager](https://realpython.com/python-with-statement/) `with session` statement to make sure that connection pools are released. If\n",
                "you attempt to make multiple queries, this is important as each query will not have to setup new connections.\n"
            ]
        },
        {
            "cell_type": "code",
            "execution_count": 2,
            "metadata": {},
            "outputs": [
                {
                    "name": "stdout",
                    "output_type": "stream",
                    "text": [
                        "True\n",
                        "https://api.cord19.vespa.ai/search/?yql=select+documentid%2C+cord_uid%2C+title%2C+abstract+from+sources+%2A+where+userQuery%28%29&hits=1&query=Is+remdesivir+an+effective+treatment+for+COVID-19%3F&ranking=bm25\n"
                    ]
                }
            ],
            "source": [
                "with app.syncio() as session:\n",
                "    response: VespaQueryResponse = session.query(\n",
                "        yql=\"select documentid, cord_uid, title, abstract from sources * where userQuery()\",\n",
                "        hits=1,\n",
                "        query=\"Is remdesivir an effective treatment for COVID-19?\",\n",
                "        ranking=\"bm25\",\n",
                "    )\n",
                "    print(response.is_successful())\n",
                "    print(response.url)"
            ]
        },
        {
            "cell_type": "markdown",
            "metadata": {},
            "source": [
                "Alternatively, if the native [Vespa query parameter](https://docs.vespa.ai/en/reference/query-api-reference.html)\n",
                "contains \".\", which cannot be used as a `kwarg`, the parameters can be sent as HTTP POST with\n",
                "the `body` argument. In this case `ranking` is an alias of `ranking.profile`, but using `ranking.profile` as a `**kwargs` argument is not allowed in python. This\n",
                "will combine HTTP parameters with a HTTP POST body.\n"
            ]
        },
        {
            "cell_type": "code",
            "execution_count": null,
            "metadata": {},
            "outputs": [],
            "source": [
                "with app.syncio() as session:\n",
                "    response: VespaQueryResponse = session.query(\n",
                "        hits=1,\n",
                "        body={\n",
                "            \"yql\": \"select documentid, cord_uid, title, abstract from sources * where userQuery()\",\n",
                "            \"query\": \"Is remdesivir an effective treatment for COVID-19?\",\n",
                "            \"ranking.profile\": \"bm25\",\n",
                "            \"presentation.timing\": True,\n",
                "        },\n",
                "    )\n",
                "    print(response.is_successful())"
            ]
        },
        {
            "cell_type": "markdown",
            "metadata": {},
            "source": [
                "The query specified that we wanted one hit:\n"
            ]
        },
        {
            "cell_type": "code",
            "execution_count": null,
            "metadata": {},
            "outputs": [],
            "source": [
                "response.hits"
            ]
        },
        {
            "cell_type": "markdown",
            "metadata": {},
            "source": [
                "Example of iterating over the returned hits obtained from `respone.hits`, extracting the `cord_uid` field:\n"
            ]
        },
        {
            "cell_type": "code",
            "execution_count": null,
            "metadata": {},
            "outputs": [],
            "source": [
                "[hit[\"fields\"][\"cord_uid\"] for hit in response.hits]"
            ]
        },
        {
            "cell_type": "markdown",
            "metadata": {},
            "source": [
                "Access the full JSON response in the Vespa\n",
                "[default JSON result format](https://docs.vespa.ai/en/reference/default-result-format.html):\n"
            ]
        },
        {
            "cell_type": "code",
            "execution_count": null,
            "metadata": {},
            "outputs": [],
            "source": [
                "response.json"
            ]
        },
        {
            "cell_type": "markdown",
            "metadata": {},
            "source": [
                "## Query Performance\n",
                "\n",
                "There are several things that impact end-to-end query performance\n",
                "\n",
                "- HTTP layer performance, connecting handling, mututal TLS handshake and network round-trip latency\n",
                "  - Make sure to re-use connections using context manager `with vespa.app.syncio():` to avoid setting up new connections\n",
                "    for every unique query. See [http best practises](https://cloud.vespa.ai/en/http-best-practices)\n",
                "  - The size of the fields and the number of hits requested also greatly impacts network performance, a larger payload means higher latency.\n",
                "  - By adding `\"presentation.timing\": True` as a request parameter, the Vespa response includes the server side processing (also including reading the query\n",
                "    from network, but not delivering the result over the network). This can be handy to debug latency.\n",
                "- Vespa performance, the features used inside the Vespa instance.\n"
            ]
        },
        {
            "cell_type": "code",
            "execution_count": 3,
            "metadata": {},
            "outputs": [
                {
                    "name": "stdout",
                    "output_type": "stream",
                    "text": [
                        "True\n"
                    ]
                }
            ],
            "source": [
                "with app.syncio(connections=12) as session:\n",
                "    response: VespaQueryResponse = session.query(\n",
                "        hits=1,\n",
                "        body={\n",
                "            \"yql\": \"select documentid, cord_uid, title, abstract from sources * where userQuery()\",\n",
                "            \"query\": \"Is remdesivir an effective treatment for COVID-19?\",\n",
                "            \"ranking.profile\": \"bm25\",\n",
                "            \"presentation.timing\": True,\n",
                "        },\n",
                "    )\n",
                "    print(response.is_successful())"
            ]
        },
        {
            "cell_type": "markdown",
            "metadata": {},
            "source": [
                "## Running Queries asynchonously\n",
                "\n",
                "If you want benchmark the capacity of a Vespa application, we suggest using [vespa-fbench](https://docs.vespa.ai/en/performance/vespa-benchmarking.html#vespa-fbench) that is a load generator tool which lets you measure throughput and latency with a predefined number of clients. Vespa-fbench is not Vespa-specific, and can be used to benchmark any HTTP service.\n",
                "\n",
                "Another option is to use the Open Source [k6](https://k6.io/) load testing tool.\n",
                "\n",
                "If you want to run multiple queries from pyvespa, we suggest using the async client.\n",
                "Below, we will demonstrate a simple example of running 100 queries in parallel using the async client, and capture both the server-reported times and the client-reported times (including network latency).\n"
            ]
        },
        {
            "cell_type": "code",
            "execution_count": 13,
            "metadata": {},
            "outputs": [],
            "source": [
                "# This cell is necessary when running async code in Jupyter Notebooks, as it already runs an event loop\n",
                "import nest_asyncio\n",
                "\n",
                "nest_asyncio.apply()"
            ]
        },
        {
            "cell_type": "code",
            "execution_count": 48,
            "metadata": {},
            "outputs": [
                {
                    "name": "stdout",
                    "output_type": "stream",
                    "text": [
                        "Total time: 1.73 seconds\n",
                        "QPS: 57.77\n"
                    ]
                }
            ],
            "source": [
                "import asyncio\n",
                "import time\n",
                "\n",
                "\n",
                "# Define a single query function that takes a session\n",
                "async def run_query_async(session, body):\n",
                "    start_time = time.time()\n",
                "    response = await session.query(body=body)\n",
                "    end_time = time.time()\n",
                "    return response, end_time - start_time\n",
                "\n",
                "\n",
                "query = {\n",
                "    \"yql\": \"select documentid, cord_uid, title, abstract from sources * where userQuery()\",\n",
                "    \"query\": \"Is remdesivir an effective treatment for COVID-19?\",\n",
                "    \"ranking.profile\": \"bm25\",\n",
                "    \"presentation.timing\": True,\n",
                "}\n",
                "\n",
                "# List of queries with hits from 1 to 100\n",
                "queries = [{**query, \"hits\": hits} for hits in range(1, 101)]\n",
                "\n",
                "\n",
                "# Define a function to run multiple queries concurrently using the same session\n",
                "async def run_multiple_queries(queries):\n",
                "    # Async client uses HTTP/2, so we only need one connection\n",
                "    async with app.asyncio(connections=1) as session:  # Reuse the same session\n",
                "        tasks = []\n",
                "        for q in queries:\n",
                "            tasks.append(run_query_async(session, q))\n",
                "        responses = await asyncio.gather(*tasks)\n",
                "    return responses\n",
                "\n",
                "\n",
                "# Run the queries concurrently\n",
                "start_time = time.time()\n",
                "responses = asyncio.run(run_multiple_queries(queries))\n",
                "end_time = time.time()\n",
                "print(f\"Total time: {end_time - start_time:.2f} seconds\")\n",
                "# Print QPS\n",
                "print(f\"QPS: {len(queries) / (end_time - start_time):.2f}\")"
            ]
        },
        {
            "cell_type": "code",
            "execution_count": 46,
            "metadata": {},
            "outputs": [],
            "source": [
                "dict_responses = [response.json | {\"time\": timing} for response, timing in responses]"
            ]
        },
        {
            "cell_type": "code",
            "execution_count": 49,
            "metadata": {},
            "outputs": [
                {
                    "data": {
                        "text/plain": [
                            "{'timing': {'querytime': 0.003, 'summaryfetchtime': 0.0, 'searchtime': 0.004},\n",
                            " 'root': {'id': 'toplevel',\n",
                            "  'relevance': 1.0,\n",
                            "  'fields': {'totalCount': 2444},\n",
                            "  'coverage': {'coverage': 100,\n",
                            "   'documents': 976355,\n",
                            "   'full': True,\n",
                            "   'nodes': 2,\n",
                            "   'results': 1,\n",
                            "   'resultsFull': 1},\n",
                            "  'children': [{'id': 'id:covid-19:doc::779001',\n",
                            "    'relevance': 27.517448178754492,\n",
                            "    'source': 'content',\n",
                            "    'fields': {'title': 'Cost utility analysis of <hi>Remdesivir</hi> and Dexamethasone <hi>treatment</hi> for hospitalised <hi>COVID</hi>-<hi>19</hi> patients - a hypothetical study',\n",
                            "     'abstract': '<sep />: Sars-Cov-2 is a novel corona virus associated with significant morbidity and mortality. <hi>Remdesivir</hi> and Dexamethasone are two <hi>treatments</hi> that have shown to be <hi>effective</hi> against the Sars-Cov-2 associated disease. However, a cost-effectiveness analysis of the two <hi>treatments</hi> is still lacking. OBJECTIVE: The cost-utility of <hi>Remdesivir</hi>, Dexamethasone and a simultaneous use of the two drugs with respect to standard of care for <hi>treatment</hi> <hi>Covid</hi>-<hi>19</hi> hospitalized patients is evaluated, together with the effect<sep />',\n",
                            "     'documentid': 'id:covid-19:doc::779001',\n",
                            "     'cord_uid': 'ysml5abq'}}]},\n",
                            " 'time': 1.4157278537750244}"
                        ]
                    },
                    "execution_count": 49,
                    "metadata": {},
                    "output_type": "execute_result"
                }
            ],
            "source": [
                "dict_responses[0]"
            ]
        },
        {
            "cell_type": "code",
            "execution_count": 47,
            "metadata": {},
            "outputs": [
                {
                    "data": {
                        "text/html": [
                            "<div>\n",
                            "<style scoped>\n",
                            "    .dataframe tbody tr th:only-of-type {\n",
                            "        vertical-align: middle;\n",
                            "    }\n",
                            "\n",
                            "    .dataframe tbody tr th {\n",
                            "        vertical-align: top;\n",
                            "    }\n",
                            "\n",
                            "    .dataframe thead th {\n",
                            "        text-align: right;\n",
                            "    }\n",
                            "</style>\n",
                            "<table border=\"1\" class=\"dataframe\">\n",
                            "  <thead>\n",
                            "    <tr style=\"text-align: right;\">\n",
                            "      <th></th>\n",
                            "      <th>hits</th>\n",
                            "      <th>search_time</th>\n",
                            "      <th>query_time</th>\n",
                            "      <th>summary_time</th>\n",
                            "      <th>total_time</th>\n",
                            "    </tr>\n",
                            "  </thead>\n",
                            "  <tbody>\n",
                            "    <tr>\n",
                            "      <th>0</th>\n",
                            "      <td>1</td>\n",
                            "      <td>0.004</td>\n",
                            "      <td>0.003</td>\n",
                            "      <td>0.000</td>\n",
                            "      <td>1.415728</td>\n",
                            "    </tr>\n",
                            "    <tr>\n",
                            "      <th>1</th>\n",
                            "      <td>2</td>\n",
                            "      <td>0.005</td>\n",
                            "      <td>0.004</td>\n",
                            "      <td>0.000</td>\n",
                            "      <td>1.067308</td>\n",
                            "    </tr>\n",
                            "    <tr>\n",
                            "      <th>2</th>\n",
                            "      <td>3</td>\n",
                            "      <td>0.009</td>\n",
                            "      <td>0.007</td>\n",
                            "      <td>0.001</td>\n",
                            "      <td>1.415624</td>\n",
                            "    </tr>\n",
                            "    <tr>\n",
                            "      <th>3</th>\n",
                            "      <td>4</td>\n",
                            "      <td>0.011</td>\n",
                            "      <td>0.010</td>\n",
                            "      <td>0.000</td>\n",
                            "      <td>1.069153</td>\n",
                            "    </tr>\n",
                            "    <tr>\n",
                            "      <th>4</th>\n",
                            "      <td>5</td>\n",
                            "      <td>0.010</td>\n",
                            "      <td>0.008</td>\n",
                            "      <td>0.001</td>\n",
                            "      <td>1.505080</td>\n",
                            "    </tr>\n",
                            "    <tr>\n",
                            "      <th>...</th>\n",
                            "      <td>...</td>\n",
                            "      <td>...</td>\n",
                            "      <td>...</td>\n",
                            "      <td>...</td>\n",
                            "      <td>...</td>\n",
                            "    </tr>\n",
                            "    <tr>\n",
                            "      <th>95</th>\n",
                            "      <td>96</td>\n",
                            "      <td>0.033</td>\n",
                            "      <td>0.012</td>\n",
                            "      <td>0.020</td>\n",
                            "      <td>1.659568</td>\n",
                            "    </tr>\n",
                            "    <tr>\n",
                            "      <th>96</th>\n",
                            "      <td>97</td>\n",
                            "      <td>0.043</td>\n",
                            "      <td>0.020</td>\n",
                            "      <td>0.021</td>\n",
                            "      <td>1.599375</td>\n",
                            "    </tr>\n",
                            "    <tr>\n",
                            "      <th>97</th>\n",
                            "      <td>98</td>\n",
                            "      <td>0.017</td>\n",
                            "      <td>0.005</td>\n",
                            "      <td>0.011</td>\n",
                            "      <td>1.621481</td>\n",
                            "    </tr>\n",
                            "    <tr>\n",
                            "      <th>98</th>\n",
                            "      <td>99</td>\n",
                            "      <td>0.023</td>\n",
                            "      <td>0.011</td>\n",
                            "      <td>0.011</td>\n",
                            "      <td>1.615766</td>\n",
                            "    </tr>\n",
                            "    <tr>\n",
                            "      <th>99</th>\n",
                            "      <td>100</td>\n",
                            "      <td>0.050</td>\n",
                            "      <td>0.025</td>\n",
                            "      <td>0.025</td>\n",
                            "      <td>1.602700</td>\n",
                            "    </tr>\n",
                            "  </tbody>\n",
                            "</table>\n",
                            "<p>100 rows × 5 columns</p>\n",
                            "</div>"
                        ],
                        "text/plain": [
                            "    hits  search_time  query_time  summary_time  total_time\n",
                            "0      1        0.004       0.003         0.000    1.415728\n",
                            "1      2        0.005       0.004         0.000    1.067308\n",
                            "2      3        0.009       0.007         0.001    1.415624\n",
                            "3      4        0.011       0.010         0.000    1.069153\n",
                            "4      5        0.010       0.008         0.001    1.505080\n",
                            "..   ...          ...         ...           ...         ...\n",
                            "95    96        0.033       0.012         0.020    1.659568\n",
                            "96    97        0.043       0.020         0.021    1.599375\n",
                            "97    98        0.017       0.005         0.011    1.621481\n",
                            "98    99        0.023       0.011         0.011    1.615766\n",
                            "99   100        0.050       0.025         0.025    1.602700\n",
                            "\n",
                            "[100 rows x 5 columns]"
                        ]
                    },
                    "execution_count": 47,
                    "metadata": {},
                    "output_type": "execute_result"
                }
            ],
            "source": [
                "# Create a pandas DataFrame with the responses\n",
                "import pandas as pd\n",
                "\n",
                "df = pd.DataFrame(\n",
                "    [\n",
                "        {\n",
                "            \"hits\": len(response[\"root\"][\"children\"]),\n",
                "            \"search_time\": response[\"timing\"][\"searchtime\"],\n",
                "            \"query_time\": response[\"timing\"][\"querytime\"],\n",
                "            \"summary_time\": response[\"timing\"][\"summaryfetchtime\"],\n",
                "            \"total_time\": response[\"time\"],\n",
                "        }\n",
                "        for response in dict_responses\n",
                "    ]\n",
                ")\n",
                "df"
            ]
        },
        {
            "cell_type": "markdown",
            "metadata": {},
            "source": [
                "## Error handling\n",
                "\n",
                "Vespa's default query timeout is 500ms, PyVespa will by default retry up to 3 times for queries\n",
                "that return response codes like 429, 500,503 and 504. A `VespaError` is raised if retries did not end up with success. In the following\n",
                "example we set a very low [timeout](https://docs.vespa.ai/en/reference/query-api-reference.html#timeout) of `1ms` which will cause\n",
                "Vespa to time out the request and it returns a 504 http error code. The underlaying error is wrapped in a `VespaError` with\n",
                "the payload error message returned from Vespa:\n"
            ]
        },
        {
            "cell_type": "code",
            "execution_count": null,
            "metadata": {},
            "outputs": [],
            "source": [
                "with app.syncio(connections=12) as session:\n",
                "    try:\n",
                "        response: VespaQueryResponse = session.query(\n",
                "            hits=1,\n",
                "            body={\n",
                "                \"yql\": \"select * from sources * where userQuery()\",\n",
                "                \"query\": \"Is remdesivir an effective treatment for COVID-19?\",\n",
                "                \"timeout\": \"1ms\",\n",
                "            },\n",
                "        )\n",
                "        print(response.is_successful())\n",
                "    except VespaError as e:\n",
                "        print(str(e))"
            ]
        },
        {
            "cell_type": "markdown",
            "metadata": {},
            "source": [
                "In the following example we forgot to include the `query` parameter, but still reference it in the yql, this cause a bad client request response (400):\n"
            ]
        },
        {
            "cell_type": "code",
            "execution_count": null,
            "metadata": {},
            "outputs": [],
            "source": [
                "with app.syncio(connections=12) as session:\n",
                "    try:\n",
                "        response: VespaQueryResponse = session.query(\n",
                "            hits=1, body={\"yql\": \"select * from sources * where userQuery()\"}\n",
                "        )\n",
                "        print(response.is_successful())\n",
                "    except VespaError as e:\n",
                "        print(str(e))"
            ]
        }
    ],
    "metadata": {
        "kernelspec": {
            "display_name": "Python 3.11.4 64-bit",
            "language": "python",
            "name": "python3"
        },
        "language_info": {
            "codemirror_mode": {
                "name": "ipython",
                "version": 3
            },
            "file_extension": ".py",
            "mimetype": "text/x-python",
            "name": "python",
            "nbconvert_exporter": "python",
            "pygments_lexer": "ipython3",
            "version": "3.9.19"
        },
        "vscode": {
            "interpreter": {
                "hash": "b0fa6594d8f4cbf19f97940f81e996739fb7646882a419484c72d19e05852a7e"
            }
        }
    },
    "nbformat": 4,
    "nbformat_minor": 4
}