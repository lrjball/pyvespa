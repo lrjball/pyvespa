{
 "cells": [
  {
   "cell_type": "markdown",
   "id": "given-adoption",
   "metadata": {},
   "source": [
    "<picture>\n",
    "  <source media=\"(prefers-color-scheme: dark)\" srcset=\"https://vespa.ai/assets/vespa-ai-logo-heather.svg\">\n",
    "  <source media=\"(prefers-color-scheme: light)\" srcset=\"https://vespa.ai/assets/vespa-ai-logo-rock.svg\">\n",
    "  <img alt=\"#Vespa\" width=\"200\" src=\"https://vespa.ai/assets/vespa-ai-logo-rock.svg\" style=\"margin-bottom: 25px;\">\n",
    "</picture>\n",
    "\n",
    "# Feeding to Vespa Cloud\n",
    "\n",
    "Our [previous notebook](https://pyvespa.readthedocs.io/en/latest/examples/feed_performance.html), we demonstrated one way of benchmarking feed performance to a local Vespa instance running in Docker.\n",
    "In this notebook, we will llok at the same methods, but how feeding to [Vespa Cloud](https://cloud.vespa.ai) affects performance of the different methods.\n",
    "\n",
    "The key difference between feeding to a local Vespa instance and a Vespa Cloud instance is the network latency.\n",
    "Additionally, we will introduce embedding in Vespa at feed time, which is a realistic scenario for many use-cases.\n",
    "\n",
    "We will look at these 3 different methods:\n",
    "\n",
    "1. Using `feed_iterable()` - which uses threading to parallelize the feed operation. Best for CPU-bound operations.\n",
    "2. Using `feed_async_iterable()` - which uses asyncio to parallelize the feed operation. Also uses `httpx` with HTTP/2-support. Performs best for IO-bound operations.\n",
    "3. Using [Vespa CLI](https://docs.vespa.ai/en/vespa-cli).\n"
   ]
  },
  {
   "cell_type": "markdown",
   "id": "8c967bd2",
   "metadata": {},
   "source": [
    "<div class=\"alert alert-info\">\n",
    "    Refer to <a href=\"https://pyvespa.readthedocs.io/en/latest/troubleshooting.html\">troubleshooting</a>\n",
    "    for any problem when running this guide.\n",
    "</div>\n"
   ]
  },
  {
   "cell_type": "markdown",
   "id": "8345b2fe",
   "metadata": {},
   "source": [
    "Install [Vespa CLI](https://docs.vespa.ai/en/vespa-cli.html).\n",
    "The `vespacli` python package is just a thin wrapper, allowing for installation through pypi.\n",
    "\n",
    "> Do NOT install if you already have the Vespa CLI installed.\n"
   ]
  },
  {
   "cell_type": "markdown",
   "id": "5acb52d8",
   "metadata": {},
   "source": [
    "[Install pyvespa](https://pyvespa.readthedocs.io/), and other dependencies.\n"
   ]
  },
  {
   "cell_type": "code",
   "execution_count": 1,
   "id": "03f3d0f2",
   "metadata": {},
   "outputs": [
    {
     "name": "stdout",
     "output_type": "stream",
     "text": [
      "zsh:1: 5.20 not found\n"
     ]
    }
   ],
   "source": [
    "!pip3 install vespacli pyvespa datasets plotly>=5.20"
   ]
  },
  {
   "cell_type": "markdown",
   "id": "db637322",
   "metadata": {},
   "source": [
    "## Create an application package\n",
    "\n",
    "The [application package](https://pyvespa.readthedocs.io/en/latest/reference-api.html#vespa.package.ApplicationPackage)\n",
    "has all the Vespa configuration files.\n",
    "\n",
    "For this demo, we will use a simple application package\n"
   ]
  },
  {
   "cell_type": "code",
   "execution_count": 1,
   "id": "bd5c2629",
   "metadata": {},
   "outputs": [],
   "source": [
    "from vespa.package import (\n",
    "    ApplicationPackage,\n",
    "    Field,\n",
    "    Schema,\n",
    "    Document,\n",
    "    FieldSet,\n",
    "    HNSW,\n",
    ")\n",
    "from vespa.package import AuthClient, Parameter\n",
    "\n",
    "\n",
    "# Define the application name (can NOT contain `_` or `-`)\n",
    "\n",
    "application = \"queryprofiling\"\n",
    "\n",
    "\n",
    "schema = Schema(\n",
    "    name=\"doc\",\n",
    "    document=Document(\n",
    "        fields=[\n",
    "            Field(name=\"id\", type=\"string\", indexing=[\"summary\"]),\n",
    "            Field(name=\"text\", type=\"string\", indexing=[\"index\", \"summary\"]),\n",
    "            Field(name=\"long_text\", type=\"string\", indexing=[\"summary\"]),\n",
    "            Field(\n",
    "                name=\"embedding\",\n",
    "                type=\"tensor<float>(x[1024])\",\n",
    "                # Note that we are NOT embedding with a vespa model here, but that is also possible.\n",
    "                indexing=[\"summary\", \"attribute\", \"index\"],\n",
    "                ann=HNSW(distance_metric=\"angular\"),\n",
    "            ),\n",
    "        ]\n",
    "    ),\n",
    "    fieldsets=[FieldSet(name=\"default\", fields=[\"text\"])],\n",
    ")\n",
    "\n",
    "\n",
    "CLIENT_TOKEN_ID = \"pyvespa_integration\"  # os.environ.get(\"VESPA_CLIENT_TOKEN_ID\")\n",
    "# Same as token name from the Vespa Cloud Console\n",
    "auth_clients = [\n",
    "    AuthClient(\n",
    "        id=\"mtls\",  # Note that you still need to include the mtls client.\n",
    "        permissions=[\"read\", \"write\"],\n",
    "        parameters=[Parameter(\"certificate\", {\"file\": \"security/clients.pem\"})],\n",
    "    ),\n",
    "    AuthClient(\n",
    "        id=\"token\",\n",
    "        permissions=[\"read\"],\n",
    "        parameters=[Parameter(\"token\", {\"id\": CLIENT_TOKEN_ID})],\n",
    "    ),\n",
    "]\n",
    "\n",
    "app_package = ApplicationPackage(\n",
    "    name=application, schema=[schema], auth_clients=auth_clients\n",
    ")"
   ]
  },
  {
   "cell_type": "markdown",
   "id": "2c5e2943",
   "metadata": {},
   "source": [
    "Note that the `ApplicationPackage` name cannot have `-` or `_`.\n"
   ]
  },
  {
   "cell_type": "markdown",
   "id": "careful-savage",
   "metadata": {},
   "source": [
    "## Deploy the Vespa application\n",
    "\n",
    "Deploy `package` on the local machine using Docker,\n",
    "without leaving the notebook, by creating an instance of\n",
    "[VespaDocker](https://pyvespa.readthedocs.io/en/latest/reference-api.html#vespa.deployment.VespaDocker). `VespaDocker` connects\n",
    "to the local Docker daemon socket and starts the [Vespa docker image](https://hub.docker.com/r/vespaengine/vespa/).\n",
    "\n",
    "If this step fails, please check\n",
    "that the Docker daemon is running, and that the Docker daemon socket can be used by clients (Configurable under advanced settings in Docker Desktop).\n"
   ]
  },
  {
   "cell_type": "markdown",
   "id": "6f74324a",
   "metadata": {},
   "source": [
    "Follow the instrauctions from the output above and add the control-plane key in the console at `https://console.vespa-cloud.com/tenant/TENANT_NAME/account/keys`\n",
    "(replace TENANT_NAME with your tenant name).\n"
   ]
  },
  {
   "cell_type": "code",
   "execution_count": 2,
   "id": "3f5a278a",
   "metadata": {},
   "outputs": [],
   "source": [
    "tenant_name = \"vespa-team\""
   ]
  },
  {
   "cell_type": "code",
   "execution_count": 3,
   "id": "canadian-blood",
   "metadata": {},
   "outputs": [
    {
     "name": "stdout",
     "output_type": "stream",
     "text": [
      "Setting application...\n",
      "Running: vespa config set application vespa-team.queryprofiling\n",
      "Setting target cloud...\n",
      "Running: vespa config set target cloud\n",
      "\n",
      "Api-key found for control plane access. Using api-key.\n"
     ]
    }
   ],
   "source": [
    "from vespa.deployment import VespaCloud\n",
    "from vespa.application import Vespa\n",
    "import os\n",
    "\n",
    "\n",
    "def read_secret():\n",
    "    \"\"\"Read the API key from the environment variable. This is\n",
    "    only used for CI/CD purposes.\"\"\"\n",
    "    t = os.getenv(\"VESPA_TEAM_API_KEY\")\n",
    "    if t:\n",
    "        return t.replace(r\"\\n\", \"\\n\")\n",
    "    else:\n",
    "        return t\n",
    "\n",
    "\n",
    "vespa_cloud = VespaCloud(\n",
    "    tenant=tenant_name,\n",
    "    application=application,\n",
    "    key_content=read_secret()\n",
    "    if read_secret()\n",
    "    else None,  # Can removed this for interactive control-plane login\n",
    "    application_package=app_package,\n",
    ")"
   ]
  },
  {
   "cell_type": "markdown",
   "id": "aaae2f91",
   "metadata": {},
   "source": [
    "`app` now holds a reference to a [VespaCloud](https://pyvespa.readthedocs.io/en/latest/reference-api.html#vespa.deployment.VespaCloud) instance.\n"
   ]
  },
  {
   "cell_type": "code",
   "execution_count": 111,
   "id": "471c2da7",
   "metadata": {},
   "outputs": [
    {
     "name": "stdout",
     "output_type": "stream",
     "text": [
      "Deployment started in run 4 of dev-aws-us-east-1c for vespa-team.queryprofiling. This may take a few minutes the first time.\n",
      "INFO    [06:06:51]  Deploying platform version 8.400.15 and application dev build 3 for dev-aws-us-east-1c of default ...\n",
      "INFO    [06:06:51]  Using CA signed certificate version 1\n",
      "INFO    [06:06:51]  Using 1 nodes in container cluster 'queryprofiling_container'\n",
      "INFO    [06:07:01]  Session 305572 for tenant 'vespa-team' prepared and activated.\n",
      "INFO    [06:07:01]  ######## Details for all nodes ########\n",
      "INFO    [06:07:01]  h96882a.dev.aws-us-east-1c.vespa-external.aws.oath.cloud: expected to be UP\n",
      "INFO    [06:07:01]  --- platform vespa/cloud-tenant-rhel8:8.400.15\n",
      "INFO    [06:07:01]  --- container on port 4080 has config generation 305571, wanted is 305572\n",
      "INFO    [06:07:01]  --- metricsproxy-container on port 19092 has config generation 305572, wanted is 305572\n",
      "INFO    [06:07:01]  h96539b.dev.aws-us-east-1c.vespa-external.aws.oath.cloud: expected to be UP\n",
      "INFO    [06:07:01]  --- platform vespa/cloud-tenant-rhel8:8.400.15\n",
      "INFO    [06:07:01]  --- logserver-container on port 4080 has config generation 305572, wanted is 305572\n",
      "INFO    [06:07:01]  --- metricsproxy-container on port 19092 has config generation 305572, wanted is 305572\n",
      "INFO    [06:07:01]  h96883a.dev.aws-us-east-1c.vespa-external.aws.oath.cloud: expected to be UP\n",
      "INFO    [06:07:01]  --- platform vespa/cloud-tenant-rhel8:8.400.15\n",
      "INFO    [06:07:01]  --- storagenode on port 19102 has config generation 305571, wanted is 305572\n",
      "INFO    [06:07:01]  --- searchnode on port 19107 has config generation 305572, wanted is 305572\n",
      "INFO    [06:07:01]  --- distributor on port 19111 has config generation 305571, wanted is 305572\n",
      "INFO    [06:07:01]  --- metricsproxy-container on port 19092 has config generation 305572, wanted is 305572\n",
      "INFO    [06:07:01]  h96962c.dev.aws-us-east-1c.vespa-external.aws.oath.cloud: expected to be UP\n",
      "INFO    [06:07:01]  --- platform vespa/cloud-tenant-rhel8:8.400.15\n",
      "INFO    [06:07:01]  --- container-clustercontroller on port 19050 has config generation 305572, wanted is 305572\n",
      "INFO    [06:07:01]  --- metricsproxy-container on port 19092 has config generation 305572, wanted is 305572\n",
      "INFO    [06:07:12]  Found endpoints:\n",
      "INFO    [06:07:12]  - dev.aws-us-east-1c\n",
      "INFO    [06:07:12]   |-- https://ed847e76.c07901b1.z.vespa-app.cloud/ (cluster 'queryprofiling_container')\n",
      "INFO    [06:07:42]  Failed to connect to endpoint: GET https://ed847e76.c07901b1.z.vespa-app.cloud/status.html failed (ConnectTimeoutException): Connect to https://ed847e76.c07901b1.z.vespa-app.cloud:443 [ed847e76.c07901b1.z.vespa-app.cloud/3.212.124.124, ed847e76.c07901b1.z.vespa-app.cloud/2600:1f18:2267:3e05:5175:e21d:def2:2075] failed: Connect timed out\n",
      "INFO    [06:07:42]  Found endpoints:\n",
      "INFO    [06:07:42]  - dev.aws-us-east-1c\n",
      "INFO    [06:07:42]   |-- https://ed847e76.c07901b1.z.vespa-app.cloud/ (cluster 'queryprofiling_container')\n",
      "INFO    [06:08:02]  Unhealthy targets: Health checks failed: 1\n",
      "INFO    [06:08:03]  Found endpoints:\n",
      "INFO    [06:08:03]  - dev.aws-us-east-1c\n",
      "INFO    [06:08:03]   |-- https://ed847e76.c07901b1.z.vespa-app.cloud/ (cluster 'queryprofiling_container')\n",
      "INFO    [06:08:03]  Unhealthy targets: Health checks failed: 1\n",
      "INFO    [06:08:12]  Found endpoints:\n",
      "INFO    [06:08:12]  - dev.aws-us-east-1c\n",
      "INFO    [06:08:12]   |-- https://ed847e76.c07901b1.z.vespa-app.cloud/ (cluster 'queryprofiling_container')\n",
      "INFO    [06:08:12]  Unhealthy targets: Health checks failed: 1\n",
      "INFO    [06:08:22]  Found endpoints:\n",
      "INFO    [06:08:22]  - dev.aws-us-east-1c\n",
      "INFO    [06:08:22]   |-- https://ed847e76.c07901b1.z.vespa-app.cloud/ (cluster 'queryprofiling_container')\n",
      "INFO    [06:08:23]  Unhealthy targets: Health checks failed: 1\n",
      "INFO    [06:08:32]  Found endpoints:\n",
      "INFO    [06:08:32]  - dev.aws-us-east-1c\n",
      "INFO    [06:08:32]   |-- https://ed847e76.c07901b1.z.vespa-app.cloud/ (cluster 'queryprofiling_container')\n",
      "INFO    [06:08:32]  Deployment of new application complete!\n",
      "Found mtls endpoint for queryprofiling_container\n",
      "URL: https://ed847e76.c07901b1.z.vespa-app.cloud/\n",
      "Connecting to https://ed847e76.c07901b1.z.vespa-app.cloud/\n",
      "Using Mutual TLS with key and cert to connect to Vespa endpoint https://ed847e76.c07901b1.z.vespa-app.cloud/\n",
      "Application is up!\n",
      "Finished deployment.\n"
     ]
    },
    {
     "data": {
      "text/plain": [
       "Vespa(https://ed847e76.c07901b1.z.vespa-app.cloud/)"
      ]
     },
     "execution_count": 111,
     "metadata": {},
     "output_type": "execute_result"
    }
   ],
   "source": [
    "app = vespa_cloud.deploy()"
   ]
  },
  {
   "cell_type": "code",
   "execution_count": 4,
   "id": "16b9c83e",
   "metadata": {},
   "outputs": [
    {
     "name": "stdout",
     "output_type": "stream",
     "text": [
      "Found mtls endpoint for queryprofiling_container\n",
      "URL: https://ed847e76.c07901b1.z.vespa-app.cloud/\n",
      "Found token endpoint for queryprofiling_container\n",
      "URL: https://b94950e8.c07901b1.z.vespa-app.cloud/\n"
     ]
    }
   ],
   "source": [
    "mtls_endpoint = vespa_cloud.get_mtls_endpoint()\n",
    "token_endpoint = vespa_cloud.get_token_endpoint()"
   ]
  },
  {
   "cell_type": "markdown",
   "id": "sealed-mustang",
   "metadata": {},
   "source": [
    "## Preparing the data\n",
    "\n",
    "In this example we use [HF Datasets](https://huggingface.co/docs/datasets/index) library to stream the\n",
    "[\"Cohere/wikipedia-2023-11-embed-multilingual-v3\"](https://huggingface.co/datasets/Cohere/wikipedia-2023-11-embed-multilingual-v3) dataset and index in our newly deployed Vespa instance.\n",
    "\n",
    "The dataset contains wikipedia-pages, and their corresponding embeddings.\n",
    "\n",
    "> For this exploration we will use the `id` , `text` and `embedding`-fields\n",
    "\n",
    "The following uses the [stream](https://huggingface.co/docs/datasets/stream) option of datasets to stream the data without\n",
    "downloading all the contents locally.\n",
    "\n",
    "The `map` functionality allows us to convert the\n",
    "dataset fields into the expected feed format for `pyvespa` which expects a dict with the keys `id` and `fields`:\n",
    "\n",
    "`{ \"id\": \"vespa-document-id\", \"fields\": {\"vespa_field\": \"vespa-field-value\"}}`\n"
   ]
  },
  {
   "cell_type": "code",
   "execution_count": 5,
   "id": "e9d3facd",
   "metadata": {},
   "outputs": [
    {
     "name": "stderr",
     "output_type": "stream",
     "text": [
      "/Users/thomas/.pyenv/versions/3.9.19/envs/pyvespa-dev/lib/python3.9/site-packages/tqdm/auto.py:21: TqdmWarning: IProgress not found. Please update jupyter and ipywidgets. See https://ipywidgets.readthedocs.io/en/stable/user_install.html\n",
      "  from .autonotebook import tqdm as notebook_tqdm\n"
     ]
    }
   ],
   "source": [
    "from datasets import load_dataset"
   ]
  },
  {
   "cell_type": "markdown",
   "id": "e2b68592",
   "metadata": {},
   "source": [
    "## Utility function to create dataset with different number of documents\n"
   ]
  },
  {
   "cell_type": "code",
   "execution_count": 6,
   "id": "60772727",
   "metadata": {},
   "outputs": [],
   "source": [
    "def get_dataset(n_docs: int = 1000):\n",
    "    dataset = load_dataset(\n",
    "        \"Cohere/wikipedia-2023-11-embed-multilingual-v3\",\n",
    "        \"simple\",\n",
    "        split=f\"train[:{n_docs}]\",\n",
    "    )\n",
    "    dataset = dataset.map(\n",
    "        lambda x: {\n",
    "            \"id\": x[\"_id\"] + \"-iter\",\n",
    "            \"fields\": {\n",
    "                \"text\": x[\"text\"],\n",
    "                \"embedding\": x[\"emb\"],\n",
    "                \"long_text\": x[\"text\"] * 100,\n",
    "            },\n",
    "        }\n",
    "    ).select_columns([\"id\", \"fields\"])\n",
    "    return dataset"
   ]
  },
  {
   "cell_type": "code",
   "execution_count": 8,
   "id": "ce657abd",
   "metadata": {},
   "outputs": [],
   "source": [
    "from vespa.io import VespaResponse\n",
    "\n",
    "\n",
    "def callback(response: VespaResponse, id: str):\n",
    "    if not response.is_successful():\n",
    "        print(\n",
    "            f\"Failed to feed document {id} with status code {response.status_code}: Reason {response.get_json()}\"\n",
    "        )"
   ]
  },
  {
   "cell_type": "code",
   "execution_count": 4,
   "id": "24b99297",
   "metadata": {},
   "outputs": [],
   "source": [
    "import nest_asyncio\n",
    "\n",
    "nest_asyncio.apply()"
   ]
  },
  {
   "cell_type": "code",
   "execution_count": 11,
   "id": "94392ff9",
   "metadata": {},
   "outputs": [],
   "source": [
    "app.feed_async_iterable(\n",
    "    get_dataset(),\n",
    "    schema=\"doc\",\n",
    "    namespace=\"pyvespa-feed\",\n",
    "    operation_type=\"feed\",\n",
    "    callback=callback,\n",
    ")"
   ]
  },
  {
   "cell_type": "code",
   "execution_count": 5,
   "id": "25ab97ff",
   "metadata": {},
   "outputs": [],
   "source": [
    "query_body = {\n",
    "    \"yql\": \"select * from doc where true;\",\n",
    "    \"hits\": 10,\n",
    "    \"query\": \"a\",\n",
    "    \"presentation.timing\": \"true\",\n",
    "    \"input.query(q)\": \"a\" * 1000,  # change this to change size\n",
    "}"
   ]
  },
  {
   "cell_type": "code",
   "execution_count": 17,
   "id": "3c748c69",
   "metadata": {},
   "outputs": [],
   "source": [
    "def get_token_app():\n",
    "    return Vespa(\n",
    "        url=token_endpoint,\n",
    "        vespa_cloud_secret_token=os.getenv(\"VESPA_CLOUD_SECRET_TOKEN\"),\n",
    "    )\n",
    "\n",
    "\n",
    "# Get user home directory\n",
    "home = os.path.expanduser(\"~\")\n",
    "# Vespa key/cert directory\n",
    "app_dir = f\"{home}/.vespa/{tenant_name}.{application}.default/\"\n",
    "\n",
    "cert_path = f\"{app_dir}/data-plane-public-cert.pem\"\n",
    "key_path = f\"{app_dir}/data-plane-private-key.pem\"\n",
    "\n",
    "\n",
    "def get_mtls_app():\n",
    "    return Vespa(\n",
    "        url=mtls_endpoint,\n",
    "        key=key_path,\n",
    "        cert=cert_path,\n",
    "    )"
   ]
  },
  {
   "cell_type": "code",
   "execution_count": null,
   "id": "78a6ab7e",
   "metadata": {},
   "outputs": [],
   "source": []
  },
  {
   "cell_type": "code",
   "execution_count": 18,
   "id": "70f666ba",
   "metadata": {},
   "outputs": [
    {
     "name": "stdout",
     "output_type": "stream",
     "text": [
      "Using Mutual TLS with key and cert to connect to Vespa endpoint https://ed847e76.c07901b1.z.vespa-app.cloud/\n"
     ]
    },
    {
     "name": "stderr",
     "output_type": "stream",
     "text": [
      "Compressing request body\n",
      "\n",
      "pyinstrument ........................................\n",
      ".\n",
      ".  Block at /var/folders/vb/ch14y_kn4mqfz75bhc9_g5980000gn/T/ipykernel_71508/1715205813.py:5\n",
      ".\n",
      ".  0.941 <module>  ../../../../../../../var/folders/vb/ch14y_kn4mqfz75bhc9_g5980000gn/T/ipykernel_71508/1715205813.py:5\n",
      ".  └─ 0.939 VespaSync.query  ../../../../vespa/application.py:1215\n",
      ".     └─ 0.935 Session.post  requests/sessions.py:626\n",
      ".           [10 frames hidden]  requests, urllib3, http, socket, ssl\n",
      ".              0.934 Session.send  requests/sessions.py:673\n",
      ".              └─ 0.541 CustomHTTPAdapter.send  ../../../../vespa/application.py:1032\n",
      ".                 └─ 0.541 CustomHTTPAdapter.send  requests/adapters.py:434\n",
      ".                       [22 frames hidden]  urllib3, ssl, <built-in>, http, socket\n",
      ".                          0.264 _SSLSocket.do_handshake  <built-in>\n",
      ".                 0.393 _SSLSocket.read  <built-in>\n",
      ".  \n",
      ".....................................................\n",
      "\n"
     ]
    },
    {
     "data": {
      "text/plain": [
       "<bound method VespaQueryResponse.get_json of <vespa.io.VespaQueryResponse object at 0x1125dbb50>>"
      ]
     },
     "execution_count": 18,
     "metadata": {},
     "output_type": "execute_result"
    }
   ],
   "source": [
    "import pyinstrument\n",
    "\n",
    "app = get_mtls_app()\n",
    "\n",
    "with pyinstrument.profile():\n",
    "    with app.syncio(connections=1, compress=True) as session:\n",
    "        response = session.query(\n",
    "            body=query_body,\n",
    "        )"
   ]
  },
  {
   "cell_type": "code",
   "execution_count": 19,
   "id": "8d3da203",
   "metadata": {},
   "outputs": [],
   "source": [
    "import os\n",
    "\n",
    "token = os.getenv(\"VESPA_CLOUD_SECRET_TOKEN\")"
   ]
  },
  {
   "cell_type": "code",
   "execution_count": 8,
   "id": "9d7e13f8",
   "metadata": {},
   "outputs": [
    {
     "name": "stdout",
     "output_type": "stream",
     "text": [
      "Time_Namelookup: 0.531770\n",
      "Time_Connect: 0.548399\n",
      "Time_Appconnect: 0.548399\n",
      "Time_Pretransfer: 0.548399\n",
      "Time_StartTransfer: 0.531770\n",
      "Time_Total: 0.548483\n"
     ]
    },
    {
     "name": "stderr",
     "output_type": "stream",
     "text": [
      "\n",
      "pyinstrument ........................................\n",
      ".\n",
      ".  Block at /var/folders/vb/ch14y_kn4mqfz75bhc9_g5980000gn/T/ipykernel_71508/2005960894.py:11\n",
      ".\n",
      ".  0.538 <module>  ../../../../../../../var/folders/vb/ch14y_kn4mqfz75bhc9_g5980000gn/T/ipykernel_71508/2005960894.py:11\n",
      ".  └─ 0.538 post  requests/api.py:103\n",
      ".        [25 frames hidden]  requests, urllib3, socket, ssl, <buil...\n",
      ".           0.129 socket.connect  <built-in>\n",
      ".           0.122 getaddrinfo  <built-in>\n",
      ".           0.132 _SSLSocket.do_handshake  <built-in>\n",
      ".           0.134 _SSLSocket.read  <built-in>\n",
      ".  \n",
      ".....................................................\n",
      "\n"
     ]
    }
   ],
   "source": [
    "import requests\n",
    "import time\n",
    "\n",
    "# Define the URL to be tested\n",
    "url = token_endpoint + \"/ApplicationStatus\"\n",
    "headers = {\"Authorization \": f\"Bearer {token}\"}\n",
    "\n",
    "# Capture the start time for DNS lookup\n",
    "start_time = time.time()\n",
    "\n",
    "with pyinstrument.profile():\n",
    "    # Perform DNS lookup and connection\n",
    "    response = requests.post(url, headers=headers, json=query_body)\n",
    "\n",
    "# Capture various timing metrics\n",
    "time_namelookup = response.elapsed.total_seconds()\n",
    "time_connect = time.time() - start_time\n",
    "time_appconnect = (\n",
    "    time_connect  # In the context of plain HTTP, appconnect and connect are the same\n",
    ")\n",
    "time_pretransfer = time_connect\n",
    "time_starttransfer = response.elapsed.total_seconds()\n",
    "time_total = time.time() - start_time\n",
    "\n",
    "# Print the timing metrics\n",
    "print(f\"Time_Namelookup: {time_namelookup:.6f}\")\n",
    "print(f\"Time_Connect: {time_connect:.6f}\")\n",
    "print(f\"Time_Appconnect: {time_appconnect:.6f}\")\n",
    "print(f\"Time_Pretransfer: {time_pretransfer:.6f}\")\n",
    "print(f\"Time_StartTransfer: {time_starttransfer:.6f}\")\n",
    "print(f\"Time_Total: {time_total:.6f}\")"
   ]
  },
  {
   "cell_type": "code",
   "execution_count": 9,
   "id": "769a56b3",
   "metadata": {},
   "outputs": [
    {
     "ename": "NameError",
     "evalue": "name 'get_mtls_app' is not defined",
     "output_type": "error",
     "traceback": [
      "\u001b[0;31m---------------------------------------------------------------------------\u001b[0m",
      "\u001b[0;31mNameError\u001b[0m                                 Traceback (most recent call last)",
      "Cell \u001b[0;32mIn[9], line 3\u001b[0m\n\u001b[1;32m      1\u001b[0m \u001b[38;5;28;01mfrom\u001b[39;00m \u001b[38;5;21;01mvespa\u001b[39;00m\u001b[38;5;21;01m.\u001b[39;00m\u001b[38;5;21;01mapplication\u001b[39;00m \u001b[38;5;28;01mimport\u001b[39;00m VespaSync\n\u001b[0;32m----> 3\u001b[0m app \u001b[38;5;241m=\u001b[39m \u001b[43mget_mtls_app\u001b[49m()\n\u001b[1;32m      5\u001b[0m \u001b[38;5;28;01mwith\u001b[39;00m pyinstrument\u001b[38;5;241m.\u001b[39mprofile():\n\u001b[1;32m      6\u001b[0m     \u001b[38;5;28;01mwith\u001b[39;00m VespaSync(app\u001b[38;5;241m=\u001b[39mapp, pool_connections\u001b[38;5;241m=\u001b[39m\u001b[38;5;241m1\u001b[39m, compress\u001b[38;5;241m=\u001b[39m\u001b[38;5;28;01mFalse\u001b[39;00m) \u001b[38;5;28;01mas\u001b[39;00m session:\n",
      "\u001b[0;31mNameError\u001b[0m: name 'get_mtls_app' is not defined"
     ]
    }
   ],
   "source": [
    "from vespa.application import VespaSync\n",
    "\n",
    "app = get_mtls_app()\n",
    "\n",
    "with pyinstrument.profile():\n",
    "    with VespaSync(app=app, pool_connections=1, compress=False) as session:\n",
    "        response = session.query(\n",
    "            body=query_body,\n",
    "        )"
   ]
  },
  {
   "cell_type": "code",
   "execution_count": 97,
   "id": "4abca8cc",
   "metadata": {},
   "outputs": [
    {
     "name": "stderr",
     "output_type": "stream",
     "text": [
      "\n",
      "pyinstrument ........................................\n",
      ".\n",
      ".  Block at /var/folders/vb/ch14y_kn4mqfz75bhc9_g5980000gn/T/ipykernel_84789/2363228634.py:12\n",
      ".\n",
      ".  0.551 <module>  ../../../../../../../var/folders/vb/ch14y_kn4mqfz75bhc9_g5980000gn/T/ipykernel_84789/2363228634.py:12\n",
      ".  └─ 0.551 run  nest_asyncio.py:25\n",
      ".        [5 frames hidden]  nest_asyncio, selectors, asyncio\n",
      ".           0.516 kqueue.control  <built-in>\n",
      ".           0.027 Task.__step  asyncio/tasks.py:239\n",
      ".           └─ 0.024 query  ../../../../../../../var/folders/vb/ch14y_kn4mqfz75bhc9_g5980000gn/T/ipykernel_84789/2363228634.py:4\n",
      ".              ├─ 0.017 async_wrapped  tenacity/asyncio/__init__.py:181\n",
      ".              │     [0 frames hidden]  \n",
      ".              │        0.017 AsyncRetrying.__call__  tenacity/asyncio/__init__.py:104\n",
      ".              │        └─ 0.016 VespaAsync.query  ../../../../vespa/application.py:1568\n",
      ".              │           └─ 0.015 AsyncClient.post  httpx/_client.py:1871\n",
      ".              │                 [9 frames hidden]  httpx, httpcore\n",
      ".              └─ 0.007 VespaAsync.__aenter__  ../../../../vespa/application.py:1523\n",
      ".                 └─ 0.007 VespaAsync._open_httpx_client  ../../../../vespa/application.py:1530\n",
      ".                    └─ 0.007 create_ssl_context  httpx/_config.py:47\n",
      ".                          [4 frames hidden]  httpx, <built-in>\n",
      ".           0.007 Task.__step  asyncio/tasks.py:239\n",
      ".           └─ 0.007 query  ../../../../../../../var/folders/vb/ch14y_kn4mqfz75bhc9_g5980000gn/T/ipykernel_84789/2363228634.py:4\n",
      ".              └─ 0.007 async_wrapped  tenacity/asyncio/__init__.py:181\n",
      ".                    [0 frames hidden]  \n",
      ".                       0.007 AsyncRetrying.__call__  tenacity/asyncio/__init__.py:104\n",
      ".                       └─ 0.007 VespaAsync.query  ../../../../vespa/application.py:1568\n",
      ".                          └─ 0.007 AsyncClient.post  httpx/_client.py:1871\n",
      ".                                [8 frames hidden]  httpx, httpcore\n",
      ".  \n",
      ".....................................................\n",
      "\n"
     ]
    }
   ],
   "source": [
    "import asyncio\n",
    "\n",
    "\n",
    "async def query():\n",
    "    async with app.asyncio(connections=1) as session:\n",
    "        response = await session.query(\n",
    "            body=query_body,\n",
    "        )\n",
    "    return response\n",
    "\n",
    "\n",
    "with pyinstrument.profile():\n",
    "    response = asyncio.run(query())"
   ]
  },
  {
   "cell_type": "code",
   "execution_count": 139,
   "id": "ae7045eb",
   "metadata": {},
   "outputs": [
    {
     "name": "stdout",
     "output_type": "stream",
     "text": [
      "Using Vespa Cloud Secret Token to connect to Vespa endpoint https://b94950e8.c07901b1.z.vespa-app.cloud/\n",
      "Using Vespa Cloud Secret Token to connect to Vespa endpoint https://b94950e8.c07901b1.z.vespa-app.cloud/\n",
      "Using Vespa Cloud Secret Token to connect to Vespa endpoint https://b94950e8.c07901b1.z.vespa-app.cloud/\n",
      "Using Vespa Cloud Secret Token to connect to Vespa endpoint https://b94950e8.c07901b1.z.vespa-app.cloud/\n",
      "Using Vespa Cloud Secret Token to connect to Vespa endpoint https://b94950e8.c07901b1.z.vespa-app.cloud/\n",
      "Using Vespa Cloud Secret Token to connect to Vespa endpoint https://b94950e8.c07901b1.z.vespa-app.cloud/\n",
      "Using Vespa Cloud Secret Token to connect to Vespa endpoint https://b94950e8.c07901b1.z.vespa-app.cloud/\n",
      "Using Vespa Cloud Secret Token to connect to Vespa endpoint https://b94950e8.c07901b1.z.vespa-app.cloud/\n",
      "Using Vespa Cloud Secret Token to connect to Vespa endpoint https://b94950e8.c07901b1.z.vespa-app.cloud/\n",
      "Using Vespa Cloud Secret Token to connect to Vespa endpoint https://b94950e8.c07901b1.z.vespa-app.cloud/\n",
      "Using Vespa Cloud Secret Token to connect to Vespa endpoint https://b94950e8.c07901b1.z.vespa-app.cloud/\n",
      "Using Vespa Cloud Secret Token to connect to Vespa endpoint https://b94950e8.c07901b1.z.vespa-app.cloud/\n",
      "Using Vespa Cloud Secret Token to connect to Vespa endpoint https://b94950e8.c07901b1.z.vespa-app.cloud/\n",
      "Using Vespa Cloud Secret Token to connect to Vespa endpoint https://b94950e8.c07901b1.z.vespa-app.cloud/\n",
      "Using Vespa Cloud Secret Token to connect to Vespa endpoint https://b94950e8.c07901b1.z.vespa-app.cloud/\n",
      "Using Vespa Cloud Secret Token to connect to Vespa endpoint https://b94950e8.c07901b1.z.vespa-app.cloud/\n",
      "Using Vespa Cloud Secret Token to connect to Vespa endpoint https://b94950e8.c07901b1.z.vespa-app.cloud/\n",
      "Using Vespa Cloud Secret Token to connect to Vespa endpoint https://b94950e8.c07901b1.z.vespa-app.cloud/\n",
      "Using Vespa Cloud Secret Token to connect to Vespa endpoint https://b94950e8.c07901b1.z.vespa-app.cloud/\n",
      "Using Vespa Cloud Secret Token to connect to Vespa endpoint https://b94950e8.c07901b1.z.vespa-app.cloud/\n",
      "Using Vespa Cloud Secret Token to connect to Vespa endpoint https://b94950e8.c07901b1.z.vespa-app.cloud/\n",
      "Using Vespa Cloud Secret Token to connect to Vespa endpoint https://b94950e8.c07901b1.z.vespa-app.cloud/\n",
      "Using Vespa Cloud Secret Token to connect to Vespa endpoint https://b94950e8.c07901b1.z.vespa-app.cloud/\n",
      "Using Vespa Cloud Secret Token to connect to Vespa endpoint https://b94950e8.c07901b1.z.vespa-app.cloud/\n",
      "Using Vespa Cloud Secret Token to connect to Vespa endpoint https://b94950e8.c07901b1.z.vespa-app.cloud/\n",
      "Using Vespa Cloud Secret Token to connect to Vespa endpoint https://b94950e8.c07901b1.z.vespa-app.cloud/\n",
      "Using Vespa Cloud Secret Token to connect to Vespa endpoint https://b94950e8.c07901b1.z.vespa-app.cloud/\n",
      "Using Vespa Cloud Secret Token to connect to Vespa endpoint https://b94950e8.c07901b1.z.vespa-app.cloud/\n",
      "Using Vespa Cloud Secret Token to connect to Vespa endpoint https://b94950e8.c07901b1.z.vespa-app.cloud/\n",
      "Using Vespa Cloud Secret Token to connect to Vespa endpoint https://b94950e8.c07901b1.z.vespa-app.cloud/\n",
      "p50 search time: 0.03 ms\n",
      "p99 search time: 0.07 ms\n",
      "p50 e2e time: 1.87 ms\n",
      "p99 e2e time: 2.00 ms\n"
     ]
    },
    {
     "name": "stderr",
     "output_type": "stream",
     "text": [
      "\n",
      "pyinstrument ........................................\n",
      ".\n",
      ".  Block at /var/folders/vb/ch14y_kn4mqfz75bhc9_g5980000gn/T/ipykernel_84789/2413084013.py:29\n",
      ".\n",
      ".  2.022 <module>  ../../../../../../../var/folders/vb/ch14y_kn4mqfz75bhc9_g5980000gn/T/ipykernel_84789/2413084013.py:29\n",
      ".  └─ 2.021 run_parallel_requests  ../../../../../../../var/folders/vb/ch14y_kn4mqfz75bhc9_g5980000gn/T/ipykernel_84789/2413084013.py:16\n",
      ".     └─ 2.003 <listcomp>  ../../../../../../../var/folders/vb/ch14y_kn4mqfz75bhc9_g5980000gn/T/ipykernel_84789/2413084013.py:22\n",
      ".        └─ 2.003 Future.result  concurrent/futures/_base.py:418\n",
      ".              [1 frames hidden]  threading\n",
      ".                 2.003 lock.acquire  <built-in>\n",
      ".  \n",
      ".....................................................\n",
      "\n"
     ]
    }
   ],
   "source": [
    "import time\n",
    "from concurrent.futures import ThreadPoolExecutor\n",
    "import numpy as np\n",
    "\n",
    "\n",
    "# Function to perform a single synchronous request\n",
    "def sync_request(app, query_body, compress):\n",
    "    start_time = time.time()\n",
    "    with app.syncio(connections=1, compress=compress) as session:\n",
    "        response = session.query(body=query_body)\n",
    "    end_time = time.time()\n",
    "    return {\n",
    "        \"searchtime\": response.get_json()[\"timing\"][\"searchtime\"],\n",
    "        \"e2e-time\": end_time - start_time,\n",
    "    }\n",
    "\n",
    "\n",
    "# Function to run multiple requests in parallel\n",
    "def run_parallel_requests(n, app, query_body, compress):\n",
    "    with ThreadPoolExecutor(max_workers=n) as executor:\n",
    "        futures = [\n",
    "            executor.submit(sync_request, app, query_body, compress) for _ in range(n)\n",
    "        ]\n",
    "        results = [future.result() for future in futures]\n",
    "    return results\n",
    "\n",
    "\n",
    "n = 30\n",
    "app = get_token_app()  # get_token_app()\n",
    "compress = False\n",
    "# Execute 30 parallel requests\n",
    "with pyinstrument.profile():\n",
    "    results = run_parallel_requests(n, app, query_body, compress)\n",
    "\n",
    "# Gather p50 and p99 search time and e2e-time\n",
    "searchtime = [r[\"searchtime\"] for r in results]\n",
    "e2e_time = [r[\"e2e-time\"] for r in results]\n",
    "\n",
    "p50_searchtime = np.percentile(searchtime, 50)\n",
    "p99_searchtime = np.percentile(searchtime, 99)\n",
    "p50_e2e_time = np.percentile(e2e_time, 50)\n",
    "p99_e2e_time = np.percentile(e2e_time, 99)\n",
    "\n",
    "print(f\"p50 search time: {p50_searchtime:.2f} ms\")\n",
    "print(f\"p99 search time: {p99_searchtime:.2f} ms\")\n",
    "print(f\"p50 e2e time: {p50_e2e_time:.2f} ms\")\n",
    "print(f\"p99 e2e time: {p99_e2e_time:.2f} ms\")"
   ]
  },
  {
   "cell_type": "code",
   "execution_count": 140,
   "id": "77f56f68",
   "metadata": {},
   "outputs": [
    {
     "name": "stdout",
     "output_type": "stream",
     "text": [
      "Using Vespa Cloud Secret Token to connect to Vespa endpoint https://b94950e8.c07901b1.z.vespa-app.cloud/\n",
      "Only region: aws-us-east-1c available in dev environment.\n",
      "Found mtls endpoint for queryprofiling_container\n",
      "URL: https://ed847e76.c07901b1.z.vespa-app.cloud/\n",
      "Connecting to https://ed847e76.c07901b1.z.vespa-app.cloud/\n",
      "Using Mutual TLS with key and cert to connect to Vespa endpoint https://ed847e76.c07901b1.z.vespa-app.cloud/\n"
     ]
    },
    {
     "name": "stderr",
     "output_type": "stream",
     "text": [
      "Compressing request body\n"
     ]
    },
    {
     "name": "stdout",
     "output_type": "stream",
     "text": [
      "Only region: aws-us-east-1c available in dev environment.\n",
      "Found mtls endpoint for queryprofiling_container\n",
      "URL: https://ed847e76.c07901b1.z.vespa-app.cloud/\n",
      "Connecting to https://ed847e76.c07901b1.z.vespa-app.cloud/\n",
      "Using Mutual TLS with key and cert to connect to Vespa endpoint https://ed847e76.c07901b1.z.vespa-app.cloud/\n",
      "Using Mutual TLS with key and cert to connect to Vespa endpoint https://ed847e76.c07901b1.z.vespa-app.cloud/\n",
      "Only region: aws-us-east-1c available in dev environment.\n",
      "Found mtls endpoint for queryprofiling_container\n",
      "URL: https://ed847e76.c07901b1.z.vespa-app.cloud/\n",
      "Connecting to https://ed847e76.c07901b1.z.vespa-app.cloud/\n",
      "Using Mutual TLS with key and cert to connect to Vespa endpoint https://ed847e76.c07901b1.z.vespa-app.cloud/\n"
     ]
    },
    {
     "name": "stderr",
     "output_type": "stream",
     "text": [
      "Compressing request body\n"
     ]
    },
    {
     "name": "stdout",
     "output_type": "stream",
     "text": [
      "Only region: aws-us-east-1c available in dev environment.\n",
      "Found mtls endpoint for queryprofiling_container\n",
      "URL: https://ed847e76.c07901b1.z.vespa-app.cloud/\n",
      "Connecting to https://ed847e76.c07901b1.z.vespa-app.cloud/\n",
      "Using Mutual TLS with key and cert to connect to Vespa endpoint https://ed847e76.c07901b1.z.vespa-app.cloud/\n",
      "Using Vespa Cloud Secret Token to connect to Vespa endpoint https://b94950e8.c07901b1.z.vespa-app.cloud/\n",
      "Only region: aws-us-east-1c available in dev environment.\n",
      "Found mtls endpoint for queryprofiling_container\n",
      "URL: https://ed847e76.c07901b1.z.vespa-app.cloud/\n",
      "Connecting to https://ed847e76.c07901b1.z.vespa-app.cloud/\n",
      "Using Mutual TLS with key and cert to connect to Vespa endpoint https://ed847e76.c07901b1.z.vespa-app.cloud/\n"
     ]
    },
    {
     "name": "stderr",
     "output_type": "stream",
     "text": [
      "Compressing request body\n"
     ]
    },
    {
     "name": "stdout",
     "output_type": "stream",
     "text": [
      "Only region: aws-us-east-1c available in dev environment.\n",
      "Found mtls endpoint for queryprofiling_container\n",
      "URL: https://ed847e76.c07901b1.z.vespa-app.cloud/\n",
      "Connecting to https://ed847e76.c07901b1.z.vespa-app.cloud/\n",
      "Using Mutual TLS with key and cert to connect to Vespa endpoint https://ed847e76.c07901b1.z.vespa-app.cloud/\n",
      "Using Mutual TLS with key and cert to connect to Vespa endpoint https://ed847e76.c07901b1.z.vespa-app.cloud/\n",
      "Only region: aws-us-east-1c available in dev environment.\n",
      "Found mtls endpoint for queryprofiling_container\n",
      "URL: https://ed847e76.c07901b1.z.vespa-app.cloud/\n",
      "Connecting to https://ed847e76.c07901b1.z.vespa-app.cloud/\n",
      "Using Mutual TLS with key and cert to connect to Vespa endpoint https://ed847e76.c07901b1.z.vespa-app.cloud/\n"
     ]
    },
    {
     "name": "stderr",
     "output_type": "stream",
     "text": [
      "Compressing request body\n"
     ]
    },
    {
     "name": "stdout",
     "output_type": "stream",
     "text": [
      "Only region: aws-us-east-1c available in dev environment.\n",
      "Found mtls endpoint for queryprofiling_container\n",
      "URL: https://ed847e76.c07901b1.z.vespa-app.cloud/\n",
      "Connecting to https://ed847e76.c07901b1.z.vespa-app.cloud/\n",
      "Using Mutual TLS with key and cert to connect to Vespa endpoint https://ed847e76.c07901b1.z.vespa-app.cloud/\n",
      "Using Vespa Cloud Secret Token to connect to Vespa endpoint https://b94950e8.c07901b1.z.vespa-app.cloud/\n",
      "Only region: aws-us-east-1c available in dev environment.\n",
      "Found mtls endpoint for queryprofiling_container\n",
      "URL: https://ed847e76.c07901b1.z.vespa-app.cloud/\n",
      "Connecting to https://ed847e76.c07901b1.z.vespa-app.cloud/\n",
      "Using Mutual TLS with key and cert to connect to Vespa endpoint https://ed847e76.c07901b1.z.vespa-app.cloud/\n"
     ]
    },
    {
     "name": "stderr",
     "output_type": "stream",
     "text": [
      "Compressing request body\n"
     ]
    },
    {
     "name": "stdout",
     "output_type": "stream",
     "text": [
      "Only region: aws-us-east-1c available in dev environment.\n",
      "Found mtls endpoint for queryprofiling_container\n",
      "URL: https://ed847e76.c07901b1.z.vespa-app.cloud/\n",
      "Connecting to https://ed847e76.c07901b1.z.vespa-app.cloud/\n",
      "Using Mutual TLS with key and cert to connect to Vespa endpoint https://ed847e76.c07901b1.z.vespa-app.cloud/\n",
      "Using Mutual TLS with key and cert to connect to Vespa endpoint https://ed847e76.c07901b1.z.vespa-app.cloud/\n",
      "Only region: aws-us-east-1c available in dev environment.\n",
      "Found mtls endpoint for queryprofiling_container\n",
      "URL: https://ed847e76.c07901b1.z.vespa-app.cloud/\n",
      "Connecting to https://ed847e76.c07901b1.z.vespa-app.cloud/\n",
      "Using Mutual TLS with key and cert to connect to Vespa endpoint https://ed847e76.c07901b1.z.vespa-app.cloud/\n"
     ]
    },
    {
     "name": "stderr",
     "output_type": "stream",
     "text": [
      "Compressing request body\n"
     ]
    },
    {
     "name": "stdout",
     "output_type": "stream",
     "text": [
      "Only region: aws-us-east-1c available in dev environment.\n",
      "Found mtls endpoint for queryprofiling_container\n",
      "URL: https://ed847e76.c07901b1.z.vespa-app.cloud/\n",
      "Connecting to https://ed847e76.c07901b1.z.vespa-app.cloud/\n",
      "Using Mutual TLS with key and cert to connect to Vespa endpoint https://ed847e76.c07901b1.z.vespa-app.cloud/\n"
     ]
    }
   ],
   "source": [
    "import time\n",
    "import pandas as pd\n",
    "import numpy as np\n",
    "import asyncio\n",
    "\n",
    "del sync_request\n",
    "\n",
    "\n",
    "# Function to perform a single synchronous request\n",
    "def sync_request(app, query_body, compress):\n",
    "    start_time = time.time()\n",
    "    with app.syncio(connections=1, compress=compress) as session:\n",
    "        response = session.query(body=query_body)\n",
    "    end_time = time.time()\n",
    "    return {\n",
    "        \"searchtime\": response.get_json()[\"timing\"][\"searchtime\"],\n",
    "        \"e2e-time\": end_time - start_time,\n",
    "    }\n",
    "\n",
    "\n",
    "# Function to perform a single asynchronous request\n",
    "async def async_request(app, query_body, compress):\n",
    "    start_time = time.time()\n",
    "    async with app.asyncio(connections=1) as session:\n",
    "        response = await session.query(body=query_body)\n",
    "    end_time = time.time()\n",
    "    return {\n",
    "        \"searchtime\": response.get_json()[\"timing\"][\"searchtime\"],\n",
    "        \"e2e-time\": end_time - start_time,\n",
    "    }\n",
    "\n",
    "\n",
    "# Function to calculate statistics (p50, p99) for single request\n",
    "def calculate_statistics(times):\n",
    "    searchtimes = [t[\"searchtime\"] for t in times]\n",
    "    e2e_times = [t[\"e2e-time\"] for t in times if t[\"e2e-time\"] is not None]\n",
    "\n",
    "    return {\n",
    "        \"p50_searchtime\": np.percentile(searchtimes, 50),\n",
    "        \"p99_searchtime\": np.percentile(searchtimes, 99),\n",
    "        \"p50_e2e_time\": np.percentile(e2e_times, 50) if e2e_times else None,\n",
    "        \"p99_e2e_time\": np.percentile(e2e_times, 99) if e2e_times else None,\n",
    "    }\n",
    "\n",
    "\n",
    "# Main function to perform benchmarking\n",
    "def benchmark(vespa_cloud, test_cases):\n",
    "    results = []\n",
    "\n",
    "    for label, data in test_cases:\n",
    "        for app_type, app_func in [(\"token\", get_token_app), (\"mtls\", get_mtls_app)]:\n",
    "            app = app_func()\n",
    "            # Without compression\n",
    "            times = [sync_request(app, data, compress=False)]\n",
    "            stats = calculate_statistics(times)\n",
    "            results.append(\n",
    "                {\"Size\": label, \"Compression\": \"No\", **stats, \"Auth\": app_type}\n",
    "            )\n",
    "\n",
    "            # Delete the app and reinitialize\n",
    "            del app\n",
    "            app = vespa_cloud.get_application()\n",
    "\n",
    "            # With compression\n",
    "            times = [sync_request(app, data, compress=True)]\n",
    "            stats = calculate_statistics(times)\n",
    "            results.append(\n",
    "                {\"Size\": label, \"Compression\": \"Yes\", **stats, \"Auth\": app_type}\n",
    "            )\n",
    "\n",
    "            # Delete the app and reinitialize\n",
    "            del app\n",
    "            app = vespa_cloud.get_application()\n",
    "\n",
    "            # With async request and compression\n",
    "            times = [asyncio.run(async_request(app, data, compress=True))]\n",
    "            stats = calculate_statistics(times)\n",
    "            results.append(\n",
    "                {\"Size\": label, \"Compression\": \"Yes (Async)\", **stats, \"Auth\": app_type}\n",
    "            )\n",
    "\n",
    "    # Convert results to DataFrame\n",
    "    df = pd.DataFrame(results)\n",
    "    return df\n",
    "\n",
    "\n",
    "# Define the test cases as before\n",
    "base_data = {\n",
    "    \"yql\": \"select * from doc where true;\",\n",
    "    \"hits\": 10,\n",
    "    \"query\": \"april\",\n",
    "    \"timeout\": \"2s\",\n",
    "    \"presentation.timing\": \"true\",\n",
    "}\n",
    "\n",
    "\n",
    "def get_random_letter():\n",
    "    return chr(np.random.randint(97, 123))\n",
    "\n",
    "\n",
    "# Create sample data\n",
    "data_512b = {\n",
    "    **base_data,\n",
    "    \"input.query(q)\": get_random_letter() * 512,\n",
    "}\n",
    "\n",
    "data_10kb = {\n",
    "    **base_data,\n",
    "    \"input.query(q)\": get_random_letter() * 10240,\n",
    "}\n",
    "\n",
    "data_1mb = {\n",
    "    **base_data,\n",
    "    \"input.query(q)\": get_random_letter() * 1024 * 1024,\n",
    "}\n",
    "\n",
    "# Test cases for string queries\n",
    "test_cases = [\n",
    "    (\"512B\", data_512b),\n",
    "    (\"10kB\", data_10kb),\n",
    "    (\"1MB\", data_1mb),\n",
    "]\n",
    "\n",
    "# Assuming 'vespa_cloud' is already initialized\n",
    "# Perform the benchmarking\n",
    "df = benchmark(vespa_cloud, test_cases)"
   ]
  },
  {
   "cell_type": "code",
   "execution_count": 141,
   "id": "ec3818cf",
   "metadata": {},
   "outputs": [
    {
     "data": {
      "text/html": [
       "<div>\n",
       "<style scoped>\n",
       "    .dataframe tbody tr th:only-of-type {\n",
       "        vertical-align: middle;\n",
       "    }\n",
       "\n",
       "    .dataframe tbody tr th {\n",
       "        vertical-align: top;\n",
       "    }\n",
       "\n",
       "    .dataframe thead th {\n",
       "        text-align: right;\n",
       "    }\n",
       "</style>\n",
       "<table border=\"1\" class=\"dataframe\">\n",
       "  <thead>\n",
       "    <tr style=\"text-align: right;\">\n",
       "      <th></th>\n",
       "      <th>Size</th>\n",
       "      <th>Compression</th>\n",
       "      <th>p50_searchtime</th>\n",
       "      <th>p99_searchtime</th>\n",
       "      <th>p50_e2e_time</th>\n",
       "      <th>p99_e2e_time</th>\n",
       "      <th>Auth</th>\n",
       "    </tr>\n",
       "  </thead>\n",
       "  <tbody>\n",
       "    <tr>\n",
       "      <th>0</th>\n",
       "      <td>512B</td>\n",
       "      <td>No</td>\n",
       "      <td>0.004</td>\n",
       "      <td>0.004</td>\n",
       "      <td>1.702048</td>\n",
       "      <td>1.702048</td>\n",
       "      <td>token</td>\n",
       "    </tr>\n",
       "    <tr>\n",
       "      <th>1</th>\n",
       "      <td>512B</td>\n",
       "      <td>Yes</td>\n",
       "      <td>0.004</td>\n",
       "      <td>0.004</td>\n",
       "      <td>2.685179</td>\n",
       "      <td>2.685179</td>\n",
       "      <td>token</td>\n",
       "    </tr>\n",
       "    <tr>\n",
       "      <th>2</th>\n",
       "      <td>512B</td>\n",
       "      <td>Yes (Async)</td>\n",
       "      <td>0.003</td>\n",
       "      <td>0.003</td>\n",
       "      <td>3.684672</td>\n",
       "      <td>3.684672</td>\n",
       "      <td>token</td>\n",
       "    </tr>\n",
       "    <tr>\n",
       "      <th>3</th>\n",
       "      <td>512B</td>\n",
       "      <td>No</td>\n",
       "      <td>0.003</td>\n",
       "      <td>0.003</td>\n",
       "      <td>2.528865</td>\n",
       "      <td>2.528865</td>\n",
       "      <td>mtls</td>\n",
       "    </tr>\n",
       "    <tr>\n",
       "      <th>4</th>\n",
       "      <td>512B</td>\n",
       "      <td>Yes</td>\n",
       "      <td>0.003</td>\n",
       "      <td>0.003</td>\n",
       "      <td>2.589663</td>\n",
       "      <td>2.589663</td>\n",
       "      <td>mtls</td>\n",
       "    </tr>\n",
       "    <tr>\n",
       "      <th>5</th>\n",
       "      <td>512B</td>\n",
       "      <td>Yes (Async)</td>\n",
       "      <td>0.003</td>\n",
       "      <td>0.003</td>\n",
       "      <td>2.628944</td>\n",
       "      <td>2.628944</td>\n",
       "      <td>mtls</td>\n",
       "    </tr>\n",
       "    <tr>\n",
       "      <th>6</th>\n",
       "      <td>10kB</td>\n",
       "      <td>No</td>\n",
       "      <td>0.013</td>\n",
       "      <td>0.013</td>\n",
       "      <td>1.614784</td>\n",
       "      <td>1.614784</td>\n",
       "      <td>token</td>\n",
       "    </tr>\n",
       "    <tr>\n",
       "      <th>7</th>\n",
       "      <td>10kB</td>\n",
       "      <td>Yes</td>\n",
       "      <td>0.003</td>\n",
       "      <td>0.003</td>\n",
       "      <td>2.616129</td>\n",
       "      <td>2.616129</td>\n",
       "      <td>token</td>\n",
       "    </tr>\n",
       "    <tr>\n",
       "      <th>8</th>\n",
       "      <td>10kB</td>\n",
       "      <td>Yes (Async)</td>\n",
       "      <td>0.003</td>\n",
       "      <td>0.003</td>\n",
       "      <td>2.519848</td>\n",
       "      <td>2.519848</td>\n",
       "      <td>token</td>\n",
       "    </tr>\n",
       "    <tr>\n",
       "      <th>9</th>\n",
       "      <td>10kB</td>\n",
       "      <td>No</td>\n",
       "      <td>0.004</td>\n",
       "      <td>0.004</td>\n",
       "      <td>2.501156</td>\n",
       "      <td>2.501156</td>\n",
       "      <td>mtls</td>\n",
       "    </tr>\n",
       "    <tr>\n",
       "      <th>10</th>\n",
       "      <td>10kB</td>\n",
       "      <td>Yes</td>\n",
       "      <td>0.004</td>\n",
       "      <td>0.004</td>\n",
       "      <td>2.508076</td>\n",
       "      <td>2.508076</td>\n",
       "      <td>mtls</td>\n",
       "    </tr>\n",
       "    <tr>\n",
       "      <th>11</th>\n",
       "      <td>10kB</td>\n",
       "      <td>Yes (Async)</td>\n",
       "      <td>0.004</td>\n",
       "      <td>0.004</td>\n",
       "      <td>3.056505</td>\n",
       "      <td>3.056505</td>\n",
       "      <td>mtls</td>\n",
       "    </tr>\n",
       "    <tr>\n",
       "      <th>12</th>\n",
       "      <td>1MB</td>\n",
       "      <td>No</td>\n",
       "      <td>0.007</td>\n",
       "      <td>0.007</td>\n",
       "      <td>3.591631</td>\n",
       "      <td>3.591631</td>\n",
       "      <td>token</td>\n",
       "    </tr>\n",
       "    <tr>\n",
       "      <th>13</th>\n",
       "      <td>1MB</td>\n",
       "      <td>Yes</td>\n",
       "      <td>0.007</td>\n",
       "      <td>0.007</td>\n",
       "      <td>2.672459</td>\n",
       "      <td>2.672459</td>\n",
       "      <td>token</td>\n",
       "    </tr>\n",
       "    <tr>\n",
       "      <th>14</th>\n",
       "      <td>1MB</td>\n",
       "      <td>Yes (Async)</td>\n",
       "      <td>0.011</td>\n",
       "      <td>0.011</td>\n",
       "      <td>3.388832</td>\n",
       "      <td>3.388832</td>\n",
       "      <td>token</td>\n",
       "    </tr>\n",
       "    <tr>\n",
       "      <th>15</th>\n",
       "      <td>1MB</td>\n",
       "      <td>No</td>\n",
       "      <td>0.007</td>\n",
       "      <td>0.007</td>\n",
       "      <td>3.414977</td>\n",
       "      <td>3.414977</td>\n",
       "      <td>mtls</td>\n",
       "    </tr>\n",
       "    <tr>\n",
       "      <th>16</th>\n",
       "      <td>1MB</td>\n",
       "      <td>Yes</td>\n",
       "      <td>0.007</td>\n",
       "      <td>0.007</td>\n",
       "      <td>2.497167</td>\n",
       "      <td>2.497167</td>\n",
       "      <td>mtls</td>\n",
       "    </tr>\n",
       "    <tr>\n",
       "      <th>17</th>\n",
       "      <td>1MB</td>\n",
       "      <td>Yes (Async)</td>\n",
       "      <td>0.007</td>\n",
       "      <td>0.007</td>\n",
       "      <td>3.419459</td>\n",
       "      <td>3.419459</td>\n",
       "      <td>mtls</td>\n",
       "    </tr>\n",
       "  </tbody>\n",
       "</table>\n",
       "</div>"
      ],
      "text/plain": [
       "    Size  Compression  p50_searchtime  p99_searchtime  p50_e2e_time  \\\n",
       "0   512B           No           0.004           0.004      1.702048   \n",
       "1   512B          Yes           0.004           0.004      2.685179   \n",
       "2   512B  Yes (Async)           0.003           0.003      3.684672   \n",
       "3   512B           No           0.003           0.003      2.528865   \n",
       "4   512B          Yes           0.003           0.003      2.589663   \n",
       "5   512B  Yes (Async)           0.003           0.003      2.628944   \n",
       "6   10kB           No           0.013           0.013      1.614784   \n",
       "7   10kB          Yes           0.003           0.003      2.616129   \n",
       "8   10kB  Yes (Async)           0.003           0.003      2.519848   \n",
       "9   10kB           No           0.004           0.004      2.501156   \n",
       "10  10kB          Yes           0.004           0.004      2.508076   \n",
       "11  10kB  Yes (Async)           0.004           0.004      3.056505   \n",
       "12   1MB           No           0.007           0.007      3.591631   \n",
       "13   1MB          Yes           0.007           0.007      2.672459   \n",
       "14   1MB  Yes (Async)           0.011           0.011      3.388832   \n",
       "15   1MB           No           0.007           0.007      3.414977   \n",
       "16   1MB          Yes           0.007           0.007      2.497167   \n",
       "17   1MB  Yes (Async)           0.007           0.007      3.419459   \n",
       "\n",
       "    p99_e2e_time   Auth  \n",
       "0       1.702048  token  \n",
       "1       2.685179  token  \n",
       "2       3.684672  token  \n",
       "3       2.528865   mtls  \n",
       "4       2.589663   mtls  \n",
       "5       2.628944   mtls  \n",
       "6       1.614784  token  \n",
       "7       2.616129  token  \n",
       "8       2.519848  token  \n",
       "9       2.501156   mtls  \n",
       "10      2.508076   mtls  \n",
       "11      3.056505   mtls  \n",
       "12      3.591631  token  \n",
       "13      2.672459  token  \n",
       "14      3.388832  token  \n",
       "15      3.414977   mtls  \n",
       "16      2.497167   mtls  \n",
       "17      3.419459   mtls  "
      ]
     },
     "execution_count": 141,
     "metadata": {},
     "output_type": "execute_result"
    }
   ],
   "source": [
    "df"
   ]
  },
  {
   "cell_type": "markdown",
   "id": "28591491",
   "metadata": {},
   "source": [
    "## Cleanup\n"
   ]
  },
  {
   "cell_type": "code",
   "execution_count": 26,
   "id": "e5064bd2",
   "metadata": {},
   "outputs": [
    {
     "name": "stdout",
     "output_type": "stream",
     "text": [
      "Deactivated vespa-team.feedperformancecloud in dev.aws-us-east-1c\n",
      "Deleted instance vespa-team.feedperformancecloud.default\n"
     ]
    }
   ],
   "source": [
    "vespa_cloud.delete()"
   ]
  },
  {
   "cell_type": "markdown",
   "id": "d1872b31",
   "metadata": {},
   "source": [
    "## Next steps\n",
    "\n",
    "Check out some of the other\n",
    "[examples](https://pyvespa.readthedocs.io/en/latest/examples.html) in the documentation.\n"
   ]
  }
 ],
 "metadata": {
  "kernelspec": {
   "display_name": "Python 3 (ipykernel)",
   "language": "python",
   "name": "python3"
  },
  "language_info": {
   "codemirror_mode": {
    "name": "ipython",
    "version": 3
   },
   "file_extension": ".py",
   "mimetype": "text/x-python",
   "name": "python",
   "nbconvert_exporter": "python",
   "pygments_lexer": "ipython3",
   "version": "3.9.19"
  },
  "vscode": {
   "interpreter": {
    "hash": "b0fa6594d8f4cbf19f97940f81e996739fb7646882a419484c72d19e05852a7e"
   }
  }
 },
 "nbformat": 4,
 "nbformat_minor": 5
}
