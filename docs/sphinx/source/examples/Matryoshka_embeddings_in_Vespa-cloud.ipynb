{
    "cells": [
        {
            "cell_type": "markdown",
            "id": "7fb27b941602401d91542211134fc71a",
            "metadata": {
                "id": "b3ae8a2b"
            },
            "source": [
                "<picture>\n",
                "  <source media=\"(prefers-color-scheme: dark)\" srcset=\"https://assets.vespa.ai/logos/Vespa-logo-green-RGB.svg\">\n",
                "  <source media=\"(prefers-color-scheme: light)\" srcset=\"https://assets.vespa.ai/logos/Vespa-logo-dark-RGB.svg\">\n",
                "  <img alt=\"#Vespa\" width=\"200\" src=\"https://assets.vespa.ai/logos/Vespa-logo-dark-RGB.svg\" style=\"margin-bottom: 25px;\">\n",
                "</picture>\n",
                "\n",
                "# Exploring the potential of OpenAI Matryoshka 🪆 embeddings with Vespa\n",
                "\n",
                "This notebook demonstrates the effectiveness of using the recently released(As of January 2024) OpenAI `text-embedding-3` embeddings with Vespa.\n",
                "\n",
                "Specifically, we are interested in the [Matryoshka Representation Learning](https://aniketrege.github.io/blog/2024/mrl/) technique used in training, which lets us \"shorten embeddings (i.e. remove some numbers from the end of the sequence) without the embedding losing its concept-representing properties\". This allow us to trade off a small amount of accuracy in exchange for much smaller embedding sizes, so we can store more documents and search them faster.\n",
                "\n",
                "By using [phased ranking](https://docs.vespa.ai/en/phased-ranking.html), we can re-rank the top K results with the full embeddings in a second step. This produces accuracy on par with using the full embeddings!\n",
                "\n",
                "We'll use a standard information retrieval benchmark to evaluate result quality with different embedding sizes and retrieval/ranking strategies.\n",
                "\n",
                "[![Open In Colab](https://colab.research.google.com/assets/colab-badge.svg)](https://colab.research.google.com/github/vespa-engine/pyvespa/blob/master/docs/sphinx/source/examples/Matryoshka_embeddings_in_Vespa-cloud.ipynb)\n",
                "\n",
                "Let's get started! First, install a few dependencies:\n"
            ]
        },
        {
            "cell_type": "code",
            "execution_count": null,
            "id": "acae54e37e7d407bbb7b55eff062a284",
            "metadata": {
                "id": "4ffa3cbe"
            },
            "outputs": [],
            "source": [
                "!pip3 install -U pyvespa ir_datasets openai pytrec_eval vespacli"
            ]
        },
        {
            "cell_type": "markdown",
            "id": "b3f11700",
            "metadata": {},
            "source": [
                "## Examining the OpenAI embeddings\n"
            ]
        },
        {
            "cell_type": "code",
            "execution_count": 1,
            "id": "faadd27c",
            "metadata": {},
            "outputs": [],
            "source": [
                "from openai import OpenAI\n",
                "\n",
                "openai = OpenAI()\n",
                "\n",
                "\n",
                "def embed(text, model=\"text-embedding-3-large\", dimensions=3072):\n",
                "    return (\n",
                "        openai.embeddings.create(input=[text], model=model, dimensions=dimensions)\n",
                "        .data[0]\n",
                "        .embedding\n",
                "    )"
            ]
        },
        {
            "cell_type": "markdown",
            "id": "9d788442",
            "metadata": {},
            "source": [
                "With these new embedding models, the API supports a `dimensions` parameter. Does this differ from just taking the first N dimensions?\n"
            ]
        },
        {
            "cell_type": "code",
            "execution_count": 2,
            "id": "b4ad081e",
            "metadata": {},
            "outputs": [
                {
                    "name": "stdout",
                    "output_type": "stream",
                    "text": [
                        "[0.0035371531266719103, 0.014166134409606457, -0.017565304413437843, 0.04296272248029709, 0.012746891938149929, -0.01731124334037304, -0.00855049304664135, 0.044189225882291794]\n",
                        "[0.05076185241341591, 0.20329885184764862, -0.2520805299282074, 0.6165600419044495, 0.18293125927448273, -0.24843446910381317, -0.1227085217833519, 0.634161651134491]\n"
                    ]
                }
            ],
            "source": [
                "test_input = \"This is just a test sentence.\"\n",
                "\n",
                "full = embed(test_input)\n",
                "short = embed(test_input, dimensions=8)\n",
                "\n",
                "print(full[:8])\n",
                "print(short)"
            ]
        },
        {
            "cell_type": "markdown",
            "id": "215ca853",
            "metadata": {},
            "source": [
                "Numerically, they are not the same. But looking more closely, they differ only by a scaling factor:\n"
            ]
        },
        {
            "cell_type": "code",
            "execution_count": 12,
            "id": "3144a6d5",
            "metadata": {},
            "outputs": [
                {
                    "name": "stdout",
                    "output_type": "stream",
                    "text": [
                        "[0.05076185241341591, 0.2032988673141365, -0.2520805173822377, 0.6165600695594861, 0.18293125124128834, -0.2484344748635628, -0.12270853156530777, 0.6341616780980419]\n",
                        "[0.05076185241341591, 0.20329885184764862, -0.2520805299282074, 0.6165600419044495, 0.18293125927448273, -0.24843446910381317, -0.1227085217833519, 0.634161651134491]\n"
                    ]
                }
            ],
            "source": [
                "scale = short[0] / full[0]\n",
                "print([x * scale for x in full[:8]])\n",
                "print(short)"
            ]
        },
        {
            "cell_type": "markdown",
            "id": "ae311865",
            "metadata": {},
            "source": [
                "It seems the shortened vector has been L2 normalized to have a magnitude of 1. By cosine similarity, they are equivalent:\n"
            ]
        },
        {
            "cell_type": "code",
            "execution_count": 13,
            "id": "e28897cb",
            "metadata": {},
            "outputs": [
                {
                    "name": "stdout",
                    "output_type": "stream",
                    "text": [
                        "0.9999999899058183\n"
                    ]
                },
                {
                    "data": {
                        "text/plain": [
                            "0.9999999999999996"
                        ]
                    },
                    "execution_count": 13,
                    "metadata": {},
                    "output_type": "execute_result"
                }
            ],
            "source": [
                "from numpy.linalg import norm\n",
                "from numpy import dot\n",
                "\n",
                "\n",
                "def cos_sim(e1, e2):\n",
                "    return dot(e1, e2) / (norm(e1) * norm(e2))\n",
                "\n",
                "\n",
                "print(norm(short))\n",
                "\n",
                "cos_sim(short, full[:8])"
            ]
        },
        {
            "cell_type": "markdown",
            "id": "5700ea35",
            "metadata": {},
            "source": [
                "This is great, because it means that in a single API call we can get the full embeddings, and easily produce shortened embeddings just by slicing the list of numbers.\n",
                "\n",
                "Note that `text-embedding-3-large` and `text-embedding-3-small` do **not** produce compatible embeddings when sliced to the same size:\n"
            ]
        },
        {
            "cell_type": "code",
            "execution_count": 14,
            "id": "6ea13147",
            "metadata": {},
            "outputs": [
                {
                    "data": {
                        "text/plain": [
                            "-0.03217247156447633"
                        ]
                    },
                    "execution_count": 14,
                    "metadata": {},
                    "output_type": "execute_result"
                }
            ],
            "source": [
                "cos_sim(\n",
                "    embed(test_input, dimensions=1536),\n",
                "    embed(test_input, dimensions=1536, model=\"text-embedding-3-small\"),\n",
                ")"
            ]
        },
        {
            "cell_type": "markdown",
            "id": "9a63283cbaf04dbcab1f6479b197f3a8",
            "metadata": {
                "id": "fd3b1e45"
            },
            "source": [
                "## Getting a sample dataset\n",
                "\n",
                "Let's download a dataset so we have some real data to embed:\n"
            ]
        },
        {
            "cell_type": "code",
            "execution_count": 15,
            "id": "8dd0d8092fe74a7c96281538738b07e2",
            "metadata": {
                "executionInfo": {
                    "elapsed": 226,
                    "status": "ok",
                    "timestamp": 1706646692802,
                    "user": {
                        "displayName": "Andreas Eriksen",
                        "userId": "00161553861396505040"
                    },
                    "user_tz": -60
                },
                "id": "384c4c56"
            },
            "outputs": [
                {
                    "name": "stdout",
                    "output_type": "stream",
                    "text": [
                        "Dataset has 171332 documents. Sample:\n"
                    ]
                },
                {
                    "data": {
                        "text/plain": [
                            "{'doc_id': 'z2u5frvq',\n",
                            " 'text': 'The authors discuss humoral immune responses to HIV and approaches to designing vaccines that induce viral neutralizing and other potentially protective antibodies.',\n",
                            " 'title': 'Antibody-Based HIV-1 Vaccines: Recent Developments and Future Directions: A summary report from a Global HIV Vaccine Enterprise Working Group',\n",
                            " 'url': 'https://www.ncbi.nlm.nih.gov/pmc/articles/PMC2100141/',\n",
                            " 'pubmed_id': '18052607'}"
                        ]
                    },
                    "execution_count": 15,
                    "metadata": {},
                    "output_type": "execute_result"
                }
            ],
            "source": [
                "import ir_datasets\n",
                "\n",
                "dataset = ir_datasets.load(\"beir/trec-covid\")\n",
                "print(\"Dataset has\", dataset.docs_count(), \"documents. Sample:\")\n",
                "dataset.docs_iter()[120]._asdict()"
            ]
        },
        {
            "cell_type": "markdown",
            "id": "72eea5119410473aa328ad9291626812",
            "metadata": {
                "id": "beX7MAR9FDvz"
            },
            "source": [
                "### Queries\n",
                "\n",
                "This dataset also comes with a set of queries, and query/document relevance judgements:\n"
            ]
        },
        {
            "cell_type": "code",
            "execution_count": 16,
            "id": "8edb47106e1a46a883d545849b8ab81b",
            "metadata": {
                "colab": {
                    "base_uri": "https://localhost:8080/"
                },
                "executionInfo": {
                    "elapsed": 222,
                    "status": "ok",
                    "timestamp": 1706647055453,
                    "user": {
                        "displayName": "Andreas Eriksen",
                        "userId": "00161553861396505040"
                    },
                    "user_tz": -60
                },
                "id": "xTb5FxlJD-CK",
                "outputId": "e2ec6581-86b3-47d8-9482-2f09cf2dfb76"
            },
            "outputs": [
                {
                    "name": "stdout",
                    "output_type": "stream",
                    "text": [
                        "BeirCovidQuery(query_id='1', text='what is the origin of COVID-19', query='coronavirus origin', narrative=\"seeking range of information about the SARS-CoV-2 virus's origin, including its evolution, animal source, and first transmission into humans\")\n",
                        "TrecQrel(query_id='1', doc_id='005b2j4b', relevance=2, iteration='0')\n"
                    ]
                }
            ],
            "source": [
                "print(next(dataset.queries_iter()))\n",
                "print(next(dataset.qrels_iter()))"
            ]
        },
        {
            "cell_type": "markdown",
            "id": "10185d26023b46108eb7d9f57d49d2b3",
            "metadata": {
                "id": "da356d25"
            },
            "source": [
                "We'll use these later to evaluate the result quality.\n",
                "\n",
                "## Defining the Vespa application\n",
                "\n",
                "First, we define a [Vespa schema](https://docs.vespa.ai/en/schemas.html) with the fields we want to store and their type.\n"
            ]
        },
        {
            "cell_type": "code",
            "execution_count": 33,
            "id": "8763a12b2bbd4a93a75aff182afb95dc",
            "metadata": {
                "executionInfo": {
                    "elapsed": 224,
                    "status": "ok",
                    "timestamp": 1706652002196,
                    "user": {
                        "displayName": "Andreas Eriksen",
                        "userId": "00161553861396505040"
                    },
                    "user_tz": -60
                },
                "id": "0dca2378"
            },
            "outputs": [],
            "source": [
                "from vespa.package import Schema, Document, Field, FieldSet\n",
                "\n",
                "my_schema = Schema(\n",
                "    name=\"my_schema\",\n",
                "    mode=\"index\",\n",
                "    document=Document(\n",
                "        fields=[\n",
                "            Field(name=\"doc_id\", type=\"string\", indexing=[\"summary\"]),\n",
                "            Field(\n",
                "                name=\"text\",\n",
                "                type=\"string\",\n",
                "                indexing=[\"summary\", \"index\"],\n",
                "                index=\"enable-bm25\",\n",
                "            ),\n",
                "            Field(\n",
                "                name=\"title\",\n",
                "                type=\"string\",\n",
                "                indexing=[\"summary\", \"index\"],\n",
                "                index=\"enable-bm25\",\n",
                "            ),\n",
                "            Field(name=\"url\", type=\"string\", indexing=[\"summary\", \"index\"]),\n",
                "            Field(name=\"pubmed_id\", type=\"string\", indexing=[\"summary\", \"index\"]),\n",
                "            Field(\n",
                "                name=\"shortened\",\n",
                "                type=\"tensor<float>(x[256])\",\n",
                "                indexing=[\"attribute\", \"index\"],\n",
                "                attribute=[\"distance-metric: angular\"],\n",
                "            ),\n",
                "            Field(\n",
                "                name=\"embedding\",\n",
                "                type=\"tensor<float>(x[3072])\",\n",
                "                indexing=[\"attribute\"],\n",
                "                attribute=[\"paged\", \"distance-metric: angular\"],\n",
                "            ),\n",
                "        ],\n",
                "    ),\n",
                "    fieldsets=[FieldSet(name=\"default\", fields=[\"title\", \"text\"])],\n",
                ")"
            ]
        },
        {
            "cell_type": "markdown",
            "id": "bed768cb",
            "metadata": {},
            "source": [
                "The two fields of type `tensor<float>(x[3072/256])` are not in the dataset - they are tensor fields to hold the embeddings from OpenAI.\n",
                "\n",
                "- `shortened`: This field holds the embedding shortened to 256 dimensions, requiring only **8.3%** of the memory. `index` here means we will build an [HNSW Approximate Nearest Neighbor index](https://docs.vespa.ai/en/approximate-nn-hnsw.html), by which we can find the closest vectors while exploring only a very small subset of the documents.\n",
                "\n",
                "- `embedding`: This field contains the full size embedding. It is [paged](https://docs.vespa.ai/en/attributes.html#paged-attributes): accesses to this field may require disk access, unless it has been cached by the kernel.\n",
                "\n",
                "We must add the schema to a Vespa [application package](https://docs.vespa.ai/en/application-packages.html).\n",
                "This consists of configuration files, schemas, models, and possibly even custom code (plugins).\n"
            ]
        },
        {
            "cell_type": "code",
            "execution_count": 34,
            "id": "7623eae2785240b9bd12b16a66d81610",
            "metadata": {
                "executionInfo": {
                    "elapsed": 239,
                    "status": "ok",
                    "timestamp": 1706652007584,
                    "user": {
                        "displayName": "Andreas Eriksen",
                        "userId": "00161553861396505040"
                    },
                    "user_tz": -60
                },
                "id": "66c5da1d"
            },
            "outputs": [],
            "source": [
                "from vespa.package import ApplicationPackage\n",
                "\n",
                "vespa_app_name = \"matryoshka\"\n",
                "vespa_application_package = ApplicationPackage(name=vespa_app_name, schema=[my_schema])"
            ]
        },
        {
            "cell_type": "markdown",
            "id": "7cdc8c89c7104fffa095e18ddfef8986",
            "metadata": {
                "id": "7fe3d7bd"
            },
            "source": [
                "In the last step, we configure [ranking](https://docs.vespa.ai/en/ranking.html) by adding `rank-profile`'s to the schema.\n",
                "\n",
                "Vespa supports has a rich set of built-in [rank-features](https://docs.vespa.ai/en/reference/rank-features.html), including many\n",
                "text-matching features such as:\n",
                "\n",
                "- [BM25](https://docs.vespa.ai/en/reference/bm25.html),\n",
                "- [nativeRank](https://docs.vespa.ai/en/reference/nativerank.html)\n",
                "  and [many more](https://docs.vespa.ai/en/reference/rank-features.html).\n",
                "\n",
                "Users can also define custom functions using [ranking expressions](https://docs.vespa.ai/en/reference/ranking-expressions.html).\n",
                "\n",
                "The following defines three runtime selectable Vespa ranking profiles:\n",
                "\n",
                "- `exact` uses the full-size embedding\n",
                "- `shortened` uses only 256 dimensions (exact, or using the approximate nearest neighbor HNSW index)\n",
                "- `rerank` uses the 256-dimension shortened embeddings (exact or ANN) in a first phase, and the full 3072-dimension embeddings in a second phase. By default the second phase is applied to the top 100 documents from the first phase.\n"
            ]
        },
        {
            "cell_type": "code",
            "execution_count": 35,
            "id": "b118ea5561624da68c537baed56e602f",
            "metadata": {
                "executionInfo": {
                    "elapsed": 407,
                    "status": "ok",
                    "timestamp": 1706652010412,
                    "user": {
                        "displayName": "Andreas Eriksen",
                        "userId": "00161553861396505040"
                    },
                    "user_tz": -60
                },
                "id": "a8ce5624"
            },
            "outputs": [],
            "source": [
                "from vespa.package import RankProfile, Function, FirstPhaseRanking, SecondPhaseRanking\n",
                "\n",
                "exact = RankProfile(\n",
                "    name=\"exact\",\n",
                "    inputs=[(\"query(q3072)\", \"tensor<float>(x[3072])\")],\n",
                "    functions=[Function(name=\"cos_sim\", expression=\"closeness(field, embedding)\")],\n",
                "    first_phase=FirstPhaseRanking(expression=\"cos_sim\"),\n",
                "    match_features=[\"cos_sim\"],\n",
                ")\n",
                "my_schema.add_rank_profile(exact)\n",
                "\n",
                "\n",
                "shortened = RankProfile(\n",
                "    name=\"shortened\",\n",
                "    inputs=[(\"query(q256)\", \"tensor<float>(x[256])\")],\n",
                "    functions=[Function(name=\"cos_sim_256\", expression=\"closeness(field, shortened)\")],\n",
                "    first_phase=FirstPhaseRanking(expression=\"cos_sim_256\"),\n",
                "    match_features=[\"cos_sim_256\"],\n",
                ")\n",
                "my_schema.add_rank_profile(shortened)\n",
                "\n",
                "\n",
                "rerank = RankProfile(\n",
                "    name=\"rerank\",\n",
                "    inputs=[\n",
                "        (\"query(q3072)\", \"tensor<float>(x[3072])\"),\n",
                "        (\"query(q256)\", \"tensor<float>(x[256])\"),\n",
                "    ],\n",
                "    functions=[\n",
                "        Function(name=\"cos_sim_256\", expression=\"closeness(field, shortened)\"),\n",
                "        Function(\n",
                "            name=\"cos_sim_3072\",\n",
                "            expression=\"cosine_similarity(query(q3072), attribute(embedding), x)\",\n",
                "        ),\n",
                "    ],\n",
                "    first_phase=FirstPhaseRanking(expression=\"cos_sim_256\"),\n",
                "    second_phase=SecondPhaseRanking(expression=\"cos_sim_3072\"),\n",
                "    match_features=[\"cos_sim_256\", \"cos_sim_3072\"],\n",
                ")\n",
                "my_schema.add_rank_profile(rerank)"
            ]
        },
        {
            "cell_type": "markdown",
            "id": "938c804e27f84196a10c8828c723f798",
            "metadata": {
                "id": "ce78268c"
            },
            "source": [
                "For an example of a `hybrid` rank-profile which combines semantic search with traditional text retrieval such as BM25, see the previous blog post: [Turbocharge RAG with LangChain and Vespa Streaming Mode for Sharded Data](https://blog.vespa.ai/turbocharge-rag-with-langchain-and-vespa-streaming-mode/)\n"
            ]
        },
        {
            "cell_type": "markdown",
            "id": "504fb2a444614c0babb325280ed9130a",
            "metadata": {
                "id": "846545f9"
            },
            "source": [
                "## Deploy the application to Vespa Cloud\n",
                "\n",
                "With the configured application, we can deploy it to [Vespa Cloud](https://cloud.vespa.ai/en/).\n",
                "\n",
                "To deploy the application to Vespa Cloud we need to create a tenant in the Vespa Cloud:\n",
                "\n",
                "Create a tenant at [console.vespa-cloud.com](https://console.vespa-cloud.com/) (unless you already have one).\n",
                "This step requires a Google or GitHub account, and will start your [free trial](https://cloud.vespa.ai/en/free-trial).\n",
                "\n",
                "Make note of the tenant name, it is used in the next steps.\n",
                "\n",
                "> Note: Deployments to dev and perf expire after 7 days of inactivity, i.e., 7 days after running deploy. This applies to all plans, not only the Free Trial. Use the Vespa Console to extend the expiry period, or redeploy the application to add 7 more days.\n"
            ]
        },
        {
            "cell_type": "code",
            "execution_count": 36,
            "id": "1671c31a24314836a5b85d7ef7fbf015",
            "metadata": {
                "executionInfo": {
                    "elapsed": 339,
                    "status": "ok",
                    "timestamp": 1706652019048,
                    "user": {
                        "displayName": "Andreas Eriksen",
                        "userId": "00161553861396505040"
                    },
                    "user_tz": -60
                },
                "id": "b5fddf9f"
            },
            "outputs": [],
            "source": [
                "from vespa.deployment import VespaCloud\n",
                "import os\n",
                "\n",
                "# Replace with your tenant name from the Vespa Cloud Console\n",
                "tenant_name = \"vespa-team\"\n",
                "\n",
                "# Key is only used for CI/CD. Can be removed if logging in interactively\n",
                "key = os.getenv(\"VESPA_TEAM_API_KEY\", None)\n",
                "if key is not None:\n",
                "    key = key.replace(r\"\\n\", \"\\n\")  # To parse key correctly\n",
                "\n",
                "vespa_cloud = VespaCloud(\n",
                "    tenant=tenant_name,\n",
                "    application=vespa_app_name,\n",
                "    key_content=key,  # Key is only used for CI/CD. Can be removed if logging in interactively\n",
                "    application_package=vespa_application_package,\n",
                ")"
            ]
        },
        {
            "cell_type": "markdown",
            "id": "33b0902fd34d4ace834912fa1002cf8e",
            "metadata": {
                "id": "fa9baa5a"
            },
            "source": [
                "Now deploy the app to Vespa Cloud dev zone.\n",
                "\n",
                "The first deployment typically takes 2 minutes until the endpoint is up.\n"
            ]
        },
        {
            "cell_type": "code",
            "execution_count": 37,
            "id": "f6fa52606d8c4a75a9b52967216f8f3f",
            "metadata": {
                "colab": {
                    "base_uri": "https://localhost:8080/"
                },
                "executionInfo": {
                    "elapsed": 12057,
                    "status": "ok",
                    "timestamp": 1706652033883,
                    "user": {
                        "displayName": "Andreas Eriksen",
                        "userId": "00161553861396505040"
                    },
                    "user_tz": -60
                },
                "id": "fe954dc4",
                "outputId": "6150363c-cfac-4240-e790-f84f98c481b0"
            },
            "outputs": [
                {
                    "name": "stdout",
                    "output_type": "stream",
                    "text": [
                        "Deployment started in run 3 of dev-aws-us-east-1c for vespa-team.matryoshka. This may take a few minutes the first time.\n",
                        "INFO    [15:51:53]  Deploying platform version 8.296.15 and application dev build 3 for dev-aws-us-east-1c of default ...\n",
                        "INFO    [15:51:53]  Using CA signed certificate version 0\n",
                        "INFO    [15:51:53]  Using 1 nodes in container cluster 'matryoshka_container'\n",
                        "INFO    [15:51:57]  Session 282395 for tenant 'vespa-team' prepared and activated.\n",
                        "INFO    [15:52:00]  ######## Details for all nodes ########\n",
                        "INFO    [15:52:09]  h88969c.dev.aws-us-east-1c.vespa-external.aws.oath.cloud: expected to be UP\n",
                        "INFO    [15:52:09]  --- platform vespa/cloud-tenant-rhel8:8.296.15 <-- :\n",
                        "INFO    [15:52:09]  --- logserver-container on port 4080 has not started \n",
                        "INFO    [15:52:09]  --- metricsproxy-container on port 19092 has not started \n",
                        "INFO    [15:52:09]  h88972f.dev.aws-us-east-1c.vespa-external.aws.oath.cloud: expected to be UP\n",
                        "INFO    [15:52:09]  --- platform vespa/cloud-tenant-rhel8:8.296.15 <-- :\n",
                        "INFO    [15:52:09]  --- container-clustercontroller on port 19050 has not started \n",
                        "INFO    [15:52:09]  --- metricsproxy-container on port 19092 has not started \n",
                        "INFO    [15:52:09]  h90002a.dev.aws-us-east-1c.vespa-external.aws.oath.cloud: expected to be UP\n",
                        "INFO    [15:52:09]  --- platform vespa/cloud-tenant-rhel8:8.296.15 <-- :\n",
                        "INFO    [15:52:09]  --- storagenode on port 19102 has not started \n",
                        "INFO    [15:52:09]  --- searchnode on port 19107 has not started \n",
                        "INFO    [15:52:09]  --- distributor on port 19111 has not started \n",
                        "INFO    [15:52:09]  --- metricsproxy-container on port 19092 has not started \n",
                        "INFO    [15:52:09]  h90512a.dev.aws-us-east-1c.vespa-external.aws.oath.cloud: expected to be UP\n",
                        "INFO    [15:52:09]  --- platform vespa/cloud-tenant-rhel8:8.296.15 <-- :\n",
                        "INFO    [15:52:09]  --- container on port 4080 has not started \n",
                        "INFO    [15:52:09]  --- metricsproxy-container on port 19092 has not started \n",
                        "INFO    [15:53:11]  Found endpoints:\n",
                        "INFO    [15:53:11]  - dev.aws-us-east-1c\n",
                        "INFO    [15:53:11]   |-- https://e5ba4967.b2349765.z.vespa-app.cloud/ (cluster 'matryoshka_container')\n",
                        "INFO    [15:53:12]  Installation succeeded!\n",
                        "Using mTLS (key,cert) Authentication against endpoint https://e5ba4967.b2349765.z.vespa-app.cloud//ApplicationStatus\n",
                        "Application is up!\n",
                        "Finished deployment.\n"
                    ]
                }
            ],
            "source": [
                "from vespa.application import Vespa\n",
                "\n",
                "app: Vespa = vespa_cloud.deploy()"
            ]
        },
        {
            "cell_type": "markdown",
            "id": "497844aa",
            "metadata": {},
            "source": [
                "## Get OpenAI embeddings for documents in the dataset\n",
                "\n",
                "When producing the embeddings, we concatenate the title and text into a single string. We could also have created two separate embedding fields for text and title, combining the rank scores for these fields in a Vespa [rank expression](https://docs.vespa.ai/en/ranking-expressions-features.html).\n"
            ]
        },
        {
            "cell_type": "code",
            "execution_count": 44,
            "id": "ba38b051",
            "metadata": {
                "colab": {
                    "base_uri": "https://localhost:8080/"
                },
                "executionInfo": {
                    "elapsed": 263200,
                    "status": "ok",
                    "timestamp": 1706653783747,
                    "user": {
                        "displayName": "Andreas Eriksen",
                        "userId": "00161553861396505040"
                    },
                    "user_tz": -60
                },
                "id": "4qR4Aa-1Qd2H",
                "outputId": "77150eda-1b55-4035-a121-03172ddb827a"
            },
            "outputs": [],
            "source": [
                "import concurrent.futures\n",
                "\n",
                "# only embed 100 docs while developing\n",
                "sample_docs = list(dataset.docs_iter())[:100]\n",
                "\n",
                "\n",
                "def embed_doc(doc):\n",
                "    embedding = embed(\n",
                "        (doc.title + \" \" + doc.text)[:8192]\n",
                "    )  # we crop the ~25 documents which are longer than the context window\n",
                "    shortened = embedding[0:256]\n",
                "    return {\n",
                "        \"doc_id\": doc.doc_id,\n",
                "        \"text\": doc.text,\n",
                "        \"title\": doc.title,\n",
                "        \"url\": doc.url,\n",
                "        \"pubmed_id\": doc.pubmed_id,\n",
                "        \"shortened\": {\"type\": \"tensor<float>(x[256])\", \"values\": shortened},\n",
                "        \"embedding\": {\"type\": \"tensor<float>(x[3072])\", \"values\": embedding},\n",
                "    }\n",
                "\n",
                "\n",
                "with concurrent.futures.ThreadPoolExecutor(max_workers=4) as executor:\n",
                "    my_docs_to_feed = list(executor.map(embed_doc, sample_docs))"
            ]
        },
        {
            "cell_type": "markdown",
            "id": "f5a1fa73e5044315a093ec459c9be902",
            "metadata": {
                "id": "54db44b1"
            },
            "source": [
                "## Feeding the dataset and embeddings into Vespa\n",
                "\n",
                "Now that we have parsed the dataset and created an object with the fields that we want to add to Vespa, we must format the\n",
                "object into the format that PyVespa accepts. Notice the `fields`, `id` and `groupname` keys. The `groupname` is the\n",
                "key that is used to shard and co-locate the data and is only relevant when using Vespa with [streaming mode](https://docs.vespa.ai/en/streaming-search.html).\n"
            ]
        },
        {
            "cell_type": "code",
            "execution_count": 45,
            "id": "cdf66aed5cc84ca1b48e60bad68798a8",
            "metadata": {
                "executionInfo": {
                    "elapsed": 240,
                    "status": "ok",
                    "timestamp": 1706653943485,
                    "user": {
                        "displayName": "Andreas Eriksen",
                        "userId": "00161553861396505040"
                    },
                    "user_tz": -60
                },
                "id": "bcbfa981"
            },
            "outputs": [],
            "source": [
                "from typing import Iterable\n",
                "\n",
                "\n",
                "def vespa_feed(user: str) -> Iterable[dict]:\n",
                "    for doc in reversed(my_docs_to_feed):\n",
                "        yield {\"fields\": doc, \"id\": doc[\"doc_id\"], \"groupname\": user}"
            ]
        },
        {
            "cell_type": "markdown",
            "id": "28d3efd5258a48a79c179ea5c6759f01",
            "metadata": {
                "id": "2ff628ac"
            },
            "source": [
                "Now, we can feed to the Vespa instance (`app`), using the `feed_iterable` API, using the generator function above as input\n",
                "with a custom `callback` function.\n"
            ]
        },
        {
            "cell_type": "code",
            "execution_count": 46,
            "id": "3f9bc0b9dd2c44919cc8dcca39b469f8",
            "metadata": {
                "executionInfo": {
                    "elapsed": 11460,
                    "status": "ok",
                    "timestamp": 1706653964122,
                    "user": {
                        "displayName": "Andreas Eriksen",
                        "userId": "00161553861396505040"
                    },
                    "user_tz": -60
                },
                "id": "dc1b3029"
            },
            "outputs": [],
            "source": [
                "from vespa.io import VespaResponse\n",
                "\n",
                "\n",
                "def callback(response: VespaResponse, id: str):\n",
                "    if not response.is_successful():\n",
                "        print(\n",
                "            f\"Document {id} failed to feed with status code {response.status_code}, url={response.url} response={response.json}\"\n",
                "        )\n",
                "\n",
                "\n",
                "app.feed_iterable(\n",
                "    schema=\"my_schema\",\n",
                "    iter=vespa_feed(\"\"),\n",
                "    callback=callback,\n",
                "    max_queue_size=2000,\n",
                "    max_workers=32,\n",
                "    max_connections=64,\n",
                ")"
            ]
        },
        {
            "cell_type": "markdown",
            "id": "76d43464",
            "metadata": {},
            "source": [
                "### Embedding the queries\n",
                "\n",
                "We need to obtain embeddings for the queries from OpenAI. If only using the shortened embedding for the query, you should specify this in the OpenAI API call to reduce latency.\n"
            ]
        },
        {
            "cell_type": "code",
            "execution_count": 47,
            "id": "a80cbfba",
            "metadata": {},
            "outputs": [],
            "source": [
                "queries = []\n",
                "for q in dataset.queries_iter():\n",
                "    queries.append({\"text\": q.text, \"embedding\": embed(q.text), \"id\": q.query_id})"
            ]
        },
        {
            "cell_type": "markdown",
            "id": "0e382214b5f147d187d36a2058b9c724",
            "metadata": {
                "id": "20b007ec"
            },
            "source": [
                "### Querying data\n",
                "\n",
                "Now we can query our data. We'll do it in a few different ways, using the rank profiles we defined in the schema:\n",
                "\n",
                "- Exhaustive (exact) nearest neighbor search with the full embeddings (3072 dimensions)\n",
                "- Exhaustive (exact) nearest neighbor search with the shortened 256 dimensions\n",
                "- Approximate nearest neighbor search, using the 256 dimension ANN HNSW index\n",
                "- Approximate nearest neighbor search, using the 256 dimension ANN HNSW index in the first phase, then reranking top 100 hits with the full embeddings\n",
                "\n",
                "The query request uses the Vespa Query API and the `Vespa.query()` function\n",
                "supports passing any of the Vespa query API parameters.\n",
                "\n",
                "Read more about querying Vespa in:\n",
                "\n",
                "- [Vespa Query API](https://docs.vespa.ai/en/query-api.html)\n",
                "- [Vespa Query API reference](https://docs.vespa.ai/en/reference/query-api-reference.html)\n",
                "- [Vespa Query Language API (YQL)](https://docs.vespa.ai/en/query-language.html)\n"
            ]
        },
        {
            "cell_type": "code",
            "execution_count": 73,
            "id": "5b09d5ef5b5e4bb6ab9b829b10b6a29f",
            "metadata": {
                "colab": {
                    "base_uri": "https://localhost:8080/"
                },
                "executionInfo": {
                    "elapsed": 1347,
                    "status": "ok",
                    "timestamp": 1705658900475,
                    "user": {
                        "displayName": "Andreas Eriksen",
                        "userId": "00161553861396505040"
                    },
                    "user_tz": -60
                },
                "id": "b9349fb4",
                "outputId": "08eafc2f-0856-4c6b-9f13-2decf754228c"
            },
            "outputs": [
                {
                    "name": "stdout",
                    "output_type": "stream",
                    "text": [
                        "Sample query: what is the origin of COVID-19\n"
                    ]
                },
                {
                    "name": "stdout",
                    "output_type": "stream",
                    "text": [
                        "{\n",
                        "  \"id\": \"index:matryoshka_content/0/16c7e8749fb82d3b5e37bedb\",\n",
                        "  \"relevance\": 0.6591723960884718,\n",
                        "  \"source\": \"matryoshka_content\",\n",
                        "  \"fields\": {\n",
                        "    \"matchfeatures\": {\n",
                        "      \"cos_sim_256\": 0.5481410972571522,\n",
                        "      \"cos_sim_3072\": 0.6591723960884718\n",
                        "    },\n",
                        "    \"doc_id\": \"beguhous\"\n",
                        "  }\n",
                        "}\n"
                    ]
                }
            ],
            "source": [
                "import json\n",
                "\n",
                "\n",
                "def query_exact(q):\n",
                "    return session.query(\n",
                "        yql=\"select doc_id, title from my_schema where ({targetHits: 10, approximate:false}nearestNeighbor(embedding,q3072)) limit 10\",\n",
                "        ranking=\"exact\",\n",
                "        timeout=10,\n",
                "        body={\"presentation.timing\": \"true\", \"input.query(q3072)\": q[\"embedding\"]},\n",
                "    )\n",
                "\n",
                "\n",
                "def query_256(q):\n",
                "    return session.query(\n",
                "        yql=\"select doc_id from my_schema where ({targetHits: 10, approximate:false}nearestNeighbor(shortened,q256)) limit 10\",\n",
                "        ranking=\"shortened\",\n",
                "        timeout=10,\n",
                "        body={\"presentation.timing\": \"true\", \"input.query(q256)\": q[\"embedding\"][:256]},\n",
                "    )\n",
                "\n",
                "\n",
                "def query_256_ann(q):\n",
                "    return session.query(\n",
                "        yql=\"select doc_id from my_schema where ({targetHits: 100, approximate:true}nearestNeighbor(shortened,q256)) limit 10\",\n",
                "        ranking=\"shortened\",\n",
                "        timeout=10,\n",
                "        body={\"presentation.timing\": \"true\", \"input.query(q256)\": q[\"embedding\"][:256]},\n",
                "    )\n",
                "\n",
                "\n",
                "def query_rerank(q):\n",
                "    return session.query(\n",
                "        yql=\"select doc_id from my_schema where ({targetHits: 100, approximate:true}nearestNeighbor(shortened,q256)) limit 10\",\n",
                "        ranking=\"rerank\",\n",
                "        timeout=10,\n",
                "        body={\n",
                "            \"presentation.timing\": \"true\",\n",
                "            \"input.query(q256)\": q[\"embedding\"][:256],\n",
                "            \"input.query(q3072)\": q[\"embedding\"],\n",
                "        },\n",
                "    )\n",
                "\n",
                "\n",
                "print(\"Sample query:\", queries[0][\"text\"])\n",
                "with app.syncio() as session:\n",
                "    print(json.dumps(query_rerank(queries[0]).hits[0], indent=2))"
            ]
        },
        {
            "cell_type": "markdown",
            "id": "a50416e276a0479cbe66534ed1713a40",
            "metadata": {
                "id": "4d3ca1da"
            },
            "source": [
                "Here's the top result from the first query. Notice the `matchfeatures` that returns the match-features from the rank-profile.\n",
                "\n",
                "Now for each method of querying, we'll run all our queries and note the rank of each document in the response:\n"
            ]
        },
        {
            "cell_type": "code",
            "execution_count": 72,
            "id": "46a27a456b804aa2a380d5edf15a5daf",
            "metadata": {},
            "outputs": [
                {
                    "name": "stdout",
                    "output_type": "stream",
                    "text": [
                        "\n",
                        "run query_exact\n"
                    ]
                },
                {
                    "name": "stdout",
                    "output_type": "stream",
                    "text": [
                        ".................................................. avg query time 2.7918 s\n",
                        "\n",
                        "run query_256\n",
                        ".................................................. avg query time 0.3040 s\n",
                        "\n",
                        "run query_256_ann\n",
                        ".................................................. avg query time 0.0252 s\n",
                        "\n",
                        "run query_rerank\n",
                        ".................................................. avg query time 0.0310 s\n"
                    ]
                }
            ],
            "source": [
                "global qt\n",
                "\n",
                "\n",
                "def run_queries(query_function):\n",
                "    print(\n",
                "        \"\\nrun\",\n",
                "        query_function.__name__,\n",
                "    )\n",
                "    results = {}\n",
                "    for q in queries:\n",
                "        response = query_function(q)\n",
                "        assert response.is_successful()\n",
                "        print(\".\", end=\"\")\n",
                "        results[q[\"id\"]] = {}\n",
                "        for pos, hit in enumerate(response.hits, start=1):\n",
                "            global qt\n",
                "            qt += float(response.get_json()[\"timing\"][\"querytime\"])\n",
                "            results[q[\"id\"]][hit[\"fields\"][\"doc_id\"]] = pos\n",
                "    return results\n",
                "\n",
                "\n",
                "query_functions = (query_exact, query_256, query_256_ann, query_rerank)\n",
                "runs = {}\n",
                "\n",
                "with app.syncio() as session:\n",
                "    for f in query_functions:\n",
                "        qt = 0\n",
                "        runs[f.__name__] = run_queries(f)\n",
                "        print(\" avg query time {:.4f} s\".format(qt / len(queries)))"
            ]
        },
        {
            "cell_type": "markdown",
            "id": "8ef7f0ea",
            "metadata": {},
            "source": [
                "The query time numbers here are NOT a proper benchmark but can illustrate some significant trends for this case:\n",
                "\n",
                "- Doing exact NN with 3072 dimensions is too slow and expensive for many use cases\n",
                "- Reducing dimensionality to 256 reduces latency by an order of magnitude\n",
                "- Using an ANN index improves query time by another order of magnitude\n",
                "- Re-ranking the top 100 results with the full embedding causes only a slight increase\n",
                "\n",
                "We could use [more cores per search](https://docs.vespa.ai/en/performance/sizing-search.html#reduce-latency-with-multi-threaded-per-search-execution) or sharding over multiple nodes to improve latency and handle larger content volumes.\n",
                "\n",
                "## Evaluating the query results\n",
                "\n",
                "We need to get the query relevance judgements into the format supported by pytrec_eval:\n"
            ]
        },
        {
            "cell_type": "code",
            "execution_count": 62,
            "id": "b6463331",
            "metadata": {},
            "outputs": [],
            "source": [
                "qrels = {}\n",
                "\n",
                "for q in dataset.queries_iter():\n",
                "    qrels[q.query_id] = {}\n",
                "\n",
                "for qrel in dataset.qrels_iter():\n",
                "    qrels[qrel.query_id][qrel.doc_id] = qrel.relevance"
            ]
        },
        {
            "cell_type": "markdown",
            "id": "1e2a2458",
            "metadata": {},
            "source": [
                "With that done, we can check the scores for the first query:\n"
            ]
        },
        {
            "cell_type": "code",
            "execution_count": 70,
            "id": "1f1ea280",
            "metadata": {},
            "outputs": [
                {
                    "name": "stdout",
                    "output_type": "stream",
                    "text": [
                        "beguhous 2\n",
                        "k9lcpjyo 2\n",
                        "pl48ev5o 2\n",
                        "jwxt4ygt 2\n",
                        "dv9m19yk 1\n",
                        "ft4rbcxf 1\n",
                        "h8ahn8fw 2\n",
                        "6y1gwszn 2\n",
                        "3xusxrij -\n",
                        "2tyt8255 1\n"
                    ]
                }
            ],
            "source": [
                "for docid in runs[\"query_256_ann\"][\"1\"]:\n",
                "    score = qrels[\"1\"].get(docid)\n",
                "    print(docid, score or \"-\")"
            ]
        },
        {
            "cell_type": "markdown",
            "id": "4ec3e717",
            "metadata": {},
            "source": [
                "A lot of '2', that is, 'highly relevant' results: Looks promising! Now we can use trec_eval to evaluate all the data for each run. The quality measure we use here is `nDCG@10` - [Normalized Discounted Cumulative Gain](https://en.wikipedia.org/wiki/Discounted_cumulative_gain#Normalized_DCG), computed for the first 10 results of each query. The evaluations are per-query so we compute and report the average per run.\n"
            ]
        },
        {
            "cell_type": "code",
            "execution_count": 71,
            "id": "2eb287cf",
            "metadata": {},
            "outputs": [
                {
                    "name": "stdout",
                    "output_type": "stream",
                    "text": [
                        "query_exact \tndcg_cut_10: 0.7870\n",
                        "query_256 \tndcg_cut_10: 0.7574\n",
                        "query_256_ann \tndcg_cut_10: 0.7552\n",
                        "query_rerank \tndcg_cut_10: 0.7886\n"
                    ]
                }
            ],
            "source": [
                "import pytrec_eval\n",
                "\n",
                "\n",
                "def evaluate(run):\n",
                "    evaluator = pytrec_eval.RelevanceEvaluator(qrels, {\"ndcg_cut.10\"})\n",
                "    evaluation = evaluator.evaluate(run)\n",
                "\n",
                "    sum = 0\n",
                "    for ev in evaluation:\n",
                "        sum += evaluation[ev][\"ndcg_cut_10\"]\n",
                "    return sum / len(evaluation)\n",
                "\n",
                "\n",
                "for run in runs:\n",
                "    print(run, \"\\tndcg_cut_10: {:.4f}\".format(evaluate(runs[run])))"
            ]
        },
        {
            "cell_type": "markdown",
            "id": "1944c39560714e6e80c856f20744a8e5",
            "metadata": {
                "id": "7c8b8223"
            },
            "source": [
                "## Conclusions\n",
                "\n",
                "What do the numbers mean? They are good, highly relevant results. This is no great surprise, as the OpenAI embedding models are reported to score high on the [Massive Text Embedding Benchmark](https://github.com/embeddings-benchmark/mteb), of which our [BEIR](https://github.com/beir-cellar/beir)/TREC-COVID dataset is a part.\n",
                "\n",
                "More interesting to us, querying with the first 256 dimensions still gives quite good results, while requiring only **8.3%** of the memory. We also note that although the HNSW index is an approximation, result quality is impacted very little, while producing the results an order of magnitude faster.\n",
                "\n",
                "When adding a second phase to re-rank the top 100 hits using the full embeddings, the results are as good as the exact search, while retaining the lower latency, giving us the best of both worlds.\n",
                "\n",
                "## Summary\n",
                "\n",
                "For those interested in learning more about Vespa, join the [Vespa community on Slack](https://vespatalk.slack.com/) to exchange ideas,\n",
                "seek assistance, or stay in the loop on the latest Vespa developments.\n",
                "\n",
                "We can now delete the cloud instance:\n"
            ]
        },
        {
            "cell_type": "code",
            "execution_count": null,
            "id": "d6ca27006b894b04b6fc8b79396e2797",
            "metadata": {
                "colab": {
                    "base_uri": "https://localhost:8080/"
                },
                "executionInfo": {
                    "elapsed": 3720,
                    "status": "ok",
                    "timestamp": 1705505103257,
                    "user": {
                        "displayName": "Andreas Eriksen",
                        "userId": "00161553861396505040"
                    },
                    "user_tz": -60
                },
                "id": "71e310e3",
                "outputId": "991b1965-6c33-4985-e873-a92c43695528"
            },
            "outputs": [],
            "source": [
                "vespa_cloud.delete()"
            ]
        }
    ],
    "metadata": {
        "colab": {
            "name": "",
            "provenance": [
                {
                    "file_id": "1FoVAybR6dhXy-uDkVuDfBtVzSJoresCB",
                    "timestamp": 1706644027750
                }
            ],
            "version": ""
        },
        "kernelspec": {
            "display_name": "Python 3.11.4 64-bit",
            "language": "python",
            "name": "python3"
        },
        "language_info": {
            "codemirror_mode": {
                "name": "ipython",
                "version": 3
            },
            "file_extension": ".py",
            "mimetype": "text/x-python",
            "name": "python",
            "nbconvert_exporter": "python",
            "pygments_lexer": "ipython3",
            "version": "3.10.13"
        },
        "vscode": {
            "interpreter": {
                "hash": "b0fa6594d8f4cbf19f97940f81e996739fb7646882a419484c72d19e05852a7e"
            }
        }
    },
    "nbformat": 4,
    "nbformat_minor": 5
}