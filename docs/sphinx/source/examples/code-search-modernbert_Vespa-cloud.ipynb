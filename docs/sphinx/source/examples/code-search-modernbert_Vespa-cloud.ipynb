{
 "cells": [
  {
   "cell_type": "markdown",
   "id": "given-adoption",
   "metadata": {},
   "source": [
    "<picture>\n",
    "  <source media=\"(prefers-color-scheme: dark)\" srcset=\"https://assets.vespa.ai/logos/Vespa-logo-green-RGB.svg\">\n",
    "  <source media=\"(prefers-color-scheme: light)\" srcset=\"https://assets.vespa.ai/logos/Vespa-logo-dark-RGB.svg\">\n",
    "  <img alt=\"#Vespa\" width=\"200\" src=\"https://assets.vespa.ai/logos/Vespa-logo-dark-RGB.svg\" style=\"margin-bottom: 25px;\">\n",
    "</picture>\n",
    "\n",
    "# Creating a code search application with Vespa and ModernBERT\n",
    "\n",
    "In this notebook, we will demonstrate how to build a code search application using [Vespa](https://vespa.ai/) and the recently released [Alibaba-NLP/gte-modernbert-base](https://huggingface.co/Alibaba-NLP/gte-modernbert-base).\n",
    "\n",
    "In december 2024, [Answer.AI](www.answer.ai) and [LightOn](https://www.lighton.ai/) recently [announced](https://huggingface.co/blog/modernbert) ModernBERT, a new and modernized version of [BERT](https://huggingface.co/papers/1810.04805).\n",
    "\n",
    "BERT was released in 2018, and is in 2025 still _the_ most downloaded text model from [Huggingface Hub](https://huggingface.co/models?sort=downloads) (and 3rd overall). There have been many learnings and improvements since then, and ModernBERT's goal was to incorporate all the learnings from the past 7 years when training a new base model.\n",
    "\n",
    "\n",
    "![ModernBERT](https://www.answer.ai/posts/2024-12-19-modernbert/modernbert_pareto_curve.png)\n",
    "\n",
    "And as you can see in the image above, they succeeded. ModernBERT is a pareto improvement (both speed and performance) over BERT and its descendants. \n",
    "\n",
    "Like BERT, ModernBERT is a base model, which is trained on the masked language model (MLM) objective. (Predict a masked token). This means that it is a general-purpose model that can (and should) be fine-tuned on a wide range of tasks, like text classification, named entity recognition, and retrieval.\n",
    "\n",
    "And only a month after its release, we are already starting to see many fine-tuned models based on ModernBERT.\n",
    "\n",
    "Some notable examples are:\n",
    "- [jxm/cde-small-v2](https://huggingface.co/jxm/cde-small-v2)\n",
    "- [Alibaba-NLP/gte-modernbert-base](https://huggingface.co/Alibaba-NLP/gte-modernbert-base)\n",
    "\n",
    "To view all the models that are fine-tuned on ModernBERT, you can check out its model tree at [Huggingface Hub](https://huggingface.co/models?other=base_model:finetune:answerdotai/ModernBERT-base).\n",
    "\n",
    "## Code retrieval is where ModernBERT shines\n",
    "\n",
    "As explained in this insightful [blog post](https://jina.ai/news/what-should-we-learn-from-modernbert/) by Jina.ai, ModernBERT performs particularly well on code retrieval, largely because is trained on a lot of code, and uses the [OLMo-tokenizer](https://huggingface.co/docs/transformers/en/model_doc/olmo), whic also was trained on code.\n",
    "\n",
    "![code tokens](https://jina-ai-gmbh.ghost.io/content/images/2025/01/code_tokens-cheat-2.svg)\n",
    "\n",
    "As we can see, the ModernBERT tokenizer does a better job of tokenizing code.\n",
    "\n",
    "Excellent [analysis](https://github.com/kevlariii/ModernBERT-code-tokenizer-insights)\n",
    "\n",
    "The ModernBERT authors shared their interest for programming-related tasks in their [blog post](https://huggingface.co/blog/modernbert):\n",
    "\n",
    "> ... out of all the existing open source encoders, ModernBERT is in a class of its own on programming-related tasks. We’re particularly interested in what downstream uses this will lead to, in terms of improving programming assistants.\n",
    "\n",
    "## Code retrieval benchmark\n",
    "\n",
    "[CoIR](https://arxiv.org/pdf/2407.02883) is a comprehensive benchmark for code information retrieval. \n",
    "\n",
    "![CoIR](../_static/coir.png)\n"
   ]
  },
  {
   "cell_type": "markdown",
   "id": "8c967bd2",
   "metadata": {},
   "source": [
    "<div class=\"alert alert-info\">\n",
    "    Refer to <a href=\"https://pyvespa.readthedocs.io/en/latest/troubleshooting.html\">troubleshooting</a>\n",
    "    for any problem when running this guide.\n",
    "</div>"
   ]
  },
  {
   "cell_type": "code",
   "execution_count": 36,
   "id": "03f3d0f2",
   "metadata": {},
   "outputs": [],
   "source": [
    "#!pip3 install pyvespa vespacli datasets"
   ]
  },
  {
   "cell_type": "markdown",
   "id": "e8cfb30a",
   "metadata": {},
   "source": [
    "## Retrieving the ONNX model for use with Vespa\n",
    "\n",
    "Vespa supports both [embedding](https://docs.vespa.ai/en/embedding.html#huggingface-embedder) and [ranking](https://docs.vespa.ai/en/onnx.html) with ONNX models.\n",
    "\n",
    "Previously, we would have to convert each model to ONNX format for use with Vespa.\n",
    "\n",
    "Lucky for us, [Tom Aarsen](https://huggingface.co/tomaarsen) and [transformers.js](https://github.com/huggingface/transformers.js)-maintainer [@xenova](https://huggingface.co/Xenova) have done an amazing job in making sure new huggingface models are converted to ONNX format for us.\n"
   ]
  },
  {
   "cell_type": "markdown",
   "id": "9d4014e0",
   "metadata": {},
   "source": [
    "## Find the model you are interested in using with Vespa on Huggingface\n",
    "\n",
    "https://huggingface.co/models?pipeline_tag=sentence-similarity&library=onnx&sort=trending is a good starting point.\n",
    "\n",
    "When you have found a model you are interested in using, click the \"Files\"-tab and locate the download button of the ONNX model-file, right-click and copy the download link.\n",
    "\n",
    "![Download ONNX model](../_static/download_hf.png)"
   ]
  },
  {
   "cell_type": "markdown",
   "id": "7fb27b941602401d91542211134fc71a",
   "metadata": {},
   "source": [
    "## Making sure the configuration is correct\n",
    "\n",
    "The [Vespa docs](https://docs.vespa.ai/en/reference/embedding-reference.html#huggingface-embedder) specifies \n",
    "\n",
    "## Huggingface Embedder\n",
    "\n",
    "An embedder using any Huggingface tokenizer, including multilingual tokenizers, to produce tokens which is then input to a supplied transformer model in ONNX model format.\n",
    "\n",
    "The Huggingface embedder is configured in services.xml, within the `container` tag:\n",
    "\n",
    "```\n",
    "<container id=\"default\" version=\"1.0\">\n",
    "    <component id=\"hf-embedder\" type=\"hugging-face-embedder\">\n",
    "        <transformer-model path=\"my-models/model.onnx\"/>\n",
    "        <tokenizer-model path=\"my-models/tokenizer.json\"/>\n",
    "        <prepend>\n",
    "          <query>query:</query>\n",
    "          <document>passage:</document>\n",
    "        </prepend>\n",
    "    </component>\n",
    "    ...\n",
    "</container>\n",
    "```\n",
    "\n",
    "### Huggingface embedder reference config\n",
    "\n",
    "In addition to embedder ONNX parameters:\n",
    "\n",
    "Name | Occurrence | Description | Type | Default  \n",
    "---|---|---|---|---  \n",
    "transformer-model | One | Use to point to the transformer ONNX model file | model-type | N/A  \n",
    "tokenizer-model | One | Use to point to the `tokenizer.json` Huggingface tokenizer configuration file | model-type | N/A  \n",
    "max-tokens | One | The maximum number of tokens accepted by the transformer model | numeric | 512  \n",
    "transformer-input-ids | One | The name or identifier for the transformer input IDs | string | input_ids  \n",
    "transformer-attention-mask | One | The name or identifier for the transformer attention mask | string | attention_mask  \n",
    "transformer-token-type-ids | One | The name or identifier for the transformer token type IDs. If the model does not use `token_type_ids` use `<transformer-token-type-ids/>` | string | token_type_ids  \n",
    "transformer-output | One | The name or identifier for the transformer output | string | last_hidden_state  \n",
    "pooling-strategy | One | How the output vectors of the ONNX model is pooled to obtain a single vector representation. Valid values are `mean` and `cls` | string | mean  \n",
    "normalize | One | A boolean indicating whether to normalize the output embedding vector to unit length (length 1). Useful for `prenormalized-angular` distance-metric | boolean | false  \n",
    "prepend | Optional | Prepend instructions that are prepended to the text input before tokenization and inference. Useful for models that have been trained with specific prompt instructions. The instructions are prepended to the input text. | Element `<query>` and/or `<document>`  | Optional query/doc prepend instruction.\n"
   ]
  },
  {
   "cell_type": "code",
   "execution_count": 1,
   "id": "dd4f011a",
   "metadata": {},
   "outputs": [],
   "source": [
    "# model_url = \"https://huggingface.co/Alibaba-NLP/gte-modernbert-base/resolve/main/onnx/model_quantized.onnx?download=true\"\n",
    "\n",
    "# tokenizer_url = \"https://huggingface.co/Alibaba-NLP/gte-modernbert-base/resolve/main/tokenizer.json?download=true\""
   ]
  },
  {
   "cell_type": "markdown",
   "id": "4dc1f988",
   "metadata": {},
   "source": [
    "We will also run inference on a sample query to verify that we get the same results in Vespa as in the original model."
   ]
  },
  {
   "cell_type": "code",
   "execution_count": 2,
   "id": "0f1edef8",
   "metadata": {},
   "outputs": [],
   "source": [
    "from datasets import load_dataset\n",
    "\n",
    "dataset_id = \"CoIR-Retrieval/cosqa\"\n",
    "ds = load_dataset(dataset_id, \"corpus\")"
   ]
  },
  {
   "cell_type": "code",
   "execution_count": 6,
   "id": "18ca33e3",
   "metadata": {},
   "outputs": [],
   "source": [
    "docs = ds[\"corpus\"]"
   ]
  },
  {
   "cell_type": "code",
   "execution_count": 7,
   "id": "736f1e22",
   "metadata": {},
   "outputs": [
    {
     "data": {
      "text/plain": [
       "20604"
      ]
     },
     "execution_count": 7,
     "metadata": {},
     "output_type": "execute_result"
    }
   ],
   "source": [
    "len(docs)"
   ]
  },
  {
   "cell_type": "code",
   "execution_count": 8,
   "id": "19bf6330",
   "metadata": {},
   "outputs": [],
   "source": [
    "sample_text, sample_id = docs[0][\"text\"], docs[0][\"_id\"]"
   ]
  },
  {
   "cell_type": "code",
   "execution_count": 9,
   "id": "35e64c8a",
   "metadata": {},
   "outputs": [
    {
     "data": {
      "text/markdown": [
       "**Snippet:**\n",
       "\n",
       "```python\n",
       "def writeBoolean(self, n):\n",
       "        \"\"\"\n",
       "        Writes a Boolean to the stream.\n",
       "        \"\"\"\n",
       "        t = TYPE_BOOL_TRUE\n",
       "\n",
       "        if n is False:\n",
       "            t = TYPE_BOOL_FALSE\n",
       "\n",
       "        self.stream.write(t)\n",
       "```"
      ],
      "text/plain": [
       "<IPython.core.display.Markdown object>"
      ]
     },
     "metadata": {},
     "output_type": "display_data"
    }
   ],
   "source": [
    "from IPython.display import display, Markdown\n",
    "\n",
    "\n",
    "def display_snippet(snippet):\n",
    "    display(Markdown(f\"**Snippet:**\\n\\n```python\\n{snippet}\\n```\"))\n",
    "\n",
    "\n",
    "display_snippet(sample_text)"
   ]
  },
  {
   "cell_type": "code",
   "execution_count": 3,
   "id": "cd2af91d",
   "metadata": {},
   "outputs": [],
   "source": [
    "model_name = \"gte-modernbert-base\"\n",
    "model_dims = 768"
   ]
  },
  {
   "cell_type": "markdown",
   "id": "db637322",
   "metadata": {},
   "source": [
    "## Create an application package\n",
    "\n",
    "The [application package](https://pyvespa.readthedocs.io/en/latest/reference-api.html#vespa.package.ApplicationPackage)\n",
    "has all the Vespa configuration files -\n",
    "create one from scratch:"
   ]
  },
  {
   "cell_type": "code",
   "execution_count": 16,
   "id": "a1585348",
   "metadata": {},
   "outputs": [],
   "source": [
    "from vespa.package import ServicesConfiguration\n",
    "from vespa.configuration.services import (\n",
    "    services,\n",
    "    container,\n",
    "    search,\n",
    "    document_api,\n",
    "    document_processing,\n",
    "    content,\n",
    "    redundancy,\n",
    "    documents,\n",
    "    document,\n",
    "    node,\n",
    "    nodes,\n",
    "    gpu,\n",
    "    component,\n",
    "    components,\n",
    "    transformer_model,\n",
    "    max_tokens,\n",
    "    pooling_strategy,\n",
    "    resources,\n",
    ")\n",
    "\n",
    "application_name = \"codesearcheval\"\n",
    "schema_name = \"snippets\"\n",
    "\n",
    "\n",
    "services_config = ServicesConfiguration(\n",
    "    application_name=application_name,\n",
    "    services_config=services(\n",
    "        container(\n",
    "            search(),\n",
    "            document_api(),\n",
    "            document_processing(),\n",
    "            components(\n",
    "                component(\n",
    "                    transformer_model(model_id=\"alibaba-gte-modernbert\"),\n",
    "                    max_tokens(\"8192\"),\n",
    "                    pooling_strategy(\"cls\"),\n",
    "                    type=\"hugging-face-embedder\",\n",
    "                    id=model_name,\n",
    "                ),\n",
    "            ),\n",
    "            nodes(\n",
    "                resources(\n",
    "                    gpu(count=\"1\", memory=\"16Gb\"), vcpu=\"4\", memory=\"16Gb\", disk=\"125Gb\"\n",
    "                ),\n",
    "                count=\"2\",\n",
    "            ),\n",
    "            id=f\"{application_name}_container\",\n",
    "            version=\"1.0\",\n",
    "        ),\n",
    "        content(\n",
    "            redundancy(\"1\"),\n",
    "            nodes(node(distribution_key=\"0\", hostalias=\"node1\")),\n",
    "            documents(document(type=schema_name, mode=\"index\")),\n",
    "            id=f\"{application_name}_content\",\n",
    "            version=\"1.0\",\n",
    "        ),\n",
    "    ),\n",
    ")"
   ]
  },
  {
   "cell_type": "code",
   "execution_count": 17,
   "id": "bd5c2629",
   "metadata": {},
   "outputs": [],
   "source": [
    "from vespa.package import (\n",
    "    ApplicationPackage,\n",
    "    Field,\n",
    "    Schema,\n",
    "    Document,\n",
    "    HNSW,\n",
    "    RankProfile,\n",
    "    FieldSet,\n",
    "    GlobalPhaseRanking,\n",
    "    Function,\n",
    ")\n",
    "\n",
    "\n",
    "package = ApplicationPackage(\n",
    "    name=application_name,\n",
    "    schema=[\n",
    "        Schema(\n",
    "            name=schema_name,\n",
    "            document=Document(\n",
    "                fields=[\n",
    "                    Field(name=\"id\", type=\"string\", indexing=[\"summary\"]),\n",
    "                    Field(\n",
    "                        name=\"text\",\n",
    "                        type=\"string\",\n",
    "                        indexing=[\"index\", \"summary\"],\n",
    "                        index=\"enable-bm25\",\n",
    "                    ),\n",
    "                    Field(\n",
    "                        name=\"embedding\",\n",
    "                        type=f\"tensor<float>(x[{model_dims}])\",\n",
    "                        indexing=[\n",
    "                            \"input text\",\n",
    "                            f\"embed {model_name}\",\n",
    "                            \"summary\",\n",
    "                            \"index\",\n",
    "                            \"attribute\",\n",
    "                        ],\n",
    "                        ann=HNSW(distance_metric=\"angular\"),\n",
    "                        is_document_field=False,\n",
    "                    ),\n",
    "                ]\n",
    "            ),\n",
    "            fieldsets=[\n",
    "                FieldSet(\n",
    "                    name=\"default\",\n",
    "                    fields=[\n",
    "                        \"text\",\n",
    "                    ],\n",
    "                )\n",
    "            ],\n",
    "            rank_profiles=[\n",
    "                RankProfile(\n",
    "                    name=\"bm25\",\n",
    "                    inputs=[(\"query(q)\", f\"tensor<float>(x[{model_dims}])\")],\n",
    "                    functions=[Function(name=\"bm25sum\", expression=\"bm25(text)\")],\n",
    "                    first_phase=\"bm25sum\",\n",
    "                ),\n",
    "                RankProfile(\n",
    "                    name=\"semantic\",\n",
    "                    inputs=[(\"query(q)\", f\"tensor<float>(x[{model_dims}])\")],\n",
    "                    first_phase=\"closeness(field, embedding)\",\n",
    "                ),\n",
    "                RankProfile(\n",
    "                    name=\"fusion\",\n",
    "                    inherits=\"bm25\",\n",
    "                    inputs=[(\"query(q)\", f\"tensor<float>(x[{model_dims}])\")],\n",
    "                    first_phase=\"closeness(field, embedding)\",\n",
    "                    global_phase=GlobalPhaseRanking(\n",
    "                        expression=\"reciprocal_rank_fusion(bm25sum, closeness(field, embedding))\",\n",
    "                        rerank_count=10,\n",
    "                    ),\n",
    "                ),\n",
    "            ],\n",
    "        )\n",
    "    ],\n",
    "    services_config=services_config,\n",
    ")"
   ]
  },
  {
   "cell_type": "markdown",
   "id": "2c5e2943",
   "metadata": {},
   "source": [
    "Note that the name cannot have `-` or `_`."
   ]
  },
  {
   "cell_type": "markdown",
   "id": "careful-savage",
   "metadata": {},
   "source": [
    "## Deploy the Vespa application \n",
    "\n",
    "Deploy `package` on the local machine using Docker,\n",
    "without leaving the notebook, by creating an instance of\n",
    "[VespaDocker](https://pyvespa.readthedocs.io/en/latest/reference-api.html#vespa.deployment.VespaDocker). `VespaDocker` connects\n",
    "to the local Docker daemon socket and starts the [Vespa docker image](https://hub.docker.com/r/vespaengine/vespa/). \n",
    "\n",
    "If this step fails, please check\n",
    "that the Docker daemon is running, and that the Docker daemon socket can be used by clients (Configurable under advanced settings in Docker Desktop)."
   ]
  },
  {
   "cell_type": "code",
   "execution_count": 18,
   "id": "81a4746b",
   "metadata": {},
   "outputs": [],
   "source": [
    "package.to_files(application_name)"
   ]
  },
  {
   "cell_type": "code",
   "execution_count": 19,
   "id": "canadian-blood",
   "metadata": {},
   "outputs": [
    {
     "name": "stdout",
     "output_type": "stream",
     "text": [
      "Setting application...\n",
      "Running: vespa config set application vespa-team.codesearcheval\n",
      "Setting target cloud...\n",
      "Running: vespa config set target cloud\n",
      "\n",
      "Api-key found for control plane access. Using api-key.\n"
     ]
    }
   ],
   "source": [
    "from vespa.deployment import VespaCloud\n",
    "import os\n",
    "\n",
    "os.environ[\"TOKENIZERS_PARALLELISM\"] = \"false\"\n",
    "\n",
    "# Replace with your tenant name from the Vespa Cloud Console\n",
    "tenant_name = \"vespa-team\"\n",
    "\n",
    "vespa_cloud = VespaCloud(\n",
    "    tenant=tenant_name,\n",
    "    application=application_name,\n",
    "    key_content=os.getenv(\n",
    "        \"VESPA_TEAM_API_KEY\", None\n",
    "    ),  # Key is only used for CI/CD testing of this notebook. Can be removed if logging in interactively\n",
    "    application_package=package,\n",
    ")"
   ]
  },
  {
   "cell_type": "code",
   "execution_count": 20,
   "id": "45f3a6c2",
   "metadata": {},
   "outputs": [
    {
     "name": "stdout",
     "output_type": "stream",
     "text": [
      "Deployment started in run 2 of dev-aws-us-east-1c for vespa-team.codesearcheval. This may take a few minutes the first time.\n",
      "INFO    [08:10:11]  Deploying platform version 8.474.10 and application dev build 2 for dev-aws-us-east-1c of default ...\n",
      "INFO    [08:10:11]  Using CA signed certificate version 1\n",
      "WARNING [08:10:12]  Deployment failed: codesearcheval_container: No host flavor matches [vcpu: 2.0, memory: 16.0 Gb, disk: 125.0 Gb, bandwidth: 0.1 Gbps, disk speed: any, architecture: any, gpu count: 1, gpu memory: 16.0 Gb], nearest matching host flavor: [vcpu: 4.0, memory: 16.0 Gb, disk: 125.0 Gb, bandwidth: 0.1 Gbps, storage type: local, architecture: x86_64, gpu count: 1, gpu memory: 16.0 Gb] - Consult https://cloud.vespa.ai/en/reference/aws-flavors.html for a list of available flavors\n"
     ]
    },
    {
     "ename": "RuntimeError",
     "evalue": "Deployment failed; see log for details",
     "output_type": "error",
     "traceback": [
      "\u001b[0;31m---------------------------------------------------------------------------\u001b[0m",
      "\u001b[0;31mRuntimeError\u001b[0m                              Traceback (most recent call last)",
      "Cell \u001b[0;32mIn[20], line 1\u001b[0m\n\u001b[0;32m----> 1\u001b[0m app \u001b[38;5;241m=\u001b[39m \u001b[43mvespa_cloud\u001b[49m\u001b[38;5;241;43m.\u001b[39;49m\u001b[43mdeploy\u001b[49m\u001b[43m(\u001b[49m\u001b[43m)\u001b[49m\n",
      "File \u001b[0;32m~/Repos/pyvespa/vespa/deployment.py:639\u001b[0m, in \u001b[0;36mVespaCloud.deploy\u001b[0;34m(self, instance, disk_folder, version, max_wait)\u001b[0m\n\u001b[1;32m    631\u001b[0m job \u001b[38;5;241m=\u001b[39m \u001b[38;5;124m\"\u001b[39m\u001b[38;5;124mdev-\u001b[39m\u001b[38;5;124m\"\u001b[39m \u001b[38;5;241m+\u001b[39m region\n\u001b[1;32m    632\u001b[0m run \u001b[38;5;241m=\u001b[39m \u001b[38;5;28mself\u001b[39m\u001b[38;5;241m.\u001b[39m_start_deployment(\n\u001b[1;32m    633\u001b[0m     instance\u001b[38;5;241m=\u001b[39minstance,\n\u001b[1;32m    634\u001b[0m     job\u001b[38;5;241m=\u001b[39mjob,\n\u001b[0;32m   (...)\u001b[0m\n\u001b[1;32m    637\u001b[0m     version\u001b[38;5;241m=\u001b[39mversion,\n\u001b[1;32m    638\u001b[0m )\n\u001b[0;32m--> 639\u001b[0m \u001b[38;5;28;43mself\u001b[39;49m\u001b[38;5;241;43m.\u001b[39;49m\u001b[43m_follow_deployment\u001b[49m\u001b[43m(\u001b[49m\u001b[43minstance\u001b[49m\u001b[43m,\u001b[49m\u001b[43m \u001b[49m\u001b[43mjob\u001b[49m\u001b[43m,\u001b[49m\u001b[43m \u001b[49m\u001b[43mrun\u001b[49m\u001b[43m,\u001b[49m\u001b[43m \u001b[49m\u001b[43mmax_wait\u001b[49m\u001b[43m)\u001b[49m\n\u001b[1;32m    640\u001b[0m app: Vespa \u001b[38;5;241m=\u001b[39m \u001b[38;5;28mself\u001b[39m\u001b[38;5;241m.\u001b[39mget_application(\n\u001b[1;32m    641\u001b[0m     instance\u001b[38;5;241m=\u001b[39minstance, environment\u001b[38;5;241m=\u001b[39m\u001b[38;5;124m\"\u001b[39m\u001b[38;5;124mdev\u001b[39m\u001b[38;5;124m\"\u001b[39m, endpoint_type\u001b[38;5;241m=\u001b[39m\u001b[38;5;124m\"\u001b[39m\u001b[38;5;124mmtls\u001b[39m\u001b[38;5;124m\"\u001b[39m\n\u001b[1;32m    642\u001b[0m )\n\u001b[1;32m    643\u001b[0m \u001b[38;5;28;01mreturn\u001b[39;00m app\n",
      "File \u001b[0;32m~/Repos/pyvespa/vespa/deployment.py:1694\u001b[0m, in \u001b[0;36mVespaCloud._follow_deployment\u001b[0;34m(self, instance, job, run, max_wait)\u001b[0m\n\u001b[1;32m   1692\u001b[0m \u001b[38;5;28;01mwhile\u001b[39;00m time\u001b[38;5;241m.\u001b[39mtime() \u001b[38;5;241m-\u001b[39m start \u001b[38;5;241m<\u001b[39m max_wait:\n\u001b[1;32m   1693\u001b[0m     \u001b[38;5;28;01mtry\u001b[39;00m:\n\u001b[0;32m-> 1694\u001b[0m         status, last \u001b[38;5;241m=\u001b[39m \u001b[38;5;28;43mself\u001b[39;49m\u001b[38;5;241;43m.\u001b[39;49m\u001b[43m_get_deployment_status\u001b[49m\u001b[43m(\u001b[49m\u001b[43minstance\u001b[49m\u001b[43m,\u001b[49m\u001b[43m \u001b[49m\u001b[43mjob\u001b[49m\u001b[43m,\u001b[49m\u001b[43m \u001b[49m\u001b[43mrun\u001b[49m\u001b[43m,\u001b[49m\u001b[43m \u001b[49m\u001b[43mlast\u001b[49m\u001b[43m)\u001b[49m\n\u001b[1;32m   1695\u001b[0m     \u001b[38;5;28;01mexcept\u001b[39;00m \u001b[38;5;167;01mRuntimeError\u001b[39;00m:\n\u001b[1;32m   1696\u001b[0m         \u001b[38;5;28;01mraise\u001b[39;00m\n",
      "File \u001b[0;32m~/Repos/pyvespa/vespa/deployment.py:1744\u001b[0m, in \u001b[0;36mVespaCloud._get_deployment_status\u001b[0;34m(self, instance, job, run, last)\u001b[0m\n\u001b[1;32m   1742\u001b[0m     \u001b[38;5;28;01mreturn\u001b[39;00m \u001b[38;5;124m\"\u001b[39m\u001b[38;5;124msuccess\u001b[39m\u001b[38;5;124m\"\u001b[39m, last\n\u001b[1;32m   1743\u001b[0m \u001b[38;5;28;01melif\u001b[39;00m status \u001b[38;5;129;01min\u001b[39;00m fail_status_message\u001b[38;5;241m.\u001b[39mkeys():\n\u001b[0;32m-> 1744\u001b[0m     \u001b[38;5;28;01mraise\u001b[39;00m \u001b[38;5;167;01mRuntimeError\u001b[39;00m(fail_status_message[status])\n\u001b[1;32m   1745\u001b[0m \u001b[38;5;28;01melse\u001b[39;00m:\n\u001b[1;32m   1746\u001b[0m     \u001b[38;5;28;01mraise\u001b[39;00m \u001b[38;5;167;01mRuntimeError\u001b[39;00m(\u001b[38;5;124m\"\u001b[39m\u001b[38;5;124mUnexpected status: \u001b[39m\u001b[38;5;132;01m{}\u001b[39;00m\u001b[38;5;124m\"\u001b[39m\u001b[38;5;241m.\u001b[39mformat(status))\n",
      "\u001b[0;31mRuntimeError\u001b[0m: Deployment failed; see log for details"
     ]
    }
   ],
   "source": [
    "app = vespa_cloud.deploy()"
   ]
  },
  {
   "cell_type": "markdown",
   "id": "aaae2f91",
   "metadata": {},
   "source": [
    "`app` now holds a reference to a [Vespa](https://pyvespa.readthedocs.io/en/latest/reference-api.html#vespa.application.Vespa) instance."
   ]
  },
  {
   "cell_type": "markdown",
   "id": "sealed-mustang",
   "metadata": {},
   "source": [
    "## Feeding documents to Vespa\n",
    "\n",
    "TODO"
   ]
  },
  {
   "cell_type": "code",
   "execution_count": 16,
   "id": "e9d3facd",
   "metadata": {},
   "outputs": [],
   "source": [
    "from datasets import load_dataset\n",
    "\n",
    "vespa_feed = [\n",
    "    {\"id\": str(i), \"fields\": {\"text\": doc[\"text\"], \"id\": doc[\"_id\"]}}\n",
    "    for i, doc in enumerate(docs)\n",
    "]"
   ]
  },
  {
   "cell_type": "markdown",
   "id": "b4d6bc25",
   "metadata": {},
   "source": [
    "Now we can feed to Vespa using `feed_iterable` which accepts any `Iterable` and an optional callback function where we can\n",
    "check the outcome of each operation. The application is configured to use [embedding](https://docs.vespa.ai/en/embedding.html)\n",
    "functionality, that produce a vector embedding using a concatenation of the title and the body input fields. This step is computionally expensive. Read more\n",
    "about embedding inference in Vespa in the [Accelerating Transformer-based Embedding Retrieval with Vespa](https://blog.vespa.ai/accelerating-transformer-based-embedding-retrieval-with-vespa/)."
   ]
  },
  {
   "cell_type": "code",
   "execution_count": 17,
   "id": "f397d876",
   "metadata": {},
   "outputs": [],
   "source": [
    "import nest_asyncio\n",
    "\n",
    "nest_asyncio.apply()"
   ]
  },
  {
   "cell_type": "code",
   "execution_count": null,
   "id": "a7429132",
   "metadata": {},
   "outputs": [],
   "source": [
    "from vespa.io import VespaResponse, VespaQueryResponse\n",
    "\n",
    "\n",
    "def callback(response: VespaResponse, id: str):\n",
    "    if not response.is_successful():\n",
    "        print(f\"Error when feeding document {id}: {response.get_json()}\")\n",
    "\n",
    "\n",
    "app.feed_iterable(vespa_feed, schema=schema_name, callback=callback)"
   ]
  },
  {
   "cell_type": "markdown",
   "id": "separated-insertion",
   "metadata": {},
   "source": [
    "## Querying Vespa\n"
   ]
  },
  {
   "cell_type": "code",
   "execution_count": null,
   "id": "8c8a73bb",
   "metadata": {},
   "outputs": [],
   "source": []
  },
  {
   "cell_type": "code",
   "execution_count": 25,
   "id": "be392a78",
   "metadata": {},
   "outputs": [],
   "source": [
    "with app.syncio(connections=1) as session:\n",
    "    query = \"python compare timespan to number\"\n",
    "    response: VespaQueryResponse = session.query(\n",
    "        yql=\"select * from sources * where userQuery() or ({targetHits:1000}nearestNeighbor(embedding,q))\",\n",
    "        query=query,\n",
    "        ranking=\"fusion\",\n",
    "        body={\"input.query(q)\": f\"embed({query})\"},\n",
    "    )\n",
    "    assert response.is_successful()"
   ]
  },
  {
   "cell_type": "code",
   "execution_count": 27,
   "id": "92891a74",
   "metadata": {},
   "outputs": [
    {
     "data": {
      "text/markdown": [
       "**Snippet:**\n",
       "\n",
       "```python\n",
       "def datetime_to_timezone(date, tz=\"UTC\"):\n",
       "    \"\"\" convert naive datetime to timezone-aware datetime \"\"\"\n",
       "    if not date.tzinfo:\n",
       "        date = date.replace(tzinfo=timezone(get_timezone()))\n",
       "    return date.astimezone(timezone(tz))\n",
       "```"
      ],
      "text/plain": [
       "<IPython.core.display.Markdown object>"
      ]
     },
     "metadata": {},
     "output_type": "display_data"
    }
   ],
   "source": [
    "display_snippet(response.hits[0][\"fields\"][\"text\"])"
   ]
  },
  {
   "cell_type": "markdown",
   "id": "41c2113b",
   "metadata": {},
   "source": [
    "## Evaluating on CosQA"
   ]
  },
  {
   "cell_type": "code",
   "execution_count": 70,
   "id": "a972cb39",
   "metadata": {},
   "outputs": [],
   "source": [
    "query_ds = load_dataset(dataset_id, \"queries\", split=\"queries\")"
   ]
  },
  {
   "cell_type": "code",
   "execution_count": 71,
   "id": "b53576fb",
   "metadata": {},
   "outputs": [
    {
     "data": {
      "text/plain": [
       "['_id', 'partition', 'text', 'title', 'language', 'meta_information']"
      ]
     },
     "execution_count": 71,
     "metadata": {},
     "output_type": "execute_result"
    }
   ],
   "source": [
    "query_ds.column_names"
   ]
  },
  {
   "cell_type": "code",
   "execution_count": 72,
   "id": "dbc01905",
   "metadata": {},
   "outputs": [
    {
     "data": {
      "text/plain": [
       "20604"
      ]
     },
     "execution_count": 72,
     "metadata": {},
     "output_type": "execute_result"
    }
   ],
   "source": [
    "len(query_ds)"
   ]
  },
  {
   "cell_type": "code",
   "execution_count": null,
   "id": "9ab418f9",
   "metadata": {},
   "outputs": [],
   "source": [
    "qrel_ds = \"CoIR-Retrieval/cosqa-qrels\""
   ]
  },
  {
   "cell_type": "code",
   "execution_count": 73,
   "id": "dd9ff443",
   "metadata": {},
   "outputs": [],
   "source": [
    "qrels = load_dataset(dataset_id, \"default\", split=\"train\")"
   ]
  },
  {
   "cell_type": "code",
   "execution_count": 74,
   "id": "9d2d2a37",
   "metadata": {},
   "outputs": [
    {
     "data": {
      "text/plain": [
       "19604"
      ]
     },
     "execution_count": 74,
     "metadata": {},
     "output_type": "execute_result"
    }
   ],
   "source": [
    "len(qrels)"
   ]
  },
  {
   "cell_type": "code",
   "execution_count": 75,
   "id": "59375e7c",
   "metadata": {},
   "outputs": [
    {
     "data": {
      "text/plain": [
       "['query-id', 'corpus-id', 'score']"
      ]
     },
     "execution_count": 75,
     "metadata": {},
     "output_type": "execute_result"
    }
   ],
   "source": [
    "qrels.column_names"
   ]
  },
  {
   "cell_type": "code",
   "execution_count": 79,
   "id": "dc4f4f0f",
   "metadata": {},
   "outputs": [
    {
     "data": {
      "text/plain": [
       "{'query-id': 'q1', 'corpus-id': 'd1', 'score': 0}"
      ]
     },
     "execution_count": 79,
     "metadata": {},
     "output_type": "execute_result"
    }
   ],
   "source": [
    "qrels[0]"
   ]
  },
  {
   "cell_type": "code",
   "execution_count": 84,
   "id": "401db259",
   "metadata": {},
   "outputs": [],
   "source": [
    "ids_to_query = dict(zip(query_ds[\"_id\"], query_ds[\"text\"]))"
   ]
  },
  {
   "cell_type": "code",
   "execution_count": 85,
   "id": "5374b1c5",
   "metadata": {},
   "outputs": [
    {
     "name": "stdout",
     "output_type": "stream",
     "text": [
      "qid: q1, query: python code to write bool value 1\n",
      "qid: q2, query: \"python how to manipulate clipboard\"\n",
      "qid: q3, query: python colored output to html\n",
      "qid: q4, query: python \"create directory\" using \"relative path\"\n",
      "qid: q5, query: python column of an array\n",
      "qid: q6, query: python calling a property returns \"property object\"\n"
     ]
    }
   ],
   "source": [
    "for idx, (qid, q) in enumerate(ids_to_query.items()):\n",
    "    print(f\"qid: {qid}, query: {q}\")\n",
    "    if idx == 5:\n",
    "        break"
   ]
  },
  {
   "cell_type": "code",
   "execution_count": 81,
   "id": "0aaa3d93",
   "metadata": {},
   "outputs": [],
   "source": [
    "relevant_docs = [qrel for qrel in qrels if qrel[\"score\"] == 1]"
   ]
  },
  {
   "cell_type": "code",
   "execution_count": 83,
   "id": "a7973afb",
   "metadata": {},
   "outputs": [
    {
     "data": {
      "text/plain": [
       "{'query-id': 'q10', 'corpus-id': 'd10', 'score': 1}"
      ]
     },
     "execution_count": 83,
     "metadata": {},
     "output_type": "execute_result"
    }
   ],
   "source": [
    "relevant_docs[0]"
   ]
  },
  {
   "cell_type": "code",
   "execution_count": 106,
   "id": "d0a908e6",
   "metadata": {},
   "outputs": [],
   "source": [
    "qrels = {qrel[\"query-id\"]: qrel[\"corpus-id\"] for qrel in relevant_docs}"
   ]
  },
  {
   "cell_type": "code",
   "execution_count": 99,
   "id": "7aaf0d0b",
   "metadata": {},
   "outputs": [],
   "source": [
    "corpus = dict(zip(ds[\"corpus\"][\"_id\"], ds[\"corpus\"][\"text\"]))"
   ]
  },
  {
   "cell_type": "code",
   "execution_count": 101,
   "id": "dad7556a",
   "metadata": {},
   "outputs": [
    {
     "name": "stdout",
     "output_type": "stream",
     "text": [
      "qid: q10, doc_id: d10\n",
      "query: 1d array in char datatype in python\n",
      "doc: def _convert_to_array(array_like, dtype):\n",
      "        \"\"\"\n",
      "        Convert Matrix attributes which are array-like or buffer to array.\n",
      "        \"\"\"\n",
      "        if isinstance(array_like, bytes):\n",
      "            return np.frombuffer(array_like, dtype=dtype)\n",
      "        return np.asarray(array_like, dtype=dtype)\n",
      "qid: q19, doc_id: d19\n",
      "query: python condition non none\n",
      "doc: def _not(condition=None, **kwargs):\n",
      "    \"\"\"\n",
      "    Return the opposite of input condition.\n",
      "\n",
      "    :param condition: condition to process.\n",
      "\n",
      "    :result: not condition.\n",
      "    :rtype: bool\n",
      "    \"\"\"\n",
      "\n",
      "    result = True\n",
      "\n",
      "    if condition is not None:\n",
      "        result = not run(condition, **kwargs)\n",
      "\n",
      "    return result\n",
      "qid: q26, doc_id: d26\n",
      "query: accessing a column from a matrix in python\n",
      "doc: def get_column(self, X, column):\n",
      "        \"\"\"Return a column of the given matrix.\n",
      "\n",
      "        Args:\n",
      "            X: `numpy.ndarray` or `pandas.DataFrame`.\n",
      "            column: `int` or `str`.\n",
      "\n",
      "        Returns:\n",
      "            np.ndarray: Selected column.\n",
      "        \"\"\"\n",
      "        if isinstance(X, pd.DataFrame):\n",
      "            return X[column].values\n",
      "\n",
      "        return X[:, column]\n",
      "qid: q58, doc_id: d58\n",
      "query: are python strings hashable\n",
      "doc: def _string_hash(s):\n",
      "    \"\"\"String hash (djb2) with consistency between py2/py3 and persistency between runs (unlike `hash`).\"\"\"\n",
      "    h = 5381\n",
      "    for c in s:\n",
      "        h = h * 33 + ord(c)\n",
      "    return h\n",
      "qid: q63, doc_id: d63\n",
      "query: python create object without class\n",
      "doc: def create_object(cls, members):\n",
      "    \"\"\"Promise an object of class `cls` with content `members`.\"\"\"\n",
      "    obj = cls.__new__(cls)\n",
      "    obj.__dict__ = members\n",
      "    return obj\n",
      "qid: q71, doc_id: d71\n",
      "query: python create range in steps\n",
      "doc: def _xxrange(self, start, end, step_count):\n",
      "        \"\"\"Generate n values between start and end.\"\"\"\n",
      "        _step = (end - start) / float(step_count)\n",
      "        return (start + (i * _step) for i in xrange(int(step_count)))\n"
     ]
    }
   ],
   "source": [
    "for idx, doc in enumerate(relevant_docs):\n",
    "    print(f\"qid: {doc['query-id']}, doc_id: {doc['corpus-id']}\")\n",
    "    print(f\"query: {ids_to_query[doc['query-id']]}\")\n",
    "    print(f\"doc: {corpus[doc['corpus-id']]}\")\n",
    "    if idx == 5:\n",
    "        break"
   ]
  },
  {
   "cell_type": "code",
   "execution_count": 104,
   "id": "90bfab2d",
   "metadata": {},
   "outputs": [],
   "source": [
    "import vespa.querybuilder as qb\n",
    "\n",
    "\n",
    "def semantic_query_fn(query_text: str, top_k: int) -> dict:\n",
    "    return {\n",
    "        \"yql\": str(\n",
    "            qb.select(\"*\")\n",
    "            .from_(schema_name)\n",
    "            .where(\n",
    "                qb.nearestNeighbor(\n",
    "                    field=\"embedding\",\n",
    "                    query_vector=\"q\",\n",
    "                    annotations={\"targetHits\": 1000},\n",
    "                )\n",
    "            )\n",
    "        ),\n",
    "        \"query\": query_text,\n",
    "        \"ranking\": \"fusion\",\n",
    "        \"input.query(q)\": f\"embed({query_text})\",\n",
    "        \"hits\": top_k,\n",
    "        \"presentation.timing\": True,  # return timing information in the response\n",
    "    }"
   ]
  },
  {
   "cell_type": "code",
   "execution_count": 109,
   "id": "dcdd628f",
   "metadata": {},
   "outputs": [],
   "source": [
    "%load_ext autoreload\n",
    "%autoreload 2"
   ]
  },
  {
   "cell_type": "code",
   "execution_count": 110,
   "id": "bc8e8841",
   "metadata": {},
   "outputs": [
    {
     "ename": "KeyboardInterrupt",
     "evalue": "",
     "output_type": "error",
     "traceback": [
      "\u001b[0;31m---------------------------------------------------------------------------\u001b[0m",
      "\u001b[0;31mKeyboardInterrupt\u001b[0m                         Traceback (most recent call last)",
      "Cell \u001b[0;32mIn[110], line 15\u001b[0m\n\u001b[1;32m      4\u001b[0m dt_str \u001b[38;5;241m=\u001b[39m datetime\u001b[38;5;241m.\u001b[39mnow()\u001b[38;5;241m.\u001b[39mstrftime(\u001b[38;5;124m\"\u001b[39m\u001b[38;5;124m%\u001b[39m\u001b[38;5;124mY\u001b[39m\u001b[38;5;124m%\u001b[39m\u001b[38;5;124mm\u001b[39m\u001b[38;5;132;01m%d\u001b[39;00m\u001b[38;5;124m%\u001b[39m\u001b[38;5;124mH\u001b[39m\u001b[38;5;124m%\u001b[39m\u001b[38;5;124mM\u001b[39m\u001b[38;5;124m%\u001b[39m\u001b[38;5;124mS\u001b[39m\u001b[38;5;124m\"\u001b[39m)\n\u001b[1;32m      6\u001b[0m evaluator \u001b[38;5;241m=\u001b[39m VespaEvaluator(\n\u001b[1;32m      7\u001b[0m     queries\u001b[38;5;241m=\u001b[39mids_to_query,\n\u001b[1;32m      8\u001b[0m     relevant_docs\u001b[38;5;241m=\u001b[39mqrels,\n\u001b[0;32m   (...)\u001b[0m\n\u001b[1;32m     12\u001b[0m     write_csv\u001b[38;5;241m=\u001b[39m\u001b[38;5;28;01mTrue\u001b[39;00m,  \u001b[38;5;66;03m# optionally write metrics to CSV\u001b[39;00m\n\u001b[1;32m     13\u001b[0m )\n\u001b[0;32m---> 15\u001b[0m results \u001b[38;5;241m=\u001b[39m \u001b[43mevaluator\u001b[49m\u001b[38;5;241;43m.\u001b[39;49m\u001b[43mrun\u001b[49m\u001b[43m(\u001b[49m\u001b[43m)\u001b[49m\n",
      "File \u001b[0;32m~/Repos/pyvespa/vespa/evaluation.py:305\u001b[0m, in \u001b[0;36mVespaEvaluator.run\u001b[0;34m(self)\u001b[0m\n\u001b[1;32m    300\u001b[0m     logger\u001b[38;5;241m.\u001b[39mwarning(\n\u001b[1;32m    301\u001b[0m         \u001b[38;5;124m\"\u001b[39m\u001b[38;5;124mTiming information is not included in the query body. \u001b[39m\u001b[38;5;124m\"\u001b[39m\n\u001b[1;32m    302\u001b[0m         \u001b[38;5;124m'\u001b[39m\u001b[38;5;124mPlease include `\u001b[39m\u001b[38;5;124m\"\u001b[39m\u001b[38;5;124mpresentation.timing\u001b[39m\u001b[38;5;124m\"\u001b[39m\u001b[38;5;124m: True` in the query body to log search times.\u001b[39m\u001b[38;5;124m'\u001b[39m\n\u001b[1;32m    303\u001b[0m     )\n\u001b[1;32m    304\u001b[0m logger\u001b[38;5;241m.\u001b[39mdebug(\u001b[38;5;124mf\u001b[39m\u001b[38;5;124m\"\u001b[39m\u001b[38;5;124mQuerying Vespa with: \u001b[39m\u001b[38;5;132;01m{\u001b[39;00mquery_body\u001b[38;5;132;01m}\u001b[39;00m\u001b[38;5;124m\"\u001b[39m)\n\u001b[0;32m--> 305\u001b[0m vespa_response: VespaQueryResponse \u001b[38;5;241m=\u001b[39m \u001b[38;5;28;43mself\u001b[39;49m\u001b[38;5;241;43m.\u001b[39;49m\u001b[43mapp\u001b[49m\u001b[38;5;241;43m.\u001b[39;49m\u001b[43mquery\u001b[49m\u001b[43m(\u001b[49m\u001b[43mbody\u001b[49m\u001b[38;5;241;43m=\u001b[39;49m\u001b[43mquery_body\u001b[49m\u001b[43m)\u001b[49m\n\u001b[1;32m    307\u001b[0m \u001b[38;5;66;03m# Attempt to get search time from Vespa's JSON\u001b[39;00m\n\u001b[1;32m    308\u001b[0m timing \u001b[38;5;241m=\u001b[39m vespa_response\u001b[38;5;241m.\u001b[39mget_json()\u001b[38;5;241m.\u001b[39mget(\u001b[38;5;124m\"\u001b[39m\u001b[38;5;124mtiming\u001b[39m\u001b[38;5;124m\"\u001b[39m, {})\u001b[38;5;241m.\u001b[39mget(\u001b[38;5;124m\"\u001b[39m\u001b[38;5;124msearchtime\u001b[39m\u001b[38;5;124m\"\u001b[39m, \u001b[38;5;241m0\u001b[39m)\n",
      "File \u001b[0;32m~/Repos/pyvespa/vespa/application.py:316\u001b[0m, in \u001b[0;36mVespa.query\u001b[0;34m(self, body, groupname, **kwargs)\u001b[0m\n\u001b[1;32m    314\u001b[0m \u001b[38;5;66;03m# Use one connection as this is a single query\u001b[39;00m\n\u001b[1;32m    315\u001b[0m \u001b[38;5;28;01mwith\u001b[39;00m VespaSync(\u001b[38;5;28mself\u001b[39m, pool_maxsize\u001b[38;5;241m=\u001b[39m\u001b[38;5;241m1\u001b[39m, pool_connections\u001b[38;5;241m=\u001b[39m\u001b[38;5;241m1\u001b[39m) \u001b[38;5;28;01mas\u001b[39;00m sync_app:\n\u001b[0;32m--> 316\u001b[0m     \u001b[38;5;28;01mreturn\u001b[39;00m \u001b[43msync_app\u001b[49m\u001b[38;5;241;43m.\u001b[39;49m\u001b[43mquery\u001b[49m\u001b[43m(\u001b[49m\u001b[43mbody\u001b[49m\u001b[38;5;241;43m=\u001b[39;49m\u001b[43mbody\u001b[49m\u001b[43m,\u001b[49m\u001b[43m \u001b[49m\u001b[43mgroupname\u001b[49m\u001b[38;5;241;43m=\u001b[39;49m\u001b[43mgroupname\u001b[49m\u001b[43m,\u001b[49m\u001b[43m \u001b[49m\u001b[38;5;241;43m*\u001b[39;49m\u001b[38;5;241;43m*\u001b[39;49m\u001b[43mkwargs\u001b[49m\u001b[43m)\u001b[49m\n",
      "File \u001b[0;32m~/Repos/pyvespa/vespa/application.py:1233\u001b[0m, in \u001b[0;36mVespaSync.query\u001b[0;34m(self, body, groupname, **kwargs)\u001b[0m\n\u001b[1;32m   1231\u001b[0m \u001b[38;5;28;01mif\u001b[39;00m groupname:\n\u001b[1;32m   1232\u001b[0m     kwargs[\u001b[38;5;124m\"\u001b[39m\u001b[38;5;124mstreaming.groupname\u001b[39m\u001b[38;5;124m\"\u001b[39m] \u001b[38;5;241m=\u001b[39m groupname\n\u001b[0;32m-> 1233\u001b[0m response \u001b[38;5;241m=\u001b[39m \u001b[38;5;28;43mself\u001b[39;49m\u001b[38;5;241;43m.\u001b[39;49m\u001b[43mhttp_session\u001b[49m\u001b[38;5;241;43m.\u001b[39;49m\u001b[43mpost\u001b[49m\u001b[43m(\u001b[49m\n\u001b[1;32m   1234\u001b[0m \u001b[43m    \u001b[49m\u001b[38;5;28;43mself\u001b[39;49m\u001b[38;5;241;43m.\u001b[39;49m\u001b[43mapp\u001b[49m\u001b[38;5;241;43m.\u001b[39;49m\u001b[43msearch_end_point\u001b[49m\u001b[43m,\u001b[49m\u001b[43m \u001b[49m\u001b[43mjson\u001b[49m\u001b[38;5;241;43m=\u001b[39;49m\u001b[43mbody\u001b[49m\u001b[43m,\u001b[49m\u001b[43m \u001b[49m\u001b[43mparams\u001b[49m\u001b[38;5;241;43m=\u001b[39;49m\u001b[43mkwargs\u001b[49m\n\u001b[1;32m   1235\u001b[0m \u001b[43m\u001b[49m\u001b[43m)\u001b[49m\n\u001b[1;32m   1236\u001b[0m raise_for_status(response)\n\u001b[1;32m   1237\u001b[0m \u001b[38;5;28;01mreturn\u001b[39;00m VespaQueryResponse(\n\u001b[1;32m   1238\u001b[0m     json\u001b[38;5;241m=\u001b[39mresponse\u001b[38;5;241m.\u001b[39mjson(),\n\u001b[1;32m   1239\u001b[0m     status_code\u001b[38;5;241m=\u001b[39mresponse\u001b[38;5;241m.\u001b[39mstatus_code,\n\u001b[1;32m   1240\u001b[0m     url\u001b[38;5;241m=\u001b[39m\u001b[38;5;28mstr\u001b[39m(response\u001b[38;5;241m.\u001b[39murl),\n\u001b[1;32m   1241\u001b[0m )\n",
      "File \u001b[0;32m~/Repos/pyvespa/.venv/lib/python3.10/site-packages/requests/sessions.py:637\u001b[0m, in \u001b[0;36mSession.post\u001b[0;34m(self, url, data, json, **kwargs)\u001b[0m\n\u001b[1;32m    626\u001b[0m \u001b[38;5;28;01mdef\u001b[39;00m \u001b[38;5;21mpost\u001b[39m(\u001b[38;5;28mself\u001b[39m, url, data\u001b[38;5;241m=\u001b[39m\u001b[38;5;28;01mNone\u001b[39;00m, json\u001b[38;5;241m=\u001b[39m\u001b[38;5;28;01mNone\u001b[39;00m, \u001b[38;5;241m*\u001b[39m\u001b[38;5;241m*\u001b[39mkwargs):\n\u001b[1;32m    627\u001b[0m \u001b[38;5;250m    \u001b[39m\u001b[38;5;124mr\u001b[39m\u001b[38;5;124;03m\"\"\"Sends a POST request. Returns :class:`Response` object.\u001b[39;00m\n\u001b[1;32m    628\u001b[0m \n\u001b[1;32m    629\u001b[0m \u001b[38;5;124;03m    :param url: URL for the new :class:`Request` object.\u001b[39;00m\n\u001b[0;32m   (...)\u001b[0m\n\u001b[1;32m    634\u001b[0m \u001b[38;5;124;03m    :rtype: requests.Response\u001b[39;00m\n\u001b[1;32m    635\u001b[0m \u001b[38;5;124;03m    \"\"\"\u001b[39;00m\n\u001b[0;32m--> 637\u001b[0m     \u001b[38;5;28;01mreturn\u001b[39;00m \u001b[38;5;28;43mself\u001b[39;49m\u001b[38;5;241;43m.\u001b[39;49m\u001b[43mrequest\u001b[49m\u001b[43m(\u001b[49m\u001b[38;5;124;43m\"\u001b[39;49m\u001b[38;5;124;43mPOST\u001b[39;49m\u001b[38;5;124;43m\"\u001b[39;49m\u001b[43m,\u001b[49m\u001b[43m \u001b[49m\u001b[43murl\u001b[49m\u001b[43m,\u001b[49m\u001b[43m \u001b[49m\u001b[43mdata\u001b[49m\u001b[38;5;241;43m=\u001b[39;49m\u001b[43mdata\u001b[49m\u001b[43m,\u001b[49m\u001b[43m \u001b[49m\u001b[43mjson\u001b[49m\u001b[38;5;241;43m=\u001b[39;49m\u001b[43mjson\u001b[49m\u001b[43m,\u001b[49m\u001b[43m \u001b[49m\u001b[38;5;241;43m*\u001b[39;49m\u001b[38;5;241;43m*\u001b[39;49m\u001b[43mkwargs\u001b[49m\u001b[43m)\u001b[49m\n",
      "File \u001b[0;32m~/Repos/pyvespa/.venv/lib/python3.10/site-packages/requests/sessions.py:589\u001b[0m, in \u001b[0;36mSession.request\u001b[0;34m(self, method, url, params, data, headers, cookies, files, auth, timeout, allow_redirects, proxies, hooks, stream, verify, cert, json)\u001b[0m\n\u001b[1;32m    584\u001b[0m send_kwargs \u001b[38;5;241m=\u001b[39m {\n\u001b[1;32m    585\u001b[0m     \u001b[38;5;124m\"\u001b[39m\u001b[38;5;124mtimeout\u001b[39m\u001b[38;5;124m\"\u001b[39m: timeout,\n\u001b[1;32m    586\u001b[0m     \u001b[38;5;124m\"\u001b[39m\u001b[38;5;124mallow_redirects\u001b[39m\u001b[38;5;124m\"\u001b[39m: allow_redirects,\n\u001b[1;32m    587\u001b[0m }\n\u001b[1;32m    588\u001b[0m send_kwargs\u001b[38;5;241m.\u001b[39mupdate(settings)\n\u001b[0;32m--> 589\u001b[0m resp \u001b[38;5;241m=\u001b[39m \u001b[38;5;28;43mself\u001b[39;49m\u001b[38;5;241;43m.\u001b[39;49m\u001b[43msend\u001b[49m\u001b[43m(\u001b[49m\u001b[43mprep\u001b[49m\u001b[43m,\u001b[49m\u001b[43m \u001b[49m\u001b[38;5;241;43m*\u001b[39;49m\u001b[38;5;241;43m*\u001b[39;49m\u001b[43msend_kwargs\u001b[49m\u001b[43m)\u001b[49m\n\u001b[1;32m    591\u001b[0m \u001b[38;5;28;01mreturn\u001b[39;00m resp\n",
      "File \u001b[0;32m~/Repos/pyvespa/.venv/lib/python3.10/site-packages/requests/sessions.py:703\u001b[0m, in \u001b[0;36mSession.send\u001b[0;34m(self, request, **kwargs)\u001b[0m\n\u001b[1;32m    700\u001b[0m start \u001b[38;5;241m=\u001b[39m preferred_clock()\n\u001b[1;32m    702\u001b[0m \u001b[38;5;66;03m# Send the request\u001b[39;00m\n\u001b[0;32m--> 703\u001b[0m r \u001b[38;5;241m=\u001b[39m \u001b[43madapter\u001b[49m\u001b[38;5;241;43m.\u001b[39;49m\u001b[43msend\u001b[49m\u001b[43m(\u001b[49m\u001b[43mrequest\u001b[49m\u001b[43m,\u001b[49m\u001b[43m \u001b[49m\u001b[38;5;241;43m*\u001b[39;49m\u001b[38;5;241;43m*\u001b[39;49m\u001b[43mkwargs\u001b[49m\u001b[43m)\u001b[49m\n\u001b[1;32m    705\u001b[0m \u001b[38;5;66;03m# Total elapsed time of the request (approximately)\u001b[39;00m\n\u001b[1;32m    706\u001b[0m elapsed \u001b[38;5;241m=\u001b[39m preferred_clock() \u001b[38;5;241m-\u001b[39m start\n",
      "File \u001b[0;32m~/Repos/pyvespa/vespa/application.py:1003\u001b[0m, in \u001b[0;36mCustomHTTPAdapter.send\u001b[0;34m(self, request, **kwargs)\u001b[0m\n\u001b[1;32m   1001\u001b[0m \u001b[38;5;28;01mfor\u001b[39;00m attempt \u001b[38;5;129;01min\u001b[39;00m \u001b[38;5;28mrange\u001b[39m(\u001b[38;5;28mself\u001b[39m\u001b[38;5;241m.\u001b[39mnum_retries_429 \u001b[38;5;241m+\u001b[39m \u001b[38;5;241m1\u001b[39m):\n\u001b[1;32m   1002\u001b[0m     \u001b[38;5;28;01mtry\u001b[39;00m:\n\u001b[0;32m-> 1003\u001b[0m         response \u001b[38;5;241m=\u001b[39m \u001b[38;5;28;43msuper\u001b[39;49m\u001b[43m(\u001b[49m\u001b[43m)\u001b[49m\u001b[38;5;241;43m.\u001b[39;49m\u001b[43msend\u001b[49m\u001b[43m(\u001b[49m\u001b[43mrequest\u001b[49m\u001b[43m,\u001b[49m\u001b[43m \u001b[49m\u001b[38;5;241;43m*\u001b[39;49m\u001b[38;5;241;43m*\u001b[39;49m\u001b[43mkwargs\u001b[49m\u001b[43m)\u001b[49m\n\u001b[1;32m   1005\u001b[0m         \u001b[38;5;28;01mif\u001b[39;00m response\u001b[38;5;241m.\u001b[39mstatus_code \u001b[38;5;241m==\u001b[39m \u001b[38;5;241m429\u001b[39m:\n\u001b[1;32m   1006\u001b[0m             \u001b[38;5;28mself\u001b[39m\u001b[38;5;241m.\u001b[39m_wait_with_backoff(attempt)\n",
      "File \u001b[0;32m~/Repos/pyvespa/.venv/lib/python3.10/site-packages/requests/adapters.py:486\u001b[0m, in \u001b[0;36mHTTPAdapter.send\u001b[0;34m(self, request, stream, timeout, verify, cert, proxies)\u001b[0m\n\u001b[1;32m    483\u001b[0m     timeout \u001b[38;5;241m=\u001b[39m TimeoutSauce(connect\u001b[38;5;241m=\u001b[39mtimeout, read\u001b[38;5;241m=\u001b[39mtimeout)\n\u001b[1;32m    485\u001b[0m \u001b[38;5;28;01mtry\u001b[39;00m:\n\u001b[0;32m--> 486\u001b[0m     resp \u001b[38;5;241m=\u001b[39m \u001b[43mconn\u001b[49m\u001b[38;5;241;43m.\u001b[39;49m\u001b[43murlopen\u001b[49m\u001b[43m(\u001b[49m\n\u001b[1;32m    487\u001b[0m \u001b[43m        \u001b[49m\u001b[43mmethod\u001b[49m\u001b[38;5;241;43m=\u001b[39;49m\u001b[43mrequest\u001b[49m\u001b[38;5;241;43m.\u001b[39;49m\u001b[43mmethod\u001b[49m\u001b[43m,\u001b[49m\n\u001b[1;32m    488\u001b[0m \u001b[43m        \u001b[49m\u001b[43murl\u001b[49m\u001b[38;5;241;43m=\u001b[39;49m\u001b[43murl\u001b[49m\u001b[43m,\u001b[49m\n\u001b[1;32m    489\u001b[0m \u001b[43m        \u001b[49m\u001b[43mbody\u001b[49m\u001b[38;5;241;43m=\u001b[39;49m\u001b[43mrequest\u001b[49m\u001b[38;5;241;43m.\u001b[39;49m\u001b[43mbody\u001b[49m\u001b[43m,\u001b[49m\n\u001b[1;32m    490\u001b[0m \u001b[43m        \u001b[49m\u001b[43mheaders\u001b[49m\u001b[38;5;241;43m=\u001b[39;49m\u001b[43mrequest\u001b[49m\u001b[38;5;241;43m.\u001b[39;49m\u001b[43mheaders\u001b[49m\u001b[43m,\u001b[49m\n\u001b[1;32m    491\u001b[0m \u001b[43m        \u001b[49m\u001b[43mredirect\u001b[49m\u001b[38;5;241;43m=\u001b[39;49m\u001b[38;5;28;43;01mFalse\u001b[39;49;00m\u001b[43m,\u001b[49m\n\u001b[1;32m    492\u001b[0m \u001b[43m        \u001b[49m\u001b[43massert_same_host\u001b[49m\u001b[38;5;241;43m=\u001b[39;49m\u001b[38;5;28;43;01mFalse\u001b[39;49;00m\u001b[43m,\u001b[49m\n\u001b[1;32m    493\u001b[0m \u001b[43m        \u001b[49m\u001b[43mpreload_content\u001b[49m\u001b[38;5;241;43m=\u001b[39;49m\u001b[38;5;28;43;01mFalse\u001b[39;49;00m\u001b[43m,\u001b[49m\n\u001b[1;32m    494\u001b[0m \u001b[43m        \u001b[49m\u001b[43mdecode_content\u001b[49m\u001b[38;5;241;43m=\u001b[39;49m\u001b[38;5;28;43;01mFalse\u001b[39;49;00m\u001b[43m,\u001b[49m\n\u001b[1;32m    495\u001b[0m \u001b[43m        \u001b[49m\u001b[43mretries\u001b[49m\u001b[38;5;241;43m=\u001b[39;49m\u001b[38;5;28;43mself\u001b[39;49m\u001b[38;5;241;43m.\u001b[39;49m\u001b[43mmax_retries\u001b[49m\u001b[43m,\u001b[49m\n\u001b[1;32m    496\u001b[0m \u001b[43m        \u001b[49m\u001b[43mtimeout\u001b[49m\u001b[38;5;241;43m=\u001b[39;49m\u001b[43mtimeout\u001b[49m\u001b[43m,\u001b[49m\n\u001b[1;32m    497\u001b[0m \u001b[43m        \u001b[49m\u001b[43mchunked\u001b[49m\u001b[38;5;241;43m=\u001b[39;49m\u001b[43mchunked\u001b[49m\u001b[43m,\u001b[49m\n\u001b[1;32m    498\u001b[0m \u001b[43m    \u001b[49m\u001b[43m)\u001b[49m\n\u001b[1;32m    500\u001b[0m \u001b[38;5;28;01mexcept\u001b[39;00m (ProtocolError, \u001b[38;5;167;01mOSError\u001b[39;00m) \u001b[38;5;28;01mas\u001b[39;00m err:\n\u001b[1;32m    501\u001b[0m     \u001b[38;5;28;01mraise\u001b[39;00m \u001b[38;5;167;01mConnectionError\u001b[39;00m(err, request\u001b[38;5;241m=\u001b[39mrequest)\n",
      "File \u001b[0;32m~/Repos/pyvespa/.venv/lib/python3.10/site-packages/urllib3/connectionpool.py:789\u001b[0m, in \u001b[0;36mHTTPConnectionPool.urlopen\u001b[0;34m(self, method, url, body, headers, retries, redirect, assert_same_host, timeout, pool_timeout, release_conn, chunked, body_pos, preload_content, decode_content, **response_kw)\u001b[0m\n\u001b[1;32m    786\u001b[0m response_conn \u001b[38;5;241m=\u001b[39m conn \u001b[38;5;28;01mif\u001b[39;00m \u001b[38;5;129;01mnot\u001b[39;00m release_conn \u001b[38;5;28;01melse\u001b[39;00m \u001b[38;5;28;01mNone\u001b[39;00m\n\u001b[1;32m    788\u001b[0m \u001b[38;5;66;03m# Make the request on the HTTPConnection object\u001b[39;00m\n\u001b[0;32m--> 789\u001b[0m response \u001b[38;5;241m=\u001b[39m \u001b[38;5;28;43mself\u001b[39;49m\u001b[38;5;241;43m.\u001b[39;49m\u001b[43m_make_request\u001b[49m\u001b[43m(\u001b[49m\n\u001b[1;32m    790\u001b[0m \u001b[43m    \u001b[49m\u001b[43mconn\u001b[49m\u001b[43m,\u001b[49m\n\u001b[1;32m    791\u001b[0m \u001b[43m    \u001b[49m\u001b[43mmethod\u001b[49m\u001b[43m,\u001b[49m\n\u001b[1;32m    792\u001b[0m \u001b[43m    \u001b[49m\u001b[43murl\u001b[49m\u001b[43m,\u001b[49m\n\u001b[1;32m    793\u001b[0m \u001b[43m    \u001b[49m\u001b[43mtimeout\u001b[49m\u001b[38;5;241;43m=\u001b[39;49m\u001b[43mtimeout_obj\u001b[49m\u001b[43m,\u001b[49m\n\u001b[1;32m    794\u001b[0m \u001b[43m    \u001b[49m\u001b[43mbody\u001b[49m\u001b[38;5;241;43m=\u001b[39;49m\u001b[43mbody\u001b[49m\u001b[43m,\u001b[49m\n\u001b[1;32m    795\u001b[0m \u001b[43m    \u001b[49m\u001b[43mheaders\u001b[49m\u001b[38;5;241;43m=\u001b[39;49m\u001b[43mheaders\u001b[49m\u001b[43m,\u001b[49m\n\u001b[1;32m    796\u001b[0m \u001b[43m    \u001b[49m\u001b[43mchunked\u001b[49m\u001b[38;5;241;43m=\u001b[39;49m\u001b[43mchunked\u001b[49m\u001b[43m,\u001b[49m\n\u001b[1;32m    797\u001b[0m \u001b[43m    \u001b[49m\u001b[43mretries\u001b[49m\u001b[38;5;241;43m=\u001b[39;49m\u001b[43mretries\u001b[49m\u001b[43m,\u001b[49m\n\u001b[1;32m    798\u001b[0m \u001b[43m    \u001b[49m\u001b[43mresponse_conn\u001b[49m\u001b[38;5;241;43m=\u001b[39;49m\u001b[43mresponse_conn\u001b[49m\u001b[43m,\u001b[49m\n\u001b[1;32m    799\u001b[0m \u001b[43m    \u001b[49m\u001b[43mpreload_content\u001b[49m\u001b[38;5;241;43m=\u001b[39;49m\u001b[43mpreload_content\u001b[49m\u001b[43m,\u001b[49m\n\u001b[1;32m    800\u001b[0m \u001b[43m    \u001b[49m\u001b[43mdecode_content\u001b[49m\u001b[38;5;241;43m=\u001b[39;49m\u001b[43mdecode_content\u001b[49m\u001b[43m,\u001b[49m\n\u001b[1;32m    801\u001b[0m \u001b[43m    \u001b[49m\u001b[38;5;241;43m*\u001b[39;49m\u001b[38;5;241;43m*\u001b[39;49m\u001b[43mresponse_kw\u001b[49m\u001b[43m,\u001b[49m\n\u001b[1;32m    802\u001b[0m \u001b[43m\u001b[49m\u001b[43m)\u001b[49m\n\u001b[1;32m    804\u001b[0m \u001b[38;5;66;03m# Everything went great!\u001b[39;00m\n\u001b[1;32m    805\u001b[0m clean_exit \u001b[38;5;241m=\u001b[39m \u001b[38;5;28;01mTrue\u001b[39;00m\n",
      "File \u001b[0;32m~/Repos/pyvespa/.venv/lib/python3.10/site-packages/urllib3/connectionpool.py:536\u001b[0m, in \u001b[0;36mHTTPConnectionPool._make_request\u001b[0;34m(self, conn, method, url, body, headers, retries, timeout, chunked, response_conn, preload_content, decode_content, enforce_content_length)\u001b[0m\n\u001b[1;32m    534\u001b[0m \u001b[38;5;66;03m# Receive the response from the server\u001b[39;00m\n\u001b[1;32m    535\u001b[0m \u001b[38;5;28;01mtry\u001b[39;00m:\n\u001b[0;32m--> 536\u001b[0m     response \u001b[38;5;241m=\u001b[39m \u001b[43mconn\u001b[49m\u001b[38;5;241;43m.\u001b[39;49m\u001b[43mgetresponse\u001b[49m\u001b[43m(\u001b[49m\u001b[43m)\u001b[49m\n\u001b[1;32m    537\u001b[0m \u001b[38;5;28;01mexcept\u001b[39;00m (BaseSSLError, \u001b[38;5;167;01mOSError\u001b[39;00m) \u001b[38;5;28;01mas\u001b[39;00m e:\n\u001b[1;32m    538\u001b[0m     \u001b[38;5;28mself\u001b[39m\u001b[38;5;241m.\u001b[39m_raise_timeout(err\u001b[38;5;241m=\u001b[39me, url\u001b[38;5;241m=\u001b[39murl, timeout_value\u001b[38;5;241m=\u001b[39mread_timeout)\n",
      "File \u001b[0;32m~/Repos/pyvespa/.venv/lib/python3.10/site-packages/urllib3/connection.py:464\u001b[0m, in \u001b[0;36mHTTPConnection.getresponse\u001b[0;34m(self)\u001b[0m\n\u001b[1;32m    461\u001b[0m \u001b[38;5;28;01mfrom\u001b[39;00m \u001b[38;5;21;01m.\u001b[39;00m\u001b[38;5;21;01mresponse\u001b[39;00m \u001b[38;5;28;01mimport\u001b[39;00m HTTPResponse\n\u001b[1;32m    463\u001b[0m \u001b[38;5;66;03m# Get the response from http.client.HTTPConnection\u001b[39;00m\n\u001b[0;32m--> 464\u001b[0m httplib_response \u001b[38;5;241m=\u001b[39m \u001b[38;5;28;43msuper\u001b[39;49m\u001b[43m(\u001b[49m\u001b[43m)\u001b[49m\u001b[38;5;241;43m.\u001b[39;49m\u001b[43mgetresponse\u001b[49m\u001b[43m(\u001b[49m\u001b[43m)\u001b[49m\n\u001b[1;32m    466\u001b[0m \u001b[38;5;28;01mtry\u001b[39;00m:\n\u001b[1;32m    467\u001b[0m     assert_header_parsing(httplib_response\u001b[38;5;241m.\u001b[39mmsg)\n",
      "File \u001b[0;32m~/.local/share/uv/python/cpython-3.10.14-macos-aarch64-none/lib/python3.10/http/client.py:1375\u001b[0m, in \u001b[0;36mHTTPConnection.getresponse\u001b[0;34m(self)\u001b[0m\n\u001b[1;32m   1373\u001b[0m \u001b[38;5;28;01mtry\u001b[39;00m:\n\u001b[1;32m   1374\u001b[0m     \u001b[38;5;28;01mtry\u001b[39;00m:\n\u001b[0;32m-> 1375\u001b[0m         \u001b[43mresponse\u001b[49m\u001b[38;5;241;43m.\u001b[39;49m\u001b[43mbegin\u001b[49m\u001b[43m(\u001b[49m\u001b[43m)\u001b[49m\n\u001b[1;32m   1376\u001b[0m     \u001b[38;5;28;01mexcept\u001b[39;00m \u001b[38;5;167;01mConnectionError\u001b[39;00m:\n\u001b[1;32m   1377\u001b[0m         \u001b[38;5;28mself\u001b[39m\u001b[38;5;241m.\u001b[39mclose()\n",
      "File \u001b[0;32m~/.local/share/uv/python/cpython-3.10.14-macos-aarch64-none/lib/python3.10/http/client.py:318\u001b[0m, in \u001b[0;36mHTTPResponse.begin\u001b[0;34m(self)\u001b[0m\n\u001b[1;32m    316\u001b[0m \u001b[38;5;66;03m# read until we get a non-100 response\u001b[39;00m\n\u001b[1;32m    317\u001b[0m \u001b[38;5;28;01mwhile\u001b[39;00m \u001b[38;5;28;01mTrue\u001b[39;00m:\n\u001b[0;32m--> 318\u001b[0m     version, status, reason \u001b[38;5;241m=\u001b[39m \u001b[38;5;28;43mself\u001b[39;49m\u001b[38;5;241;43m.\u001b[39;49m\u001b[43m_read_status\u001b[49m\u001b[43m(\u001b[49m\u001b[43m)\u001b[49m\n\u001b[1;32m    319\u001b[0m     \u001b[38;5;28;01mif\u001b[39;00m status \u001b[38;5;241m!=\u001b[39m CONTINUE:\n\u001b[1;32m    320\u001b[0m         \u001b[38;5;28;01mbreak\u001b[39;00m\n",
      "File \u001b[0;32m~/.local/share/uv/python/cpython-3.10.14-macos-aarch64-none/lib/python3.10/http/client.py:279\u001b[0m, in \u001b[0;36mHTTPResponse._read_status\u001b[0;34m(self)\u001b[0m\n\u001b[1;32m    278\u001b[0m \u001b[38;5;28;01mdef\u001b[39;00m \u001b[38;5;21m_read_status\u001b[39m(\u001b[38;5;28mself\u001b[39m):\n\u001b[0;32m--> 279\u001b[0m     line \u001b[38;5;241m=\u001b[39m \u001b[38;5;28mstr\u001b[39m(\u001b[38;5;28;43mself\u001b[39;49m\u001b[38;5;241;43m.\u001b[39;49m\u001b[43mfp\u001b[49m\u001b[38;5;241;43m.\u001b[39;49m\u001b[43mreadline\u001b[49m\u001b[43m(\u001b[49m\u001b[43m_MAXLINE\u001b[49m\u001b[43m \u001b[49m\u001b[38;5;241;43m+\u001b[39;49m\u001b[43m \u001b[49m\u001b[38;5;241;43m1\u001b[39;49m\u001b[43m)\u001b[49m, \u001b[38;5;124m\"\u001b[39m\u001b[38;5;124miso-8859-1\u001b[39m\u001b[38;5;124m\"\u001b[39m)\n\u001b[1;32m    280\u001b[0m     \u001b[38;5;28;01mif\u001b[39;00m \u001b[38;5;28mlen\u001b[39m(line) \u001b[38;5;241m>\u001b[39m _MAXLINE:\n\u001b[1;32m    281\u001b[0m         \u001b[38;5;28;01mraise\u001b[39;00m LineTooLong(\u001b[38;5;124m\"\u001b[39m\u001b[38;5;124mstatus line\u001b[39m\u001b[38;5;124m\"\u001b[39m)\n",
      "File \u001b[0;32m~/.local/share/uv/python/cpython-3.10.14-macos-aarch64-none/lib/python3.10/socket.py:705\u001b[0m, in \u001b[0;36mSocketIO.readinto\u001b[0;34m(self, b)\u001b[0m\n\u001b[1;32m    703\u001b[0m \u001b[38;5;28;01mwhile\u001b[39;00m \u001b[38;5;28;01mTrue\u001b[39;00m:\n\u001b[1;32m    704\u001b[0m     \u001b[38;5;28;01mtry\u001b[39;00m:\n\u001b[0;32m--> 705\u001b[0m         \u001b[38;5;28;01mreturn\u001b[39;00m \u001b[38;5;28;43mself\u001b[39;49m\u001b[38;5;241;43m.\u001b[39;49m\u001b[43m_sock\u001b[49m\u001b[38;5;241;43m.\u001b[39;49m\u001b[43mrecv_into\u001b[49m\u001b[43m(\u001b[49m\u001b[43mb\u001b[49m\u001b[43m)\u001b[49m\n\u001b[1;32m    706\u001b[0m     \u001b[38;5;28;01mexcept\u001b[39;00m timeout:\n\u001b[1;32m    707\u001b[0m         \u001b[38;5;28mself\u001b[39m\u001b[38;5;241m.\u001b[39m_timeout_occurred \u001b[38;5;241m=\u001b[39m \u001b[38;5;28;01mTrue\u001b[39;00m\n",
      "File \u001b[0;32m~/.local/share/uv/python/cpython-3.10.14-macos-aarch64-none/lib/python3.10/ssl.py:1307\u001b[0m, in \u001b[0;36mSSLSocket.recv_into\u001b[0;34m(self, buffer, nbytes, flags)\u001b[0m\n\u001b[1;32m   1303\u001b[0m     \u001b[38;5;28;01mif\u001b[39;00m flags \u001b[38;5;241m!=\u001b[39m \u001b[38;5;241m0\u001b[39m:\n\u001b[1;32m   1304\u001b[0m         \u001b[38;5;28;01mraise\u001b[39;00m \u001b[38;5;167;01mValueError\u001b[39;00m(\n\u001b[1;32m   1305\u001b[0m           \u001b[38;5;124m\"\u001b[39m\u001b[38;5;124mnon-zero flags not allowed in calls to recv_into() on \u001b[39m\u001b[38;5;132;01m%s\u001b[39;00m\u001b[38;5;124m\"\u001b[39m \u001b[38;5;241m%\u001b[39m\n\u001b[1;32m   1306\u001b[0m           \u001b[38;5;28mself\u001b[39m\u001b[38;5;241m.\u001b[39m\u001b[38;5;18m__class__\u001b[39m)\n\u001b[0;32m-> 1307\u001b[0m     \u001b[38;5;28;01mreturn\u001b[39;00m \u001b[38;5;28;43mself\u001b[39;49m\u001b[38;5;241;43m.\u001b[39;49m\u001b[43mread\u001b[49m\u001b[43m(\u001b[49m\u001b[43mnbytes\u001b[49m\u001b[43m,\u001b[49m\u001b[43m \u001b[49m\u001b[43mbuffer\u001b[49m\u001b[43m)\u001b[49m\n\u001b[1;32m   1308\u001b[0m \u001b[38;5;28;01melse\u001b[39;00m:\n\u001b[1;32m   1309\u001b[0m     \u001b[38;5;28;01mreturn\u001b[39;00m \u001b[38;5;28msuper\u001b[39m()\u001b[38;5;241m.\u001b[39mrecv_into(buffer, nbytes, flags)\n",
      "File \u001b[0;32m~/.local/share/uv/python/cpython-3.10.14-macos-aarch64-none/lib/python3.10/ssl.py:1163\u001b[0m, in \u001b[0;36mSSLSocket.read\u001b[0;34m(self, len, buffer)\u001b[0m\n\u001b[1;32m   1161\u001b[0m \u001b[38;5;28;01mtry\u001b[39;00m:\n\u001b[1;32m   1162\u001b[0m     \u001b[38;5;28;01mif\u001b[39;00m buffer \u001b[38;5;129;01mis\u001b[39;00m \u001b[38;5;129;01mnot\u001b[39;00m \u001b[38;5;28;01mNone\u001b[39;00m:\n\u001b[0;32m-> 1163\u001b[0m         \u001b[38;5;28;01mreturn\u001b[39;00m \u001b[38;5;28;43mself\u001b[39;49m\u001b[38;5;241;43m.\u001b[39;49m\u001b[43m_sslobj\u001b[49m\u001b[38;5;241;43m.\u001b[39;49m\u001b[43mread\u001b[49m\u001b[43m(\u001b[49m\u001b[38;5;28;43mlen\u001b[39;49m\u001b[43m,\u001b[49m\u001b[43m \u001b[49m\u001b[43mbuffer\u001b[49m\u001b[43m)\u001b[49m\n\u001b[1;32m   1164\u001b[0m     \u001b[38;5;28;01melse\u001b[39;00m:\n\u001b[1;32m   1165\u001b[0m         \u001b[38;5;28;01mreturn\u001b[39;00m \u001b[38;5;28mself\u001b[39m\u001b[38;5;241m.\u001b[39m_sslobj\u001b[38;5;241m.\u001b[39mread(\u001b[38;5;28mlen\u001b[39m)\n",
      "\u001b[0;31mKeyboardInterrupt\u001b[0m: "
     ]
    }
   ],
   "source": [
    "from vespa.evaluation import VespaEvaluator\n",
    "from datetime import datetime\n",
    "\n",
    "dt_str = datetime.now().strftime(\"%Y%m%d%H%M%S\")\n",
    "\n",
    "evaluator = VespaEvaluator(\n",
    "    queries=ids_to_query,\n",
    "    relevant_docs=qrels,\n",
    "    vespa_query_fn=semantic_query_fn,\n",
    "    app=app,\n",
    "    name=f\"{dataset_id}_{model_name}_{dt_str}\",\n",
    "    write_csv=True,  # optionally write metrics to CSV\n",
    ")\n",
    "\n",
    "results = evaluator.run()"
   ]
  },
  {
   "cell_type": "code",
   "execution_count": null,
   "id": "d0045b49",
   "metadata": {},
   "outputs": [],
   "source": []
  },
  {
   "cell_type": "code",
   "execution_count": null,
   "id": "11ff44e7",
   "metadata": {},
   "outputs": [],
   "source": []
  },
  {
   "cell_type": "code",
   "execution_count": null,
   "id": "9a302f5a",
   "metadata": {},
   "outputs": [],
   "source": []
  },
  {
   "cell_type": "code",
   "execution_count": null,
   "id": "98994326",
   "metadata": {},
   "outputs": [],
   "source": []
  },
  {
   "cell_type": "markdown",
   "id": "28591491",
   "metadata": {},
   "source": [
    "## Cleanup"
   ]
  },
  {
   "cell_type": "code",
   "execution_count": 24,
   "id": "e5064bd2",
   "metadata": {},
   "outputs": [
    {
     "name": "stdout",
     "output_type": "stream",
     "text": [
      "Deactivated vespa-team.codesearch in dev.aws-us-east-1c\n",
      "Deleted instance vespa-team.codesearch.default\n"
     ]
    }
   ],
   "source": [
    "vespa_cloud.delete()"
   ]
  },
  {
   "cell_type": "markdown",
   "id": "d1872b31",
   "metadata": {},
   "source": [
    "## Next steps\n",
    "\n",
    "This is just an intro into the capabilities of Vespa and pyvespa.\n",
    "Browse the site to learn more about schemas, feeding and queries - \n",
    "find more complex applications in\n",
    "[examples](https://pyvespa.readthedocs.io/en/latest/examples.html)."
   ]
  }
 ],
 "metadata": {
  "kernelspec": {
   "display_name": ".venv",
   "language": "python",
   "name": "python3"
  },
  "language_info": {
   "codemirror_mode": {
    "name": "ipython",
    "version": 3
   },
   "file_extension": ".py",
   "mimetype": "text/x-python",
   "name": "python",
   "nbconvert_exporter": "python",
   "pygments_lexer": "ipython3",
   "version": "3.10.14"
  }
 },
 "nbformat": 4,
 "nbformat_minor": 5
}
