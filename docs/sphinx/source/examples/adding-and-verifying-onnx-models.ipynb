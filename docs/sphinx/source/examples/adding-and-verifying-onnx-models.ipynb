{
 "cells": [
  {
   "cell_type": "markdown",
   "id": "given-adoption",
   "metadata": {},
   "source": [
    "<picture>\n",
    "  <source media=\"(prefers-color-scheme: dark)\" srcset=\"https://assets.vespa.ai/logos/Vespa-logo-green-RGB.svg\">\n",
    "  <source media=\"(prefers-color-scheme: light)\" srcset=\"https://assets.vespa.ai/logos/Vespa-logo-dark-RGB.svg\">\n",
    "  <img alt=\"#Vespa\" width=\"200\" src=\"https://assets.vespa.ai/logos/Vespa-logo-dark-RGB.svg\" style=\"margin-bottom: 25px;\">\n",
    "</picture>\n",
    "\n",
    "# Adding and verifying ONNX-models to Vespa\n",
    "\n",
    "TODO"
   ]
  },
  {
   "cell_type": "markdown",
   "id": "8c967bd2",
   "metadata": {},
   "source": [
    "<div class=\"alert alert-info\">\n",
    "    Refer to <a href=\"https://pyvespa.readthedocs.io/en/latest/troubleshooting.html\">troubleshooting</a>\n",
    "    for any problem when running this guide.\n",
    "</div>"
   ]
  },
  {
   "cell_type": "markdown",
   "id": "8345b2fe",
   "metadata": {},
   "source": [
    "[Install pyvespa](https://pyvespa.readthedocs.io/) and start Docker Daemon, validate minimum 6G available:"
   ]
  },
  {
   "cell_type": "code",
   "execution_count": null,
   "id": "03f3d0f2",
   "metadata": {},
   "outputs": [],
   "source": [
    "!pip3 install pyvespa onnxruntime tokenizers\n",
    "!docker info | grep \"Total Memory\""
   ]
  },
  {
   "cell_type": "markdown",
   "id": "9d4014e0",
   "metadata": {},
   "source": [
    "## Find the model you are interested in using with Vespa on Huggingface\n",
    "\n",
    "https://huggingface.co/models?pipeline_tag=sentence-similarity&library=onnx&sort=trending is a good starting point."
   ]
  },
  {
   "cell_type": "markdown",
   "id": "191e4b0f",
   "metadata": {},
   "source": [
    "## Download the ONNX-model you are interested in using with Vespa\n",
    "\n",
    "When you have found a model you are interested in using, locate the download button of the ONNX model-file, right-click and copy the link. (You need to remo"
   ]
  },
  {
   "cell_type": "code",
   "execution_count": 2,
   "id": "834f4c11",
   "metadata": {},
   "outputs": [],
   "source": [
    "application_name = \"onnx\""
   ]
  },
  {
   "cell_type": "code",
   "execution_count": null,
   "id": "280aa39a",
   "metadata": {},
   "outputs": [],
   "source": [
    "import requests\n",
    "from pathlib import Path\n",
    "\n",
    "model_url = \"https://huggingface.co/nomic-ai/modernbert-embed-base/resolve/main/onnx/model_uint8.onnx?download=true\"\n",
    "\n",
    "tokenizer_url = \"https://huggingface.co/nomic-ai/modernbert-embed-base/resolve/main/tokenizer.json?download=true\"\n",
    "\n",
    "\n",
    "def download_file(url: str, local_model_dir: Path = Path(\"models\")):\n",
    "    # Extract the filename (exclude query parameter)\n",
    "    filename = url.split(\"/\")[-1].split(\"?\")[0]\n",
    "    local_model_path = local_model_dir / filename\n",
    "    local_model_dir.mkdir(parents=True, exist_ok=True)\n",
    "    r = requests.get(url)\n",
    "    if not local_model_path.exists():\n",
    "        with open(local_model_path, \"wb\") as f:\n",
    "            f.write(r.content)\n",
    "        print(f\"Downloaded file to {local_model_path}\")\n",
    "    else:\n",
    "        print(f\"File already exists at {local_model_path}\")\n",
    "    return local_model_path\n",
    "\n",
    "\n",
    "model_path = download_file(model_url)\n",
    "tokenizer_path = download_file(tokenizer_url)"
   ]
  },
  {
   "cell_type": "code",
   "execution_count": 2,
   "id": "ab9cc41a",
   "metadata": {},
   "outputs": [
    {
     "data": {
      "text/plain": [
       "(PosixPath('models/model_uint8.onnx'), PosixPath('models/tokenizer.json'))"
      ]
     },
     "execution_count": 2,
     "metadata": {},
     "output_type": "execute_result"
    }
   ],
   "source": [
    "model_path, tokenizer_path"
   ]
  },
  {
   "cell_type": "code",
   "execution_count": 65,
   "id": "f7e17f63",
   "metadata": {},
   "outputs": [
    {
     "name": "stdout",
     "output_type": "stream",
     "text": [
      "\n",
      "Model Inputs:\n",
      "\n",
      "Input 0:\n",
      "  Name: input_ids\n",
      "  Shape: ['batch_size', 'sequence_length']\n",
      "  Type: tensor(int64)\n",
      "\n",
      "Input 1:\n",
      "  Name: attention_mask\n",
      "  Shape: ['batch_size', 'sequence_length']\n",
      "  Type: tensor(int64)\n",
      "\n",
      "Model Outputs:\n",
      "\n",
      "Output 0:\n",
      "  Name: token_embeddings\n",
      "  Shape: ['batch_size', 'sequence_length', 768]\n",
      "  Type: tensor(float)\n",
      "\n",
      "Output 1:\n",
      "  Name: sentence_embedding\n",
      "  Shape: ['batch_size', 768]\n",
      "  Type: tensor(float)\n"
     ]
    }
   ],
   "source": [
    "import onnxruntime as ort\n",
    "from typing import Dict, List, Tuple\n",
    "import numpy as np\n",
    "\n",
    "\n",
    "def inspect_onnx_model(model_path: str) -> Tuple[List[Dict], List[Dict]]:\n",
    "    \"\"\"\n",
    "    Inspect the inputs and outputs of an ONNX model.\n",
    "\n",
    "    Args:\n",
    "        model_path (str): Path to the .onnx file\n",
    "\n",
    "    Returns:\n",
    "        Tuple[List[Dict], List[Dict]]: Lists containing input and output metadata\n",
    "    \"\"\"\n",
    "    try:\n",
    "        # Create inference session\n",
    "        session = ort.InferenceSession(model_path, providers=[\"CPUExecutionProvider\"])\n",
    "\n",
    "        # Get input details\n",
    "        inputs = []\n",
    "        for input_meta in session.get_inputs():\n",
    "            input_info = {\n",
    "                \"name\": input_meta.name,\n",
    "                \"shape\": input_meta.shape,\n",
    "                \"type\": input_meta.type,\n",
    "            }\n",
    "            inputs.append(input_info)\n",
    "\n",
    "        # Get output details\n",
    "        outputs = []\n",
    "        for output_meta in session.get_outputs():\n",
    "            output_info = {\n",
    "                \"name\": output_meta.name,\n",
    "                \"shape\": output_meta.shape,\n",
    "                \"type\": output_meta.type,\n",
    "            }\n",
    "            outputs.append(output_info)\n",
    "\n",
    "        return inputs, outputs\n",
    "\n",
    "    except Exception as e:\n",
    "        print(f\"Error loading model: {str(e)}\")\n",
    "        return [], []\n",
    "\n",
    "\n",
    "inputs, outputs = inspect_onnx_model(model_path)\n",
    "\n",
    "print(\"\\nModel Inputs:\")\n",
    "for idx, inp in enumerate(inputs):\n",
    "    print(f\"\\nInput {idx}:\")\n",
    "    print(f\"  Name: {inp['name']}\")\n",
    "    print(f\"  Shape: {inp['shape']}\")\n",
    "    print(f\"  Type: {inp['type']}\")\n",
    "\n",
    "print(\"\\nModel Outputs:\")\n",
    "for idx, out in enumerate(outputs):\n",
    "    print(f\"\\nOutput {idx}:\")\n",
    "    print(f\"  Name: {out['name']}\")\n",
    "    print(f\"  Shape: {out['shape']}\")\n",
    "    print(f\"  Type: {out['type']}\")"
   ]
  },
  {
   "cell_type": "markdown",
   "id": "4dc1f988",
   "metadata": {},
   "source": [
    "We will also run inference on a sample query to verify that we get the same results in Vespa as in the original model."
   ]
  },
  {
   "cell_type": "code",
   "execution_count": null,
   "id": "0f1edef8",
   "metadata": {},
   "outputs": [],
   "source": [
    "from datasets import load_dataset\n",
    "\n",
    "ds = load_dataset(\"zeta-alpha-ai/NanoClimateFEVER\", \"corpus\", split=\"train\")"
   ]
  },
  {
   "cell_type": "code",
   "execution_count": 93,
   "id": "19bf6330",
   "metadata": {},
   "outputs": [
    {
     "data": {
      "text/plain": [
       "(\"The 1993 Storm of the Century ( also known as the 93 Super Storm or the Great Blizzard of 1993 ) was a large cyclonic storm that formed over the Gulf of Mexico on March 12 , 1993 . The storm eventually dissipated in the North Atlantic Ocean on March 15 , 1993 . It was unique for its intensity , massive size , and wide-reaching effects . At its height , the storm stretched from Canada to the Gulf of Mexico . The cyclone moved through the Gulf of Mexico and then through the eastern United States before moving onto Canada .   Heavy snow was first reported in highland areas as far south as Alabama and northern Georgia , with Union County , Georgia reporting up to 35 inches of snow in the north Georgia mountains . Birmingham , Alabama , reported a rare 13 in of snow .  The Florida Panhandle reported up to 4 in , with hurricane-force wind gusts and record low barometric pressures . Between Louisiana and Cuba , the hurricane-force winds produced high storm surges across Northwestern Florida which , in combination with scattered tornadoes , killed dozens of people .   Record cold temperatures were seen across portions of the south and east of the US in the wake of this storm . In the United States , the storm was responsible for the loss of electric power to more than 10 million households . An estimated 40 percent of the country 's population experienced the effects of the storm with a total of 208 fatalities .\",\n",
       " '1993_Storm_of_the_Century')"
      ]
     },
     "execution_count": 93,
     "metadata": {},
     "output_type": "execute_result"
    }
   ],
   "source": [
    "sample_text, sample_id = ds[0][\"text\"], ds[0][\"_id\"]\n",
    "sample_text, sample_id"
   ]
  },
  {
   "cell_type": "code",
   "execution_count": 57,
   "id": "4d0f2927",
   "metadata": {},
   "outputs": [],
   "source": [
    "from tokenizers import Tokenizer\n",
    "\n",
    "\n",
    "tokenizer = Tokenizer.from_file(str(tokenizer_path))"
   ]
  },
  {
   "cell_type": "code",
   "execution_count": 64,
   "id": "0b0ce65e",
   "metadata": {},
   "outputs": [
    {
     "name": "stdout",
     "output_type": "stream",
     "text": [
      "287\n"
     ]
    }
   ],
   "source": [
    "encoded = tokenizer.encode(sample_text)\n",
    "input_ids = encoded.ids\n",
    "attention_mask = encoded.special_tokens_mask\n",
    "print(len(input_ids))\n",
    "assert len(input_ids) == len(attention_mask)"
   ]
  },
  {
   "cell_type": "code",
   "execution_count": 68,
   "id": "5417d9fa",
   "metadata": {},
   "outputs": [
    {
     "data": {
      "text/plain": [
       "(1, 287, 768)"
      ]
     },
     "execution_count": 68,
     "metadata": {},
     "output_type": "execute_result"
    }
   ],
   "source": [
    "# Perform inference with the ONNX model. Provide token-ids and attention-mask as input\n",
    "\n",
    "\n",
    "def onnx_inference(\n",
    "    model_path: str, input_data: dict, session: ort.InferenceSession\n",
    ") -> np.ndarray:\n",
    "    \"\"\"\n",
    "    Perform inference with an ONNX model.\n",
    "\n",
    "    Args:\n",
    "        model_path (str): Path to the .onnx file\n",
    "        input_data (dict): Input data for the model\n",
    "        session (ort.InferenceSession): ONNX Inference Session\n",
    "\n",
    "    Returns:\n",
    "        np.ndarray: Model output\n",
    "    \"\"\"\n",
    "    try:\n",
    "        # Perform inference\n",
    "        output = session.run(None, input_data)\n",
    "        return output[0]\n",
    "\n",
    "    except Exception as e:\n",
    "        print(f\"Error running inference: {str(e)}\")\n",
    "        return None\n",
    "\n",
    "\n",
    "input_dict = {\n",
    "    \"input_ids\": np.array([input_ids], dtype=np.int64),\n",
    "    \"attention_mask\": np.array([attention_mask], dtype=np.int64),\n",
    "}\n",
    "output_embedding = onnx_inference(\n",
    "    model_path, input_dict, ort.InferenceSession(model_path)\n",
    ")\n",
    "output_embedding.shape"
   ]
  },
  {
   "cell_type": "code",
   "execution_count": 76,
   "id": "46acb6a5",
   "metadata": {},
   "outputs": [
    {
     "data": {
      "text/plain": [
       "(768,)"
      ]
     },
     "execution_count": 76,
     "metadata": {},
     "output_type": "execute_result"
    }
   ],
   "source": [
    "output_emb_pooled = np.mean(output_embedding, axis=1).flatten()\n",
    "output_emb_pooled.shape"
   ]
  },
  {
   "cell_type": "code",
   "execution_count": 43,
   "id": "cd2af91d",
   "metadata": {},
   "outputs": [],
   "source": [
    "model_name = \"modernbert-embed-base\"\n",
    "model_dims = 768\n",
    "matryoshka_dims = 256"
   ]
  },
  {
   "cell_type": "markdown",
   "id": "db637322",
   "metadata": {},
   "source": [
    "## Create an application package\n",
    "\n",
    "The [application package](https://pyvespa.readthedocs.io/en/latest/reference-api.html#vespa.package.ApplicationPackage)\n",
    "has all the Vespa configuration files -\n",
    "create one from scratch:"
   ]
  },
  {
   "cell_type": "code",
   "execution_count": 78,
   "id": "bd5c2629",
   "metadata": {},
   "outputs": [],
   "source": [
    "from vespa.package import (\n",
    "    ApplicationPackage,\n",
    "    Field,\n",
    "    Schema,\n",
    "    Document,\n",
    "    HNSW,\n",
    "    RankProfile,\n",
    "    Component,\n",
    "    Parameter,\n",
    "    FieldSet,\n",
    "    GlobalPhaseRanking,\n",
    "    Function,\n",
    ")\n",
    "\n",
    "application_name = \"onnx\"\n",
    "\n",
    "package = ApplicationPackage(\n",
    "    name=application_name,\n",
    "    schema=[\n",
    "        Schema(\n",
    "            name=\"doc\",\n",
    "            document=Document(\n",
    "                fields=[\n",
    "                    Field(name=\"id\", type=\"string\", indexing=[\"summary\"]),\n",
    "                    Field(\n",
    "                        name=\"text\",\n",
    "                        type=\"string\",\n",
    "                        indexing=[\"index\", \"summary\"],\n",
    "                        index=\"enable-bm25\",\n",
    "                    ),\n",
    "                    Field(\n",
    "                        name=\"embedding\",\n",
    "                        type=f\"tensor<float>(x[{model_dims}])\",\n",
    "                        indexing=[\n",
    "                            \"input text\",\n",
    "                            f\"embed {model_name}\",\n",
    "                            \"summary\",\n",
    "                            \"index\",\n",
    "                            \"attribute\",\n",
    "                        ],\n",
    "                        ann=HNSW(distance_metric=\"angular\"),\n",
    "                        is_document_field=False,\n",
    "                    ),\n",
    "                ]\n",
    "            ),\n",
    "            fieldsets=[\n",
    "                FieldSet(\n",
    "                    name=\"default\",\n",
    "                    fields=[\n",
    "                        \"text\",\n",
    "                    ],\n",
    "                )\n",
    "            ],\n",
    "            rank_profiles=[\n",
    "                RankProfile(\n",
    "                    name=\"bm25\",\n",
    "                    inputs=[(\"query(q)\", f\"tensor<float>(x[{model_dims}])\")],\n",
    "                    functions=[Function(name=\"bm25sum\", expression=\"bm25(text)\")],\n",
    "                    first_phase=\"bm25sum\",\n",
    "                ),\n",
    "                RankProfile(\n",
    "                    name=\"semantic\",\n",
    "                    inputs=[(\"query(q)\", f\"tensor<float>(x[{model_dims}])\")],\n",
    "                    first_phase=\"closeness(field, embedding)\",\n",
    "                ),\n",
    "                RankProfile(\n",
    "                    name=\"fusion\",\n",
    "                    inherits=\"bm25\",\n",
    "                    inputs=[(\"query(q)\", f\"tensor<float>(x[{model_dims}])\")],\n",
    "                    first_phase=\"closeness(field, embedding)\",\n",
    "                    global_phase=GlobalPhaseRanking(\n",
    "                        expression=\"reciprocal_rank_fusion(bm25sum, closeness(field, embedding))\",\n",
    "                        rerank_count=1000,\n",
    "                    ),\n",
    "                ),\n",
    "            ],\n",
    "        )\n",
    "    ],\n",
    "    components=[\n",
    "        Component(\n",
    "            id=f\"{model_name}\",\n",
    "            type=\"hugging-face-embedder\",\n",
    "            parameters=[\n",
    "                Parameter(\n",
    "                    \"transformer-model\",\n",
    "                    {\"url\": model_url.split(\"?\")[0]},\n",
    "                ),\n",
    "                Parameter(\n",
    "                    \"tokenizer-model\",\n",
    "                    {\"url\": tokenizer_url.split(\"?\")[0]},\n",
    "                ),\n",
    "                Parameter(\n",
    "                    \"transformer-token-type-ids\",\n",
    "                    {},\n",
    "                ),\n",
    "                Parameter(\n",
    "                    \"max-tokens\",\n",
    "                    {},\n",
    "                    \"8192\",\n",
    "                ),\n",
    "                Parameter(\"transformer-output\", {}, children=\"token_embeddings\"),\n",
    "                Parameter(\n",
    "                    \"prepend\",\n",
    "                    {},\n",
    "                    children=[\n",
    "                        Parameter(\"query\", {}, \"search_query:\"),\n",
    "                        Parameter(\"document\", {}, \"search_document:\"),\n",
    "                    ],\n",
    "                ),\n",
    "            ],\n",
    "        )\n",
    "    ],\n",
    ")"
   ]
  },
  {
   "cell_type": "markdown",
   "id": "2c5e2943",
   "metadata": {},
   "source": [
    "Note that the name cannot have `-` or `_`."
   ]
  },
  {
   "cell_type": "markdown",
   "id": "careful-savage",
   "metadata": {},
   "source": [
    "## Deploy the Vespa application \n",
    "\n",
    "Deploy `package` on the local machine using Docker,\n",
    "without leaving the notebook, by creating an instance of\n",
    "[VespaDocker](https://pyvespa.readthedocs.io/en/latest/reference-api.html#vespa.deployment.VespaDocker). `VespaDocker` connects\n",
    "to the local Docker daemon socket and starts the [Vespa docker image](https://hub.docker.com/r/vespaengine/vespa/). \n",
    "\n",
    "If this step fails, please check\n",
    "that the Docker daemon is running, and that the Docker daemon socket can be used by clients (Configurable under advanced settings in Docker Desktop)."
   ]
  },
  {
   "cell_type": "code",
   "execution_count": 41,
   "id": "81a4746b",
   "metadata": {},
   "outputs": [],
   "source": [
    "package.to_files(application_name)"
   ]
  },
  {
   "cell_type": "code",
   "execution_count": 102,
   "id": "canadian-blood",
   "metadata": {},
   "outputs": [
    {
     "name": "stdout",
     "output_type": "stream",
     "text": [
      "Waiting for configuration server, 0/60 seconds...\n",
      "Waiting for configuration server, 5/60 seconds...\n",
      "Waiting for application to come up, 0/300 seconds.\n",
      "Waiting for application to come up, 5/300 seconds.\n",
      "Application is up!\n",
      "Finished deployment.\n"
     ]
    }
   ],
   "source": [
    "from vespa.deployment import VespaDocker\n",
    "\n",
    "vespa_docker = VespaDocker()\n",
    "app = vespa_docker.deploy(package)"
   ]
  },
  {
   "cell_type": "markdown",
   "id": "aaae2f91",
   "metadata": {},
   "source": [
    "`app` now holds a reference to a [Vespa](https://pyvespa.readthedocs.io/en/latest/reference-api.html#vespa.application.Vespa) instance."
   ]
  },
  {
   "cell_type": "markdown",
   "id": "sealed-mustang",
   "metadata": {},
   "source": [
    "## Feeding documents to Vespa\n",
    "\n",
    "In this example we use the [HF Datasets](https://huggingface.co/docs/datasets/index) library to stream the\n",
    "[BeIR/nfcorpus](https://huggingface.co/datasets/BeIR/nfcorpus) dataset and index in our newly deployed Vespa instance. Read\n",
    "more about the [NFCorpus](https://www.cl.uni-heidelberg.de/statnlpgroup/nfcorpus/):\n",
    "\n",
    ">NFCorpus is a full-text English retrieval data set for Medical Information Retrieval. \n",
    "\n",
    "The following uses the [stream](https://huggingface.co/docs/datasets/stream) option of datasets to stream the data without\n",
    "downloading all the contents locally. The `map` functionality allows us to convert the\n",
    "dataset fields into the expected feed format for `pyvespa` which expects a dict with the keys `id` and `fields`:\n",
    "\n",
    "` { \"id\": \"vespa-document-id\", \"fields\": {\"vespa_field\": \"vespa-field-value\"}} `"
   ]
  },
  {
   "cell_type": "code",
   "execution_count": 103,
   "id": "e9d3facd",
   "metadata": {},
   "outputs": [],
   "source": [
    "from datasets import load_dataset\n",
    "\n",
    "vespa_feed = [\n",
    "    {\n",
    "        \"id\": str(i),\n",
    "        \"fields\": {\"text\": x[\"text\"], \"id\": x[\"_id\"]},\n",
    "    }\n",
    "    for i, x in enumerate(ds)\n",
    "]"
   ]
  },
  {
   "cell_type": "markdown",
   "id": "b4d6bc25",
   "metadata": {},
   "source": [
    "Now we can feed to Vespa using `feed_iterable` which accepts any `Iterable` and an optional callback function where we can\n",
    "check the outcome of each operation. The application is configured to use [embedding](https://docs.vespa.ai/en/embedding.html)\n",
    "functionality, that produce a vector embedding using a concatenation of the title and the body input fields. This step is computionally expensive. Read more\n",
    "about embedding inference in Vespa in the [Accelerating Transformer-based Embedding Retrieval with Vespa](https://blog.vespa.ai/accelerating-transformer-based-embedding-retrieval-with-vespa/)."
   ]
  },
  {
   "cell_type": "code",
   "execution_count": null,
   "id": "a7429132",
   "metadata": {},
   "outputs": [
    {
     "name": "stdout",
     "output_type": "stream",
     "text": [
      "Error when feeding document 0: {'Exception': \"('Connection aborted.', RemoteDisconnected('Remote end closed connection without response'))\", 'id': '0', 'message': 'Exception during feed_data_point'}\n",
      "Error when feeding document 2: {'Exception': \"('Connection aborted.', RemoteDisconnected('Remote end closed connection without response'))\", 'id': '2', 'message': 'Exception during feed_data_point'}\n",
      "Error when feeding document 1: {'Exception': \"('Connection aborted.', RemoteDisconnected('Remote end closed connection without response'))\", 'id': '1', 'message': 'Exception during feed_data_point'}\n",
      "Error when feeding document 3: {'Exception': \"('Connection aborted.', RemoteDisconnected('Remote end closed connection without response'))\", 'id': '3', 'message': 'Exception during feed_data_point'}\n",
      "Error when feeding document 4: {'Exception': \"('Connection aborted.', RemoteDisconnected('Remote end closed connection without response'))\", 'id': '4', 'message': 'Exception during feed_data_point'}\n",
      "Error when feeding document 6: {'Exception': \"('Connection aborted.', RemoteDisconnected('Remote end closed connection without response'))\", 'id': '6', 'message': 'Exception during feed_data_point'}\n",
      "Error when feeding document 5: {'Exception': \"('Connection aborted.', RemoteDisconnected('Remote end closed connection without response'))\", 'id': '5', 'message': 'Exception during feed_data_point'}\n",
      "Error when feeding document 8: {'Exception': \"('Connection aborted.', RemoteDisconnected('Remote end closed connection without response'))\", 'id': '8', 'message': 'Exception during feed_data_point'}\n",
      "Error when feeding document 7: {'Exception': \"('Connection aborted.', RemoteDisconnected('Remote end closed connection without response'))\", 'id': '7', 'message': 'Exception during feed_data_point'}\n",
      "Error when feeding document 9: {'Exception': \"('Connection aborted.', RemoteDisconnected('Remote end closed connection without response'))\", 'id': '9', 'message': 'Exception during feed_data_point'}\n",
      "Error when feeding document 11: {'Exception': \"('Connection aborted.', RemoteDisconnected('Remote end closed connection without response'))\", 'id': '11', 'message': 'Exception during feed_data_point'}\n",
      "Error when feeding document 10: {'Exception': \"('Connection aborted.', RemoteDisconnected('Remote end closed connection without response'))\", 'id': '10', 'message': 'Exception during feed_data_point'}\n",
      "Error when feeding document 13: {'Exception': \"('Connection aborted.', RemoteDisconnected('Remote end closed connection without response'))\", 'id': '13', 'message': 'Exception during feed_data_point'}\n",
      "Error when feeding document 12: {'Exception': \"('Connection aborted.', RemoteDisconnected('Remote end closed connection without response'))\", 'id': '12', 'message': 'Exception during feed_data_point'}\n",
      "Error when feeding document 14: {'Exception': \"('Connection aborted.', RemoteDisconnected('Remote end closed connection without response'))\", 'id': '14', 'message': 'Exception during feed_data_point'}\n",
      "Error when feeding document 16: {'Exception': \"('Connection aborted.', RemoteDisconnected('Remote end closed connection without response'))\", 'id': '16', 'message': 'Exception during feed_data_point'}\n",
      "Error when feeding document 15: {'Exception': \"('Connection aborted.', RemoteDisconnected('Remote end closed connection without response'))\", 'id': '15', 'message': 'Exception during feed_data_point'}\n",
      "Error when feeding document 17: {'Exception': \"('Connection aborted.', RemoteDisconnected('Remote end closed connection without response'))\", 'id': '17', 'message': 'Exception during feed_data_point'}\n",
      "Error when feeding document 18: {'Exception': \"('Connection aborted.', RemoteDisconnected('Remote end closed connection without response'))\", 'id': '18', 'message': 'Exception during feed_data_point'}\n",
      "Error when feeding document 19: {'Exception': \"('Connection aborted.', RemoteDisconnected('Remote end closed connection without response'))\", 'id': '19', 'message': 'Exception during feed_data_point'}\n",
      "Error when feeding document 20: {'Exception': \"('Connection aborted.', RemoteDisconnected('Remote end closed connection without response'))\", 'id': '20', 'message': 'Exception during feed_data_point'}\n",
      "Error when feeding document 21: {'Exception': \"('Connection aborted.', RemoteDisconnected('Remote end closed connection without response'))\", 'id': '21', 'message': 'Exception during feed_data_point'}\n",
      "Error when feeding document 22: {'Exception': \"('Connection aborted.', RemoteDisconnected('Remote end closed connection without response'))\", 'id': '22', 'message': 'Exception during feed_data_point'}\n",
      "Error when feeding document 23: {'Exception': \"('Connection aborted.', RemoteDisconnected('Remote end closed connection without response'))\", 'id': '23', 'message': 'Exception during feed_data_point'}\n",
      "Error when feeding document 24: {'Exception': \"('Connection aborted.', RemoteDisconnected('Remote end closed connection without response'))\", 'id': '24', 'message': 'Exception during feed_data_point'}\n",
      "Error when feeding document 25: {'Exception': \"('Connection aborted.', RemoteDisconnected('Remote end closed connection without response'))\", 'id': '25', 'message': 'Exception during feed_data_point'}\n",
      "Error when feeding document 26: {'Exception': \"('Connection aborted.', RemoteDisconnected('Remote end closed connection without response'))\", 'id': '26', 'message': 'Exception during feed_data_point'}\n",
      "Error when feeding document 27: {'Exception': \"('Connection aborted.', RemoteDisconnected('Remote end closed connection without response'))\", 'id': '27', 'message': 'Exception during feed_data_point'}\n",
      "Error when feeding document 29: {'Exception': \"('Connection aborted.', RemoteDisconnected('Remote end closed connection without response'))\", 'id': '29', 'message': 'Exception during feed_data_point'}\n",
      "Error when feeding document 28: {'Exception': \"('Connection aborted.', RemoteDisconnected('Remote end closed connection without response'))\", 'id': '28', 'message': 'Exception during feed_data_point'}\n",
      "Error when feeding document 30: {'Exception': \"('Connection aborted.', RemoteDisconnected('Remote end closed connection without response'))\", 'id': '30', 'message': 'Exception during feed_data_point'}\n",
      "Error when feeding document 32: {'Exception': \"('Connection aborted.', RemoteDisconnected('Remote end closed connection without response'))\", 'id': '32', 'message': 'Exception during feed_data_point'}\n",
      "Error when feeding document 31: {'Exception': \"('Connection aborted.', RemoteDisconnected('Remote end closed connection without response'))\", 'id': '31', 'message': 'Exception during feed_data_point'}\n",
      "Error when feeding document 33: {'Exception': \"('Connection aborted.', RemoteDisconnected('Remote end closed connection without response'))\", 'id': '33', 'message': 'Exception during feed_data_point'}\n",
      "Error when feeding document 34: {'Exception': \"('Connection aborted.', RemoteDisconnected('Remote end closed connection without response'))\", 'id': '34', 'message': 'Exception during feed_data_point'}\n",
      "Error when feeding document 35: {'Exception': \"('Connection aborted.', RemoteDisconnected('Remote end closed connection without response'))\", 'id': '35', 'message': 'Exception during feed_data_point'}\n",
      "Error when feeding document 37: {'Exception': \"('Connection aborted.', RemoteDisconnected('Remote end closed connection without response'))\", 'id': '37', 'message': 'Exception during feed_data_point'}\n",
      "Error when feeding document 36: {'Exception': \"('Connection aborted.', RemoteDisconnected('Remote end closed connection without response'))\", 'id': '36', 'message': 'Exception during feed_data_point'}\n",
      "Error when feeding document 38: {'Exception': \"('Connection aborted.', RemoteDisconnected('Remote end closed connection without response'))\", 'id': '38', 'message': 'Exception during feed_data_point'}\n",
      "Error when feeding document 40: {'Exception': \"('Connection aborted.', RemoteDisconnected('Remote end closed connection without response'))\", 'id': '40', 'message': 'Exception during feed_data_point'}\n",
      "Error when feeding document 39: {'Exception': \"('Connection aborted.', RemoteDisconnected('Remote end closed connection without response'))\", 'id': '39', 'message': 'Exception during feed_data_point'}\n",
      "Error when feeding document 41: {'Exception': \"('Connection aborted.', RemoteDisconnected('Remote end closed connection without response'))\", 'id': '41', 'message': 'Exception during feed_data_point'}\n",
      "Error when feeding document 42: {'Exception': \"('Connection aborted.', RemoteDisconnected('Remote end closed connection without response'))\", 'id': '42', 'message': 'Exception during feed_data_point'}\n",
      "Error when feeding document 43: {'Exception': \"('Connection aborted.', RemoteDisconnected('Remote end closed connection without response'))\", 'id': '43', 'message': 'Exception during feed_data_point'}\n",
      "Error when feeding document 45: {'Exception': \"('Connection aborted.', RemoteDisconnected('Remote end closed connection without response'))\", 'id': '45', 'message': 'Exception during feed_data_point'}\n",
      "Error when feeding document 44: {'Exception': \"('Connection aborted.', RemoteDisconnected('Remote end closed connection without response'))\", 'id': '44', 'message': 'Exception during feed_data_point'}\n",
      "Error when feeding document 46: {'Exception': \"('Connection aborted.', RemoteDisconnected('Remote end closed connection without response'))\", 'id': '46', 'message': 'Exception during feed_data_point'}\n",
      "Error when feeding document 48: {'Exception': \"('Connection aborted.', RemoteDisconnected('Remote end closed connection without response'))\", 'id': '48', 'message': 'Exception during feed_data_point'}\n",
      "Error when feeding document 47: {'Exception': \"('Connection aborted.', RemoteDisconnected('Remote end closed connection without response'))\", 'id': '47', 'message': 'Exception during feed_data_point'}\n",
      "Error when feeding document 49: {'Exception': \"('Connection aborted.', RemoteDisconnected('Remote end closed connection without response'))\", 'id': '49', 'message': 'Exception during feed_data_point'}\n",
      "Error when feeding document 50: {'Exception': \"('Connection aborted.', RemoteDisconnected('Remote end closed connection without response'))\", 'id': '50', 'message': 'Exception during feed_data_point'}\n",
      "Error when feeding document 51: {'Exception': \"('Connection aborted.', RemoteDisconnected('Remote end closed connection without response'))\", 'id': '51', 'message': 'Exception during feed_data_point'}\n",
      "Error when feeding document 53: {'Exception': \"('Connection aborted.', RemoteDisconnected('Remote end closed connection without response'))\", 'id': '53', 'message': 'Exception during feed_data_point'}\n",
      "Error when feeding document 52: {'Exception': \"('Connection aborted.', RemoteDisconnected('Remote end closed connection without response'))\", 'id': '52', 'message': 'Exception during feed_data_point'}\n",
      "Error when feeding document 54: {'Exception': \"('Connection aborted.', RemoteDisconnected('Remote end closed connection without response'))\", 'id': '54', 'message': 'Exception during feed_data_point'}\n",
      "Error when feeding document 56: {'Exception': \"('Connection aborted.', RemoteDisconnected('Remote end closed connection without response'))\", 'id': '56', 'message': 'Exception during feed_data_point'}\n",
      "Error when feeding document 55: {'Exception': \"('Connection aborted.', RemoteDisconnected('Remote end closed connection without response'))\", 'id': '55', 'message': 'Exception during feed_data_point'}\n",
      "Error when feeding document 57: {'Exception': \"('Connection aborted.', RemoteDisconnected('Remote end closed connection without response'))\", 'id': '57', 'message': 'Exception during feed_data_point'}\n",
      "Error when feeding document 58: {'Exception': \"('Connection aborted.', RemoteDisconnected('Remote end closed connection without response'))\", 'id': '58', 'message': 'Exception during feed_data_point'}\n",
      "Error when feeding document 59: {'Exception': \"('Connection aborted.', RemoteDisconnected('Remote end closed connection without response'))\", 'id': '59', 'message': 'Exception during feed_data_point'}\n",
      "Error when feeding document 61: {'Exception': \"('Connection aborted.', RemoteDisconnected('Remote end closed connection without response'))\", 'id': '61', 'message': 'Exception during feed_data_point'}\n",
      "Error when feeding document 60: {'Exception': \"('Connection aborted.', RemoteDisconnected('Remote end closed connection without response'))\", 'id': '60', 'message': 'Exception during feed_data_point'}\n",
      "Error when feeding document 62: {'Exception': \"('Connection aborted.', RemoteDisconnected('Remote end closed connection without response'))\", 'id': '62', 'message': 'Exception during feed_data_point'}\n",
      "Error when feeding document 64: {'Exception': \"('Connection aborted.', RemoteDisconnected('Remote end closed connection without response'))\", 'id': '64', 'message': 'Exception during feed_data_point'}\n",
      "Error when feeding document 63: {'Exception': \"('Connection aborted.', RemoteDisconnected('Remote end closed connection without response'))\", 'id': '63', 'message': 'Exception during feed_data_point'}\n",
      "Error when feeding document 65: {'Exception': \"('Connection aborted.', RemoteDisconnected('Remote end closed connection without response'))\", 'id': '65', 'message': 'Exception during feed_data_point'}\n",
      "Error when feeding document 66: {'Exception': \"('Connection aborted.', RemoteDisconnected('Remote end closed connection without response'))\", 'id': '66', 'message': 'Exception during feed_data_point'}\n",
      "Error when feeding document 67: {'Exception': \"('Connection aborted.', RemoteDisconnected('Remote end closed connection without response'))\", 'id': '67', 'message': 'Exception during feed_data_point'}\n",
      "Error when feeding document 69: {'Exception': \"('Connection aborted.', RemoteDisconnected('Remote end closed connection without response'))\", 'id': '69', 'message': 'Exception during feed_data_point'}\n",
      "Error when feeding document 68: {'Exception': \"('Connection aborted.', RemoteDisconnected('Remote end closed connection without response'))\", 'id': '68', 'message': 'Exception during feed_data_point'}\n",
      "Error when feeding document 70: {'Exception': \"('Connection aborted.', RemoteDisconnected('Remote end closed connection without response'))\", 'id': '70', 'message': 'Exception during feed_data_point'}\n",
      "Error when feeding document 72: {'Exception': \"('Connection aborted.', RemoteDisconnected('Remote end closed connection without response'))\", 'id': '72', 'message': 'Exception during feed_data_point'}\n",
      "Error when feeding document 71: {'Exception': \"('Connection aborted.', RemoteDisconnected('Remote end closed connection without response'))\", 'id': '71', 'message': 'Exception during feed_data_point'}\n",
      "Error when feeding document 73: {'Exception': \"('Connection aborted.', RemoteDisconnected('Remote end closed connection without response'))\", 'id': '73', 'message': 'Exception during feed_data_point'}\n",
      "Error when feeding document 74: {'Exception': \"('Connection aborted.', RemoteDisconnected('Remote end closed connection without response'))\", 'id': '74', 'message': 'Exception during feed_data_point'}\n",
      "Error when feeding document 75: {'Exception': \"('Connection aborted.', RemoteDisconnected('Remote end closed connection without response'))\", 'id': '75', 'message': 'Exception during feed_data_point'}\n",
      "Error when feeding document 77: {'Exception': \"('Connection aborted.', RemoteDisconnected('Remote end closed connection without response'))\", 'id': '77', 'message': 'Exception during feed_data_point'}\n",
      "Error when feeding document 76: {'Exception': \"('Connection aborted.', RemoteDisconnected('Remote end closed connection without response'))\", 'id': '76', 'message': 'Exception during feed_data_point'}\n",
      "Error when feeding document 78: {'Exception': \"('Connection aborted.', RemoteDisconnected('Remote end closed connection without response'))\", 'id': '78', 'message': 'Exception during feed_data_point'}\n",
      "Error when feeding document 80: {'Exception': \"('Connection aborted.', RemoteDisconnected('Remote end closed connection without response'))\", 'id': '80', 'message': 'Exception during feed_data_point'}\n",
      "Error when feeding document 79: {'Exception': \"('Connection aborted.', RemoteDisconnected('Remote end closed connection without response'))\", 'id': '79', 'message': 'Exception during feed_data_point'}\n",
      "Error when feeding document 81: {'Exception': \"('Connection aborted.', RemoteDisconnected('Remote end closed connection without response'))\", 'id': '81', 'message': 'Exception during feed_data_point'}\n",
      "Error when feeding document 82: {'Exception': \"('Connection aborted.', RemoteDisconnected('Remote end closed connection without response'))\", 'id': '82', 'message': 'Exception during feed_data_point'}\n",
      "Error when feeding document 83: {'Exception': \"('Connection aborted.', RemoteDisconnected('Remote end closed connection without response'))\", 'id': '83', 'message': 'Exception during feed_data_point'}\n",
      "Error when feeding document 85: {'Exception': \"('Connection aborted.', RemoteDisconnected('Remote end closed connection without response'))\", 'id': '85', 'message': 'Exception during feed_data_point'}\n",
      "Error when feeding document 84: {'Exception': \"('Connection aborted.', RemoteDisconnected('Remote end closed connection without response'))\", 'id': '84', 'message': 'Exception during feed_data_point'}\n",
      "Error when feeding document 86: {'Exception': \"('Connection aborted.', RemoteDisconnected('Remote end closed connection without response'))\", 'id': '86', 'message': 'Exception during feed_data_point'}\n",
      "Error when feeding document 88: {'Exception': \"('Connection aborted.', RemoteDisconnected('Remote end closed connection without response'))\", 'id': '88', 'message': 'Exception during feed_data_point'}\n",
      "Error when feeding document 87: {'Exception': \"('Connection aborted.', RemoteDisconnected('Remote end closed connection without response'))\", 'id': '87', 'message': 'Exception during feed_data_point'}\n",
      "Error when feeding document 90: {'Exception': \"('Connection aborted.', RemoteDisconnected('Remote end closed connection without response'))\", 'id': '90', 'message': 'Exception during feed_data_point'}\n",
      "Error when feeding document 89: {'Exception': \"('Connection aborted.', RemoteDisconnected('Remote end closed connection without response'))\", 'id': '89', 'message': 'Exception during feed_data_point'}\n",
      "Error when feeding document 91: {'Exception': \"('Connection aborted.', RemoteDisconnected('Remote end closed connection without response'))\", 'id': '91', 'message': 'Exception during feed_data_point'}\n",
      "Error when feeding document 93: {'Exception': \"('Connection aborted.', RemoteDisconnected('Remote end closed connection without response'))\", 'id': '93', 'message': 'Exception during feed_data_point'}\n",
      "Error when feeding document 92: {'Exception': \"('Connection aborted.', RemoteDisconnected('Remote end closed connection without response'))\", 'id': '92', 'message': 'Exception during feed_data_point'}\n",
      "Error when feeding document 94: {'Exception': \"('Connection aborted.', RemoteDisconnected('Remote end closed connection without response'))\", 'id': '94', 'message': 'Exception during feed_data_point'}\n",
      "Error when feeding document 96: {'Exception': \"('Connection aborted.', RemoteDisconnected('Remote end closed connection without response'))\", 'id': '96', 'message': 'Exception during feed_data_point'}\n",
      "Error when feeding document 95: {'Exception': \"('Connection aborted.', RemoteDisconnected('Remote end closed connection without response'))\", 'id': '95', 'message': 'Exception during feed_data_point'}\n",
      "Error when feeding document 97: {'Exception': \"('Connection aborted.', RemoteDisconnected('Remote end closed connection without response'))\", 'id': '97', 'message': 'Exception during feed_data_point'}\n",
      "Error when feeding document 98: {'Exception': \"('Connection aborted.', RemoteDisconnected('Remote end closed connection without response'))\", 'id': '98', 'message': 'Exception during feed_data_point'}\n",
      "Error when feeding document 99: {'Exception': \"('Connection aborted.', RemoteDisconnected('Remote end closed connection without response'))\", 'id': '99', 'message': 'Exception during feed_data_point'}\n",
      "Error when feeding document 101: {'Exception': \"('Connection aborted.', RemoteDisconnected('Remote end closed connection without response'))\", 'id': '101', 'message': 'Exception during feed_data_point'}\n",
      "Error when feeding document 100: {'Exception': \"('Connection aborted.', RemoteDisconnected('Remote end closed connection without response'))\", 'id': '100', 'message': 'Exception during feed_data_point'}\n",
      "Error when feeding document 102: {'Exception': \"('Connection aborted.', RemoteDisconnected('Remote end closed connection without response'))\", 'id': '102', 'message': 'Exception during feed_data_point'}\n",
      "Error when feeding document 104: {'Exception': \"('Connection aborted.', RemoteDisconnected('Remote end closed connection without response'))\", 'id': '104', 'message': 'Exception during feed_data_point'}\n",
      "Error when feeding document 103: {'Exception': \"('Connection aborted.', RemoteDisconnected('Remote end closed connection without response'))\", 'id': '103', 'message': 'Exception during feed_data_point'}\n",
      "Error when feeding document 105: {'Exception': \"('Connection aborted.', RemoteDisconnected('Remote end closed connection without response'))\", 'id': '105', 'message': 'Exception during feed_data_point'}\n",
      "Error when feeding document 106: {'Exception': \"('Connection aborted.', RemoteDisconnected('Remote end closed connection without response'))\", 'id': '106', 'message': 'Exception during feed_data_point'}\n",
      "Error when feeding document 107: {'Exception': \"('Connection aborted.', RemoteDisconnected('Remote end closed connection without response'))\", 'id': '107', 'message': 'Exception during feed_data_point'}\n",
      "Error when feeding document 109: {'Exception': \"('Connection aborted.', RemoteDisconnected('Remote end closed connection without response'))\", 'id': '109', 'message': 'Exception during feed_data_point'}\n",
      "Error when feeding document 108: {'Exception': \"('Connection aborted.', RemoteDisconnected('Remote end closed connection without response'))\", 'id': '108', 'message': 'Exception during feed_data_point'}\n",
      "Error when feeding document 110: {'Exception': \"('Connection aborted.', RemoteDisconnected('Remote end closed connection without response'))\", 'id': '110', 'message': 'Exception during feed_data_point'}\n",
      "Error when feeding document 112: {'Exception': \"('Connection aborted.', RemoteDisconnected('Remote end closed connection without response'))\", 'id': '112', 'message': 'Exception during feed_data_point'}\n",
      "Error when feeding document 111: {'Exception': \"('Connection aborted.', RemoteDisconnected('Remote end closed connection without response'))\", 'id': '111', 'message': 'Exception during feed_data_point'}\n",
      "Error when feeding document 113: {'Exception': \"('Connection aborted.', RemoteDisconnected('Remote end closed connection without response'))\", 'id': '113', 'message': 'Exception during feed_data_point'}\n",
      "Error when feeding document 114: {'Exception': \"('Connection aborted.', RemoteDisconnected('Remote end closed connection without response'))\", 'id': '114', 'message': 'Exception during feed_data_point'}\n",
      "Error when feeding document 115: {'Exception': \"('Connection aborted.', RemoteDisconnected('Remote end closed connection without response'))\", 'id': '115', 'message': 'Exception during feed_data_point'}\n",
      "Error when feeding document 117: {'Exception': \"('Connection aborted.', RemoteDisconnected('Remote end closed connection without response'))\", 'id': '117', 'message': 'Exception during feed_data_point'}\n",
      "Error when feeding document 116: {'Exception': \"('Connection aborted.', RemoteDisconnected('Remote end closed connection without response'))\", 'id': '116', 'message': 'Exception during feed_data_point'}\n",
      "Error when feeding document 118: {'Exception': \"('Connection aborted.', RemoteDisconnected('Remote end closed connection without response'))\", 'id': '118', 'message': 'Exception during feed_data_point'}\n",
      "Error when feeding document 120: {'Exception': \"('Connection aborted.', RemoteDisconnected('Remote end closed connection without response'))\", 'id': '120', 'message': 'Exception during feed_data_point'}\n",
      "Error when feeding document 119: {'Exception': \"('Connection aborted.', RemoteDisconnected('Remote end closed connection without response'))\", 'id': '119', 'message': 'Exception during feed_data_point'}\n",
      "Error when feeding document 121: {'Exception': \"('Connection aborted.', RemoteDisconnected('Remote end closed connection without response'))\", 'id': '121', 'message': 'Exception during feed_data_point'}\n",
      "Error when feeding document 122: {'Exception': \"('Connection aborted.', RemoteDisconnected('Remote end closed connection without response'))\", 'id': '122', 'message': 'Exception during feed_data_point'}\n",
      "Error when feeding document 123: {'Exception': \"('Connection aborted.', RemoteDisconnected('Remote end closed connection without response'))\", 'id': '123', 'message': 'Exception during feed_data_point'}\n",
      "Error when feeding document 125: {'Exception': \"('Connection aborted.', RemoteDisconnected('Remote end closed connection without response'))\", 'id': '125', 'message': 'Exception during feed_data_point'}\n",
      "Error when feeding document 124: {'Exception': \"('Connection aborted.', RemoteDisconnected('Remote end closed connection without response'))\", 'id': '124', 'message': 'Exception during feed_data_point'}\n",
      "Error when feeding document 126: {'Exception': \"('Connection aborted.', RemoteDisconnected('Remote end closed connection without response'))\", 'id': '126', 'message': 'Exception during feed_data_point'}\n",
      "Error when feeding document 128: {'Exception': \"('Connection aborted.', RemoteDisconnected('Remote end closed connection without response'))\", 'id': '128', 'message': 'Exception during feed_data_point'}\n",
      "Error when feeding document 127: {'Exception': \"('Connection aborted.', RemoteDisconnected('Remote end closed connection without response'))\", 'id': '127', 'message': 'Exception during feed_data_point'}\n",
      "Error when feeding document 129: {'Exception': \"('Connection aborted.', RemoteDisconnected('Remote end closed connection without response'))\", 'id': '129', 'message': 'Exception during feed_data_point'}\n",
      "Error when feeding document 130: {'Exception': \"('Connection aborted.', RemoteDisconnected('Remote end closed connection without response'))\", 'id': '130', 'message': 'Exception during feed_data_point'}\n",
      "Error when feeding document 131: {'Exception': \"('Connection aborted.', RemoteDisconnected('Remote end closed connection without response'))\", 'id': '131', 'message': 'Exception during feed_data_point'}\n",
      "Error when feeding document 133: {'Exception': \"('Connection aborted.', RemoteDisconnected('Remote end closed connection without response'))\", 'id': '133', 'message': 'Exception during feed_data_point'}\n",
      "Error when feeding document 132: {'Exception': \"('Connection aborted.', RemoteDisconnected('Remote end closed connection without response'))\", 'id': '132', 'message': 'Exception during feed_data_point'}\n",
      "Error when feeding document 134: {'Exception': \"('Connection aborted.', RemoteDisconnected('Remote end closed connection without response'))\", 'id': '134', 'message': 'Exception during feed_data_point'}\n",
      "Error when feeding document 136: {'Exception': \"('Connection aborted.', RemoteDisconnected('Remote end closed connection without response'))\", 'id': '136', 'message': 'Exception during feed_data_point'}\n",
      "Error when feeding document 135: {'Exception': \"('Connection aborted.', RemoteDisconnected('Remote end closed connection without response'))\", 'id': '135', 'message': 'Exception during feed_data_point'}\n",
      "Error when feeding document 137: {'Exception': \"('Connection aborted.', RemoteDisconnected('Remote end closed connection without response'))\", 'id': '137', 'message': 'Exception during feed_data_point'}\n",
      "Error when feeding document 138: {'Exception': \"('Connection aborted.', RemoteDisconnected('Remote end closed connection without response'))\", 'id': '138', 'message': 'Exception during feed_data_point'}\n",
      "Error when feeding document 139: {'Exception': \"('Connection aborted.', RemoteDisconnected('Remote end closed connection without response'))\", 'id': '139', 'message': 'Exception during feed_data_point'}\n",
      "Error when feeding document 141: {'Exception': \"('Connection aborted.', RemoteDisconnected('Remote end closed connection without response'))\", 'id': '141', 'message': 'Exception during feed_data_point'}\n",
      "Error when feeding document 140: {'Exception': \"('Connection aborted.', RemoteDisconnected('Remote end closed connection without response'))\", 'id': '140', 'message': 'Exception during feed_data_point'}\n",
      "Error when feeding document 143: {'Exception': \"('Connection aborted.', RemoteDisconnected('Remote end closed connection without response'))\", 'id': '143', 'message': 'Exception during feed_data_point'}\n",
      "Error when feeding document 142: {'Exception': \"('Connection aborted.', RemoteDisconnected('Remote end closed connection without response'))\", 'id': '142', 'message': 'Exception during feed_data_point'}\n",
      "Error when feeding document 144: {'Exception': \"('Connection aborted.', RemoteDisconnected('Remote end closed connection without response'))\", 'id': '144', 'message': 'Exception during feed_data_point'}\n",
      "Error when feeding document 145: {'Exception': \"('Connection aborted.', RemoteDisconnected('Remote end closed connection without response'))\", 'id': '145', 'message': 'Exception during feed_data_point'}\n",
      "Error when feeding document 146: {'Exception': \"('Connection aborted.', RemoteDisconnected('Remote end closed connection without response'))\", 'id': '146', 'message': 'Exception during feed_data_point'}\n",
      "Error when feeding document 147: {'Exception': \"('Connection aborted.', RemoteDisconnected('Remote end closed connection without response'))\", 'id': '147', 'message': 'Exception during feed_data_point'}\n",
      "Error when feeding document 149: {'Exception': \"('Connection aborted.', RemoteDisconnected('Remote end closed connection without response'))\", 'id': '149', 'message': 'Exception during feed_data_point'}\n",
      "Error when feeding document 148: {'Exception': \"('Connection aborted.', RemoteDisconnected('Remote end closed connection without response'))\", 'id': '148', 'message': 'Exception during feed_data_point'}\n",
      "Error when feeding document 150: {'Exception': \"('Connection aborted.', RemoteDisconnected('Remote end closed connection without response'))\", 'id': '150', 'message': 'Exception during feed_data_point'}\n",
      "Error when feeding document 152: {'Exception': \"('Connection aborted.', RemoteDisconnected('Remote end closed connection without response'))\", 'id': '152', 'message': 'Exception during feed_data_point'}\n",
      "Error when feeding document 154: {'Exception': \"('Connection aborted.', RemoteDisconnected('Remote end closed connection without response'))\", 'id': '154', 'message': 'Exception during feed_data_point'}\n",
      "Error when feeding document 151: {'Exception': \"('Connection aborted.', RemoteDisconnected('Remote end closed connection without response'))\", 'id': '151', 'message': 'Exception during feed_data_point'}\n",
      "Error when feeding document 153: {'Exception': \"('Connection aborted.', RemoteDisconnected('Remote end closed connection without response'))\", 'id': '153', 'message': 'Exception during feed_data_point'}\n",
      "Error when feeding document 155: {'Exception': \"('Connection aborted.', RemoteDisconnected('Remote end closed connection without response'))\", 'id': '155', 'message': 'Exception during feed_data_point'}\n",
      "Error when feeding document 157: {'Exception': \"('Connection aborted.', RemoteDisconnected('Remote end closed connection without response'))\", 'id': '157', 'message': 'Exception during feed_data_point'}\n",
      "Error when feeding document 156: {'Exception': \"('Connection aborted.', RemoteDisconnected('Remote end closed connection without response'))\", 'id': '156', 'message': 'Exception during feed_data_point'}\n",
      "Error when feeding document 158: {'Exception': \"('Connection aborted.', RemoteDisconnected('Remote end closed connection without response'))\", 'id': '158', 'message': 'Exception during feed_data_point'}\n",
      "Error when feeding document 160: {'Exception': \"('Connection aborted.', RemoteDisconnected('Remote end closed connection without response'))\", 'id': '160', 'message': 'Exception during feed_data_point'}\n",
      "Error when feeding document 162: {'Exception': \"('Connection aborted.', RemoteDisconnected('Remote end closed connection without response'))\", 'id': '162', 'message': 'Exception during feed_data_point'}\n",
      "Error when feeding document 159: {'Exception': \"('Connection aborted.', RemoteDisconnected('Remote end closed connection without response'))\", 'id': '159', 'message': 'Exception during feed_data_point'}\n",
      "Error when feeding document 161: {'Exception': \"('Connection aborted.', RemoteDisconnected('Remote end closed connection without response'))\", 'id': '161', 'message': 'Exception during feed_data_point'}\n",
      "Error when feeding document 163: {'Exception': \"('Connection aborted.', RemoteDisconnected('Remote end closed connection without response'))\", 'id': '163', 'message': 'Exception during feed_data_point'}\n",
      "Error when feeding document 165: {'Exception': \"('Connection aborted.', RemoteDisconnected('Remote end closed connection without response'))\", 'id': '165', 'message': 'Exception during feed_data_point'}\n",
      "Error when feeding document 164: {'Exception': \"('Connection aborted.', RemoteDisconnected('Remote end closed connection without response'))\", 'id': '164', 'message': 'Exception during feed_data_point'}\n",
      "Error when feeding document 166: {'Exception': \"('Connection aborted.', RemoteDisconnected('Remote end closed connection without response'))\", 'id': '166', 'message': 'Exception during feed_data_point'}\n",
      "Error when feeding document 168: {'Exception': \"('Connection aborted.', RemoteDisconnected('Remote end closed connection without response'))\", 'id': '168', 'message': 'Exception during feed_data_point'}\n",
      "Error when feeding document 170: {'Exception': \"('Connection aborted.', RemoteDisconnected('Remote end closed connection without response'))\", 'id': '170', 'message': 'Exception during feed_data_point'}\n",
      "Error when feeding document 167: {'Exception': \"('Connection aborted.', RemoteDisconnected('Remote end closed connection without response'))\", 'id': '167', 'message': 'Exception during feed_data_point'}\n",
      "Error when feeding document 169: {'Exception': \"('Connection aborted.', RemoteDisconnected('Remote end closed connection without response'))\", 'id': '169', 'message': 'Exception during feed_data_point'}\n",
      "Error when feeding document 171: {'Exception': \"('Connection aborted.', RemoteDisconnected('Remote end closed connection without response'))\", 'id': '171', 'message': 'Exception during feed_data_point'}\n",
      "Error when feeding document 173: {'Exception': \"('Connection aborted.', RemoteDisconnected('Remote end closed connection without response'))\", 'id': '173', 'message': 'Exception during feed_data_point'}\n",
      "Error when feeding document 172: {'Exception': \"('Connection aborted.', RemoteDisconnected('Remote end closed connection without response'))\", 'id': '172', 'message': 'Exception during feed_data_point'}\n",
      "Error when feeding document 174: {'Exception': \"('Connection aborted.', RemoteDisconnected('Remote end closed connection without response'))\", 'id': '174', 'message': 'Exception during feed_data_point'}\n",
      "Error when feeding document 176: {'Exception': \"('Connection aborted.', RemoteDisconnected('Remote end closed connection without response'))\", 'id': '176', 'message': 'Exception during feed_data_point'}\n",
      "Error when feeding document 178: {'Exception': \"('Connection aborted.', RemoteDisconnected('Remote end closed connection without response'))\", 'id': '178', 'message': 'Exception during feed_data_point'}\n",
      "Error when feeding document 175: {'Exception': \"('Connection aborted.', RemoteDisconnected('Remote end closed connection without response'))\", 'id': '175', 'message': 'Exception during feed_data_point'}\n",
      "Error when feeding document 177: {'Exception': \"('Connection aborted.', RemoteDisconnected('Remote end closed connection without response'))\", 'id': '177', 'message': 'Exception during feed_data_point'}\n",
      "Error when feeding document 179: {'Exception': \"('Connection aborted.', RemoteDisconnected('Remote end closed connection without response'))\", 'id': '179', 'message': 'Exception during feed_data_point'}\n",
      "Error when feeding document 181: {'Exception': \"('Connection aborted.', RemoteDisconnected('Remote end closed connection without response'))\", 'id': '181', 'message': 'Exception during feed_data_point'}\n",
      "Error when feeding document 180: {'Exception': \"('Connection aborted.', RemoteDisconnected('Remote end closed connection without response'))\", 'id': '180', 'message': 'Exception during feed_data_point'}\n",
      "Error when feeding document 182: {'Exception': \"('Connection aborted.', RemoteDisconnected('Remote end closed connection without response'))\", 'id': '182', 'message': 'Exception during feed_data_point'}\n",
      "Error when feeding document 184: {'Exception': \"('Connection aborted.', RemoteDisconnected('Remote end closed connection without response'))\", 'id': '184', 'message': 'Exception during feed_data_point'}\n",
      "Error when feeding document 186: {'Exception': \"('Connection aborted.', RemoteDisconnected('Remote end closed connection without response'))\", 'id': '186', 'message': 'Exception during feed_data_point'}\n",
      "Error when feeding document 183: {'Exception': \"('Connection aborted.', RemoteDisconnected('Remote end closed connection without response'))\", 'id': '183', 'message': 'Exception during feed_data_point'}\n",
      "Error when feeding document 185: {'Exception': \"('Connection aborted.', RemoteDisconnected('Remote end closed connection without response'))\", 'id': '185', 'message': 'Exception during feed_data_point'}\n",
      "Error when feeding document 187: {'Exception': \"('Connection aborted.', RemoteDisconnected('Remote end closed connection without response'))\", 'id': '187', 'message': 'Exception during feed_data_point'}\n",
      "Error when feeding document 189: {'Exception': \"('Connection aborted.', RemoteDisconnected('Remote end closed connection without response'))\", 'id': '189', 'message': 'Exception during feed_data_point'}\n",
      "Error when feeding document 188: {'Exception': \"('Connection aborted.', RemoteDisconnected('Remote end closed connection without response'))\", 'id': '188', 'message': 'Exception during feed_data_point'}\n",
      "Error when feeding document 190: {'Exception': \"('Connection aborted.', RemoteDisconnected('Remote end closed connection without response'))\", 'id': '190', 'message': 'Exception during feed_data_point'}\n",
      "Error when feeding document 192: {'Exception': \"('Connection aborted.', RemoteDisconnected('Remote end closed connection without response'))\", 'id': '192', 'message': 'Exception during feed_data_point'}\n",
      "Error when feeding document 194: {'Exception': \"('Connection aborted.', RemoteDisconnected('Remote end closed connection without response'))\", 'id': '194', 'message': 'Exception during feed_data_point'}\n",
      "Error when feeding document 191: {'Exception': \"('Connection aborted.', RemoteDisconnected('Remote end closed connection without response'))\", 'id': '191', 'message': 'Exception during feed_data_point'}\n",
      "Error when feeding document 193: {'Exception': \"('Connection aborted.', RemoteDisconnected('Remote end closed connection without response'))\", 'id': '193', 'message': 'Exception during feed_data_point'}\n",
      "Error when feeding document 195: {'Exception': \"('Connection aborted.', RemoteDisconnected('Remote end closed connection without response'))\", 'id': '195', 'message': 'Exception during feed_data_point'}\n",
      "Error when feeding document 197: {'Exception': \"('Connection aborted.', RemoteDisconnected('Remote end closed connection without response'))\", 'id': '197', 'message': 'Exception during feed_data_point'}\n"
     ]
    },
    {
     "name": "stderr",
     "output_type": "stream",
     "text": [
      "Exception in thread Thread-335 (_consumer):\n",
      "Traceback (most recent call last):\n",
      "  File \"/Users/thomas/.local/share/uv/python/cpython-3.10.14-macos-aarch64-none/lib/python3.10/threading.py\", line 1016, in _bootstrap_inner\n",
      "    self.run()\n",
      "  File \"/Users/thomas/Repos/pyvespa/.venv/lib/python3.10/site-packages/ipykernel/ipkernel.py\", line 766, in run_closure\n",
      "    _threading_Thread_run(self)\n",
      "  File \"/Users/thomas/.local/share/uv/python/cpython-3.10.14-macos-aarch64-none/lib/python3.10/threading.py\", line 953, in run\n",
      "    self._target(*self._args, **self._kwargs)\n",
      "  File \"/Users/thomas/Repos/pyvespa/vespa/application.py\", line 460, in _consumer\n",
      "    future: Future = executor.submit(_submit, doc, sync_session)\n",
      "  File \"/Users/thomas/.local/share/uv/python/cpython-3.10.14-macos-aarch64-none/lib/python3.10/concurrent/futures/thread.py\", line 167, in submit\n",
      "    raise RuntimeError('cannot schedule new futures after shutdown')\n",
      "RuntimeError: cannot schedule new futures after shutdown\n"
     ]
    },
    {
     "name": "stdout",
     "output_type": "stream",
     "text": [
      "Error when feeding document 196: {'Exception': \"('Connection aborted.', RemoteDisconnected('Remote end closed connection without response'))\", 'id': '196', 'message': 'Exception during feed_data_point'}\n",
      "Error when feeding document 198: {'Exception': \"('Connection aborted.', RemoteDisconnected('Remote end closed connection without response'))\", 'id': '198', 'message': 'Exception during feed_data_point'}\n",
      "Error when feeding document 200: {'Exception': \"('Connection aborted.', RemoteDisconnected('Remote end closed connection without response'))\", 'id': '200', 'message': 'Exception during feed_data_point'}\n",
      "Error when feeding document 202: {'Exception': \"('Connection aborted.', RemoteDisconnected('Remote end closed connection without response'))\", 'id': '202', 'message': 'Exception during feed_data_point'}\n"
     ]
    }
   ],
   "source": [
    "from vespa.io import VespaResponse, VespaQueryResponse\n",
    "import nest_asyncio\n",
    "\n",
    "nest_asyncio.apply()\n",
    "\n",
    "\n",
    "def callback(response: VespaResponse, id: str):\n",
    "    if not response.is_successful():\n",
    "        print(f\"Error when feeding document {id}: {response.get_json()}\")\n",
    "\n",
    "\n",
    "app.feed_iterable(vespa_feed, schema=\"doc\", callback=callback)"
   ]
  },
  {
   "cell_type": "markdown",
   "id": "separated-insertion",
   "metadata": {},
   "source": [
    "## Querying Vespa\n",
    "\n",
    "Using the [Vespa Query language](https://docs.vespa.ai/en/query-language.html) we can query the indexed data. \n",
    "\n",
    "- Using a context manager `with app.syncio() as session` to handle connection pooling ([best practices](https://cloud.vespa.ai/en/http-best-practices))\n",
    "- The query method accepts any valid Vespa [query api parameter](https://docs.vespa.ai/en/reference/query-api-reference.html) in `**kwargs`\n",
    "- Vespa api parameter names that contains `.` must be sent as `dict` parameters in the `body` method argument\n",
    "\n",
    "The following searches for `How Fruits and Vegetables Can Treat Asthma?` using different retrieval and [ranking](https://docs.vespa.ai/en/ranking.html) strategies."
   ]
  },
  {
   "cell_type": "code",
   "execution_count": 22,
   "id": "20306d5c",
   "metadata": {},
   "outputs": [],
   "source": [
    "import pandas as pd\n",
    "\n",
    "\n",
    "def display_hits_as_df(response: VespaQueryResponse, fields) -> pd.DataFrame:\n",
    "    records = []\n",
    "    for hit in response.hits:\n",
    "        record = {}\n",
    "        for field in fields:\n",
    "            record[field] = hit[\"fields\"][field]\n",
    "        records.append(record)\n",
    "    return pd.DataFrame(records)"
   ]
  },
  {
   "cell_type": "markdown",
   "id": "2798ec5c",
   "metadata": {},
   "source": [
    "### Plain Keyword search \n",
    "The following uses plain keyword search functionality with [bm25](https://docs.vespa.ai/en/reference/bm25.html) ranking, the `bm25` rank-profile was configured in the \n",
    "application package to use a linear combination of the bm25 score of the query terms against the title and the body field. \n"
   ]
  },
  {
   "cell_type": "code",
   "execution_count": 1,
   "id": "be392a78",
   "metadata": {},
   "outputs": [],
   "source": [
    "with app.syncio(connections=1) as session:\n",
    "    query = \"How Fruits and Vegetables Can Treat Asthma?\"\n",
    "    response: VespaQueryResponse = session.query(\n",
    "        yql=\"select * from sources * where userQuery() limit 5\",\n",
    "        query=query,\n",
    "        ranking=\"bm25\",\n",
    "    )\n",
    "    assert response.is_successful()\n",
    "    print(display_hits_as_df(response, [\"id\", \"title\"]))"
   ]
  },
  {
   "cell_type": "markdown",
   "id": "fb3932b3",
   "metadata": {},
   "source": [
    "### Plain Semantic Search \n",
    "The following uses dense vector representations of the query and the document and matching is performed and accelerated by Vespa's support for\n",
    "[approximate nearest neighbor search](https://docs.vespa.ai/en/approximate-nn-hnsw.html). \n",
    "The vector embedding representation of the text is obtained using Vespa's [embedder functionality](https://docs.vespa.ai/en/embedding.html#embedding-a-query-text).\n"
   ]
  },
  {
   "cell_type": "code",
   "execution_count": 23,
   "id": "ff6f0fac",
   "metadata": {},
   "outputs": [
    {
     "name": "stdout",
     "output_type": "stream",
     "text": [
      "        id                                               text\n",
      "0  MED-719  In addition to causing embarrassment and uneas...\n",
      "1  MED-724  In addition to causing embarrassment and uneas...\n",
      "2  MED-691  Nausea and vomiting are physiological processe...\n",
      "3  MED-398  Summary Grapefruit is a popular, tasty and nut...\n",
      "4  MED-712  Hibiscus sabdariffa Linne is a traditional Chi...\n"
     ]
    }
   ],
   "source": [
    "with app.syncio(connections=1) as session:\n",
    "    query = \"How Fruits and Vegetables Can Treat Asthma?\"\n",
    "    response: VespaQueryResponse = session.query(\n",
    "        yql=\"select * from sources * where ({targetHits:1000}nearestNeighbor(embedding,q)) limit 5\",\n",
    "        query=query,\n",
    "        ranking=\"semantic\",\n",
    "        body={\"input.query(q)\": f\"embed({query})\"},\n",
    "    )\n",
    "    assert response.is_successful()\n",
    "    print(display_hits_as_df(response, [\"id\", \"text\"]))"
   ]
  },
  {
   "cell_type": "markdown",
   "id": "1bd25020",
   "metadata": {},
   "source": [
    "### Hybrid Search\n",
    "\n",
    "This is one approach to combine the two retrieval strategies and where we use Vespa's support for \n",
    "[cross-hits feature normalization and reciprocal rank fusion](https://docs.vespa.ai/en/phased-ranking.html#cross-hit-normalization-including-reciprocal-rank-fusion). This\n",
    "functionality is exposed in the context of `global` re-ranking, after the distributed query retrieval execution which might span 1000s of nodes. \n",
    "\n",
    "#### Hybrid search with the OR query operator\n",
    "\n",
    "This combines the two methods using logical disjunction (OR). Note that the first-phase expression in our `fusion` expression is only using the semantic score, this \n",
    "because usually semantic search provides better recall than sparse keyword search alone. \n",
    "\n"
   ]
  },
  {
   "cell_type": "code",
   "execution_count": 1,
   "id": "82b5f6fe",
   "metadata": {},
   "outputs": [],
   "source": [
    "with app.syncio(connections=1) as session:\n",
    "    query = \"How Fruits and Vegetables Can Treat Asthma?\"\n",
    "    response: VespaQueryResponse = session.query(\n",
    "        yql=\"select * from sources * where userQuery() or ({targetHits:1000}nearestNeighbor(embedding,q)) limit 5\",\n",
    "        query=query,\n",
    "        ranking=\"fusion\",\n",
    "        body={\"input.query(q)\": f\"embed({query})\"},\n",
    "    )\n",
    "    assert response.is_successful()\n",
    "    print(display_hits_as_df(response, [\"id\", \"title\"]))"
   ]
  },
  {
   "cell_type": "markdown",
   "id": "95fa4eb0",
   "metadata": {},
   "source": [
    "#### Hybrid search with the RANK query operator"
   ]
  },
  {
   "cell_type": "markdown",
   "id": "42b9e77a",
   "metadata": {},
   "source": [
    "This combines the two methods using the [rank](https://docs.vespa.ai/en/reference/query-language-reference.html#rank) query operator. In this case\n",
    "we express that we want to retrieve the top-1000 documents using vector search, and then have sparse features like BM25 calculated as well (second operand \n",
    "of the rank operator). Finally the hits are re-ranked using the reciprocal rank fusion\n"
   ]
  },
  {
   "cell_type": "code",
   "execution_count": 1,
   "id": "cb84a30a",
   "metadata": {},
   "outputs": [],
   "source": [
    "with app.syncio(connections=1) as session:\n",
    "    query = \"How Fruits and Vegetables Can Treat Asthma?\"\n",
    "    response: VespaQueryResponse = session.query(\n",
    "        yql=\"select * from sources * where rank({targetHits:1000}nearestNeighbor(embedding,q), userQuery()) limit 5\",\n",
    "        query=query,\n",
    "        ranking=\"fusion\",\n",
    "        body={\"input.query(q)\": f\"embed({query})\"},\n",
    "    )\n",
    "    assert response.is_successful()\n",
    "    print(display_hits_as_df(response, [\"id\", \"title\"]))"
   ]
  },
  {
   "cell_type": "markdown",
   "id": "1457aefc",
   "metadata": {},
   "source": [
    "#### Hybrid search with filters\n",
    "\n",
    "In this example we add another query term to the yql, restricting the nearest neighbor search to only consider documents that have vegetable in the title."
   ]
  },
  {
   "cell_type": "code",
   "execution_count": 1,
   "id": "b341042a",
   "metadata": {},
   "outputs": [],
   "source": [
    "with app.syncio(connections=1) as session:\n",
    "    query = \"How Fruits and Vegetables Can Treat Asthma?\"\n",
    "    response: VespaQueryResponse = session.query(\n",
    "        yql='select * from sources * where title contains \"vegetable\" and rank({targetHits:1000}nearestNeighbor(embedding,q), userQuery()) limit 5',\n",
    "        query=query,\n",
    "        ranking=\"fusion\",\n",
    "        body={\"input.query(q)\": f\"embed({query})\"},\n",
    "    )\n",
    "    assert response.is_successful()\n",
    "    print(display_hits_as_df(response, [\"id\", \"title\"]))"
   ]
  },
  {
   "cell_type": "markdown",
   "id": "28591491",
   "metadata": {},
   "source": [
    "## Cleanup"
   ]
  },
  {
   "cell_type": "code",
   "execution_count": 1,
   "id": "e5064bd2",
   "metadata": {},
   "outputs": [],
   "source": [
    "vespa_docker.container.stop()\n",
    "vespa_docker.container.remove()"
   ]
  },
  {
   "cell_type": "markdown",
   "id": "d1872b31",
   "metadata": {},
   "source": [
    "## Next steps\n",
    "\n",
    "This is just an intro into the capabilities of Vespa and pyvespa.\n",
    "Browse the site to learn more about schemas, feeding and queries - \n",
    "find more complex applications in\n",
    "[examples](https://pyvespa.readthedocs.io/en/latest/examples.html)."
   ]
  }
 ],
 "metadata": {
  "kernelspec": {
   "display_name": ".venv",
   "language": "python",
   "name": "python3"
  },
  "language_info": {
   "codemirror_mode": {
    "name": "ipython",
    "version": 3
   },
   "file_extension": ".py",
   "mimetype": "text/x-python",
   "name": "python",
   "nbconvert_exporter": "python",
   "pygments_lexer": "ipython3",
   "version": "3.10.14"
  }
 },
 "nbformat": 4,
 "nbformat_minor": 5
}
