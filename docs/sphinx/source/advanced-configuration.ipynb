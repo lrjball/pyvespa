{
    "cells": [
        {
            "cell_type": "markdown",
            "id": "given-adoption",
            "metadata": {},
            "source": [
                "<picture>\n",
                "  <source media=\"(prefers-color-scheme: dark)\" srcset=\"https://assets.vespa.ai/logos/Vespa-logo-green-RGB.svg\">\n",
                "  <source media=\"(prefers-color-scheme: light)\" srcset=\"https://assets.vespa.ai/logos/Vespa-logo-dark-RGB.svg\">\n",
                "  <img alt=\"#Vespa\" width=\"200\" src=\"https://assets.vespa.ai/logos/Vespa-logo-dark-RGB.svg\" style=\"margin-bottom: 25px;\">\n",
                "</picture>\n",
                "\n",
                "# Advanced Configuration\n",
                "\n",
                "## Configuring services.xml with pyvespa\n",
                "\n",
                "Vespa support a wide range of configuration options to customize the behavior of the system through the `services.xml`-[file](https://docs.vespa.ai/en/reference/services.html). Until pyvespa version 0.50.0, only a limited subset of these configurations were available in pyvespa.\n",
                "\n",
                "Now, we have added support for passing a `ServiceConfiguration` object to your `ApplicationPackage` that allows you to define any configuration you want. This notebook demonstrates how to use this new feature if you have the need for more advanced configurations.\n",
                "\n",
                "Note that it is not required to provide a `ServiceConfiguration` feature, and if not passed, the default configuration will still be created for you.\n",
                "\n",
                "There are some slight differences in which configuration options are available when running self-hosted (Docker) and when running on the cloud (Vespa Cloud). For details, see [Vespa Cloud services.xml-reference](https://cloud.vespa.ai/en/reference/services) This notebook demonstrates how to use the `ServiceConfiguration` object to configure a Vespa application for some common use cases, with options that are available in both environments.\n",
                "\n",
                "## Configuring Query Profiles with pyvespa\n",
                "\n",
                "Until pyvespa version 0.60.0, only a single query profile or query profile type could be defined in the `ApplicationPackage`. Now, we have reused the approach used by `ServiceConfiguration` to support expressing a list of query profiles and query profile types as python code, and add them to your `ApplicationPackage`. You can now express any query profile or query profile type in python code, and add it to your `ApplicationPackage`.\n",
                "The old approach of passing a single query profile or query profile type is still supported, but it is mutually exclusive with the new approach. If you pass a `query_profile_config` parameter to your `ApplicationPackage`, it will override any `query_profile` or `query_profile_type` parameters.\n",
                "\n",
                "See [Query Profiles](#query-profiles) for examples of usage."
            ]
        },
        {
            "cell_type": "markdown",
            "id": "8c967bd2",
            "metadata": {},
            "source": [
                "<div class=\"alert alert-info\">\n",
                "    Refer to <a href=\"https://vespa-engine.github.io/pyvespa/troubleshooting.html\">troubleshooting</a>\n",
                "    for any problem when running this guide.\n",
                "</div>\n"
            ]
        },
        {
            "cell_type": "markdown",
            "id": "8345b2fe",
            "metadata": {},
            "source": [
                "[Install pyvespa](https://pyvespa.readthedocs.io/) and start Docker Daemon, validate minimum 6G available:\n"
            ]
        },
        {
            "cell_type": "code",
            "execution_count": 1,
            "id": "03f3d0f2",
            "metadata": {},
            "outputs": [
                {
                    "name": "stdout",
                    "output_type": "stream",
                    "text": [
                        "\u001b[1;31merror\u001b[0m: \u001b[1mexternally-managed-environment\u001b[0m\n",
                        "\n",
                        "\u001b[31m×\u001b[0m This environment is externally managed\n",
                        "\u001b[31m╰─>\u001b[0m To install Python packages system-wide, try brew install\n",
                        "\u001b[31m   \u001b[0m xyz, where xyz is the package you are trying to\n",
                        "\u001b[31m   \u001b[0m install.\n",
                        "\u001b[31m   \u001b[0m \n",
                        "\u001b[31m   \u001b[0m If you wish to install a Python library that isn't in Homebrew,\n",
                        "\u001b[31m   \u001b[0m use a virtual environment:\n",
                        "\u001b[31m   \u001b[0m \n",
                        "\u001b[31m   \u001b[0m python3 -m venv path/to/venv\n",
                        "\u001b[31m   \u001b[0m source path/to/venv/bin/activate\n",
                        "\u001b[31m   \u001b[0m python3 -m pip install xyz\n",
                        "\u001b[31m   \u001b[0m \n",
                        "\u001b[31m   \u001b[0m If you wish to install a Python application that isn't in Homebrew,\n",
                        "\u001b[31m   \u001b[0m it may be easiest to use 'pipx install xyz', which will manage a\n",
                        "\u001b[31m   \u001b[0m virtual environment for you. You can install pipx with\n",
                        "\u001b[31m   \u001b[0m \n",
                        "\u001b[31m   \u001b[0m brew install pipx\n",
                        "\u001b[31m   \u001b[0m \n",
                        "\u001b[31m   \u001b[0m You may restore the old behavior of pip by passing\n",
                        "\u001b[31m   \u001b[0m the '--break-system-packages' flag to pip, or by adding\n",
                        "\u001b[31m   \u001b[0m 'break-system-packages = true' to your pip.conf file. The latter\n",
                        "\u001b[31m   \u001b[0m will permanently disable this error.\n",
                        "\u001b[31m   \u001b[0m \n",
                        "\u001b[31m   \u001b[0m If you disable this error, we STRONGLY recommend that you additionally\n",
                        "\u001b[31m   \u001b[0m pass the '--user' flag to pip, or set 'user = true' in your pip.conf\n",
                        "\u001b[31m   \u001b[0m file. Failure to do this can result in a broken Homebrew installation.\n",
                        "\u001b[31m   \u001b[0m \n",
                        "\u001b[31m   \u001b[0m Read more about this behavior here: <https://peps.python.org/pep-0668/>\n",
                        "\n",
                        "\u001b[1;35mnote\u001b[0m: If you believe this is a mistake, please contact your Python installation or OS distribution provider. You can override this, at the risk of breaking your Python installation or OS, by passing --break-system-packages.\n",
                        "\u001b[1;36mhint\u001b[0m: See PEP 668 for the detailed specification.\n"
                    ]
                }
            ],
            "source": [
                "!pip3 install pyvespa\n",
                "!docker info | grep \"Total Memory\""
            ]
        },
        {
            "cell_type": "markdown",
            "id": "db637322",
            "metadata": {},
            "source": [
                "## Example 1 - Configure document-expiry\n",
                "\n",
                "As an example of a common use case for advanced configuration, we will configure document-expiry. This feature allows you to set a time-to-live for documents in your Vespa application. This is useful when you have documents that are only relevant for a certain period of time, and you want to avoid serving stale data.\n",
                "\n",
                "For reference, see the [docs on document-expiry](https://docs.vespa.ai/en/documents.html#document-expiry).\n"
            ]
        },
        {
            "cell_type": "markdown",
            "id": "a3619ad1",
            "metadata": {},
            "source": [
                "### Define a schema\n",
                "\n",
                "We define a simple schema, with a timestamp field that we will use in the document selection expression to set the document-expiry.\n",
                "\n",
                "Note that the fields that are referenced in the selection expression should be attributes(in-memory).\n",
                "\n",
                "Also, either the fields should be set with `fast-access` or the number of searchable copies in the content cluster should be the same as the redundancy. Otherwise, the document selection maintenance will be slow and have a major performance impact on the system.\n"
            ]
        },
        {
            "cell_type": "code",
            "execution_count": 2,
            "id": "bd5c2629",
            "metadata": {},
            "outputs": [],
            "source": [
                "from vespa.package import Document, Field, Schema, ApplicationPackage\n",
                "\n",
                "application_name = \"music\"\n",
                "music_schema = Schema(\n",
                "    name=application_name,\n",
                "    document=Document(\n",
                "        fields=[\n",
                "            Field(\n",
                "                name=\"artist\",\n",
                "                type=\"string\",\n",
                "                indexing=[\"attribute\", \"summary\"],\n",
                "            ),\n",
                "            Field(\n",
                "                name=\"title\",\n",
                "                type=\"string\",\n",
                "                indexing=[\"attribute\", \"summary\"],\n",
                "            ),\n",
                "            Field(\n",
                "                name=\"timestamp\",\n",
                "                type=\"long\",\n",
                "                indexing=[\"attribute\", \"summary\"],\n",
                "                attribute=[\"fast-access\"],\n",
                "            ),\n",
                "        ]\n",
                "    ),\n",
                ")"
            ]
        },
        {
            "cell_type": "markdown",
            "id": "5be18383",
            "metadata": {},
            "source": [
                "## The `ServiceConfiguration` object\n",
                "\n",
                "The `ServiceConfiguration` object allows you to define any configuration you want in the `services.xml` file.\n",
                "\n",
                "The syntax is as follows:\n"
            ]
        },
        {
            "cell_type": "code",
            "execution_count": 3,
            "id": "05318c34",
            "metadata": {},
            "outputs": [],
            "source": [
                "from vespa.package import ServicesConfiguration\n",
                "from vespa.configuration.services import (\n",
                "    services,\n",
                "    container,\n",
                "    search,\n",
                "    document_api,\n",
                "    document_processing,\n",
                "    content,\n",
                "    redundancy,\n",
                "    documents,\n",
                "    document,\n",
                "    node,\n",
                "    nodes,\n",
                ")\n",
                "\n",
                "# Create a ServicesConfiguration with document-expiry set to 1 day (timestamp > now() - 86400)\n",
                "services_config = ServicesConfiguration(\n",
                "    application_name=application_name,\n",
                "    services_config=services(\n",
                "        container(\n",
                "            search(),\n",
                "            document_api(),\n",
                "            document_processing(),\n",
                "            id=f\"{application_name}_container\",\n",
                "            version=\"1.0\",\n",
                "        ),\n",
                "        content(\n",
                "            redundancy(\"1\"),\n",
                "            documents(\n",
                "                document(\n",
                "                    type=application_name,\n",
                "                    mode=\"index\",\n",
                "                    # Note that the selection-expression does not need to be escaped, as it will be automatically escaped during xml-serialization\n",
                "                    selection=\"music.timestamp > now() - 86400\",\n",
                "                ),\n",
                "                garbage_collection=\"true\",\n",
                "            ),\n",
                "            nodes(node(distribution_key=\"0\", hostalias=\"node1\")),\n",
                "            id=f\"{application_name}_content\",\n",
                "            version=\"1.0\",\n",
                "        ),\n",
                "    ),\n",
                ")\n",
                "application_package = ApplicationPackage(\n",
                "    name=application_name,\n",
                "    schema=[music_schema],\n",
                "    services_config=services_config,\n",
                ")"
            ]
        },
        {
            "cell_type": "markdown",
            "id": "aa40c0ce",
            "metadata": {},
            "source": [
                "There are some useful gotchas to keep in mind when constructing the `ServiceConfiguration` object.\n",
                "\n",
                "First, let's establish a common vocabulary through an example. Consider the following `services.xml` file, which is what we are actually representing with the `ServiceConfiguration` object from the previous cell:\n",
                "\n",
                "```xml\n",
                "<?xml version=\"1.0\" encoding=\"UTF-8\" ?>\n",
                "<services>\n",
                "  <container id=\"music_container\" version=\"1.0\">\n",
                "    <search></search>\n",
                "    <document-api></document-api>\n",
                "    <document-processing></document-processing>\n",
                "  </container>\n",
                "  <content id=\"music_content\" version=\"1.0\">\n",
                "    <redundancy>1</redundancy>\n",
                "    <documents garbage-collection=\"true\">\n",
                "      <document type=\"music\" mode=\"index\" selection=\"music.timestamp &gt; now() - 86400\"></document>\n",
                "    </documents>\n",
                "    <nodes>\n",
                "      <node distribution-key=\"0\" hostalias=\"node1\"></node>\n",
                "    </nodes>\n",
                "  </content>\n",
                "</services>\n",
                "```\n",
                "\n",
                "In this example, `services`, `container`, `search`, `document-api`, `document-processing`, `content`, `redundancy`, `documents`, `document`, and `nodes` are _tags_. The `id`, `version`, `type`, `mode`, `selection`, `distribution-key`, `hostalias`, and `garbage-collection` are _attributes_, with a corresponding _value_.\n",
                "\n",
                "### Tag names\n",
                "\n",
                "All tags as referenced in the [Vespa documentation](https://docs.vespa.ai/en/reference/services.html) are available in `vespa.configuration.services` module with the following modifications:\n",
                "\n",
                "- All `-` in the tag names are replaced by `_` to avoid conflicts with Python syntax.\n",
                "- Some tags that are Python reserved words (or commonly used objects) are constructed by adding a `_` at the end of the tag name. These are:\n",
                "  - `type_`\n",
                "  - `class_`\n",
                "  - `for_`\n",
                "  - `time_`\n",
                "  - `io_`\n",
                "\n",
                "Only valid tags are exported by the `vespa.configuration.services` module.\n",
                "\n",
                "### Attributes\n",
                "\n",
                "- _any_ attribute can be passed to the tag constructor (no validation at construction time).\n",
                "- The attribute name should be the same as in the Vespa documentation, but with `-` replaced by `_`. For example, the `garbage-collection` attribute in the `query` tag should be passed as `garbage_collection`.\n",
                "- In case the attribute name is a Python reserved word, the same rule as for the tag names applies (add `_` at the end). An example of this is the `global` attribute which should be passed as `global_`.\n",
                "- Some attributes, such as `id`, in the `container` tag, are mandatory and should be passed as positional arguments to the tag constructor.\n",
                "\n",
                "### Values\n",
                "\n",
                "- The value of an attribute can be a string, an integer, or a boolean. For types `bool` and `int`, the value is converted to a string (lowercased for `bool`). If you need to pass a float, you should convert it to a string before passing it to the tag constructor, e.g. `container(version=\"1.0\")`.\n",
                "- Note that we are _not_ escaping the values. In the xml file, the value of the `selection` attribute in the `document` tag is `music.timestamp &gt; now() - 86400`. (`&gt;` is the escaped form of `>`.) When passing this value to the `document` tag constructor in python, we should _not_ escape the `>` character, i.e. `document(selection=\"music.timestamp > now() - 86400\")`.\n"
            ]
        },
        {
            "cell_type": "markdown",
            "id": "careful-savage",
            "metadata": {},
            "source": [
                "## Deploy the Vespa application\n",
                "\n",
                "Deploy `package` on the local machine using Docker,\n",
                "without leaving the notebook, by creating an instance of\n",
                "[VespaDocker](https://vespa-engine.github.io/pyvespa/api/vespa/deployment.html#vespa.deployment.VespaDocker). `VespaDocker` connects\n",
                "to the local Docker daemon socket and starts the [Vespa docker image](https://hub.docker.com/r/vespaengine/vespa/).\n",
                "\n",
                "If this step fails, please check\n",
                "that the Docker daemon is running, and that the Docker daemon socket can be used by clients (Configurable under advanced settings in Docker Desktop).\n"
            ]
        },
        {
            "cell_type": "code",
            "execution_count": 4,
            "id": "canadian-blood",
            "metadata": {},
            "outputs": [
                {
                    "name": "stdout",
                    "output_type": "stream",
                    "text": [
                        "Waiting for configuration server, 0/60 seconds...\n",
                        "Waiting for configuration server, 5/60 seconds...\n",
                        "Waiting for application to come up, 0/300 seconds.\n",
                        "Waiting for application to come up, 5/300 seconds.\n",
                        "Waiting for application to come up, 10/300 seconds.\n",
                        "Waiting for application to come up, 15/300 seconds.\n",
                        "Waiting for application to come up, 20/300 seconds.\n",
                        "Application is up!\n",
                        "Finished deployment.\n"
                    ]
                }
            ],
            "source": [
                "from vespa.deployment import VespaDocker\n",
                "\n",
                "vespa_docker = VespaDocker()\n",
                "app = vespa_docker.deploy(application_package=application_package)"
            ]
        },
        {
            "cell_type": "markdown",
            "id": "aaae2f91",
            "metadata": {},
            "source": [
                "`app` now holds a reference to a [Vespa](https://vespa-engine.github.io/pyvespa/api/vespa/application.html#vespa.application.Vespa) instance.\n",
                "see this [notebook](https://vespa-engine.github.io/pyvespa/authenticating-to-vespa-cloud.html) for details on authenticating to Vespa Cloud.\n"
            ]
        },
        {
            "cell_type": "markdown",
            "id": "sealed-mustang",
            "metadata": {},
            "source": [
                "## Feeding documents to Vespa\n",
                "\n",
                "Now, let us feed some documents to Vespa. We will feed one document with a timestamp of 24 hours (+1 sec (86401)) ago and another document with a timestamp of the current time. We will then query the documents to check verify that the document-expiry is working as expected.\n"
            ]
        },
        {
            "cell_type": "code",
            "execution_count": 5,
            "id": "e9d3facd",
            "metadata": {},
            "outputs": [],
            "source": [
                "import time\n",
                "\n",
                "docs_to_feed = [\n",
                "    {\n",
                "        \"id\": \"1\",\n",
                "        \"fields\": {\n",
                "            \"artist\": \"Snoop Dogg\",\n",
                "            \"title\": \"Gin and Juice\",\n",
                "            \"timestamp\": int(time.time()) - 86401,\n",
                "        },\n",
                "    },\n",
                "    {\n",
                "        \"id\": \"2\",\n",
                "        \"fields\": {\n",
                "            \"artist\": \"Dr.Dre\",\n",
                "            \"title\": \"Still D.R.E\",\n",
                "            \"timestamp\": int(time.time()),\n",
                "        },\n",
                "    },\n",
                "]"
            ]
        },
        {
            "cell_type": "code",
            "execution_count": 6,
            "id": "6185fbce",
            "metadata": {},
            "outputs": [],
            "source": [
                "from vespa.io import VespaResponse\n",
                "\n",
                "\n",
                "def callback(response: VespaResponse, id: str):\n",
                "    if not response.is_successful():\n",
                "        print(f\"Error when feeding document {id}: {response.get_json()}\")\n",
                "\n",
                "\n",
                "app.feed_iterable(docs_to_feed, schema=application_name, callback=callback)"
            ]
        },
        {
            "cell_type": "markdown",
            "id": "8430dd98",
            "metadata": {},
            "source": [
                "## Verify document expiry through visiting\n",
                "\n",
                "[Visiting](https://docs.vespa.ai/en/visiting.html) is a feature to efficiently get or process a set of documents, identified by a [document selection](https://docs.vespa.ai/en/reference/document-select-language.html) expression.\n",
                "Here is how you can use visiting in pyvespa:\n"
            ]
        },
        {
            "cell_type": "code",
            "execution_count": 7,
            "id": "450a925f",
            "metadata": {},
            "outputs": [
                {
                    "data": {
                        "text/plain": [
                            "[{'pathId': '/document/v1/music/music/docid/',\n",
                            "  'documents': [{'id': 'id:music:music::2',\n",
                            "    'fields': {'artist': 'Dr.Dre',\n",
                            "     'title': 'Still D.R.E',\n",
                            "     'timestamp': 1754383889}}],\n",
                            "  'documentCount': 1}]"
                        ]
                    },
                    "execution_count": 7,
                    "metadata": {},
                    "output_type": "execute_result"
                }
            ],
            "source": [
                "visit_results = []\n",
                "for slice_ in app.visit(\n",
                "    schema=application_name,\n",
                "    content_cluster_name=f\"{application_name}_content\",\n",
                "    timeout=\"5s\",\n",
                "):\n",
                "    for response in slice_:\n",
                "        visit_results.append(response.json)\n",
                "visit_results"
            ]
        },
        {
            "cell_type": "markdown",
            "id": "7e8fefc9",
            "metadata": {},
            "source": [
                "We can see that the document with the timestamp of 24 hours ago is not returned by the query, while the document with the current timestamp is returned.\n"
            ]
        },
        {
            "cell_type": "markdown",
            "id": "5a96c679",
            "metadata": {},
            "source": [
                "### Clean up\n"
            ]
        },
        {
            "cell_type": "code",
            "execution_count": 8,
            "id": "60892e1f",
            "metadata": {},
            "outputs": [],
            "source": [
                "vespa_docker.container.stop()\n",
                "vespa_docker.container.remove()"
            ]
        },
        {
            "cell_type": "markdown",
            "id": "acc5e8fa",
            "metadata": {},
            "source": [
                "## Example 2 - Configuring `requestthreads` per search\n",
                "\n",
                "In Vespa, there are several configuration options that might be tuned to optimize the serving latency of your application.\n",
                "For an overview, see the [Vespa documentation - Vespa Serving Scaling Guide](https://docs.vespa.ai/en/performance/sizing-search.html).\n",
                "An example of a configuration that one might want to tune is the `requestthreads` `persearch` [parameter](https://docs.vespa.ai/en/reference/services-content.html#requestthreads). This parameter controls the number of search threads that are used to handle each search on the content nodes. The default value is 1.\n",
                "\n",
                "For some applications, where a significant portion of the work per query is linear with the number of documents, increasing the number of `requestthreads` `persearch` can improve the serving latency, as it allows more parallelism in the search phase.\n",
                "\n",
                "Examples of potentially expensive work that scales linearly with the number of documents, and thus are likely to benefit from increasing `requestthreads` `persearch` are: - Xgboost inference with a large GDBT-model - ONNX inference, e.g with a crossencoder. - MaxSim-operations for late interaction scoring, as in ColBERT and ColPali. - Exact nearest neighbor search.\n",
                "\n",
                "Example of query operators that are less likely to benefit from increasing `requestthreads` `persearch` are: - `wand`/`weakAnd`, see [Using wand with Vespa](https://docs.vespa.ai/en/using-wand-with-vespa.html). - Approximate nearest neighbor search with HNSW.\n",
                "\n",
                "In this example, we will demonstrate an example of configuring `requestthreads` `persearch` to 4 for an application where a Crossencoder is used in first-phase ranking. The demo is based on the [Cross-encoders for global reranking](https://vespa-engine.github.io/pyvespa/examples/cross-encoders-for-global-reranking.html) guide, but here we will use a cross-encoder in first-phase instead of global-phase. First-phase and second-phase ranking are executed on the content nodes, while global-phase ranking is executed on the container node. See [Phased ranking](https://docs.vespa.ai/en/phased-ranking.html) for more details.\n"
            ]
        },
        {
            "cell_type": "markdown",
            "id": "40e7135d",
            "metadata": {},
            "source": [
                "### Download the crossencoder-model\n"
            ]
        },
        {
            "cell_type": "code",
            "execution_count": 9,
            "id": "7706ca0e",
            "metadata": {},
            "outputs": [
                {
                    "name": "stdout",
                    "output_type": "stream",
                    "text": [
                        "Model already exists, skipping download.\n"
                    ]
                }
            ],
            "source": [
                "from pathlib import Path\n",
                "import requests\n",
                "from vespa.deployment import VespaDocker\n",
                "\n",
                "# Download the model if it doesn't exist\n",
                "url = \"https://huggingface.co/mixedbread-ai/mxbai-rerank-xsmall-v1/resolve/main/onnx/model.onnx\"\n",
                "local_model_path = \"model/model.onnx\"\n",
                "if not Path(local_model_path).exists():\n",
                "    print(\"Downloading the mxbai-rerank model...\")\n",
                "    r = requests.get(url)\n",
                "    Path(local_model_path).parent.mkdir(parents=True, exist_ok=True)\n",
                "    with open(local_model_path, \"wb\") as f:\n",
                "        f.write(r.content)\n",
                "        print(f\"Downloaded model to {local_model_path}\")\n",
                "else:\n",
                "    print(\"Model already exists, skipping download.\")"
            ]
        },
        {
            "cell_type": "markdown",
            "id": "7ca18d13",
            "metadata": {},
            "source": [
                "### Define a schema\n"
            ]
        },
        {
            "cell_type": "code",
            "execution_count": 10,
            "id": "379121de",
            "metadata": {},
            "outputs": [],
            "source": [
                "from vespa.package import (\n",
                "    OnnxModel,\n",
                "    RankProfile,\n",
                "    Schema,\n",
                "    ApplicationPackage,\n",
                "    Field,\n",
                "    FieldSet,\n",
                "    Function,\n",
                "    FirstPhaseRanking,\n",
                "    Document,\n",
                ")\n",
                "\n",
                "\n",
                "application_name = \"requestthreads\"\n",
                "\n",
                "# Define the reranking, as we will use it for two different rank profiles\n",
                "reranking = FirstPhaseRanking(\n",
                "    keep_rank_count=8,\n",
                "    expression=\"sigmoid(onnx(crossencoder).logits{d0:0,d1:0})\",\n",
                ")\n",
                "\n",
                "# Define the schema\n",
                "schema = Schema(\n",
                "    name=\"doc\",\n",
                "    document=Document(\n",
                "        fields=[\n",
                "            Field(name=\"id\", type=\"string\", indexing=[\"summary\", \"attribute\"]),\n",
                "            Field(\n",
                "                name=\"text\",\n",
                "                type=\"string\",\n",
                "                indexing=[\"index\", \"summary\"],\n",
                "                index=\"enable-bm25\",\n",
                "            ),\n",
                "            Field(\n",
                "                name=\"body_tokens\",\n",
                "                type=\"tensor<float>(d0[512])\",\n",
                "                indexing=[\n",
                "                    \"input text\",\n",
                "                    \"embed tokenizer\",\n",
                "                    \"attribute\",\n",
                "                    \"summary\",\n",
                "                ],\n",
                "                is_document_field=False,  # Indicates a synthetic field\n",
                "            ),\n",
                "        ],\n",
                "    ),\n",
                "    fieldsets=[FieldSet(name=\"default\", fields=[\"text\"])],\n",
                "    models=[\n",
                "        OnnxModel(\n",
                "            model_name=\"crossencoder\",\n",
                "            model_file_path=f\"{local_model_path}\",\n",
                "            inputs={\n",
                "                \"input_ids\": \"input_ids\",\n",
                "                \"attention_mask\": \"attention_mask\",\n",
                "            },\n",
                "            outputs={\"logits\": \"logits\"},\n",
                "        )\n",
                "    ],\n",
                "    rank_profiles=[\n",
                "        RankProfile(name=\"bm25\", first_phase=\"bm25(text)\"),\n",
                "        RankProfile(\n",
                "            name=\"reranking\",\n",
                "            inherits=\"default\",\n",
                "            inputs=[(\"query(q)\", \"tensor<float>(d0[64])\")],\n",
                "            functions=[\n",
                "                Function(\n",
                "                    name=\"input_ids\",\n",
                "                    expression=\"customTokenInputIds(1, 2, 512, query(q), attribute(body_tokens))\",\n",
                "                ),\n",
                "                Function(\n",
                "                    name=\"attention_mask\",\n",
                "                    expression=\"tokenAttentionMask(512, query(q), attribute(body_tokens))\",\n",
                "                ),\n",
                "            ],\n",
                "            first_phase=reranking,\n",
                "            summary_features=[\n",
                "                \"query(q)\",\n",
                "                \"input_ids\",\n",
                "                \"attention_mask\",\n",
                "                \"onnx(crossencoder).logits\",\n",
                "            ],\n",
                "        ),\n",
                "        RankProfile(\n",
                "            name=\"one-thread-profile\",\n",
                "            first_phase=reranking,\n",
                "            inherits=\"reranking\",\n",
                "            num_threads_per_search=1,\n",
                "        ),\n",
                "    ],\n",
                ")"
            ]
        },
        {
            "cell_type": "markdown",
            "id": "8a39afb6",
            "metadata": {},
            "source": [
                "### Define the ServicesConfiguration\n",
                "\n",
                "Note that the ServicesConfiguration may be used to define any configuration in the `services.xml` file. In this example, we are only configuring the `requestthreads` `persearch` parameter, but you can use the same approach to configure any other parameter.\n",
                "\n",
                "For a full reference of the available configuration options, see the [Vespa documentation - services.xml](https://docs.vespa.ai/en/reference/services.html).\n"
            ]
        },
        {
            "cell_type": "code",
            "execution_count": 11,
            "id": "ad07c782",
            "metadata": {},
            "outputs": [],
            "source": [
                "from vespa.configuration.services import *\n",
                "from vespa.package import ServicesConfiguration\n",
                "\n",
                "# Define services configuration with persearch threads set to 4\n",
                "services_config = ServicesConfiguration(\n",
                "    application_name=f\"{application_name}\",\n",
                "    services_config=services(\n",
                "        container(id=f\"{application_name}_default\", version=\"1.0\")(\n",
                "            component(\n",
                "                model(\n",
                "                    url=\"https://huggingface.co/mixedbread-ai/mxbai-rerank-xsmall-v1/raw/main/tokenizer.json\"\n",
                "                ),\n",
                "                id=\"tokenizer\",\n",
                "                type=\"hugging-face-tokenizer\",\n",
                "            ),\n",
                "            document_api(),\n",
                "            search(),\n",
                "        ),\n",
                "        content(id=f\"{application_name}\", version=\"1.0\")(\n",
                "            min_redundancy(\"1\"),\n",
                "            documents(document(type=\"doc\", mode=\"index\")),\n",
                "            engine(\n",
                "                proton(\n",
                "                    tuning(\n",
                "                        searchnode(requestthreads(persearch(\"4\"))),\n",
                "                    ),\n",
                "                ),\n",
                "            ),\n",
                "        ),\n",
                "        version=\"1.0\",\n",
                "        minimum_required_vespa_version=\"8.311.28\",\n",
                "    ),\n",
                ")"
            ]
        },
        {
            "cell_type": "markdown",
            "id": "ae39395a",
            "metadata": {},
            "source": [
                "Now, we are ready to deploy our application-package with the defined `ServiceConfiguration`.\n"
            ]
        },
        {
            "cell_type": "markdown",
            "id": "9c5fdfc8",
            "metadata": {},
            "source": [
                "### Deploy the application package\n"
            ]
        },
        {
            "cell_type": "code",
            "execution_count": 12,
            "id": "f4850126",
            "metadata": {},
            "outputs": [],
            "source": [
                "app_package = ApplicationPackage(\n",
                "    name=f\"{application_name}\",\n",
                "    schema=[schema],\n",
                "    services_config=services_config,\n",
                ")"
            ]
        },
        {
            "cell_type": "code",
            "execution_count": 13,
            "id": "1c2be2f2",
            "metadata": {},
            "outputs": [
                {
                    "name": "stdout",
                    "output_type": "stream",
                    "text": [
                        "Waiting for configuration server, 0/60 seconds...\n",
                        "Waiting for application to come up, 0/300 seconds.\n",
                        "Waiting for application to come up, 5/300 seconds.\n",
                        "Waiting for application to come up, 10/300 seconds.\n",
                        "Waiting for application to come up, 15/300 seconds.\n",
                        "Waiting for application to come up, 20/300 seconds.\n",
                        "Waiting for application to come up, 25/300 seconds.\n",
                        "Waiting for application to come up, 30/300 seconds.\n",
                        "Waiting for application to come up, 35/300 seconds.\n",
                        "Waiting for application to come up, 40/300 seconds.\n",
                        "Waiting for application to come up, 45/300 seconds.\n",
                        "Waiting for application to come up, 50/300 seconds.\n",
                        "Waiting for application to come up, 55/300 seconds.\n",
                        "Waiting for application to come up, 60/300 seconds.\n",
                        "Waiting for application to come up, 65/300 seconds.\n",
                        "Waiting for application to come up, 70/300 seconds.\n",
                        "Waiting for application to come up, 75/300 seconds.\n",
                        "Application is up!\n",
                        "Finished deployment.\n"
                    ]
                }
            ],
            "source": [
                "vespa_docker = VespaDocker(port=8089)\n",
                "app = vespa_docker.deploy(application_package=app_package)"
            ]
        },
        {
            "cell_type": "markdown",
            "id": "8b5d47b1",
            "metadata": {},
            "source": [
                "### Feed some sample documents\n"
            ]
        },
        {
            "cell_type": "code",
            "execution_count": 14,
            "id": "a6eeaa9d",
            "metadata": {},
            "outputs": [
                {
                    "name": "stdout",
                    "output_type": "stream",
                    "text": [
                        "Query time with 4 threads: 0.72s\n",
                        "Query time with 1 thread: 1.24s\n",
                        "4 threads is approximately 1.73x faster than 1 thread\n"
                    ]
                }
            ],
            "source": [
                "sample_docs = [\n",
                "    {\"id\": i, \"fields\": {\"text\": text}}\n",
                "    for i, text in enumerate(\n",
                "        [\n",
                "            \"'To Kill a Mockingbird' is a novel by Harper Lee published in 1960. It was immediately successful, winning the Pulitzer Prize, and has become a classic of modern American literature. The novel 'Moby-Dick' was written by Herman Melville and first published in 1851. Harper Lee, an American novelist widely known for her novel 'To Kill a Mockingbird'. It is considered a masterpiece of American literature and deals with complex themes of obsession, revenge, and the conflict between good and evil.\",\n",
                "            \"was born in 1926 in Monroeville, Alabama. She received the Pulitzer Prize for Fiction in 1961. Jane Austen was an English novelist known primarily for her six major novels, \",\n",
                "            \"which interpret, critique and comment upon the British landed gentry at the end of the 18th century. The 'Harry Potter' series, which consists of seven fantasy novels written by British author J.K. Rowling, \",\n",
                "            \"is among the most popular and critically acclaimed books of the modern era. 'The Great Gatsby', a novel written by American author F. Scott Fitzgerald, was published in 1925. The story is set in the Jazz Age and follows the life of millionaire Jay Gatsby and his pursuit of Daisy Buchanan.\",\n",
                "        ]\n",
                "    )\n",
                "]\n",
                "app.feed_iterable(sample_docs, schema=\"doc\")\n",
                "\n",
                "# Define the query body\n",
                "query_body = {\n",
                "    \"yql\": \"select * from sources * where userQuery();\",\n",
                "    \"query\": \"who wrote to kill a mockingbird?\",\n",
                "    \"timeout\": \"10s\",\n",
                "    \"input.query(q)\": \"embed(tokenizer, @query)\",\n",
                "    \"presentation.timing\": \"true\",\n",
                "}\n",
                "\n",
                "# Warm-up query\n",
                "app.query(body=query_body)\n",
                "query_body_reranking = {\n",
                "    **query_body,\n",
                "    \"ranking.profile\": \"reranking\",\n",
                "}\n",
                "# Query with default persearch threads (set to 4)\n",
                "with app.syncio() as sess:\n",
                "    response_default = app.query(body=query_body_reranking)\n",
                "\n",
                "# Query with num-threads-per-search overridden to 1\n",
                "query_body_one_thread = {\n",
                "    **query_body,\n",
                "    \"ranking.profile\": \"one-thread-profile\",\n",
                "    # \"ranking.matching.numThreadsPerSearch\": 1, Could potentiall also set numThreadsPerSearch in query parameters.\n",
                "}\n",
                "with app.syncio() as sess:\n",
                "    response_one_thread = sess.query(body=query_body_one_thread)\n",
                "\n",
                "# Extract query times\n",
                "timing_default = response_default.json[\"timing\"][\"querytime\"]\n",
                "timing_one_thread = response_one_thread.json[\"timing\"][\"querytime\"]\n",
                "# Beautifully formatted statement of - num threads and ratio of query times\n",
                "print(f\"Query time with 4 threads: {timing_default:.2f}s\")\n",
                "print(f\"Query time with 1 thread: {timing_one_thread:.2f}s\")\n",
                "ratio = timing_one_thread / timing_default\n",
                "print(f\"4 threads is approximately {ratio:.2f}x faster than 1 thread\")"
            ]
        },
        {
            "cell_type": "markdown",
            "id": "6947e627",
            "metadata": {},
            "source": [
                "## Query-profiles - legacy approach\n",
                "\n",
                "Until pyvespa version 0.60.0, this was the way to add a query profile or query profile type to the application package:"
            ]
        },
        {
            "cell_type": "code",
            "execution_count": 15,
            "id": "f0e7830e",
            "metadata": {},
            "outputs": [],
            "source": [
                "from vespa.package import (\n",
                "    QueryProfile,\n",
                "    QueryProfileType,\n",
                "    QueryTypeField,\n",
                "    QueryField,\n",
                ")\n",
                "\n",
                "app_package = ApplicationPackage(\n",
                "    name=f\"{application_name}\",\n",
                "    schema=[music_schema],\n",
                "    query_profile=QueryProfile(\n",
                "        fields=[\n",
                "            QueryField(\n",
                "                name=\"hits\",\n",
                "                value=\"30\",\n",
                "            )\n",
                "        ]\n",
                "    ),\n",
                "    query_profile_type=QueryProfileType(\n",
                "        fields=[\n",
                "            QueryTypeField(\n",
                "                name=\"ranking.features.query(query_embedding)\",\n",
                "                type=\"tensor<float>(x[512])\",\n",
                "            )\n",
                "        ]\n",
                "    ),\n",
                ")"
            ]
        },
        {
            "cell_type": "markdown",
            "id": "81d02bf6",
            "metadata": {},
            "source": [
                "As you can see from the reference in the [Vespa Docs](https://docs.vespa.ai/en/reference/query-profile-reference.html), this makes it impossible to define multiple query profiles or query profile types in the application package, and there are many variants you are unable to express.\n",
                "\n",
                "## Query Profiles - new approach\n",
                "\n",
                "By importing the tag-functions like this:  `from vespa.configuration.query_profiles import *`, you can access all supported tags of a query profile or query profile type.\n",
                "\n",
                "Pass these (one or as many as you like) to the `query_profile_config` parameter of your `ApplicationPackage`, and they will be added to the application package as query profiles or query profile types.\n",
                "\n",
                "Only two validations are done at construction time:\n",
                "1. The `id` attribute is mandatory for both query profiles and query profile types, as it is used to create the file name in the application package.\n",
                "2. The top-level tag of each element in the `query_profile_config` list should be either `query_profile` or `query_profile_type`.\n",
                "\n",
                "By using the new `query_profile_config` parameter, you can now express any combination of query profile or query profile type in python code, and add it to your `ApplicationPackage`.\n",
                "\n",
                "Here are some examples:"
            ]
        },
        {
            "cell_type": "code",
            "execution_count": 16,
            "id": "f68efbc2",
            "metadata": {},
            "outputs": [],
            "source": [
                "from vespa.configuration.query_profiles import *\n",
                "\n",
                "# From https://docs.vespa.ai/en/tutorials/rag-blueprint.html#training-a-first-phase-ranking-model\n",
                "qp_hybrid = query_profile(\n",
                "    field(\"doc\", name=\"schema\"),\n",
                "    field(\"embed(@query)\", name=\"ranking.features.query(embedding)\"),\n",
                "    field(\"embed(@query)\", name=\"ranking.features.query(float_embedding)\"),\n",
                "    field(-7.798639, name=\"ranking.features.query(intercept)\"),\n",
                "    field(\n",
                "        13.383840,\n",
                "        name=\"ranking.features.query(avg_top_3_chunk_sim_scores_param)\",\n",
                "    ),\n",
                "    field(\n",
                "        0.203145,\n",
                "        name=\"ranking.features.query(avg_top_3_chunk_text_scores_param)\",\n",
                "    ),\n",
                "    field(0.159914, name=\"ranking.features.query(bm25_chunks_param)\"),\n",
                "    field(0.191867, name=\"ranking.features.query(bm25_title_param)\"),\n",
                "    field(10.067169, name=\"ranking.features.query(max_chunk_sim_scores_param)\"),\n",
                "    field(0.153392, name=\"ranking.features.query(max_chunk_text_scores_param)\"),\n",
                "    field(\n",
                "        \"\"\"select *\n",
                "        from %{schema}\n",
                "        where userInput(@query) or\n",
                "        ({label:\"title_label\", targetHits:100}nearestNeighbor(title_embedding, embedding)) or\n",
                "        ({label:\"chunks_label\", targetHits:100}nearestNeighbor(chunk_embeddings, embedding))\"\"\",\n",
                "        name=\"yql\",\n",
                "    ),\n",
                "    field(10, name=\"hits\"),\n",
                "    field(\"learned-linear\", name=\"ranking.profile\"),\n",
                "    field(\"top_3_chunks\", name=\"presentation.summary\"),\n",
                "    id=\"hybrid\",\n",
                "    type=\"hybrid-type\",\n",
                ")\n",
                "\n",
                "qpt_hybrid = query_profile_type(\n",
                "    field(\n",
                "        name=\"ranking.features.query(embedding)\",\n",
                "        type=\"tensor<int8>(x[96])\",\n",
                "        mandatory=True,\n",
                "        strict=True,\n",
                "    ),\n",
                "    field(\n",
                "        name=\"ranking.features.query(float_embedding)\",\n",
                "        type=\"tensor<float>(x[384])\",\n",
                "        mandatory=True,\n",
                "        strict=True,\n",
                "    ),\n",
                "    id=\"hybrid-type\",\n",
                ")"
            ]
        },
        {
            "cell_type": "markdown",
            "id": "1b739eba",
            "metadata": {},
            "source": [
                "As you can see below, we get type conversion (`True` -> `true`), XML-escaping and correct indentaion of the XML outout. "
            ]
        },
        {
            "cell_type": "code",
            "execution_count": 17,
            "id": "0ef9c175",
            "metadata": {},
            "outputs": [
                {
                    "name": "stdout",
                    "output_type": "stream",
                    "text": [
                        "<query-profile id=\"hybrid\" type=\"hybrid-type\">\n",
                        "  <field name=\"schema\">doc</field>\n",
                        "  <field name=\"ranking.features.query(embedding)\">embed(@query)</field>\n",
                        "  <field name=\"ranking.features.query(float_embedding)\">embed(@query)</field>\n",
                        "  <field name=\"ranking.features.query(intercept)\">\n",
                        "-7.798639\n",
                        "  </field>\n",
                        "  <field name=\"ranking.features.query(avg_top_3_chunk_sim_scores_param)\">\n",
                        "13.38384\n",
                        "  </field>\n",
                        "  <field name=\"ranking.features.query(avg_top_3_chunk_text_scores_param)\">\n",
                        "0.203145\n",
                        "  </field>\n",
                        "  <field name=\"ranking.features.query(bm25_chunks_param)\">\n",
                        "0.159914\n",
                        "  </field>\n",
                        "  <field name=\"ranking.features.query(bm25_title_param)\">\n",
                        "0.191867\n",
                        "  </field>\n",
                        "  <field name=\"ranking.features.query(max_chunk_sim_scores_param)\">\n",
                        "10.067169\n",
                        "  </field>\n",
                        "  <field name=\"ranking.features.query(max_chunk_text_scores_param)\">\n",
                        "0.153392\n",
                        "  </field>\n",
                        "  <field name=\"yql\">select *\n",
                        "        from %{schema}\n",
                        "        where userInput(@query) or\n",
                        "        ({label:\"title_label\", targetHits:100}nearestNeighbor(title_embedding, embedding)) or\n",
                        "        ({label:\"chunks_label\", targetHits:100}nearestNeighbor(chunk_embeddings, embedding))</field>\n",
                        "  <field name=\"hits\">1</field>\n",
                        "  <field name=\"ranking.profile\">learned-linear</field>\n",
                        "  <field name=\"presentation.summary\">top_3_chunks</field>\n",
                        "</query-profile>\n",
                        "\n"
                    ]
                }
            ],
            "source": [
                "print(qp_hybrid.to_xml())"
            ]
        },
        {
            "cell_type": "code",
            "execution_count": 18,
            "id": "b4284a0b",
            "metadata": {},
            "outputs": [
                {
                    "name": "stdout",
                    "output_type": "stream",
                    "text": [
                        "<query-profile-type id=\"hybrid-type\">\n",
                        "  <field name=\"ranking.features.query(embedding)\" type=\"tensor&lt;int8&gt;(x[96])\" mandatory=\"true\" strict=\"true\"></field>\n",
                        "  <field name=\"ranking.features.query(float_embedding)\" type=\"tensor&lt;float&gt;(x[384])\" mandatory=\"true\" strict=\"true\"></field>\n",
                        "</query-profile-type>\n",
                        "\n"
                    ]
                }
            ],
            "source": [
                "print(qpt_hybrid.to_xml())"
            ]
        },
        {
            "cell_type": "markdown",
            "id": "3f266757",
            "metadata": {},
            "source": [
                "### Query profile variant\n",
                "\n",
                "See Vespa documentation on [Query Profile Variants](https://docs.vespa.ai/en/query-profiles.html#query-profile-variants) for more details."
            ]
        },
        {
            "cell_type": "code",
            "execution_count": 19,
            "id": "fe587e64",
            "metadata": {},
            "outputs": [],
            "source": [
                "from vespa.configuration.query_profiles import *\n",
                "\n",
                "qp_variant = query_profile(\n",
                "    description(\"Multidimensional query profile\"),\n",
                "    dimensions(\"region,model,bucket\"),\n",
                "    field(\"My general a value\", name=\"a\"),\n",
                "    query_profile(for_=\"us,nokia,test1\")(\n",
                "        field(\"My value of the combination us-nokia-test1-a\", name=\"a\"),\n",
                "    ),\n",
                "    query_profile(for_=\"us\")(\n",
                "        field(\"My value of the combination us-a\", name=\"a\"),\n",
                "        field(\"My value of the combination us-b\", name=\"b\"),\n",
                "    ),\n",
                "    query_profile(for_=\"us,nokia,*\")(\n",
                "        field(\"My value of the combination us-nokia-a\", name=\"a\"),\n",
                "        field(\"My value of the combination us-nokia-b\", name=\"b\"),\n",
                "    ),\n",
                "    query_profile(for_=\"us,*,test1\")(\n",
                "        field(\"My value of the combination us-test1-a\", name=\"a\"),\n",
                "        field(\"My value of the combination us-test1-b\", name=\"b\"),\n",
                "    ),\n",
                "    id=\"multiprofile1\",\n",
                ")"
            ]
        },
        {
            "cell_type": "code",
            "execution_count": 20,
            "id": "c80fad6d",
            "metadata": {},
            "outputs": [],
            "source": [
                "from vespa.configuration.query_profiles import *\n",
                "\n",
                "qpt_alias = query_profile_type(\n",
                "    match_(path=\"true\"),  # Match is sanitized due to python keyword\n",
                "    field(\n",
                "        name=\"ranking.features.query(query_embedding)\",\n",
                "        type=\"tensor<float>(x[512])\",\n",
                "        alias=\"q_emb query_emb\",\n",
                "    ),\n",
                "    id=\"queryemb\",\n",
                "    inherits=\"native\",\n",
                ")"
            ]
        },
        {
            "cell_type": "code",
            "execution_count": 21,
            "id": "2885f08e",
            "metadata": {},
            "outputs": [],
            "source": [
                "app_package.add_query_profile([qp_hybrid, qp_variant, qpt_hybrid, qpt_alias])"
            ]
        },
        {
            "cell_type": "markdown",
            "id": "dbc2fb67",
            "metadata": {},
            "source": [
                "And by dumping the application package to files, we can see that all query profiles and query profile types are written to the `search/query-profiles` directory in the application package."
            ]
        },
        {
            "cell_type": "code",
            "execution_count": 22,
            "id": "df227c8a",
            "metadata": {},
            "outputs": [
                {
                    "name": "stdout",
                    "output_type": "stream",
                    "text": [
                        "Application package files written to /var/folders/vb/ch14y_kn4mqfz75bhc9_g5980000gn/T/tmpbrd0yw7_\n",
                        "Files in the temporary directory:\n",
                        "['services.xml', 'models', 'schemas', 'search', 'files']\n",
                        "Files in the `search/query-profiles` directory:\n",
                        "['types', 'multiprofile1.xml', 'hybrid.xml', 'default.xml']\n"
                    ]
                }
            ],
            "source": [
                "import tempfile\n",
                "import os\n",
                "\n",
                "temp_dir = tempfile.mkdtemp()\n",
                "app_package.to_files(temp_dir)\n",
                "print(f\"Application package files written to {temp_dir}\")\n",
                "print(\"Files in the temporary directory:\")\n",
                "print(os.listdir(temp_dir))\n",
                "print(\"Files in the `search/query-profiles` directory:\")\n",
                "print(os.listdir(os.path.join(temp_dir, \"search\", \"query-profiles\")))"
            ]
        },
        {
            "cell_type": "markdown",
            "id": "1d02e577",
            "metadata": {},
            "source": [
                "Note that this combination of query profiles would not make sense to deploy together in the same application, but the point here is to demonstrate the flexibility of the new `query_profile_config` parameter, which should enable you to express any query profile or query profile type in python code, and add it to your `ApplicationPackage`."
            ]
        },
        {
            "cell_type": "markdown",
            "id": "6c24747a",
            "metadata": {},
            "source": [
                "The following xml-tags are available to construct query profiles and query profile types:"
            ]
        },
        {
            "cell_type": "code",
            "execution_count": 23,
            "id": "5c63e298",
            "metadata": {},
            "outputs": [
                {
                    "data": {
                        "text/plain": [
                            "['query-profile',\n",
                            " 'query-profile-type',\n",
                            " 'field',\n",
                            " 'match',\n",
                            " 'strict',\n",
                            " 'description',\n",
                            " 'dimensions',\n",
                            " 'ref']"
                        ]
                    },
                    "execution_count": 23,
                    "metadata": {},
                    "output_type": "execute_result"
                }
            ],
            "source": [
                "queryprofile_tags"
            ]
        },
        {
            "cell_type": "markdown",
            "id": "1f91b6ec",
            "metadata": {},
            "source": [
                "In order to avoid conflicts with Python reserved words, or commonly used objects, the following tags are (optionally) constructed by adding a `_` at the end of the tag name, or attribute name:"
            ]
        },
        {
            "cell_type": "code",
            "execution_count": 24,
            "id": "0fa05732",
            "metadata": {},
            "outputs": [
                {
                    "data": {
                        "text/plain": [
                            "{'type_': 'type',\n",
                            " 'class_': 'class',\n",
                            " 'for_': 'for',\n",
                            " 'time_': 'time',\n",
                            " 'io_': 'io',\n",
                            " 'from_': 'from',\n",
                            " 'match_': 'match'}"
                        ]
                    },
                    "execution_count": 24,
                    "metadata": {},
                    "output_type": "execute_result"
                }
            ],
            "source": [
                "from vespa.configuration.vt import restore_reserved\n",
                "\n",
                "restore_reserved"
            ]
        },
        {
            "cell_type": "markdown",
            "id": "cc0374da",
            "metadata": {},
            "source": [
                "Note that we also here must sanitize the names of the `match` tag to avoid any conflicts with Python keyword, so `match` should be passed as `match_`.\n",
                "Additionally, we use the same approach as for the `ServiceConfiguration` object, so any hyphens in the tag names should be replaced with underscores."
            ]
        },
        {
            "cell_type": "markdown",
            "id": "bdbdb03f",
            "metadata": {},
            "source": [
                "### No proper validation until deploy time"
            ]
        },
        {
            "cell_type": "markdown",
            "id": "30788e06",
            "metadata": {},
            "source": [
                "Note that any attribute can be passed to the tag constructor, with no validation at construction time. You will still get validation at deploy time as usual though. "
            ]
        },
        {
            "cell_type": "markdown",
            "id": "28591491",
            "metadata": {},
            "source": [
                "### Cleanup\n"
            ]
        },
        {
            "cell_type": "code",
            "execution_count": 25,
            "id": "e5064bd2",
            "metadata": {},
            "outputs": [],
            "source": [
                "vespa_docker.container.stop()\n",
                "vespa_docker.container.remove()"
            ]
        },
        {
            "cell_type": "markdown",
            "id": "d1872b31",
            "metadata": {},
            "source": [
                "## Next steps\n",
                "\n",
                "This is just an intro into to the advanced configuration options available in Vespa. For more details, see the [Vespa documentation](https://docs.vespa.ai/en/reference/services.html).\n"
            ]
        }
    ],
    "metadata": {
        "kernelspec": {
            "display_name": "pyvespa",
            "language": "python",
            "name": "python3"
        },
        "language_info": {
            "codemirror_mode": {
                "name": "ipython",
                "version": 3
            },
            "file_extension": ".py",
            "mimetype": "text/x-python",
            "name": "python",
            "nbconvert_exporter": "python",
            "pygments_lexer": "ipython3",
            "version": "3.10.17"
        }
    },
    "nbformat": 4,
    "nbformat_minor": 5
}
