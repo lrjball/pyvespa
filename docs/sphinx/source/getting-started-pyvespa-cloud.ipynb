{
    "cells": [
        {
            "cell_type": "markdown",
            "id": "given-adoption",
            "metadata": {
                "pycharm": {
                    "name": "#%% md\n"
                }
            },
            "source": [
                "<picture>\n",
                "  <source media=\"(prefers-color-scheme: dark)\" srcset=\"https://assets.vespa.ai/logos/Vespa-logo-green-RGB.svg\">\n",
                "  <source media=\"(prefers-color-scheme: light)\" srcset=\"https://assets.vespa.ai/logos/Vespa-logo-dark-RGB.svg\">\n",
                "  <img alt=\"#Vespa\" width=\"200\" src=\"https://assets.vespa.ai/logos/Vespa-logo-dark-RGB.svg\" style=\"margin-bottom: 25px;\">\n",
                "</picture>\n",
                "\n",
                "# Hybrid Search - Quickstart on Vespa Cloud\n",
                "\n",
                "This is the same guide as [getting-started-pyvespa](https://pyvespa.readthedocs.io/en/latest/getting-started-pyvespa.html), deploying to Vespa Cloud.\n"
            ]
        },
        {
            "cell_type": "markdown",
            "id": "4f8c1448",
            "metadata": {},
            "source": [
                "<div class=\"alert alert-info\">\n",
                "    Refer to <a href=\"https://pyvespa.readthedocs.io/en/latest/troubleshooting.html\">troubleshooting</a>\n",
                "    for any problem when running this guide.\n",
                "</div>\n"
            ]
        },
        {
            "cell_type": "markdown",
            "id": "148d275b",
            "metadata": {},
            "source": [
                "**Pre-requisite**: Create a tenant at [cloud.vespa.ai](https://cloud.vespa.ai/), save the tenant name.\n",
                "\n",
                "[![Open In Colab](https://colab.research.google.com/assets/colab-badge.svg)](https://colab.research.google.com/github/vespa-engine/pyvespa/blob/master/docs/sphinx/source/getting-started-pyvespa-cloud.ipynb)\n"
            ]
        },
        {
            "cell_type": "markdown",
            "id": "366b0d83",
            "metadata": {},
            "source": [
                "## Install\n",
                "\n",
                "Install [pyvespa](https://pyvespa.readthedocs.io/) >= 0.45\n",
                "and the [Vespa CLI](https://docs.vespa.ai/en/vespa-cli.html).\n",
                "The Vespa CLI is used for data and control plane key management ([Vespa Cloud Security Guide](https://cloud.vespa.ai/en/security/guide)).\n"
            ]
        },
        {
            "cell_type": "code",
            "execution_count": null,
            "id": "136750de",
            "metadata": {},
            "outputs": [],
            "source": [
                "!pip3 install pyvespa vespacli"
            ]
        },
        {
            "cell_type": "markdown",
            "id": "02f706ff",
            "metadata": {},
            "source": [
                "## Configure application\n"
            ]
        },
        {
            "cell_type": "code",
            "execution_count": 2,
            "id": "9ca4da83",
            "metadata": {},
            "outputs": [],
            "source": [
                "# Replace with your tenant name from the Vespa Cloud Console\n",
                "tenant_name = \"vespa-team\"\n",
                "# Replace with your application name (does not need to exist yet)\n",
                "application = \"hybridsearch\""
            ]
        },
        {
            "cell_type": "markdown",
            "id": "db637322",
            "metadata": {},
            "source": [
                "## Create an application package\n",
                "\n",
                "The [application package](https://pyvespa.readthedocs.io/en/latest/reference-api.html#vespa.package.ApplicationPackage)\n",
                "has all the Vespa configuration files -\n",
                "create one from scratch:\n"
            ]
        },
        {
            "cell_type": "code",
            "execution_count": 3,
            "id": "bd5c2629",
            "metadata": {},
            "outputs": [],
            "source": [
                "from vespa.package import (\n",
                "    ApplicationPackage,\n",
                "    Field,\n",
                "    Schema,\n",
                "    Document,\n",
                "    HNSW,\n",
                "    RankProfile,\n",
                "    Component,\n",
                "    Parameter,\n",
                "    FieldSet,\n",
                "    GlobalPhaseRanking,\n",
                "    Function,\n",
                ")\n",
                "\n",
                "package = ApplicationPackage(\n",
                "    name=application,\n",
                "    schema=[\n",
                "        Schema(\n",
                "            name=\"doc\",\n",
                "            document=Document(\n",
                "                fields=[\n",
                "                    Field(name=\"id\", type=\"string\", indexing=[\"summary\"]),\n",
                "                    Field(\n",
                "                        name=\"title\",\n",
                "                        type=\"string\",\n",
                "                        indexing=[\"index\", \"summary\"],\n",
                "                        index=\"enable-bm25\",\n",
                "                    ),\n",
                "                    Field(\n",
                "                        name=\"body\",\n",
                "                        type=\"string\",\n",
                "                        indexing=[\"index\", \"summary\"],\n",
                "                        index=\"enable-bm25\",\n",
                "                        bolding=True,\n",
                "                    ),\n",
                "                    Field(\n",
                "                        name=\"embedding\",\n",
                "                        type=\"tensor<float>(x[384])\",\n",
                "                        indexing=[\n",
                "                            'input title . \" \" . input body',\n",
                "                            \"embed\",\n",
                "                            \"index\",\n",
                "                            \"attribute\",\n",
                "                        ],\n",
                "                        ann=HNSW(distance_metric=\"angular\"),\n",
                "                        is_document_field=False,\n",
                "                    ),\n",
                "                ]\n",
                "            ),\n",
                "            fieldsets=[FieldSet(name=\"default\", fields=[\"title\", \"body\"])],\n",
                "            rank_profiles=[\n",
                "                RankProfile(\n",
                "                    name=\"bm25\",\n",
                "                    inputs=[(\"query(q)\", \"tensor<float>(x[384])\")],\n",
                "                    functions=[\n",
                "                        Function(name=\"bm25sum\", expression=\"bm25(title) + bm25(body)\")\n",
                "                    ],\n",
                "                    first_phase=\"bm25sum\",\n",
                "                ),\n",
                "                RankProfile(\n",
                "                    name=\"semantic\",\n",
                "                    inputs=[(\"query(q)\", \"tensor<float>(x[384])\")],\n",
                "                    first_phase=\"closeness(field, embedding)\",\n",
                "                ),\n",
                "                RankProfile(\n",
                "                    name=\"fusion\",\n",
                "                    inherits=\"bm25\",\n",
                "                    inputs=[(\"query(q)\", \"tensor<float>(x[384])\")],\n",
                "                    first_phase=\"closeness(field, embedding)\",\n",
                "                    global_phase=GlobalPhaseRanking(\n",
                "                        expression=\"reciprocal_rank_fusion(bm25sum, closeness(field, embedding))\",\n",
                "                        rerank_count=1000,\n",
                "                    ),\n",
                "                ),\n",
                "            ],\n",
                "        )\n",
                "    ],\n",
                "    components=[\n",
                "        Component(\n",
                "            id=\"e5\",\n",
                "            type=\"hugging-face-embedder\",\n",
                "            parameters=[\n",
                "                Parameter(\n",
                "                    \"transformer-model\",\n",
                "                    {\n",
                "                        \"url\": \"https://github.com/vespa-engine/sample-apps/raw/master/simple-semantic-search/model/e5-small-v2-int8.onnx\"\n",
                "                    },\n",
                "                ),\n",
                "                Parameter(\n",
                "                    \"tokenizer-model\",\n",
                "                    {\n",
                "                        \"url\": \"https://raw.githubusercontent.com/vespa-engine/sample-apps/master/simple-semantic-search/model/tokenizer.json\"\n",
                "                    },\n",
                "                ),\n",
                "            ],\n",
                "        )\n",
                "    ],\n",
                ")"
            ]
        },
        {
            "cell_type": "markdown",
            "id": "2c5e2943",
            "metadata": {},
            "source": [
                "Note that the name cannot have `-` or `_`.\n"
            ]
        },
        {
            "cell_type": "markdown",
            "id": "careful-savage",
            "metadata": {},
            "source": [
                "## Deploy to Vespa Cloud\n",
                "\n",
                "The app is now defined and ready to deploy to Vespa Cloud.\n",
                "\n",
                "Deploy `package` to Vespa Cloud, by creating an instance of\n",
                "[VespaCloud](https://pyvespa.readthedocs.io/en/latest/reference-api.html#vespa.deployment.VespaCloud):\n"
            ]
        },
        {
            "cell_type": "code",
            "execution_count": 4,
            "id": "canadian-blood",
            "metadata": {},
            "outputs": [
                {
                    "name": "stdout",
                    "output_type": "stream",
                    "text": [
                        "Setting application...\n",
                        "Running: vespa config set application vespa-team.hybridsearch\n",
                        "Setting target cloud...\n",
                        "Running: vespa config set target cloud\n",
                        "\n",
                        "Api-key found for control plane access. Using api-key.\n"
                    ]
                }
            ],
            "source": [
                "from vespa.deployment import VespaCloud\n",
                "import os\n",
                "\n",
                "# Key is only used for CI/CD. Can be removed if logging in interactively\n",
                "key = os.getenv(\"VESPA_TEAM_API_KEY\", None)\n",
                "if key is not None:\n",
                "    key = key.replace(r\"\\n\", \"\\n\")  # To parse key correctly\n",
                "\n",
                "vespa_cloud = VespaCloud(\n",
                "    tenant=tenant_name,\n",
                "    application=application,\n",
                "    key_content=key,  # Key is only used for CI/CD. Can be removed if logging in interactively\n",
                "    application_package=package,\n",
                ")"
            ]
        },
        {
            "cell_type": "markdown",
            "id": "197c0a27",
            "metadata": {},
            "source": [
                "For more details on different authentication options and methods, see [authenticating-to-vespa-cloud](https://pyvespa.readthedocs.io/en/latest/authenticating-to-vespa-cloud.html).\n",
                "\n",
                "The following will upload the application package to Vespa Cloud Dev Zone (`aws-us-east-1c`), read more about [Vespa Zones](https://cloud.vespa.ai/en/reference/zones.html).\n",
                "The Vespa Cloud Dev Zone is considered as a sandbox environment where resources are down-scaled and idle deployments are expired automatically.\n",
                "For information about production deployments, see the following [method](https://pyvespa.readthedocs.io/en/latest/reference-api.html#vespa.deployment.VespaCloud.deploy_to_prod).\n",
                "\n",
                "> Note: Deployments to dev and perf expire after 7 days of inactivity, i.e., 7 days after running deploy. This applies to all plans, not only the Free Trial. Use the Vespa Console to extend the expiry period, or redeploy the application to add 7 more days.\n"
            ]
        },
        {
            "cell_type": "markdown",
            "id": "fb2ba0e1",
            "metadata": {},
            "source": [
                "Now deploy the app to Vespa Cloud dev zone.\n",
                "\n",
                "The first deployment typically takes 2 minutes until the endpoint is up. (Applications that for example refer to large onnx-models may take a bit longer.)\n"
            ]
        },
        {
            "cell_type": "code",
            "execution_count": 5,
            "id": "337d9b05",
            "metadata": {},
            "outputs": [
                {
                    "name": "stdout",
                    "output_type": "stream",
                    "text": [
                        "Deployment started in run 7 of dev-aws-us-east-1c for vespa-team.hybridsearch. This may take a few minutes the first time.\n",
                        "INFO    [07:04:51]  Deploying platform version 8.367.14 and application dev build 6 for dev-aws-us-east-1c of default ...\n",
                        "INFO    [07:04:51]  Using CA signed certificate version 3\n",
                        "INFO    [07:04:52]  Using 1 nodes in container cluster 'hybridsearch_container'\n",
                        "INFO    [07:04:53]  Validating Onnx models memory usage for container cluster 'hybridsearch_container', percentage of available memory too low (10 < 15) to avoid restart, consider a flavor with more memory to avoid this\n",
                        "WARNING [07:04:53]  Auto-overriding validation which would be disallowed in production: certificate-removal: Data plane certificate(s) from cluster 'hybridsearch_container' is removed (removed certificates: [CN=cloud.vespa.example]) This can cause client connection issues.. To allow this add <allow until='yyyy-mm-dd'>certificate-removal</allow> to validation-overrides.xml, see https://docs.vespa.ai/en/reference/validation-overrides.html\n",
                        "INFO    [07:04:55]  Session 298587 for tenant 'vespa-team' prepared and activated.\n",
                        "INFO    [07:04:55]  ######## Details for all nodes ########\n",
                        "INFO    [07:04:55]  h94416a.dev.aws-us-east-1c.vespa-external.aws.oath.cloud: expected to be UP\n",
                        "INFO    [07:04:55]  --- platform vespa/cloud-tenant-rhel8:8.367.14\n",
                        "INFO    [07:04:55]  --- container on port 4080 has config generation 298580, wanted is 298587\n",
                        "INFO    [07:04:55]  --- metricsproxy-container on port 19092 has config generation 298587, wanted is 298587\n",
                        "INFO    [07:04:55]  h94249f.dev.aws-us-east-1c.vespa-external.aws.oath.cloud: expected to be UP\n",
                        "INFO    [07:04:55]  --- platform vespa/cloud-tenant-rhel8:8.367.14\n",
                        "INFO    [07:04:55]  --- container-clustercontroller on port 19050 has config generation 298580, wanted is 298587\n",
                        "INFO    [07:04:55]  --- metricsproxy-container on port 19092 has config generation 298580, wanted is 298587\n",
                        "INFO    [07:04:55]  h93394a.dev.aws-us-east-1c.vespa-external.aws.oath.cloud: expected to be UP\n",
                        "INFO    [07:04:55]  --- platform vespa/cloud-tenant-rhel8:8.367.14\n",
                        "INFO    [07:04:55]  --- logserver-container on port 4080 has config generation 298587, wanted is 298587\n",
                        "INFO    [07:04:55]  --- metricsproxy-container on port 19092 has config generation 298580, wanted is 298587\n",
                        "INFO    [07:04:55]  h94419a.dev.aws-us-east-1c.vespa-external.aws.oath.cloud: expected to be UP\n",
                        "INFO    [07:04:55]  --- platform vespa/cloud-tenant-rhel8:8.367.14\n",
                        "INFO    [07:04:55]  --- storagenode on port 19102 has config generation 298587, wanted is 298587\n",
                        "INFO    [07:04:55]  --- searchnode on port 19107 has config generation 298587, wanted is 298587\n",
                        "INFO    [07:04:55]  --- distributor on port 19111 has config generation 298587, wanted is 298587\n",
                        "INFO    [07:04:55]  --- metricsproxy-container on port 19092 has config generation 298587, wanted is 298587\n",
                        "INFO    [07:05:02]  Found endpoints:\n",
                        "INFO    [07:05:02]  - dev.aws-us-east-1c\n",
                        "INFO    [07:05:02]   |-- https://f7f73182.eb1181f2.z.vespa-app.cloud/ (cluster 'hybridsearch_container')\n",
                        "INFO    [07:05:02]  Deployment of new application complete!\n",
                        "Found mtls endpoint for hybridsearch_container\n",
                        "URL: https://f7f73182.eb1181f2.z.vespa-app.cloud/\n",
                        "Connecting to https://f7f73182.eb1181f2.z.vespa-app.cloud/\n",
                        "Using mtls_key_cert Authentication against endpoint https://f7f73182.eb1181f2.z.vespa-app.cloud//ApplicationStatus\n",
                        "Application is up!\n",
                        "Finished deployment.\n"
                    ]
                }
            ],
            "source": [
                "app = vespa_cloud.deploy()"
            ]
        },
        {
            "cell_type": "markdown",
            "id": "aaae2f91",
            "metadata": {},
            "source": [
                "If the deployment failed, it is possible you forgot to add the key in the Vespa Cloud Console in the `vespa auth api-key` step above.\n",
                "\n",
                "If you can authenticate, you should see lines like the following\n",
                "\n",
                "```\n",
                " Deployment started in run 1 of dev-aws-us-east-1c for mytenant.hybridsearch.\n",
                "```\n",
                "\n",
                "The deployment takes a few minutes the first time while Vespa Cloud sets up the resources for your Vespa application\n",
                "\n",
                "`app` now holds a reference to a [Vespa](https://pyvespa.readthedocs.io/en/latest/reference-api.html#vespa.application.Vespa) instance. We can access the\n",
                "mTLS protected endpoint name using the control-plane (vespa_cloud) instance. This endpoint we can query and feed to (data plane access) using the\n",
                "mTLS certificate generated in previous steps.\n"
            ]
        },
        {
            "cell_type": "code",
            "execution_count": 6,
            "id": "afa0d69d",
            "metadata": {},
            "outputs": [
                {
                    "name": "stdout",
                    "output_type": "stream",
                    "text": [
                        "Found mtls endpoint for hybridsearch_container\n",
                        "URL: https://f7f73182.eb1181f2.z.vespa-app.cloud/\n"
                    ]
                },
                {
                    "data": {
                        "text/plain": [
                            "'https://f7f73182.eb1181f2.z.vespa-app.cloud/'"
                        ]
                    },
                    "execution_count": 6,
                    "metadata": {},
                    "output_type": "execute_result"
                }
            ],
            "source": [
                "endpoint = vespa_cloud.get_mtls_endpoint()\n",
                "endpoint"
            ]
        },
        {
            "cell_type": "markdown",
            "id": "sealed-mustang",
            "metadata": {},
            "source": [
                "## Feeding documents to Vespa\n",
                "\n",
                "In this example we use the [HF Datasets](https://huggingface.co/docs/datasets/index) library to stream the\n",
                "[BeIR/nfcorpus](https://huggingface.co/datasets/BeIR/nfcorpus) dataset and index in our newly deployed Vespa instance. Read\n",
                "more about the [NFCorpus](https://www.cl.uni-heidelberg.de/statnlpgroup/nfcorpus/):\n",
                "\n",
                "> NFCorpus is a full-text English retrieval data set for Medical Information Retrieval.\n",
                "\n",
                "The following uses the [stream](https://huggingface.co/docs/datasets/stream) option of datasets to stream the data without\n",
                "downloading all the contents locally. The `map` functionality allows us to convert the\n",
                "dataset fields into the expected feed format for `pyvespa` which expects a dict with the keys `id` and `fields`:\n",
                "\n",
                "`{ \"id\": \"vespa-document-id\", \"fields\": {\"vespa_field\": \"vespa-field-value\"}}`\n"
            ]
        },
        {
            "cell_type": "code",
            "execution_count": 7,
            "id": "executed-reservoir",
            "metadata": {},
            "outputs": [],
            "source": [
                "from datasets import load_dataset\n",
                "\n",
                "dataset = load_dataset(\"BeIR/nfcorpus\", \"corpus\", split=\"corpus\", streaming=True)\n",
                "vespa_feed = dataset.map(\n",
                "    lambda x: {\n",
                "        \"id\": x[\"_id\"],\n",
                "        \"fields\": {\"title\": x[\"title\"], \"body\": x[\"text\"], \"id\": x[\"_id\"]},\n",
                "    }\n",
                ")"
            ]
        },
        {
            "cell_type": "markdown",
            "id": "4f0ca33f",
            "metadata": {},
            "source": [
                "Now we can feed to Vespa using `feed_iterable` which accepts any `Iterable` and an optional callback function where we can\n",
                "check the outcome of each operation. The application is configured to use [embedding](https://docs.vespa.ai/en/embedding.html)\n",
                "functionality, that produce a vector embedding using a concatenation of the title and the body input fields. This step is resource intensive.\n",
                "\n",
                "Read more about embedding inference in Vespa in the [Accelerating Transformer-based Embedding Retrieval with Vespa](https://blog.vespa.ai/accelerating-transformer-based-embedding-retrieval-with-vespa/)\n",
                "blog post.\n",
                "\n",
                "Default node resources in Vespa Cloud have 2 v-cpu for the Dev Zone.\n"
            ]
        },
        {
            "cell_type": "code",
            "execution_count": 8,
            "id": "bottom-memorabilia",
            "metadata": {},
            "outputs": [
                {
                    "name": "stdout",
                    "output_type": "stream",
                    "text": [
                        "Using mtls_key_cert Authentication against endpoint https://f7f73182.eb1181f2.z.vespa-app.cloud//ApplicationStatus\n"
                    ]
                }
            ],
            "source": [
                "from vespa.io import VespaResponse, VespaQueryResponse\n",
                "\n",
                "\n",
                "def callback(response: VespaResponse, id: str):\n",
                "    if not response.is_successful():\n",
                "        print(f\"Error when feeding document {id}: {response.get_json()}\")\n",
                "\n",
                "\n",
                "app.feed_iterable(vespa_feed, schema=\"doc\", namespace=\"tutorial\", callback=callback)"
            ]
        },
        {
            "cell_type": "markdown",
            "id": "separated-insertion",
            "metadata": {},
            "source": [
                "## Querying Vespa\n",
                "\n",
                "Using the [Vespa Query language](https://docs.vespa.ai/en/query-language.html) we can query the indexed data.\n",
                "\n",
                "- Using a context manager `with app.syncio() as session` to handle connection pooling ([best practices](https://cloud.vespa.ai/en/http-best-practices))\n",
                "- The query method accepts any valid Vespa [query api parameter](https://docs.vespa.ai/en/reference/query-api-reference.html) in `**kwargs`\n",
                "- Vespa api parameter names that contains `.` must be sent as `dict` parameters in the `body` method argument\n",
                "\n",
                "The following searches for `How Fruits and Vegetables Can Treat Asthma?` using different retrieval and [ranking](https://docs.vespa.ai/en/ranking.html) strategies.\n",
                "\n",
                "Query the text search app using the [Vespa Query language](https://docs.vespa.ai/en/query-language.html)\n",
                "by sending the parameters to the body argument of\n",
                "[Vespa.query](https://pyvespa.readthedocs.io/en/latest/reference-api.html#vespa.application.Vespa.query).\n",
                "\n",
                "First we define a simple routine that will return a dataframe of the results for prettier display in the notebook.\n"
            ]
        },
        {
            "cell_type": "code",
            "execution_count": 9,
            "id": "82b5f6fe",
            "metadata": {},
            "outputs": [],
            "source": [
                "import pandas as pd\n",
                "\n",
                "\n",
                "def display_hits_as_df(response: VespaQueryResponse, fields) -> pd.DataFrame:\n",
                "    records = []\n",
                "    for hit in response.hits:\n",
                "        record = {}\n",
                "        for field in fields:\n",
                "            record[field] = hit[\"fields\"][field]\n",
                "        records.append(record)\n",
                "    return pd.DataFrame(records)"
            ]
        },
        {
            "cell_type": "markdown",
            "id": "7daa47df",
            "metadata": {},
            "source": [
                "### Plain Keyword search\n",
                "\n",
                "The following uses plain keyword search functionality with [bm25](https://docs.vespa.ai/en/reference/bm25.html) ranking, the `bm25` rank-profile was configured in the\n",
                "application package to use a linear combination of the bm25 score of the query terms against the title and the body field.\n"
            ]
        },
        {
            "cell_type": "code",
            "execution_count": 10,
            "id": "bc32d29b",
            "metadata": {},
            "outputs": [
                {
                    "name": "stdout",
                    "output_type": "stream",
                    "text": [
                        "         id                                              title\n",
                        "0  MED-2450  Protective effect of fruits, vegetables and th...\n",
                        "1  MED-2464  Low vegetable intake is associated with allerg...\n",
                        "2  MED-1162  Pesticide residues in imported, organic, and \"...\n",
                        "3  MED-2461  The association of diet with respiratory sympt...\n",
                        "4  MED-2085  Antiplatelet, anticoagulant, and fibrinolytic ...\n"
                    ]
                }
            ],
            "source": [
                "with app.syncio(connections=1) as session:\n",
                "    query = \"How Fruits and Vegetables Can Treat Asthma?\"\n",
                "    response: VespaQueryResponse = session.query(\n",
                "        yql=\"select * from sources * where userQuery() limit 5\",\n",
                "        query=query,\n",
                "        ranking=\"bm25\",\n",
                "    )\n",
                "    assert response.is_successful()\n",
                "    print(display_hits_as_df(response, [\"id\", \"title\"]))"
            ]
        },
        {
            "cell_type": "markdown",
            "id": "9aef8aa8",
            "metadata": {},
            "source": [
                "### Plain Semantic Search\n",
                "\n",
                "The following uses dense vector representations of the query and the document and matching is performed and accelerated by Vespa's support for\n",
                "[approximate nearest neighbor search](https://docs.vespa.ai/en/approximate-nn-hnsw.html).\n",
                "The vector embedding representation of the text is obtained using Vespa's [embedder functionality](https://docs.vespa.ai/en/embedding.html#embedding-a-query-text).\n"
            ]
        },
        {
            "cell_type": "code",
            "execution_count": 11,
            "id": "b32d70ae",
            "metadata": {},
            "outputs": [
                {
                    "name": "stdout",
                    "output_type": "stream",
                    "text": [
                        "         id                                              title\n",
                        "0  MED-5072  Lycopene-rich treatments modify noneosinophili...\n",
                        "1  MED-2472  Vegan regimen with reduced medication in the t...\n",
                        "2  MED-2464  Low vegetable intake is associated with allerg...\n",
                        "3  MED-2458  Manipulating antioxidant intake in asthma: a r...\n",
                        "4  MED-2450  Protective effect of fruits, vegetables and th...\n"
                    ]
                }
            ],
            "source": [
                "with app.syncio(connections=1) as session:\n",
                "    query = \"How Fruits and Vegetables Can Treat Asthma?\"\n",
                "    response: VespaQueryResponse = session.query(\n",
                "        yql=\"select * from sources * where ({targetHits:5}nearestNeighbor(embedding,q)) limit 5\",\n",
                "        query=query,\n",
                "        ranking=\"semantic\",\n",
                "        body={\"input.query(q)\": f\"embed({query})\"},\n",
                "    )\n",
                "    assert response.is_successful()\n",
                "    print(display_hits_as_df(response, [\"id\", \"title\"]))"
            ]
        },
        {
            "cell_type": "markdown",
            "id": "762e40eb",
            "metadata": {},
            "source": [
                "### Hybrid Search\n",
                "\n",
                "This is one approach to combine the two retrieval strategies and where we use Vespa's support for\n",
                "[cross-hits feature normalization and reciprocal rank fusion](https://docs.vespa.ai/en/phased-ranking.html#cross-hit-normalization-including-reciprocal-rank-fusion). This\n",
                "functionality is exposed in the context of `global` re-ranking, after the distributed query retrieval execution which might span 1000s of nodes.\n",
                "\n",
                "#### Hybrid search with the OR query operator\n",
                "\n",
                "This combines the two methods using logical disjunction (OR). Note that the first-phase expression in our `fusion` expression is only using the semantic score, this\n",
                "because usually semantic search provides better recall than sparse keyword search alone.\n"
            ]
        },
        {
            "cell_type": "code",
            "execution_count": 12,
            "id": "11faeacf",
            "metadata": {},
            "outputs": [
                {
                    "name": "stdout",
                    "output_type": "stream",
                    "text": [
                        "         id                                              title\n",
                        "0  MED-2464  Low vegetable intake is associated with allerg...\n",
                        "1  MED-2450  Protective effect of fruits, vegetables and th...\n",
                        "2  MED-2458  Manipulating antioxidant intake in asthma: a r...\n",
                        "3  MED-2461  The association of diet with respiratory sympt...\n",
                        "4  MED-5072  Lycopene-rich treatments modify noneosinophili...\n"
                    ]
                }
            ],
            "source": [
                "with app.syncio(connections=1) as session:\n",
                "    query = \"How Fruits and Vegetables Can Treat Asthma?\"\n",
                "    response: VespaQueryResponse = session.query(\n",
                "        yql=\"select * from sources * where userQuery() or ({targetHits:1000}nearestNeighbor(embedding,q)) limit 5\",\n",
                "        query=query,\n",
                "        ranking=\"fusion\",\n",
                "        body={\"input.query(q)\": f\"embed({query})\"},\n",
                "    )\n",
                "    assert response.is_successful()\n",
                "    print(display_hits_as_df(response, [\"id\", \"title\"]))"
            ]
        },
        {
            "cell_type": "markdown",
            "id": "8d811509",
            "metadata": {},
            "source": [
                "#### Hybrid search with the RANK query operator\n",
                "\n",
                "This combines the two methods using the [rank](https://docs.vespa.ai/en/reference/query-language-reference.html#rank) query operator. In this case\n",
                "we express that we want to retrieve the top-1000 documents using vector search, and then have sparse features like BM25 calculated as well (second operand\n",
                "of the rank operator). Finally the hits are re-ranked using the reciprocal rank fusion\n"
            ]
        },
        {
            "cell_type": "code",
            "execution_count": 13,
            "id": "13fe1ef0",
            "metadata": {},
            "outputs": [
                {
                    "name": "stdout",
                    "output_type": "stream",
                    "text": [
                        "         id                                              title\n",
                        "0  MED-2464  Low vegetable intake is associated with allerg...\n",
                        "1  MED-2450  Protective effect of fruits, vegetables and th...\n",
                        "2  MED-2458  Manipulating antioxidant intake in asthma: a r...\n",
                        "3  MED-2461  The association of diet with respiratory sympt...\n",
                        "4  MED-5072  Lycopene-rich treatments modify noneosinophili...\n"
                    ]
                }
            ],
            "source": [
                "with app.syncio(connections=1) as session:\n",
                "    query = \"How Fruits and Vegetables Can Treat Asthma?\"\n",
                "    response: VespaQueryResponse = session.query(\n",
                "        yql=\"select * from sources * where rank({targetHits:1000}nearestNeighbor(embedding,q), userQuery()) limit 5\",\n",
                "        query=query,\n",
                "        ranking=\"fusion\",\n",
                "        body={\"input.query(q)\": f\"embed({query})\"},\n",
                "    )\n",
                "    assert response.is_successful()\n",
                "    print(display_hits_as_df(response, [\"id\", \"title\"]))"
            ]
        },
        {
            "cell_type": "markdown",
            "id": "b544ef07",
            "metadata": {},
            "source": [
                "#### Hybrid search with filters\n",
                "\n",
                "In this example we add another query term to the yql, restricting the nearest neighbor search to only consider documents that have vegetable in the title.\n"
            ]
        },
        {
            "cell_type": "code",
            "execution_count": 14,
            "id": "36c96921",
            "metadata": {},
            "outputs": [
                {
                    "name": "stdout",
                    "output_type": "stream",
                    "text": [
                        "         id                                              title\n",
                        "0  MED-2464  Low vegetable intake is associated with allerg...\n",
                        "1  MED-2450  Protective effect of fruits, vegetables and th...\n",
                        "2  MED-3199  Potential risks resulting from fruit/vegetable...\n",
                        "3  MED-2085  Antiplatelet, anticoagulant, and fibrinolytic ...\n",
                        "4  MED-4496  The effect of fruit and vegetable intake on ri...\n"
                    ]
                }
            ],
            "source": [
                "with app.syncio(connections=1) as session:\n",
                "    query = \"How Fruits and Vegetables Can Treat Asthma?\"\n",
                "    response: VespaQueryResponse = session.query(\n",
                "        yql='select * from sources * where title contains \"vegetable\" and rank({targetHits:1000}nearestNeighbor(embedding,q), userQuery()) limit 5',\n",
                "        query=query,\n",
                "        ranking=\"fusion\",\n",
                "        body={\"input.query(q)\": f\"embed({query})\"},\n",
                "    )\n",
                "    assert response.is_successful()\n",
                "    print(display_hits_as_df(response, [\"id\", \"title\"]))"
            ]
        },
        {
            "cell_type": "markdown",
            "id": "d1872b31",
            "metadata": {},
            "source": [
                "## Next steps\n",
                "\n",
                "This is just an intro into the capabilities of Vespa and pyvespa.\n",
                "Browse the site to learn more about schemas, feeding and queries -\n",
                "find more complex applications in\n",
                "[examples](https://pyvespa.readthedocs.io/en/latest/examples.html).\n"
            ]
        },
        {
            "cell_type": "markdown",
            "id": "89400281",
            "metadata": {},
            "source": [
                "## Example: Document operations using cert/key pair\n",
                "\n",
                "Above, we deployed to Vespa Cloud, and as part of that, generated a data-plane mTLS cert/key pair.\n",
                "\n",
                "This pair can be used to access the dataplane for reads/writes to documents and running queries from many different clients. The following\n",
                "demonstrates that using the `requests` library.\n"
            ]
        },
        {
            "cell_type": "markdown",
            "id": "562ac505",
            "metadata": {},
            "source": [
                "Set up a dataplane connection using the cert/key pair:\n"
            ]
        },
        {
            "cell_type": "code",
            "execution_count": 15,
            "id": "ff72148c",
            "metadata": {},
            "outputs": [],
            "source": [
                "import requests\n",
                "\n",
                "cert_path = app.cert\n",
                "key_path = app.key\n",
                "session = requests.Session()\n",
                "session.cert = (cert_path, key_path)"
            ]
        },
        {
            "cell_type": "markdown",
            "id": "7b69ff0d",
            "metadata": {},
            "source": [
                "Get a document from the endpoint returned when we deployed to Vespa Cloud above. PyVespa wraps the Vespa [document api](https://docs.vespa.ai/en/document-v1-api-guide.html)\n",
                "internally and in these examples we use the document api directly, but with the mTLS key/cert pair we used when deploying the app.\n"
            ]
        },
        {
            "cell_type": "code",
            "execution_count": 16,
            "id": "79f7d12c",
            "metadata": {},
            "outputs": [
                {
                    "data": {
                        "text/plain": [
                            "{'pathId': '/document/v1/tutorial/doc/docid/MED-10',\n",
                            " 'id': 'id:tutorial:doc::MED-10',\n",
                            " 'fields': {'body': 'Recent studies have suggested that statins, an established drug group in the prevention of cardiovascular mortality, could delay or prevent breast cancer recurrence but the effect on disease-specific mortality remains unclear. We evaluated risk of breast cancer death among statin users in a population-based cohort of breast cancer patients. The study cohort included all newly diagnosed breast cancer patients in Finland during 1995–2003 (31,236 cases), identified from the Finnish Cancer Registry. Information on statin use before and after the diagnosis was obtained from a national prescription database. We used the Cox proportional hazards regression method to estimate mortality among statin users with statin use as time-dependent variable. A total of 4,151 participants had used statins. During the median follow-up of 3.25 years after the diagnosis (range 0.08–9.0 years) 6,011 participants died, of which 3,619 (60.2%) was due to breast cancer. After adjustment for age, tumor characteristics, and treatment selection, both post-diagnostic and pre-diagnostic statin use were associated with lowered risk of breast cancer death (HR 0.46, 95% CI 0.38–0.55 and HR 0.54, 95% CI 0.44–0.67, respectively). The risk decrease by post-diagnostic statin use was likely affected by healthy adherer bias; that is, the greater likelihood of dying cancer patients to discontinue statin use as the association was not clearly dose-dependent and observed already at low-dose/short-term use. The dose- and time-dependence of the survival benefit among pre-diagnostic statin users suggests a possible causal effect that should be evaluated further in a clinical trial testing statins’ effect on survival in breast cancer patients.',\n",
                            "  'title': 'Statin Use and Breast Cancer Survival: A Nationwide Cohort Study from Finland',\n",
                            "  'id': 'MED-10'}}"
                        ]
                    },
                    "execution_count": 16,
                    "metadata": {},
                    "output_type": "execute_result"
                }
            ],
            "source": [
                "url = \"{0}/document/v1/{1}/{2}/docid/{3}\".format(endpoint, \"tutorial\", \"doc\", \"MED-10\")\n",
                "doc = session.get(url).json()\n",
                "doc"
            ]
        },
        {
            "cell_type": "markdown",
            "id": "82888987",
            "metadata": {},
            "source": [
                "Update the title and post the new version:\n"
            ]
        },
        {
            "cell_type": "code",
            "execution_count": 17,
            "id": "21c7c399",
            "metadata": {},
            "outputs": [
                {
                    "data": {
                        "text/plain": [
                            "{'pathId': '/document/v1/tutorial/doc/docid/MED-10',\n",
                            " 'id': 'id:tutorial:doc::MED-10'}"
                        ]
                    },
                    "execution_count": 17,
                    "metadata": {},
                    "output_type": "execute_result"
                }
            ],
            "source": [
                "doc[\"fields\"][\"title\"] = \"Can you eat lobster?\"\n",
                "response = session.post(url, json=doc).json()\n",
                "response"
            ]
        },
        {
            "cell_type": "markdown",
            "id": "68ae7225",
            "metadata": {},
            "source": [
                "Get the doc again to see the new title:\n"
            ]
        },
        {
            "cell_type": "code",
            "execution_count": 18,
            "id": "2e3d560b",
            "metadata": {},
            "outputs": [
                {
                    "data": {
                        "text/plain": [
                            "{'pathId': '/document/v1/tutorial/doc/docid/MED-10',\n",
                            " 'id': 'id:tutorial:doc::MED-10',\n",
                            " 'fields': {'body': 'Recent studies have suggested that statins, an established drug group in the prevention of cardiovascular mortality, could delay or prevent breast cancer recurrence but the effect on disease-specific mortality remains unclear. We evaluated risk of breast cancer death among statin users in a population-based cohort of breast cancer patients. The study cohort included all newly diagnosed breast cancer patients in Finland during 1995–2003 (31,236 cases), identified from the Finnish Cancer Registry. Information on statin use before and after the diagnosis was obtained from a national prescription database. We used the Cox proportional hazards regression method to estimate mortality among statin users with statin use as time-dependent variable. A total of 4,151 participants had used statins. During the median follow-up of 3.25 years after the diagnosis (range 0.08–9.0 years) 6,011 participants died, of which 3,619 (60.2%) was due to breast cancer. After adjustment for age, tumor characteristics, and treatment selection, both post-diagnostic and pre-diagnostic statin use were associated with lowered risk of breast cancer death (HR 0.46, 95% CI 0.38–0.55 and HR 0.54, 95% CI 0.44–0.67, respectively). The risk decrease by post-diagnostic statin use was likely affected by healthy adherer bias; that is, the greater likelihood of dying cancer patients to discontinue statin use as the association was not clearly dose-dependent and observed already at low-dose/short-term use. The dose- and time-dependence of the survival benefit among pre-diagnostic statin users suggests a possible causal effect that should be evaluated further in a clinical trial testing statins’ effect on survival in breast cancer patients.',\n",
                            "  'title': 'Can you eat lobster?',\n",
                            "  'id': 'MED-10'}}"
                        ]
                    },
                    "execution_count": 18,
                    "metadata": {},
                    "output_type": "execute_result"
                }
            ],
            "source": [
                "doc = session.get(url).json()\n",
                "doc"
            ]
        },
        {
            "cell_type": "markdown",
            "id": "e2480213",
            "metadata": {},
            "source": [
                "## Example: Reconnect pyvespa using cert/key pair\n",
                "\n",
                "Above, we stored the dataplane credentials for later use. Deployment of an application usually happens when the schema changes, whereas accessing the dataplane is for document updates and user queries.\n",
                "\n",
                "One only needs to know the endpoint and the cert/key pair to enable a connection to a Vespa Cloud application:\n"
            ]
        },
        {
            "cell_type": "code",
            "execution_count": 19,
            "id": "c87da6cf",
            "metadata": {},
            "outputs": [
                {
                    "name": "stdout",
                    "output_type": "stream",
                    "text": [
                        "Using mtls_key_cert Authentication against endpoint https://f7f73182.eb1181f2.z.vespa-app.cloud//ApplicationStatus\n"
                    ]
                },
                {
                    "data": {
                        "text/plain": [
                            "{'id': 'id:tutorial:doc::MED-10',\n",
                            " 'relevance': 25.27992205160453,\n",
                            " 'source': 'hybridsearch_content',\n",
                            " 'fields': {'documentid': 'id:tutorial:doc::MED-10',\n",
                            "  'id': 'MED-10',\n",
                            "  'title': 'Can you eat lobster?'}}"
                        ]
                    },
                    "execution_count": 19,
                    "metadata": {},
                    "output_type": "execute_result"
                }
            ],
            "source": [
                "# cert_path = \"/Users/me/.vespa/mytenant.hybridsearch.default/data-plane-public-cert.pem\"\n",
                "# key_path  = \"/Users/me/.vespa/mytenant.hybridsearch.default/data-plane-private-key.pem\"\n",
                "\n",
                "from vespa.application import Vespa\n",
                "\n",
                "the_app = Vespa(endpoint, cert=cert_path, key=key_path)\n",
                "\n",
                "res = the_app.query(\n",
                "    yql=\"select documentid, id, title from sources * where userQuery()\",\n",
                "    query=\"Can you eat lobster?\",\n",
                "    ranking=\"bm25\",\n",
                ")\n",
                "res.hits[0]"
            ]
        },
        {
            "cell_type": "markdown",
            "id": "183bff2b",
            "metadata": {},
            "source": [
                "A common problem is a cert mismatch - the cert/key pair used when deployed is different than the pair used when making requests against Vespa. This\n",
                "will cause 40x errors.\n",
                "\n",
                "Make sure it is the same pair / re-create with `vespa auth cert -f` AND redeploy.\n",
                "\n",
                "If you re-generate a mTLS certificate pair, and use that when connecting to Vespa cloud endpoint, it will fail until you have updaded the deployment with the new public certificate.\n",
                "\n",
                "### Delete application\n",
                "\n",
                "The following will delete the application and data from the dev environment.\n"
            ]
        },
        {
            "cell_type": "code",
            "execution_count": 20,
            "id": "66354a53",
            "metadata": {},
            "outputs": [
                {
                    "name": "stdout",
                    "output_type": "stream",
                    "text": [
                        "Deactivated vespa-team.hybridsearch in dev.aws-us-east-1c\n",
                        "Deleted instance vespa-team.hybridsearch.default\n"
                    ]
                }
            ],
            "source": [
                "vespa_cloud.delete()"
            ]
        }
    ],
    "metadata": {
        "kernelspec": {
            "display_name": "Python 3 (ipykernel)",
            "language": "python",
            "name": "python3"
        },
        "language_info": {
            "codemirror_mode": {
                "name": "ipython",
                "version": 3
            },
            "file_extension": ".py",
            "mimetype": "text/x-python",
            "name": "python",
            "nbconvert_exporter": "python",
            "pygments_lexer": "ipython3",
            "version": "3.9.6"
        },
        "nbsphinx": {
            "allow_errors": true
        },
        "vscode": {
            "interpreter": {
                "hash": "b0fa6594d8f4cbf19f97940f81e996739fb7646882a419484c72d19e05852a7e"
            }
        }
    },
    "nbformat": 4,
    "nbformat_minor": 5
}